{
  "nbformat": 4,
  "nbformat_minor": 0,
  "metadata": {
    "colab": {
      "provenance": []
    },
    "kernelspec": {
      "name": "python3",
      "display_name": "Python 3"
    },
    "language_info": {
      "name": "python"
    }
  },
  "cells": [
    {
      "cell_type": "markdown",
      "source": [
        "# Modelo Predictivo de Estimación de Presión Arterial"
      ],
      "metadata": {
        "id": "0xloH_j_947F"
      }
    },
    {
      "cell_type": "markdown",
      "source": [
        "**Procesamiento de la Data:**\n",
        "Utilizamos la data que esta en .mat, por lo que tenemos que agruparla en mediciones de 10 segundos como se va a utilizar en la realidad. Asi tenemos un numero  de muestras establecido."
      ],
      "metadata": {
        "id": "9Px76DWy2FWs"
      }
    },
    {
      "cell_type": "code",
      "source": [
        "import os\n",
        "import h5py\n",
        "import numpy as np\n",
        "import matplotlib.pyplot as plt\n",
        "from tqdm import tqdm\n",
        "from sklearn.model_selection import train_test_split\n",
        "from sklearn.metrics import mean_absolute_error\n",
        "import matplotlib.pyplot as plt\n",
        "\n",
        "import zipfile\n",
        "import os\n",
        "import shutil\n",
        "\n",
        "import matplotlib.pyplot as plt\n",
        "import glob\n",
        "import os\n",
        "from scipy.signal import butter, filtfilt\n",
        "\n",
        "import tensorflow as tf\n",
        "from tensorflow.keras.utils import Sequence\n",
        "from tensorflow.keras import layers, models"
      ],
      "metadata": {
        "id": "nEyEtVOv24Yc"
      },
      "execution_count": 15,
      "outputs": []
    },
    {
      "cell_type": "markdown",
      "source": [
        "## Se descarga un dataset\n",
        "Dataset público (no MIMIC-II, sino del UCI Machine Learning Repository)."
      ],
      "metadata": {
        "id": "XvFgBxs_kTU_"
      }
    },
    {
      "cell_type": "code",
      "source": [
        "! wget https://archive.ics.uci.edu/ml/machine-learning-databases/00340/data.zip"
      ],
      "metadata": {
        "id": "UtdO4i2H6EOe",
        "colab": {
          "base_uri": "https://localhost:8080/"
        },
        "outputId": "02ceb3d5-6953-4068-9d59-f7cfd826ce6e"
      },
      "execution_count": 2,
      "outputs": [
        {
          "output_type": "stream",
          "name": "stdout",
          "text": [
            "--2025-07-03 03:34:10--  https://archive.ics.uci.edu/ml/machine-learning-databases/00340/data.zip\n",
            "Resolving archive.ics.uci.edu (archive.ics.uci.edu)... 128.195.10.252\n",
            "Connecting to archive.ics.uci.edu (archive.ics.uci.edu)|128.195.10.252|:443... connected.\n",
            "HTTP request sent, awaiting response... 200 OK\n",
            "Length: unspecified\n",
            "Saving to: ‘data.zip’\n",
            "\n",
            "data.zip                [   <=>              ]   3.13G  15.5MB/s    in 2m 26s  \n",
            "\n",
            "2025-07-03 03:36:37 (22.0 MB/s) - ‘data.zip’ saved [3363163675]\n",
            "\n"
          ]
        }
      ]
    },
    {
      "cell_type": "markdown",
      "source": [
        "## Descompresion de Datos\n",
        "Se descomprimen los datos y crea una carpeta raw_data, donde se almacenaran los archivos\n",
        "\n"
      ],
      "metadata": {
        "id": "LOxQzbPTke_h"
      }
    },
    {
      "cell_type": "code",
      "source": [
        "\n",
        "\n",
        "# Descomprimir en carpeta temporal\n",
        "with zipfile.ZipFile('data.zip', 'r') as zip_ref:\n",
        "    zip_ref.extractall('/content/temp_data')\n",
        "\n",
        "print(\"Archivo descomprimido en /content/temp_data\")\n",
        "\n",
        "# Crear carpeta raw_data si no existe\n",
        "os.makedirs('/content/raw_data', exist_ok=True)\n",
        "\n",
        "# Mover todo lo descomprimido a raw_data\n",
        "for root, dirs, files in os.walk('/content/temp_data'):\n",
        "    for file in files:\n",
        "        src = os.path.join(root, file)\n",
        "        dst = os.path.join('/content/raw_data', file)\n",
        "        shutil.move(src, dst)\n",
        "\n",
        "print(\"Archivos movidos a /content/raw_data\")\n",
        "\n",
        "# (Opcional) Verificar los archivos\n",
        "print(\"\\Archivos en /content/raw_data:\")\n",
        "for f in os.listdir('/content/raw_data'):\n",
        "    print(f)"
      ],
      "metadata": {
        "id": "-dvgbmnV6J_J",
        "colab": {
          "base_uri": "https://localhost:8080/"
        },
        "outputId": "2c90b797-0709-4040-db9f-ec814af82f19"
      },
      "execution_count": 3,
      "outputs": [
        {
          "output_type": "stream",
          "name": "stdout",
          "text": [
            "Archivo descomprimido en /content/temp_data\n",
            "Archivos movidos a /content/raw_data\n",
            "\\Archivos en /content/raw_data:\n",
            "._Part_1.mat\n",
            "._Part_3.mat\n",
            "Part_2.mat\n",
            "Part_1.mat\n",
            "Part_3.mat\n",
            "._Part_2.mat\n",
            "._Part_4.mat\n",
            "Part_4.mat\n"
          ]
        }
      ]
    },
    {
      "cell_type": "markdown",
      "source": [
        "## Funciones para Preprocesamiento\n",
        "Se declaran funciones que seran empleadas para procesar los datos"
      ],
      "metadata": {
        "id": "mOQ8oSLQuho7"
      }
    },
    {
      "cell_type": "code",
      "source": [
        "#lleva cada segmento a un rango de [0,1]\n",
        "def normalize(segment):\n",
        "    min_val = np.min(segment)\n",
        "    max_val = np.max(segment)\n",
        "    if np.isclose(max_val, min_val):\n",
        "        return np.zeros_like(segment)\n",
        "    return (segment - min_val) / (max_val - min_val)\n",
        "\n",
        "#Filtra la banda de 0.5 a 8 Hz\n",
        "def bandpass_filter(signal, lowcut=0.5, highcut=8.0, fs=125, order=4):\n",
        "    nyquist = 0.5 * fs\n",
        "    low = lowcut / nyquist\n",
        "    high = highcut / nyquist\n",
        "    b, a = butter(order, [low, high], btype='band')\n",
        "    filtered_signal = filtfilt(b, a, signal)\n",
        "    return filtered_signal\n",
        "\n",
        "#Corta la señal en ventanas de 1024 muestras (8.2 s a 125 Hz).\n",
        "#Usa stride de 128\n",
        "def segmentar(signal, bp, segment_length=1024, stride=128):\n",
        "    X, Y = [], []\n",
        "    # Aplicar filtro pasa banda a la señal PPG\n",
        "    signal = bandpass_filter(signal)\n",
        "    for i in range(0, len(signal) - segment_length + 1, stride):\n",
        "        ppg_seg = signal[i:i+segment_length]\n",
        "        abp_seg = bp[i:i+segment_length]\n",
        "\n",
        "        # VALIDACIÓN OPCIONAL: descartar segmentos planos o ruidosos\n",
        "        if np.std(ppg_seg) < 0.01 or np.std(abp_seg) < 0.01:\n",
        "          continue\n",
        "\n",
        "\n",
        "        #Normaliza solo la entrada, el PPG()\n",
        "        ppg_seg = normalize(ppg_seg)\n",
        "\n",
        "        # Etiquetas de salida, es el objetivo del modelo a evaluar\n",
        "        sbp = np.max(abp_seg)\n",
        "        dbp = np.min(abp_seg)\n",
        "\n",
        "        X.append(ppg_seg)\n",
        "        Y.append([sbp, dbp])\n",
        "\n",
        "    return np.array(X), np.array(Y)"
      ],
      "metadata": {
        "id": "nw8rvxW3u1XP"
      },
      "execution_count": 4,
      "outputs": []
    },
    {
      "cell_type": "markdown",
      "source": [
        "Se procesan los datos"
      ],
      "metadata": {
        "id": "dMEKqrq0wTuQ"
      }
    },
    {
      "cell_type": "code",
      "source": [
        "\n",
        "\n",
        "\n",
        "#definicion de archivos de entrada\n",
        "archivos = ['raw_data/Part_1.mat', 'raw_data/Part_2.mat', 'raw_data/Part_3.mat', 'raw_data/Part_4.mat']\n",
        "output_dir = 'segmentos_guardados'\n",
        "os.makedirs(output_dir, exist_ok=True)\n",
        "\n",
        "segment_count = 0\n",
        "registro_procesado = 0\n",
        "\n",
        "for archivo in archivos:\n",
        "    grupo_id = os.path.splitext(os.path.basename(archivo))[0]\n",
        "    print(f'\\Procesando: {archivo}')\n",
        "\n",
        "    with h5py.File(archivo, 'r') as f:\n",
        "      #se verifica que el grupo exista\n",
        "        if grupo_id not in f:\n",
        "            print(f'Grupo {grupo_id} no encontrado en {archivo}')\n",
        "            continue\n",
        "\n",
        "        registros = f[grupo_id]\n",
        "        print(f'Total registros en {grupo_id}: {len(registros)}')\n",
        "\n",
        "        for i in tqdm(range(len(registros)), desc=f'{grupo_id} registros'):\n",
        "            try:\n",
        "                ref = registros[i][0]\n",
        "                record = f[ref][()]\n",
        "\n",
        "                #se descarta si no es el formato esperado\n",
        "                if record.ndim != 2 or record.shape[1] < 2:\n",
        "                    print(f'Registro {i} inválido: forma {record.shape}')\n",
        "                    continue\n",
        "                #extrae la columna 0 como señal ppg y la columna 1 como presion arterial\n",
        "                signal = record[:, 0]\n",
        "                bp = record[:, 1]\n",
        "\n",
        "                #segmentamos las señales\n",
        "                X_seg, Y_seg = segmentar(signal, bp)\n",
        "\n",
        "                if X_seg.size > 0:\n",
        "\n",
        "                    #redimenciona\n",
        "                    X_seg = X_seg[..., np.newaxis].astype(np.float32)\n",
        "                    Y_seg = Y_seg.astype(np.float32)\n",
        "\n",
        "                    np.save(os.path.join(output_dir, f'X_seg_{segment_count}.npy'),\n",
        "                            X_seg)\n",
        "                    np.save(os.path.join(output_dir, f'Y_seg_{segment_count}.npy'),\n",
        "                            Y_seg)\n",
        "\n",
        "                    segment_count += 1\n",
        "                    registro_procesado += 1\n",
        "                else:\n",
        "                    print(f'Registro {i} sin segmentos válidos')\n",
        "            except Exception as e:\n",
        "                print(f'Error en registro {i}: {e}')\n",
        "\n",
        "print(f'\\n Proceso terminado.')\n",
        "print(f'   → Registros procesados con segmentos: {registro_procesado}')\n",
        "print(f'   → Archivos .npy guardados: {segment_count}')\n",
        "print(f'   → Archivos en carpeta {output_dir}: {len(os.listdir(output_dir)) // 2} pares')\n",
        "\n"
      ],
      "metadata": {
        "id": "7R175e0N3iRU",
        "colab": {
          "base_uri": "https://localhost:8080/"
        },
        "outputId": "0bbdddab-918c-46a6-ccf0-1d8403d98a3a"
      },
      "execution_count": 5,
      "outputs": [
        {
          "output_type": "stream",
          "name": "stdout",
          "text": [
            "\\Procesando: raw_data/Part_1.mat\n",
            "Total registros en Part_1: 3000\n"
          ]
        },
        {
          "output_type": "stream",
          "name": "stderr",
          "text": [
            "Part_1 registros:   1%|          | 16/3000 [00:00<01:36, 30.81it/s]"
          ]
        },
        {
          "output_type": "stream",
          "name": "stdout",
          "text": [
            "Registro 9 sin segmentos válidos\n",
            "Registro 10 sin segmentos válidos\n",
            "Registro 12 sin segmentos válidos\n",
            "Registro 13 sin segmentos válidos\n"
          ]
        },
        {
          "output_type": "stream",
          "name": "stderr",
          "text": [
            "Part_1 registros:   1%|          | 26/3000 [00:00<01:24, 35.29it/s]"
          ]
        },
        {
          "output_type": "stream",
          "name": "stdout",
          "text": [
            "Registro 21 sin segmentos válidos\n"
          ]
        },
        {
          "output_type": "stream",
          "name": "stderr",
          "text": [
            "Part_1 registros:   2%|▏         | 65/3000 [00:01<00:56, 51.75it/s]"
          ]
        },
        {
          "output_type": "stream",
          "name": "stdout",
          "text": [
            "Registro 47 sin segmentos válidos\n",
            "Registro 49 sin segmentos válidos\n",
            "Registro 51 sin segmentos válidos\n",
            "Registro 54 sin segmentos válidos\n",
            "Registro 56 sin segmentos válidos\n",
            "Registro 59 sin segmentos válidos\n",
            "Registro 60 sin segmentos válidos\n",
            "Registro 65 sin segmentos válidos\n"
          ]
        },
        {
          "output_type": "stream",
          "name": "stderr",
          "text": [
            "Part_1 registros:   3%|▎         | 78/3000 [00:02<01:03, 46.27it/s]"
          ]
        },
        {
          "output_type": "stream",
          "name": "stdout",
          "text": [
            "Registro 75 sin segmentos válidos\n"
          ]
        },
        {
          "output_type": "stream",
          "name": "stderr",
          "text": [
            "Part_1 registros:   3%|▎         | 94/3000 [00:02<01:21, 35.55it/s]"
          ]
        },
        {
          "output_type": "stream",
          "name": "stdout",
          "text": [
            "Registro 92 sin segmentos válidos\n",
            "Registro 96 sin segmentos válidos\n",
            "Registro 97 sin segmentos válidos\n"
          ]
        },
        {
          "output_type": "stream",
          "name": "stderr",
          "text": [
            "Part_1 registros:   4%|▎         | 110/3000 [00:03<02:00, 24.00it/s]"
          ]
        },
        {
          "output_type": "stream",
          "name": "stdout",
          "text": [
            "Registro 107 sin segmentos válidos\n"
          ]
        },
        {
          "output_type": "stream",
          "name": "stderr",
          "text": [
            "Part_1 registros:   4%|▍         | 126/3000 [00:04<01:35, 29.95it/s]"
          ]
        },
        {
          "output_type": "stream",
          "name": "stdout",
          "text": [
            "Registro 119 sin segmentos válidos\n",
            "Registro 123 sin segmentos válidos\n"
          ]
        },
        {
          "output_type": "stream",
          "name": "stderr",
          "text": [
            "Part_1 registros:   5%|▍         | 142/3000 [00:04<01:44, 27.37it/s]"
          ]
        },
        {
          "output_type": "stream",
          "name": "stdout",
          "text": [
            "Registro 135 sin segmentos válidos\n",
            "Registro 138 sin segmentos válidos\n",
            "Registro 142 sin segmentos válidos\n"
          ]
        },
        {
          "output_type": "stream",
          "name": "stderr",
          "text": [
            "Part_1 registros:   5%|▌         | 155/3000 [00:05<01:28, 31.97it/s]"
          ]
        },
        {
          "output_type": "stream",
          "name": "stdout",
          "text": [
            "Registro 147 sin segmentos válidos\n"
          ]
        },
        {
          "output_type": "stream",
          "name": "stderr",
          "text": [
            "Part_1 registros:  11%|█         | 332/3000 [00:16<01:40, 26.56it/s]"
          ]
        },
        {
          "output_type": "stream",
          "name": "stdout",
          "text": [
            "Registro 328 sin segmentos válidos\n"
          ]
        },
        {
          "output_type": "stream",
          "name": "stderr",
          "text": [
            "Part_1 registros:  13%|█▎        | 392/3000 [00:19<01:27, 29.84it/s]"
          ]
        },
        {
          "output_type": "stream",
          "name": "stdout",
          "text": [
            "Registro 386 sin segmentos válidos\n",
            "Registro 390 sin segmentos válidos\n"
          ]
        },
        {
          "output_type": "stream",
          "name": "stderr",
          "text": [
            "Part_1 registros:  15%|█▍        | 448/3000 [00:22<01:24, 30.27it/s]"
          ]
        },
        {
          "output_type": "stream",
          "name": "stdout",
          "text": [
            "Registro 445 sin segmentos válidos\n"
          ]
        },
        {
          "output_type": "stream",
          "name": "stderr",
          "text": [
            "Part_1 registros:  18%|█▊        | 528/3000 [00:25<01:14, 33.32it/s]"
          ]
        },
        {
          "output_type": "stream",
          "name": "stdout",
          "text": [
            "Registro 523 sin segmentos válidos\n",
            "Registro 526 sin segmentos válidos\n"
          ]
        },
        {
          "output_type": "stream",
          "name": "stderr",
          "text": [
            "Part_1 registros:  18%|█▊        | 547/3000 [00:26<01:09, 35.18it/s]"
          ]
        },
        {
          "output_type": "stream",
          "name": "stdout",
          "text": [
            "Registro 540 sin segmentos válidos\n"
          ]
        },
        {
          "output_type": "stream",
          "name": "stderr",
          "text": [
            "Part_1 registros:  19%|█▉        | 566/3000 [00:26<01:13, 33.31it/s]"
          ]
        },
        {
          "output_type": "stream",
          "name": "stdout",
          "text": [
            "Registro 558 sin segmentos válidos\n",
            "Registro 568 sin segmentos válidos\n"
          ]
        },
        {
          "output_type": "stream",
          "name": "stderr",
          "text": [
            "Part_1 registros:  20%|█▉        | 593/3000 [00:27<00:55, 43.28it/s]"
          ]
        },
        {
          "output_type": "stream",
          "name": "stdout",
          "text": [
            "Registro 584 sin segmentos válidos\n"
          ]
        },
        {
          "output_type": "stream",
          "name": "stderr",
          "text": [
            "\rPart_1 registros:  20%|█▉        | 598/3000 [00:27<01:00, 39.69it/s]"
          ]
        },
        {
          "output_type": "stream",
          "name": "stdout",
          "text": [
            "Registro 596 sin segmentos válidos\n"
          ]
        },
        {
          "output_type": "stream",
          "name": "stderr",
          "text": [
            "Part_1 registros:  21%|██        | 624/3000 [00:28<00:44, 52.80it/s]"
          ]
        },
        {
          "output_type": "stream",
          "name": "stdout",
          "text": [
            "Registro 608 sin segmentos válidos\n",
            "Registro 615 sin segmentos válidos\n",
            "Registro 618 sin segmentos válidos\n"
          ]
        },
        {
          "output_type": "stream",
          "name": "stderr",
          "text": [
            "Part_1 registros:  21%|██        | 635/3000 [00:28<01:08, 34.64it/s]"
          ]
        },
        {
          "output_type": "stream",
          "name": "stdout",
          "text": [
            "Registro 631 sin segmentos válidos\n",
            "Registro 632 sin segmentos válidos\n",
            "Registro 638 sin segmentos válidos\n"
          ]
        },
        {
          "output_type": "stream",
          "name": "stderr",
          "text": [
            "Part_1 registros:  22%|██▏       | 656/3000 [00:29<00:56, 41.37it/s]"
          ]
        },
        {
          "output_type": "stream",
          "name": "stdout",
          "text": [
            "Registro 650 sin segmentos válidos\n"
          ]
        },
        {
          "output_type": "stream",
          "name": "stderr",
          "text": [
            "Part_1 registros:  22%|██▏       | 666/3000 [00:29<01:01, 37.87it/s]"
          ]
        },
        {
          "output_type": "stream",
          "name": "stdout",
          "text": [
            "Registro 659 sin segmentos válidos\n",
            "Registro 666 sin segmentos válidos\n"
          ]
        },
        {
          "output_type": "stream",
          "name": "stderr",
          "text": [
            "\rPart_1 registros:  22%|██▏       | 674/3000 [00:29<00:50, 45.69it/s]"
          ]
        },
        {
          "output_type": "stream",
          "name": "stdout",
          "text": [
            "Registro 672 sin segmentos válidos\n",
            "Registro 675 sin segmentos válidos\n"
          ]
        },
        {
          "output_type": "stream",
          "name": "stderr",
          "text": [
            "Part_1 registros:  24%|██▍       | 718/3000 [00:31<02:01, 18.72it/s]"
          ]
        },
        {
          "output_type": "stream",
          "name": "stdout",
          "text": [
            "Registro 716 sin segmentos válidos\n"
          ]
        },
        {
          "output_type": "stream",
          "name": "stderr",
          "text": [
            "Part_1 registros:  24%|██▍       | 732/3000 [00:33<02:50, 13.27it/s]"
          ]
        },
        {
          "output_type": "stream",
          "name": "stdout",
          "text": [
            "Registro 732 sin segmentos válidos\n"
          ]
        },
        {
          "output_type": "stream",
          "name": "stderr",
          "text": [
            "Part_1 registros:  26%|██▌       | 777/3000 [00:34<00:51, 42.78it/s]"
          ]
        },
        {
          "output_type": "stream",
          "name": "stdout",
          "text": [
            "Registro 764 sin segmentos válidos\n",
            "Registro 765 sin segmentos válidos\n"
          ]
        },
        {
          "output_type": "stream",
          "name": "stderr",
          "text": [
            "Part_1 registros:  27%|██▋       | 817/3000 [00:36<01:06, 32.66it/s]"
          ]
        },
        {
          "output_type": "stream",
          "name": "stdout",
          "text": [
            "Registro 811 sin segmentos válidos\n"
          ]
        },
        {
          "output_type": "stream",
          "name": "stderr",
          "text": [
            "Part_1 registros:  28%|██▊       | 834/3000 [00:36<00:53, 40.21it/s]"
          ]
        },
        {
          "output_type": "stream",
          "name": "stdout",
          "text": [
            "Registro 826 sin segmentos válidos\n"
          ]
        },
        {
          "output_type": "stream",
          "name": "stderr",
          "text": [
            "\rPart_1 registros:  28%|██▊       | 843/3000 [00:36<00:41, 51.79it/s]"
          ]
        },
        {
          "output_type": "stream",
          "name": "stdout",
          "text": [
            "Registro 837 sin segmentos válidos\n"
          ]
        },
        {
          "output_type": "stream",
          "name": "stderr",
          "text": [
            "Part_1 registros:  29%|██▉       | 863/3000 [00:36<00:30, 69.68it/s]"
          ]
        },
        {
          "output_type": "stream",
          "name": "stdout",
          "text": [
            "Registro 851 sin segmentos válidos\n",
            "Registro 855 sin segmentos válidos\n"
          ]
        },
        {
          "output_type": "stream",
          "name": "stderr",
          "text": [
            "Part_1 registros:  30%|███       | 904/3000 [00:37<00:19, 105.90it/s]"
          ]
        },
        {
          "output_type": "stream",
          "name": "stdout",
          "text": [
            "Registro 874 sin segmentos válidos\n",
            "Registro 875 sin segmentos válidos\n",
            "Registro 879 sin segmentos válidos\n",
            "Registro 880 sin segmentos válidos\n",
            "Registro 887 sin segmentos válidos\n",
            "Registro 899 sin segmentos válidos\n",
            "Registro 900 sin segmentos válidos\n"
          ]
        },
        {
          "output_type": "stream",
          "name": "stderr",
          "text": [
            "\rPart_1 registros:  31%|███       | 918/3000 [00:37<00:18, 114.69it/s]"
          ]
        },
        {
          "output_type": "stream",
          "name": "stdout",
          "text": [
            "Registro 908 sin segmentos válidos\n",
            "Registro 909 sin segmentos válidos\n",
            "Registro 910 sin segmentos válidos\n"
          ]
        },
        {
          "output_type": "stream",
          "name": "stderr",
          "text": [
            "Part_1 registros:  31%|███▏      | 943/3000 [00:37<00:22, 91.64it/s]"
          ]
        },
        {
          "output_type": "stream",
          "name": "stdout",
          "text": [
            "Registro 933 sin segmentos válidos\n",
            "Registro 937 sin segmentos válidos\n",
            "Registro 938 sin segmentos válidos\n"
          ]
        },
        {
          "output_type": "stream",
          "name": "stderr",
          "text": [
            "Part_1 registros:  32%|███▏      | 973/3000 [00:38<00:31, 64.48it/s]"
          ]
        },
        {
          "output_type": "stream",
          "name": "stdout",
          "text": [
            "Registro 966 sin segmentos válidos\n"
          ]
        },
        {
          "output_type": "stream",
          "name": "stderr",
          "text": [
            "Part_1 registros:  33%|███▎      | 989/3000 [00:38<00:31, 63.97it/s]"
          ]
        },
        {
          "output_type": "stream",
          "name": "stdout",
          "text": [
            "Registro 979 sin segmentos válidos\n",
            "Registro 980 sin segmentos válidos\n",
            "Registro 982 sin segmentos válidos\n"
          ]
        },
        {
          "output_type": "stream",
          "name": "stderr",
          "text": [
            "Part_1 registros:  34%|███▍      | 1026/3000 [00:38<00:20, 96.47it/s]"
          ]
        },
        {
          "output_type": "stream",
          "name": "stdout",
          "text": [
            "Registro 1010 sin segmentos válidos\n",
            "Registro 1011 sin segmentos válidos\n",
            "Registro 1013 sin segmentos válidos\n",
            "Registro 1014 sin segmentos válidos\n",
            "Registro 1027 sin segmentos válidos\n",
            "Registro 1028 sin segmentos válidos\n",
            "Registro 1029 sin segmentos válidos\n"
          ]
        },
        {
          "output_type": "stream",
          "name": "stderr",
          "text": [
            "Part_1 registros:  35%|███▍      | 1046/3000 [00:39<00:27, 71.73it/s]"
          ]
        },
        {
          "output_type": "stream",
          "name": "stdout",
          "text": [
            "Registro 1036 sin segmentos válidos\n",
            "Registro 1038 sin segmentos válidos\n",
            "Registro 1040 sin segmentos válidos\n"
          ]
        },
        {
          "output_type": "stream",
          "name": "stderr",
          "text": [
            "\rPart_1 registros:  35%|███▌      | 1054/3000 [00:39<00:29, 64.94it/s]"
          ]
        },
        {
          "output_type": "stream",
          "name": "stdout",
          "text": [
            "Registro 1052 sin segmentos válidos\n"
          ]
        },
        {
          "output_type": "stream",
          "name": "stderr",
          "text": [
            "Part_1 registros:  36%|███▌      | 1076/3000 [00:40<00:48, 40.06it/s]"
          ]
        },
        {
          "output_type": "stream",
          "name": "stdout",
          "text": [
            "Registro 1070 sin segmentos válidos\n",
            "Registro 1072 sin segmentos válidos\n"
          ]
        },
        {
          "output_type": "stream",
          "name": "stderr",
          "text": [
            "Part_1 registros:  37%|███▋      | 1100/3000 [00:40<00:59, 32.15it/s]"
          ]
        },
        {
          "output_type": "stream",
          "name": "stdout",
          "text": [
            "Registro 1092 sin segmentos válidos\n",
            "Registro 1093 sin segmentos válidos\n",
            "Registro 1098 sin segmentos válidos\n"
          ]
        },
        {
          "output_type": "stream",
          "name": "stderr",
          "text": [
            "Part_1 registros:  37%|███▋      | 1109/3000 [00:41<00:58, 32.14it/s]"
          ]
        },
        {
          "output_type": "stream",
          "name": "stdout",
          "text": [
            "Registro 1107 sin segmentos válidos\n"
          ]
        },
        {
          "output_type": "stream",
          "name": "stderr",
          "text": [
            "Part_1 registros:  38%|███▊      | 1138/3000 [00:42<01:06, 28.04it/s]"
          ]
        },
        {
          "output_type": "stream",
          "name": "stdout",
          "text": [
            "Registro 1132 sin segmentos válidos\n",
            "Registro 1134 sin segmentos válidos\n",
            "Registro 1135 sin segmentos válidos\n"
          ]
        },
        {
          "output_type": "stream",
          "name": "stderr",
          "text": [
            "Part_1 registros:  38%|███▊      | 1147/3000 [00:42<01:19, 23.40it/s]"
          ]
        },
        {
          "output_type": "stream",
          "name": "stdout",
          "text": [
            "Registro 1144 sin segmentos válidos\n"
          ]
        },
        {
          "output_type": "stream",
          "name": "stderr",
          "text": [
            "Part_1 registros:  40%|███▉      | 1191/3000 [00:45<01:18, 23.00it/s]"
          ]
        },
        {
          "output_type": "stream",
          "name": "stdout",
          "text": [
            "Registro 1184 sin segmentos válidos\n"
          ]
        },
        {
          "output_type": "stream",
          "name": "stderr",
          "text": [
            "Part_1 registros:  40%|████      | 1203/3000 [00:46<01:32, 19.47it/s]"
          ]
        },
        {
          "output_type": "stream",
          "name": "stdout",
          "text": [
            "Registro 1200 sin segmentos válidos\n",
            "Registro 1204 sin segmentos válidos\n"
          ]
        },
        {
          "output_type": "stream",
          "name": "stderr",
          "text": [
            "Part_1 registros:  41%|████      | 1219/3000 [00:46<01:02, 28.37it/s]"
          ]
        },
        {
          "output_type": "stream",
          "name": "stdout",
          "text": [
            "Registro 1216 sin segmentos válidos\n"
          ]
        },
        {
          "output_type": "stream",
          "name": "stderr",
          "text": [
            "Part_1 registros:  42%|████▏     | 1265/3000 [00:48<00:43, 39.51it/s]"
          ]
        },
        {
          "output_type": "stream",
          "name": "stdout",
          "text": [
            "Registro 1260 sin segmentos válidos\n"
          ]
        },
        {
          "output_type": "stream",
          "name": "stderr",
          "text": [
            "Part_1 registros:  43%|████▎     | 1279/3000 [00:48<00:48, 35.18it/s]"
          ]
        },
        {
          "output_type": "stream",
          "name": "stdout",
          "text": [
            "Registro 1276 sin segmentos válidos\n"
          ]
        },
        {
          "output_type": "stream",
          "name": "stderr",
          "text": [
            "Part_1 registros:  43%|████▎     | 1290/3000 [00:48<00:46, 37.11it/s]"
          ]
        },
        {
          "output_type": "stream",
          "name": "stdout",
          "text": [
            "Registro 1283 sin segmentos válidos\n"
          ]
        },
        {
          "output_type": "stream",
          "name": "stderr",
          "text": [
            "Part_1 registros:  45%|████▍     | 1349/3000 [00:50<00:18, 87.55it/s]"
          ]
        },
        {
          "output_type": "stream",
          "name": "stdout",
          "text": [
            "Registro 1318 sin segmentos válidos\n",
            "Registro 1322 sin segmentos válidos\n",
            "Registro 1324 sin segmentos válidos\n",
            "Registro 1325 sin segmentos válidos\n",
            "Registro 1328 sin segmentos válidos\n",
            "Registro 1332 sin segmentos válidos\n",
            "Registro 1335 sin segmentos válidos\n",
            "Registro 1336 sin segmentos válidos\n",
            "Registro 1338 sin segmentos válidos\n",
            "Registro 1342 sin segmentos válidos\n",
            "Registro 1350 sin segmentos válidos\n",
            "Registro 1351 sin segmentos válidos\n",
            "Registro 1352 sin segmentos válidos\n",
            "Registro 1353 sin segmentos válidos\n",
            "Registro 1354 sin segmentos válidos\n",
            "Registro 1356 sin segmentos válidos\n",
            "Registro 1357 sin segmentos válidos\n",
            "Registro 1362 sin segmentos válidos\n",
            "Registro 1364 sin segmentos válidos\n",
            "Registro 1365 sin segmentos válidos\n",
            "Registro 1366 sin segmentos válidos\n"
          ]
        },
        {
          "output_type": "stream",
          "name": "stderr",
          "text": [
            "Part_1 registros:  47%|████▋     | 1406/3000 [00:51<00:45, 35.08it/s]"
          ]
        },
        {
          "output_type": "stream",
          "name": "stdout",
          "text": [
            "Registro 1401 sin segmentos válidos\n",
            "Registro 1406 sin segmentos válidos\n",
            "Registro 1407 sin segmentos válidos\n"
          ]
        },
        {
          "output_type": "stream",
          "name": "stderr",
          "text": [
            "Part_1 registros:  47%|████▋     | 1418/3000 [00:52<00:41, 38.12it/s]"
          ]
        },
        {
          "output_type": "stream",
          "name": "stdout",
          "text": [
            "Registro 1413 sin segmentos válidos\n"
          ]
        },
        {
          "output_type": "stream",
          "name": "stderr",
          "text": [
            "Part_1 registros:  48%|████▊     | 1428/3000 [00:52<00:49, 31.83it/s]"
          ]
        },
        {
          "output_type": "stream",
          "name": "stdout",
          "text": [
            "Registro 1422 sin segmentos válidos\n",
            "Registro 1423 sin segmentos válidos\n"
          ]
        },
        {
          "output_type": "stream",
          "name": "stderr",
          "text": [
            "\rPart_1 registros:  48%|████▊     | 1433/3000 [00:52<00:49, 31.55it/s]"
          ]
        },
        {
          "output_type": "stream",
          "name": "stdout",
          "text": [
            "Registro 1429 sin segmentos válidos\n"
          ]
        },
        {
          "output_type": "stream",
          "name": "stderr",
          "text": [
            "Part_1 registros:  48%|████▊     | 1445/3000 [00:53<00:55, 28.21it/s]"
          ]
        },
        {
          "output_type": "stream",
          "name": "stdout",
          "text": [
            "Registro 1441 sin segmentos válidos\n",
            "Registro 1443 sin segmentos válidos\n"
          ]
        },
        {
          "output_type": "stream",
          "name": "stderr",
          "text": [
            "Part_1 registros:  48%|████▊     | 1451/3000 [00:53<01:01, 25.38it/s]"
          ]
        },
        {
          "output_type": "stream",
          "name": "stdout",
          "text": [
            "Registro 1448 sin segmentos válidos\n"
          ]
        },
        {
          "output_type": "stream",
          "name": "stderr",
          "text": [
            "Part_1 registros:  50%|████▉     | 1490/3000 [00:55<00:51, 29.36it/s]"
          ]
        },
        {
          "output_type": "stream",
          "name": "stdout",
          "text": [
            "Registro 1483 sin segmentos válidos\n",
            "Registro 1484 sin segmentos válidos\n"
          ]
        },
        {
          "output_type": "stream",
          "name": "stderr",
          "text": [
            "Part_1 registros:  50%|█████     | 1507/3000 [00:55<00:48, 30.55it/s]"
          ]
        },
        {
          "output_type": "stream",
          "name": "stdout",
          "text": [
            "Registro 1498 sin segmentos válidos\n"
          ]
        },
        {
          "output_type": "stream",
          "name": "stderr",
          "text": [
            "Part_1 registros:  51%|█████     | 1524/3000 [00:56<00:45, 32.79it/s]"
          ]
        },
        {
          "output_type": "stream",
          "name": "stdout",
          "text": [
            "Registro 1519 sin segmentos válidos\n"
          ]
        },
        {
          "output_type": "stream",
          "name": "stderr",
          "text": [
            "Part_1 registros:  51%|█████     | 1533/3000 [00:56<00:44, 33.06it/s]"
          ]
        },
        {
          "output_type": "stream",
          "name": "stdout",
          "text": [
            "Registro 1526 sin segmentos válidos\n",
            "Registro 1528 sin segmentos válidos\n"
          ]
        },
        {
          "output_type": "stream",
          "name": "stderr",
          "text": [
            "Part_1 registros:  52%|█████▏    | 1565/3000 [00:58<01:28, 16.15it/s]"
          ]
        },
        {
          "output_type": "stream",
          "name": "stdout",
          "text": [
            "Registro 1560 sin segmentos válidos\n"
          ]
        },
        {
          "output_type": "stream",
          "name": "stderr",
          "text": [
            "Part_1 registros:  53%|█████▎    | 1578/3000 [00:59<00:49, 28.77it/s]"
          ]
        },
        {
          "output_type": "stream",
          "name": "stdout",
          "text": [
            "Registro 1570 sin segmentos válidos\n",
            "Registro 1574 sin segmentos válidos\n",
            "Registro 1578 sin segmentos válidos\n"
          ]
        },
        {
          "output_type": "stream",
          "name": "stderr",
          "text": [
            "Part_1 registros:  53%|█████▎    | 1595/3000 [00:59<00:38, 36.71it/s]"
          ]
        },
        {
          "output_type": "stream",
          "name": "stdout",
          "text": [
            "Registro 1591 sin segmentos válidos\n"
          ]
        },
        {
          "output_type": "stream",
          "name": "stderr",
          "text": [
            "Part_1 registros:  54%|█████▍    | 1619/3000 [01:00<00:47, 29.35it/s]"
          ]
        },
        {
          "output_type": "stream",
          "name": "stdout",
          "text": [
            "Registro 1613 sin segmentos válidos\n",
            "Registro 1619 sin segmentos válidos\n"
          ]
        },
        {
          "output_type": "stream",
          "name": "stderr",
          "text": [
            "Part_1 registros:  55%|█████▌    | 1656/3000 [01:01<00:33, 40.27it/s]"
          ]
        },
        {
          "output_type": "stream",
          "name": "stdout",
          "text": [
            "Registro 1649 sin segmentos válidos\n",
            "Registro 1650 sin segmentos válidos\n",
            "Registro 1652 sin segmentos válidos\n",
            "Registro 1653 sin segmentos válidos\n"
          ]
        },
        {
          "output_type": "stream",
          "name": "stderr",
          "text": [
            "Part_1 registros:  56%|█████▌    | 1669/3000 [01:02<00:41, 31.91it/s]"
          ]
        },
        {
          "output_type": "stream",
          "name": "stdout",
          "text": [
            "Registro 1664 sin segmentos válidos\n"
          ]
        },
        {
          "output_type": "stream",
          "name": "stderr",
          "text": [
            "Part_1 registros:  56%|█████▋    | 1695/3000 [01:02<00:30, 42.93it/s]"
          ]
        },
        {
          "output_type": "stream",
          "name": "stdout",
          "text": [
            "Registro 1687 sin segmentos válidos\n",
            "Registro 1696 sin segmentos válidos\n"
          ]
        },
        {
          "output_type": "stream",
          "name": "stderr",
          "text": [
            "Part_1 registros:  57%|█████▋    | 1713/3000 [01:03<00:24, 52.81it/s]"
          ]
        },
        {
          "output_type": "stream",
          "name": "stdout",
          "text": [
            "Registro 1701 sin segmentos válidos\n"
          ]
        },
        {
          "output_type": "stream",
          "name": "stderr",
          "text": [
            "Part_1 registros:  58%|█████▊    | 1741/3000 [01:04<00:33, 38.02it/s]"
          ]
        },
        {
          "output_type": "stream",
          "name": "stdout",
          "text": [
            "Registro 1737 sin segmentos válidos\n"
          ]
        },
        {
          "output_type": "stream",
          "name": "stderr",
          "text": [
            "Part_1 registros:  59%|█████▉    | 1763/3000 [01:04<00:32, 37.90it/s]"
          ]
        },
        {
          "output_type": "stream",
          "name": "stdout",
          "text": [
            "Registro 1754 sin segmentos válidos\n",
            "Registro 1756 sin segmentos válidos\n",
            "Registro 1764 sin segmentos válidos\n",
            "Registro 1765 sin segmentos válidos\n",
            "Registro 1767 sin segmentos válidos\n"
          ]
        },
        {
          "output_type": "stream",
          "name": "stderr",
          "text": [
            "Part_1 registros:  60%|██████    | 1801/3000 [01:05<00:29, 40.36it/s]"
          ]
        },
        {
          "output_type": "stream",
          "name": "stdout",
          "text": [
            "Registro 1793 sin segmentos válidos\n",
            "Registro 1795 sin segmentos válidos\n",
            "Registro 1796 sin segmentos válidos\n",
            "Registro 1797 sin segmentos válidos\n"
          ]
        },
        {
          "output_type": "stream",
          "name": "stderr",
          "text": [
            "Part_1 registros:  61%|██████    | 1818/3000 [01:06<00:26, 44.09it/s]"
          ]
        },
        {
          "output_type": "stream",
          "name": "stdout",
          "text": [
            "Registro 1811 sin segmentos válidos\n",
            "Registro 1814 sin segmentos válidos\n"
          ]
        },
        {
          "output_type": "stream",
          "name": "stderr",
          "text": [
            "Part_1 registros:  61%|██████    | 1833/3000 [01:06<00:21, 53.83it/s]"
          ]
        },
        {
          "output_type": "stream",
          "name": "stdout",
          "text": [
            "Registro 1823 sin segmentos válidos\n"
          ]
        },
        {
          "output_type": "stream",
          "name": "stderr",
          "text": [
            "Part_1 registros:  62%|██████▏   | 1856/3000 [01:06<00:22, 51.78it/s]"
          ]
        },
        {
          "output_type": "stream",
          "name": "stdout",
          "text": [
            "Registro 1848 sin segmentos válidos\n",
            "Registro 1849 sin segmentos válidos\n",
            "Registro 1852 sin segmentos válidos\n"
          ]
        },
        {
          "output_type": "stream",
          "name": "stderr",
          "text": [
            "Part_1 registros:  62%|██████▏   | 1869/3000 [01:07<00:28, 40.30it/s]"
          ]
        },
        {
          "output_type": "stream",
          "name": "stdout",
          "text": [
            "Registro 1867 sin segmentos válidos\n"
          ]
        },
        {
          "output_type": "stream",
          "name": "stderr",
          "text": [
            "Part_1 registros:  64%|██████▍   | 1928/3000 [01:10<01:05, 16.35it/s]"
          ]
        },
        {
          "output_type": "stream",
          "name": "stdout",
          "text": [
            "Registro 1926 sin segmentos válidos\n"
          ]
        },
        {
          "output_type": "stream",
          "name": "stderr",
          "text": [
            "Part_1 registros:  65%|██████▍   | 1943/3000 [01:11<01:13, 14.48it/s]"
          ]
        },
        {
          "output_type": "stream",
          "name": "stdout",
          "text": [
            "Registro 1941 sin segmentos válidos\n"
          ]
        },
        {
          "output_type": "stream",
          "name": "stderr",
          "text": [
            "Part_1 registros:  65%|██████▌   | 1953/3000 [01:11<00:49, 21.20it/s]"
          ]
        },
        {
          "output_type": "stream",
          "name": "stdout",
          "text": [
            "Registro 1950 sin segmentos válidos\n",
            "Registro 1951 sin segmentos válidos\n"
          ]
        },
        {
          "output_type": "stream",
          "name": "stderr",
          "text": [
            "Part_1 registros:  66%|██████▌   | 1967/3000 [01:12<00:35, 28.78it/s]"
          ]
        },
        {
          "output_type": "stream",
          "name": "stdout",
          "text": [
            "Registro 1964 sin segmentos válidos\n"
          ]
        },
        {
          "output_type": "stream",
          "name": "stderr",
          "text": [
            "Part_1 registros:  66%|██████▌   | 1986/3000 [01:12<00:23, 42.78it/s]"
          ]
        },
        {
          "output_type": "stream",
          "name": "stdout",
          "text": [
            "Registro 1977 sin segmentos válidos\n",
            "Registro 1978 sin segmentos válidos\n",
            "Registro 1988 sin segmentos válidos\n",
            "Registro 1989 sin segmentos válidos\n"
          ]
        },
        {
          "output_type": "stream",
          "name": "stderr",
          "text": [
            "Part_1 registros:  67%|██████▋   | 2000/3000 [01:13<00:22, 43.84it/s]"
          ]
        },
        {
          "output_type": "stream",
          "name": "stdout",
          "text": [
            "Registro 1997 sin segmentos válidos\n"
          ]
        },
        {
          "output_type": "stream",
          "name": "stderr",
          "text": [
            "Part_1 registros:  68%|██████▊   | 2031/3000 [01:14<00:34, 27.78it/s]"
          ]
        },
        {
          "output_type": "stream",
          "name": "stdout",
          "text": [
            "Registro 2029 sin segmentos válidos\n",
            "Registro 2032 sin segmentos válidos\n",
            "Registro 2035 sin segmentos válidos\n"
          ]
        },
        {
          "output_type": "stream",
          "name": "stderr",
          "text": [
            "Part_1 registros:  68%|██████▊   | 2042/3000 [01:14<00:27, 35.05it/s]"
          ]
        },
        {
          "output_type": "stream",
          "name": "stdout",
          "text": [
            "Registro 2037 sin segmentos válidos\n",
            "Registro 2038 sin segmentos válidos\n"
          ]
        },
        {
          "output_type": "stream",
          "name": "stderr",
          "text": [
            "Part_1 registros:  69%|██████▉   | 2063/3000 [01:15<00:34, 27.18it/s]"
          ]
        },
        {
          "output_type": "stream",
          "name": "stdout",
          "text": [
            "Registro 2061 sin segmentos válidos\n"
          ]
        },
        {
          "output_type": "stream",
          "name": "stderr",
          "text": [
            "Part_1 registros:  70%|██████▉   | 2098/3000 [01:16<00:19, 46.30it/s]"
          ]
        },
        {
          "output_type": "stream",
          "name": "stdout",
          "text": [
            "Registro 2086 sin segmentos válidos\n",
            "Registro 2098 sin segmentos válidos\n"
          ]
        },
        {
          "output_type": "stream",
          "name": "stderr",
          "text": [
            "Part_1 registros:  71%|███████▏  | 2140/3000 [01:16<00:13, 63.34it/s]"
          ]
        },
        {
          "output_type": "stream",
          "name": "stdout",
          "text": [
            "Registro 2131 sin segmentos válidos\n",
            "Registro 2133 sin segmentos válidos\n",
            "Registro 2136 sin segmentos válidos\n"
          ]
        },
        {
          "output_type": "stream",
          "name": "stderr",
          "text": [
            "Part_1 registros:  73%|███████▎  | 2187/3000 [01:18<00:18, 43.17it/s]"
          ]
        },
        {
          "output_type": "stream",
          "name": "stdout",
          "text": [
            "Registro 2174 sin segmentos válidos\n",
            "Registro 2177 sin segmentos válidos\n"
          ]
        },
        {
          "output_type": "stream",
          "name": "stderr",
          "text": [
            "Part_1 registros:  74%|███████▍  | 2214/3000 [01:19<00:14, 55.40it/s]"
          ]
        },
        {
          "output_type": "stream",
          "name": "stdout",
          "text": [
            "Registro 2199 sin segmentos válidos\n",
            "Registro 2208 sin segmentos válidos\n",
            "Registro 2214 sin segmentos válidos\n",
            "Registro 2215 sin segmentos válidos\n"
          ]
        },
        {
          "output_type": "stream",
          "name": "stderr",
          "text": [
            "Part_1 registros:  76%|███████▌  | 2279/3000 [01:21<00:17, 41.70it/s]"
          ]
        },
        {
          "output_type": "stream",
          "name": "stdout",
          "text": [
            "Registro 2275 sin segmentos válidos\n"
          ]
        },
        {
          "output_type": "stream",
          "name": "stderr",
          "text": [
            "Part_1 registros:  76%|███████▋  | 2290/3000 [01:22<00:23, 30.41it/s]"
          ]
        },
        {
          "output_type": "stream",
          "name": "stdout",
          "text": [
            "Registro 2287 sin segmentos válidos\n",
            "Registro 2288 sin segmentos válidos\n"
          ]
        },
        {
          "output_type": "stream",
          "name": "stderr",
          "text": [
            "Part_1 registros:  77%|███████▋  | 2315/3000 [01:23<00:32, 21.38it/s]"
          ]
        },
        {
          "output_type": "stream",
          "name": "stdout",
          "text": [
            "Registro 2312 sin segmentos válidos\n"
          ]
        },
        {
          "output_type": "stream",
          "name": "stderr",
          "text": [
            "Part_1 registros:  78%|███████▊  | 2339/3000 [01:24<00:29, 22.58it/s]"
          ]
        },
        {
          "output_type": "stream",
          "name": "stdout",
          "text": [
            "Registro 2337 sin segmentos válidos\n"
          ]
        },
        {
          "output_type": "stream",
          "name": "stderr",
          "text": [
            "Part_1 registros:  79%|███████▉  | 2374/3000 [01:26<00:16, 38.65it/s]"
          ]
        },
        {
          "output_type": "stream",
          "name": "stdout",
          "text": [
            "Registro 2369 sin segmentos válidos\n"
          ]
        },
        {
          "output_type": "stream",
          "name": "stderr",
          "text": [
            "Part_1 registros:  80%|███████▉  | 2385/3000 [01:26<00:19, 32.01it/s]"
          ]
        },
        {
          "output_type": "stream",
          "name": "stdout",
          "text": [
            "Registro 2379 sin segmentos válidos\n",
            "Registro 2380 sin segmentos válidos\n",
            "Registro 2381 sin segmentos válidos\n"
          ]
        },
        {
          "output_type": "stream",
          "name": "stderr",
          "text": [
            "Part_1 registros:  81%|████████  | 2423/3000 [01:27<00:17, 32.20it/s]"
          ]
        },
        {
          "output_type": "stream",
          "name": "stdout",
          "text": [
            "Registro 2417 sin segmentos válidos\n",
            "Registro 2419 sin segmentos válidos\n",
            "Registro 2420 sin segmentos válidos\n"
          ]
        },
        {
          "output_type": "stream",
          "name": "stderr",
          "text": [
            "Part_1 registros:  82%|████████▏ | 2451/3000 [01:29<00:24, 22.42it/s]"
          ]
        },
        {
          "output_type": "stream",
          "name": "stdout",
          "text": [
            "Registro 2448 sin segmentos válidos\n"
          ]
        },
        {
          "output_type": "stream",
          "name": "stderr",
          "text": [
            "Part_1 registros:  82%|████████▏ | 2466/3000 [01:29<00:16, 31.75it/s]"
          ]
        },
        {
          "output_type": "stream",
          "name": "stdout",
          "text": [
            "Registro 2457 sin segmentos válidos\n",
            "Registro 2459 sin segmentos válidos\n",
            "Registro 2460 sin segmentos válidos\n",
            "Registro 2461 sin segmentos válidos\n",
            "Registro 2463 sin segmentos válidos\n"
          ]
        },
        {
          "output_type": "stream",
          "name": "stderr",
          "text": [
            "Part_1 registros:  83%|████████▎ | 2494/3000 [01:30<00:09, 52.91it/s]"
          ]
        },
        {
          "output_type": "stream",
          "name": "stdout",
          "text": [
            "Registro 2478 sin segmentos válidos\n",
            "Registro 2480 sin segmentos válidos\n",
            "Registro 2482 sin segmentos válidos\n",
            "Registro 2483 sin segmentos válidos\n",
            "Registro 2488 sin segmentos válidos\n",
            "Registro 2490 sin segmentos válidos\n"
          ]
        },
        {
          "output_type": "stream",
          "name": "stderr",
          "text": [
            "\rPart_1 registros:  83%|████████▎ | 2503/3000 [01:30<00:08, 56.68it/s]"
          ]
        },
        {
          "output_type": "stream",
          "name": "stdout",
          "text": [
            "Registro 2495 sin segmentos válidos\n",
            "Registro 2496 sin segmentos válidos\n",
            "Registro 2497 sin segmentos válidos\n",
            "Registro 2499 sin segmentos válidos\n",
            "Registro 2501 sin segmentos válidos\n"
          ]
        },
        {
          "output_type": "stream",
          "name": "stderr",
          "text": [
            "Part_1 registros:  84%|████████▍ | 2531/3000 [01:31<00:10, 42.70it/s]"
          ]
        },
        {
          "output_type": "stream",
          "name": "stdout",
          "text": [
            "Registro 2523 sin segmentos válidos\n",
            "Registro 2527 sin segmentos válidos\n"
          ]
        },
        {
          "output_type": "stream",
          "name": "stderr",
          "text": [
            "Part_1 registros:  85%|████████▌ | 2556/3000 [01:31<00:11, 37.71it/s]"
          ]
        },
        {
          "output_type": "stream",
          "name": "stdout",
          "text": [
            "Registro 2552 sin segmentos válidos\n"
          ]
        },
        {
          "output_type": "stream",
          "name": "stderr",
          "text": [
            "Part_1 registros:  86%|████████▋ | 2591/3000 [01:32<00:09, 45.32it/s]"
          ]
        },
        {
          "output_type": "stream",
          "name": "stdout",
          "text": [
            "Registro 2580 sin segmentos válidos\n",
            "Registro 2581 sin segmentos válidos\n",
            "Registro 2585 sin segmentos válidos\n"
          ]
        },
        {
          "output_type": "stream",
          "name": "stderr",
          "text": [
            "Part_1 registros:  88%|████████▊ | 2627/3000 [01:33<00:03, 98.56it/s]"
          ]
        },
        {
          "output_type": "stream",
          "name": "stdout",
          "text": [
            "Registro 2609 sin segmentos válidos\n",
            "Registro 2610 sin segmentos válidos\n",
            "Registro 2613 sin segmentos válidos\n",
            "Registro 2614 sin segmentos válidos\n",
            "Registro 2615 sin segmentos válidos\n",
            "Registro 2616 sin segmentos válidos\n",
            "Registro 2617 sin segmentos válidos\n",
            "Registro 2619 sin segmentos válidos\n",
            "Registro 2628 sin segmentos válidos\n"
          ]
        },
        {
          "output_type": "stream",
          "name": "stderr",
          "text": [
            "Part_1 registros:  88%|████████▊ | 2649/3000 [01:33<00:04, 83.60it/s]"
          ]
        },
        {
          "output_type": "stream",
          "name": "stdout",
          "text": [
            "Registro 2641 sin segmentos válidos\n",
            "Registro 2643 sin segmentos válidos\n",
            "Registro 2645 sin segmentos válidos\n",
            "Registro 2646 sin segmentos válidos\n"
          ]
        },
        {
          "output_type": "stream",
          "name": "stderr",
          "text": [
            "Part_1 registros:  89%|████████▉ | 2677/3000 [01:34<00:06, 53.42it/s]"
          ]
        },
        {
          "output_type": "stream",
          "name": "stdout",
          "text": [
            "Registro 2666 sin segmentos válidos\n",
            "Registro 2678 sin segmentos válidos\n",
            "Registro 2679 sin segmentos válidos\n"
          ]
        },
        {
          "output_type": "stream",
          "name": "stderr",
          "text": [
            "Part_1 registros:  90%|█████████ | 2702/3000 [01:34<00:05, 49.97it/s]"
          ]
        },
        {
          "output_type": "stream",
          "name": "stdout",
          "text": [
            "Registro 2690 sin segmentos válidos\n",
            "Registro 2693 sin segmentos válidos\n"
          ]
        },
        {
          "output_type": "stream",
          "name": "stderr",
          "text": [
            "Part_1 registros:  91%|█████████ | 2721/3000 [01:35<00:04, 63.56it/s]"
          ]
        },
        {
          "output_type": "stream",
          "name": "stdout",
          "text": [
            "Registro 2707 sin segmentos válidos\n",
            "Registro 2711 sin segmentos válidos\n",
            "Registro 2716 sin segmentos válidos\n",
            "Registro 2718 sin segmentos válidos\n"
          ]
        },
        {
          "output_type": "stream",
          "name": "stderr",
          "text": [
            "Part_1 registros:  91%|█████████ | 2736/3000 [01:35<00:04, 56.42it/s]"
          ]
        },
        {
          "output_type": "stream",
          "name": "stdout",
          "text": [
            "Registro 2738 sin segmentos válidos\n"
          ]
        },
        {
          "output_type": "stream",
          "name": "stderr",
          "text": [
            "Part_1 registros:  92%|█████████▏| 2749/3000 [01:35<00:06, 39.25it/s]"
          ]
        },
        {
          "output_type": "stream",
          "name": "stdout",
          "text": [
            "Registro 2744 sin segmentos válidos\n"
          ]
        },
        {
          "output_type": "stream",
          "name": "stderr",
          "text": [
            "Part_1 registros:  92%|█████████▏| 2762/3000 [01:36<00:09, 25.91it/s]"
          ]
        },
        {
          "output_type": "stream",
          "name": "stdout",
          "text": [
            "Registro 2761 sin segmentos válidos\n"
          ]
        },
        {
          "output_type": "stream",
          "name": "stderr",
          "text": [
            "Part_1 registros:  92%|█████████▏| 2768/3000 [01:37<00:11, 21.01it/s]"
          ]
        },
        {
          "output_type": "stream",
          "name": "stdout",
          "text": [
            "Registro 2765 sin segmentos válidos\n",
            "Registro 2768 sin segmentos válidos\n"
          ]
        },
        {
          "output_type": "stream",
          "name": "stderr",
          "text": [
            "Part_1 registros:  93%|█████████▎| 2789/3000 [01:37<00:06, 31.91it/s]"
          ]
        },
        {
          "output_type": "stream",
          "name": "stdout",
          "text": [
            "Registro 2782 sin segmentos válidos\n"
          ]
        },
        {
          "output_type": "stream",
          "name": "stderr",
          "text": [
            "\rPart_1 registros:  93%|█████████▎| 2798/3000 [01:37<00:04, 45.94it/s]"
          ]
        },
        {
          "output_type": "stream",
          "name": "stdout",
          "text": [
            "Registro 2790 sin segmentos válidos\n",
            "Registro 2792 sin segmentos válidos\n",
            "Registro 2802 sin segmentos válidos\n"
          ]
        },
        {
          "output_type": "stream",
          "name": "stderr",
          "text": [
            "Part_1 registros:  94%|█████████▍| 2818/3000 [01:38<00:03, 46.16it/s]"
          ]
        },
        {
          "output_type": "stream",
          "name": "stdout",
          "text": [
            "Registro 2810 sin segmentos válidos\n",
            "Registro 2813 sin segmentos válidos\n",
            "Registro 2814 sin segmentos válidos\n",
            "Registro 2816 sin segmentos válidos\n"
          ]
        },
        {
          "output_type": "stream",
          "name": "stderr",
          "text": [
            "Part_1 registros:  95%|█████████▌| 2861/3000 [01:38<00:01, 119.78it/s]"
          ]
        },
        {
          "output_type": "stream",
          "name": "stdout",
          "text": [
            "Registro 2820 sin segmentos válidos\n",
            "Registro 2821 sin segmentos válidos\n",
            "Registro 2823 sin segmentos válidos\n",
            "Registro 2825 sin segmentos válidos\n",
            "Registro 2827 sin segmentos válidos\n",
            "Registro 2838 sin segmentos válidos\n",
            "Registro 2839 sin segmentos válidos\n",
            "Registro 2843 sin segmentos válidos\n",
            "Registro 2844 sin segmentos válidos\n",
            "Registro 2845 sin segmentos válidos\n",
            "Registro 2846 sin segmentos válidos\n",
            "Registro 2847 sin segmentos válidos\n",
            "Registro 2848 sin segmentos válidos\n",
            "Registro 2855 sin segmentos válidos\n",
            "Registro 2859 sin segmentos válidos\n"
          ]
        },
        {
          "output_type": "stream",
          "name": "stderr",
          "text": [
            "Part_1 registros:  97%|█████████▋| 2904/3000 [01:38<00:00, 161.71it/s]"
          ]
        },
        {
          "output_type": "stream",
          "name": "stdout",
          "text": [
            "Registro 2876 sin segmentos válidos\n",
            "Registro 2887 sin segmentos válidos\n",
            "Registro 2890 sin segmentos válidos\n",
            "Registro 2891 sin segmentos válidos\n",
            "Registro 2893 sin segmentos válidos\n",
            "Registro 2895 sin segmentos válidos\n",
            "Registro 2896 sin segmentos válidos\n"
          ]
        },
        {
          "output_type": "stream",
          "name": "stderr",
          "text": [
            "\rPart_1 registros:  97%|█████████▋| 2922/3000 [01:38<00:00, 119.77it/s]"
          ]
        },
        {
          "output_type": "stream",
          "name": "stdout",
          "text": [
            "Registro 2919 sin segmentos válidos\n",
            "Registro 2926 sin segmentos válidos\n"
          ]
        },
        {
          "output_type": "stream",
          "name": "stderr",
          "text": [
            "Part_1 registros:  98%|█████████▊| 2950/3000 [01:39<00:00, 84.86it/s] "
          ]
        },
        {
          "output_type": "stream",
          "name": "stdout",
          "text": [
            "Registro 2943 sin segmentos válidos\n",
            "Registro 2948 sin segmentos válidos\n",
            "Registro 2961 sin segmentos válidos\n"
          ]
        },
        {
          "output_type": "stream",
          "name": "stderr",
          "text": [
            "Part_1 registros: 100%|██████████| 3000/3000 [01:40<00:00, 29.86it/s]\n"
          ]
        },
        {
          "output_type": "stream",
          "name": "stdout",
          "text": [
            "\\Procesando: raw_data/Part_2.mat\n",
            "Total registros en Part_2: 3000\n"
          ]
        },
        {
          "output_type": "stream",
          "name": "stderr",
          "text": [
            "Part_2 registros:   0%|          | 3/3000 [00:00<02:08, 23.30it/s]"
          ]
        },
        {
          "output_type": "stream",
          "name": "stdout",
          "text": [
            "Registro 1 sin segmentos válidos\n"
          ]
        },
        {
          "output_type": "stream",
          "name": "stderr",
          "text": [
            "Part_2 registros:   1%|▏         | 43/3000 [00:01<00:52, 56.17it/s]"
          ]
        },
        {
          "output_type": "stream",
          "name": "stdout",
          "text": [
            "Registro 25 sin segmentos válidos\n",
            "Registro 27 sin segmentos válidos\n",
            "Registro 28 sin segmentos válidos\n",
            "Registro 32 sin segmentos válidos\n",
            "Registro 33 sin segmentos válidos\n",
            "Registro 40 sin segmentos válidos\n"
          ]
        },
        {
          "output_type": "stream",
          "name": "stderr",
          "text": [
            "Part_2 registros:   2%|▏         | 67/3000 [00:01<00:35, 82.86it/s]"
          ]
        },
        {
          "output_type": "stream",
          "name": "stdout",
          "text": [
            "Registro 45 sin segmentos válidos\n",
            "Registro 56 sin segmentos válidos\n",
            "Registro 58 sin segmentos válidos\n",
            "Registro 60 sin segmentos válidos\n",
            "Registro 67 sin segmentos válidos\n"
          ]
        },
        {
          "output_type": "stream",
          "name": "stderr",
          "text": [
            "Part_2 registros:   3%|▎         | 84/3000 [00:01<00:50, 58.25it/s]"
          ]
        },
        {
          "output_type": "stream",
          "name": "stdout",
          "text": [
            "Registro 78 sin segmentos válidos\n"
          ]
        },
        {
          "output_type": "stream",
          "name": "stderr",
          "text": [
            "Part_2 registros:   4%|▍         | 130/3000 [00:03<02:23, 20.01it/s]"
          ]
        },
        {
          "output_type": "stream",
          "name": "stdout",
          "text": [
            "Registro 126 sin segmentos válidos\n"
          ]
        },
        {
          "output_type": "stream",
          "name": "stderr",
          "text": [
            "Part_2 registros:   5%|▌         | 156/3000 [00:04<01:29, 31.85it/s]"
          ]
        },
        {
          "output_type": "stream",
          "name": "stdout",
          "text": [
            "Registro 150 sin segmentos válidos\n",
            "Registro 159 sin segmentos válidos\n",
            "Registro 161 sin segmentos válidos\n"
          ]
        },
        {
          "output_type": "stream",
          "name": "stderr",
          "text": [
            "Part_2 registros:   6%|▌         | 176/3000 [00:05<01:03, 44.17it/s]"
          ]
        },
        {
          "output_type": "stream",
          "name": "stdout",
          "text": [
            "Registro 167 sin segmentos válidos\n",
            "Registro 174 sin segmentos válidos\n"
          ]
        },
        {
          "output_type": "stream",
          "name": "stderr",
          "text": [
            "\rPart_2 registros:   6%|▌         | 181/3000 [00:05<01:05, 42.79it/s]"
          ]
        },
        {
          "output_type": "stream",
          "name": "stdout",
          "text": [
            "Registro 178 sin segmentos válidos\n"
          ]
        },
        {
          "output_type": "stream",
          "name": "stderr",
          "text": [
            "Part_2 registros:   8%|▊         | 232/3000 [00:07<01:03, 43.31it/s]"
          ]
        },
        {
          "output_type": "stream",
          "name": "stdout",
          "text": [
            "Registro 221 sin segmentos válidos\n",
            "Registro 222 sin segmentos válidos\n",
            "Registro 224 sin segmentos válidos\n",
            "Registro 227 sin segmentos válidos\n",
            "Registro 230 sin segmentos válidos\n"
          ]
        },
        {
          "output_type": "stream",
          "name": "stderr",
          "text": [
            "Part_2 registros:   9%|▉         | 266/3000 [00:09<02:02, 22.39it/s]"
          ]
        },
        {
          "output_type": "stream",
          "name": "stdout",
          "text": [
            "Registro 262 sin segmentos válidos\n",
            "Registro 264 sin segmentos válidos\n",
            "Registro 266 sin segmentos válidos\n"
          ]
        },
        {
          "output_type": "stream",
          "name": "stderr",
          "text": [
            "Part_2 registros:  10%|▉         | 288/3000 [00:09<00:54, 49.50it/s]"
          ]
        },
        {
          "output_type": "stream",
          "name": "stdout",
          "text": [
            "Registro 278 sin segmentos válidos\n",
            "Registro 286 sin segmentos válidos\n",
            "Registro 289 sin segmentos válidos\n"
          ]
        },
        {
          "output_type": "stream",
          "name": "stderr",
          "text": [
            "Part_2 registros:  11%|█         | 323/3000 [00:10<00:47, 56.83it/s]"
          ]
        },
        {
          "output_type": "stream",
          "name": "stdout",
          "text": [
            "Registro 309 sin segmentos válidos\n",
            "Registro 310 sin segmentos válidos\n",
            "Registro 311 sin segmentos válidos\n",
            "Registro 315 sin segmentos válidos\n"
          ]
        },
        {
          "output_type": "stream",
          "name": "stderr",
          "text": [
            "\rPart_2 registros:  11%|█         | 331/3000 [00:10<00:43, 61.19it/s]"
          ]
        },
        {
          "output_type": "stream",
          "name": "stdout",
          "text": [
            "Registro 329 sin segmentos válidos\n",
            "Registro 330 sin segmentos válidos\n"
          ]
        },
        {
          "output_type": "stream",
          "name": "stderr",
          "text": [
            "Part_2 registros:  12%|█▏        | 352/3000 [00:11<01:13, 35.88it/s]"
          ]
        },
        {
          "output_type": "stream",
          "name": "stdout",
          "text": [
            "Registro 347 sin segmentos válidos\n"
          ]
        },
        {
          "output_type": "stream",
          "name": "stderr",
          "text": [
            "\rPart_2 registros:  12%|█▏        | 357/3000 [00:11<01:19, 33.11it/s]"
          ]
        },
        {
          "output_type": "stream",
          "name": "stdout",
          "text": [
            "Registro 353 sin segmentos válidos\n"
          ]
        },
        {
          "output_type": "stream",
          "name": "stderr",
          "text": [
            "Part_2 registros:  13%|█▎        | 381/3000 [00:12<01:09, 37.68it/s]"
          ]
        },
        {
          "output_type": "stream",
          "name": "stdout",
          "text": [
            "Registro 374 sin segmentos válidos\n"
          ]
        },
        {
          "output_type": "stream",
          "name": "stderr",
          "text": [
            "Part_2 registros:  14%|█▎        | 410/3000 [00:13<01:10, 36.60it/s]"
          ]
        },
        {
          "output_type": "stream",
          "name": "stdout",
          "text": [
            "Registro 402 sin segmentos válidos\n",
            "Registro 403 sin segmentos válidos\n"
          ]
        },
        {
          "output_type": "stream",
          "name": "stderr",
          "text": [
            "Part_2 registros:  15%|█▌        | 462/3000 [00:15<01:55, 21.98it/s]"
          ]
        },
        {
          "output_type": "stream",
          "name": "stdout",
          "text": [
            "Registro 459 sin segmentos válidos\n"
          ]
        },
        {
          "output_type": "stream",
          "name": "stderr",
          "text": [
            "Part_2 registros:  16%|█▌        | 482/3000 [00:16<01:27, 28.69it/s]"
          ]
        },
        {
          "output_type": "stream",
          "name": "stdout",
          "text": [
            "Registro 476 sin segmentos válidos\n"
          ]
        },
        {
          "output_type": "stream",
          "name": "stderr",
          "text": [
            "Part_2 registros:  17%|█▋        | 500/3000 [00:17<01:07, 37.27it/s]"
          ]
        },
        {
          "output_type": "stream",
          "name": "stdout",
          "text": [
            "Registro 493 sin segmentos válidos\n",
            "Registro 497 sin segmentos válidos\n",
            "Registro 498 sin segmentos válidos\n"
          ]
        },
        {
          "output_type": "stream",
          "name": "stderr",
          "text": [
            "Part_2 registros:  18%|█▊        | 526/3000 [00:18<01:33, 26.59it/s]"
          ]
        },
        {
          "output_type": "stream",
          "name": "stdout",
          "text": [
            "Registro 522 sin segmentos válidos\n"
          ]
        },
        {
          "output_type": "stream",
          "name": "stderr",
          "text": [
            "Part_2 registros:  19%|█▉        | 582/3000 [00:21<01:41, 23.79it/s]"
          ]
        },
        {
          "output_type": "stream",
          "name": "stdout",
          "text": [
            "Registro 576 sin segmentos válidos\n",
            "Registro 580 sin segmentos válidos\n"
          ]
        },
        {
          "output_type": "stream",
          "name": "stderr",
          "text": [
            "Part_2 registros:  20%|█▉        | 590/3000 [00:22<01:57, 20.44it/s]"
          ]
        },
        {
          "output_type": "stream",
          "name": "stdout",
          "text": [
            "Registro 588 sin segmentos válidos\n"
          ]
        },
        {
          "output_type": "stream",
          "name": "stderr",
          "text": [
            "Part_2 registros:  20%|██        | 604/3000 [00:22<02:07, 18.77it/s]"
          ]
        },
        {
          "output_type": "stream",
          "name": "stdout",
          "text": [
            "Registro 600 sin segmentos válidos\n",
            "Registro 602 sin segmentos válidos\n"
          ]
        },
        {
          "output_type": "stream",
          "name": "stderr",
          "text": [
            "Part_2 registros:  21%|██        | 619/3000 [00:23<02:33, 15.47it/s]"
          ]
        },
        {
          "output_type": "stream",
          "name": "stdout",
          "text": [
            "Registro 616 sin segmentos válidos\n"
          ]
        },
        {
          "output_type": "stream",
          "name": "stderr",
          "text": [
            "\rPart_2 registros:  21%|██        | 624/3000 [00:24<01:53, 20.96it/s]"
          ]
        },
        {
          "output_type": "stream",
          "name": "stdout",
          "text": [
            "Registro 620 sin segmentos válidos\n",
            "Registro 621 sin segmentos válidos\n"
          ]
        },
        {
          "output_type": "stream",
          "name": "stderr",
          "text": [
            "Part_2 registros:  22%|██▏       | 645/3000 [00:24<01:13, 31.93it/s]"
          ]
        },
        {
          "output_type": "stream",
          "name": "stdout",
          "text": [
            "Registro 636 sin segmentos válidos\n",
            "Registro 637 sin segmentos válidos\n",
            "Registro 638 sin segmentos válidos\n",
            "Registro 642 sin segmentos válidos\n"
          ]
        },
        {
          "output_type": "stream",
          "name": "stderr",
          "text": [
            "Part_2 registros:  22%|██▏       | 667/3000 [00:25<00:48, 47.72it/s]"
          ]
        },
        {
          "output_type": "stream",
          "name": "stdout",
          "text": [
            "Registro 652 sin segmentos válidos\n",
            "Registro 657 sin segmentos válidos\n",
            "Registro 662 sin segmentos válidos\n",
            "Registro 663 sin segmentos válidos\n",
            "Registro 667 sin segmentos válidos\n",
            "Registro 669 sin segmentos válidos\n",
            "Registro 670 sin segmentos válidos\n"
          ]
        },
        {
          "output_type": "stream",
          "name": "stderr",
          "text": [
            "Part_2 registros:  23%|██▎       | 694/3000 [00:26<00:59, 39.06it/s]"
          ]
        },
        {
          "output_type": "stream",
          "name": "stdout",
          "text": [
            "Registro 686 sin segmentos válidos\n"
          ]
        },
        {
          "output_type": "stream",
          "name": "stderr",
          "text": [
            "\rPart_2 registros:  23%|██▎       | 702/3000 [00:26<00:51, 44.86it/s]"
          ]
        },
        {
          "output_type": "stream",
          "name": "stdout",
          "text": [
            "Registro 698 sin segmentos válidos\n"
          ]
        },
        {
          "output_type": "stream",
          "name": "stderr",
          "text": [
            "Part_2 registros:  24%|██▍       | 713/3000 [00:26<00:55, 41.24it/s]"
          ]
        },
        {
          "output_type": "stream",
          "name": "stdout",
          "text": [
            "Registro 707 sin segmentos válidos\n",
            "Registro 714 sin segmentos válidos\n",
            "Registro 715 sin segmentos válidos\n",
            "Registro 716 sin segmentos válidos\n"
          ]
        },
        {
          "output_type": "stream",
          "name": "stderr",
          "text": [
            "Part_2 registros:  24%|██▍       | 728/3000 [00:26<00:47, 48.18it/s]"
          ]
        },
        {
          "output_type": "stream",
          "name": "stdout",
          "text": [
            "Registro 722 sin segmentos válidos\n",
            "Registro 725 sin segmentos válidos\n"
          ]
        },
        {
          "output_type": "stream",
          "name": "stderr",
          "text": [
            "Part_2 registros:  25%|██▍       | 738/3000 [00:27<00:57, 39.42it/s]"
          ]
        },
        {
          "output_type": "stream",
          "name": "stdout",
          "text": [
            "Registro 732 sin segmentos válidos\n"
          ]
        },
        {
          "output_type": "stream",
          "name": "stderr",
          "text": [
            "Part_2 registros:  26%|██▌       | 771/3000 [00:27<00:54, 40.79it/s]"
          ]
        },
        {
          "output_type": "stream",
          "name": "stdout",
          "text": [
            "Registro 760 sin segmentos válidos\n",
            "Registro 772 sin segmentos válidos\n"
          ]
        },
        {
          "output_type": "stream",
          "name": "stderr",
          "text": [
            "Part_2 registros:  26%|██▌       | 787/3000 [00:28<00:43, 50.76it/s]"
          ]
        },
        {
          "output_type": "stream",
          "name": "stdout",
          "text": [
            "Registro 775 sin segmentos válidos\n",
            "Registro 784 sin segmentos válidos\n"
          ]
        },
        {
          "output_type": "stream",
          "name": "stderr",
          "text": [
            "Part_2 registros:  27%|██▋       | 798/3000 [00:28<01:04, 34.20it/s]"
          ]
        },
        {
          "output_type": "stream",
          "name": "stdout",
          "text": [
            "Registro 796 sin segmentos válidos\n"
          ]
        },
        {
          "output_type": "stream",
          "name": "stderr",
          "text": [
            "Part_2 registros:  27%|██▋       | 823/3000 [00:29<01:24, 25.87it/s]"
          ]
        },
        {
          "output_type": "stream",
          "name": "stdout",
          "text": [
            "Registro 819 sin segmentos válidos\n"
          ]
        },
        {
          "output_type": "stream",
          "name": "stderr",
          "text": [
            "Part_2 registros:  28%|██▊       | 832/3000 [00:30<01:05, 33.11it/s]"
          ]
        },
        {
          "output_type": "stream",
          "name": "stdout",
          "text": [
            "Registro 828 sin segmentos válidos\n",
            "Registro 831 sin segmentos válidos\n"
          ]
        },
        {
          "output_type": "stream",
          "name": "stderr",
          "text": [
            "Part_2 registros:  28%|██▊       | 844/3000 [00:30<01:36, 22.43it/s]"
          ]
        },
        {
          "output_type": "stream",
          "name": "stdout",
          "text": [
            "Registro 841 sin segmentos válidos\n"
          ]
        },
        {
          "output_type": "stream",
          "name": "stderr",
          "text": [
            "Part_2 registros:  29%|██▊       | 862/3000 [00:31<01:11, 29.82it/s]"
          ]
        },
        {
          "output_type": "stream",
          "name": "stdout",
          "text": [
            "Registro 854 sin segmentos válidos\n",
            "Registro 855 sin segmentos válidos\n"
          ]
        },
        {
          "output_type": "stream",
          "name": "stderr",
          "text": [
            "\rPart_2 registros:  29%|██▉       | 866/3000 [00:31<01:12, 29.51it/s]"
          ]
        },
        {
          "output_type": "stream",
          "name": "stdout",
          "text": [
            "Registro 863 sin segmentos válidos\n"
          ]
        },
        {
          "output_type": "stream",
          "name": "stderr",
          "text": [
            "Part_2 registros:  31%|███       | 929/3000 [00:36<01:26, 23.82it/s]"
          ]
        },
        {
          "output_type": "stream",
          "name": "stdout",
          "text": [
            "Registro 921 sin segmentos válidos\n"
          ]
        },
        {
          "output_type": "stream",
          "name": "stderr",
          "text": [
            "Part_2 registros:  33%|███▎      | 1002/3000 [00:39<00:58, 34.29it/s]"
          ]
        },
        {
          "output_type": "stream",
          "name": "stdout",
          "text": [
            "Registro 996 sin segmentos válidos\n",
            "Registro 999 sin segmentos válidos\n"
          ]
        },
        {
          "output_type": "stream",
          "name": "stderr",
          "text": [
            "Part_2 registros:  34%|███▍      | 1019/3000 [00:39<01:14, 26.70it/s]"
          ]
        },
        {
          "output_type": "stream",
          "name": "stdout",
          "text": [
            "Registro 1014 sin segmentos válidos\n",
            "Registro 1015 sin segmentos válidos\n"
          ]
        },
        {
          "output_type": "stream",
          "name": "stderr",
          "text": [
            "Part_2 registros:  36%|███▋      | 1094/3000 [00:43<00:44, 42.75it/s]"
          ]
        },
        {
          "output_type": "stream",
          "name": "stdout",
          "text": [
            "Registro 1083 sin segmentos válidos\n",
            "Registro 1090 sin segmentos válidos\n"
          ]
        },
        {
          "output_type": "stream",
          "name": "stderr",
          "text": [
            "Part_2 registros:  37%|███▋      | 1113/3000 [00:44<01:27, 21.64it/s]"
          ]
        },
        {
          "output_type": "stream",
          "name": "stdout",
          "text": [
            "Registro 1110 sin segmentos válidos\n"
          ]
        },
        {
          "output_type": "stream",
          "name": "stderr",
          "text": [
            "Part_2 registros:  38%|███▊      | 1140/3000 [00:45<00:56, 32.80it/s]"
          ]
        },
        {
          "output_type": "stream",
          "name": "stdout",
          "text": [
            "Registro 1136 sin segmentos válidos\n",
            "Registro 1137 sin segmentos válidos\n"
          ]
        },
        {
          "output_type": "stream",
          "name": "stderr",
          "text": [
            "Part_2 registros:  39%|███▉      | 1165/3000 [00:46<02:00, 15.21it/s]"
          ]
        },
        {
          "output_type": "stream",
          "name": "stdout",
          "text": [
            "Registro 1162 sin segmentos válidos\n"
          ]
        },
        {
          "output_type": "stream",
          "name": "stderr",
          "text": [
            "Part_2 registros:  43%|████▎     | 1285/3000 [00:52<00:49, 34.73it/s]"
          ]
        },
        {
          "output_type": "stream",
          "name": "stdout",
          "text": [
            "Registro 1276 sin segmentos válidos\n"
          ]
        },
        {
          "output_type": "stream",
          "name": "stderr",
          "text": [
            "Part_2 registros:  44%|████▍     | 1313/3000 [00:53<00:43, 38.41it/s]"
          ]
        },
        {
          "output_type": "stream",
          "name": "stdout",
          "text": [
            "Registro 1303 sin segmentos válidos\n",
            "Registro 1309 sin segmentos válidos\n"
          ]
        },
        {
          "output_type": "stream",
          "name": "stderr",
          "text": [
            "Part_2 registros:  44%|████▍     | 1327/3000 [00:53<00:35, 46.99it/s]"
          ]
        },
        {
          "output_type": "stream",
          "name": "stdout",
          "text": [
            "Registro 1317 sin segmentos válidos\n",
            "Registro 1320 sin segmentos válidos\n"
          ]
        },
        {
          "output_type": "stream",
          "name": "stderr",
          "text": [
            "Part_2 registros:  45%|████▍     | 1337/3000 [00:53<00:44, 37.46it/s]"
          ]
        },
        {
          "output_type": "stream",
          "name": "stdout",
          "text": [
            "Registro 1335 sin segmentos válidos\n"
          ]
        },
        {
          "output_type": "stream",
          "name": "stderr",
          "text": [
            "Part_2 registros:  46%|████▌     | 1366/3000 [00:55<00:53, 30.60it/s]"
          ]
        },
        {
          "output_type": "stream",
          "name": "stdout",
          "text": [
            "Registro 1357 sin segmentos válidos\n",
            "Registro 1360 sin segmentos válidos\n",
            "Registro 1367 sin segmentos válidos\n",
            "Registro 1368 sin segmentos válidos\n",
            "Registro 1369 sin segmentos válidos\n",
            "Registro 1372 sin segmentos válidos\n"
          ]
        },
        {
          "output_type": "stream",
          "name": "stderr",
          "text": [
            "Part_2 registros:  52%|█████▏    | 1551/3000 [01:03<00:38, 38.13it/s]"
          ]
        },
        {
          "output_type": "stream",
          "name": "stdout",
          "text": [
            "Registro 1547 sin segmentos válidos\n"
          ]
        },
        {
          "output_type": "stream",
          "name": "stderr",
          "text": [
            "Part_2 registros:  53%|█████▎    | 1579/3000 [01:04<00:39, 35.92it/s]"
          ]
        },
        {
          "output_type": "stream",
          "name": "stdout",
          "text": [
            "Registro 1572 sin segmentos válidos\n",
            "Registro 1577 sin segmentos válidos\n"
          ]
        },
        {
          "output_type": "stream",
          "name": "stderr",
          "text": [
            "Part_2 registros:  54%|█████▍    | 1615/3000 [01:05<00:29, 46.81it/s]"
          ]
        },
        {
          "output_type": "stream",
          "name": "stdout",
          "text": [
            "Registro 1605 sin segmentos válidos\n"
          ]
        },
        {
          "output_type": "stream",
          "name": "stderr",
          "text": [
            "Part_2 registros:  55%|█████▍    | 1642/3000 [01:06<00:33, 40.76it/s]"
          ]
        },
        {
          "output_type": "stream",
          "name": "stdout",
          "text": [
            "Registro 1638 sin segmentos válidos\n"
          ]
        },
        {
          "output_type": "stream",
          "name": "stderr",
          "text": [
            "Part_2 registros:  56%|█████▋    | 1691/3000 [01:07<00:33, 39.14it/s]"
          ]
        },
        {
          "output_type": "stream",
          "name": "stdout",
          "text": [
            "Registro 1687 sin segmentos válidos\n",
            "Registro 1694 sin segmentos válidos\n"
          ]
        },
        {
          "output_type": "stream",
          "name": "stderr",
          "text": [
            "Part_2 registros:  57%|█████▋    | 1710/3000 [01:07<00:29, 44.10it/s]"
          ]
        },
        {
          "output_type": "stream",
          "name": "stdout",
          "text": [
            "Registro 1704 sin segmentos válidos\n"
          ]
        },
        {
          "output_type": "stream",
          "name": "stderr",
          "text": [
            "Part_2 registros:  58%|█████▊    | 1751/3000 [01:08<00:26, 47.58it/s]"
          ]
        },
        {
          "output_type": "stream",
          "name": "stdout",
          "text": [
            "Registro 1743 sin segmentos válidos\n",
            "Registro 1751 sin segmentos válidos\n"
          ]
        },
        {
          "output_type": "stream",
          "name": "stderr",
          "text": [
            "Part_2 registros:  59%|█████▉    | 1766/3000 [01:09<00:35, 34.85it/s]"
          ]
        },
        {
          "output_type": "stream",
          "name": "stdout",
          "text": [
            "Registro 1763 sin segmentos válidos\n"
          ]
        },
        {
          "output_type": "stream",
          "name": "stderr",
          "text": [
            "Part_2 registros:  59%|█████▉    | 1778/3000 [01:09<00:43, 27.99it/s]"
          ]
        },
        {
          "output_type": "stream",
          "name": "stdout",
          "text": [
            "Registro 1776 sin segmentos válidos\n"
          ]
        },
        {
          "output_type": "stream",
          "name": "stderr",
          "text": [
            "Part_2 registros:  60%|█████▉    | 1793/3000 [01:10<00:40, 29.47it/s]"
          ]
        },
        {
          "output_type": "stream",
          "name": "stdout",
          "text": [
            "Registro 1790 sin segmentos válidos\n"
          ]
        },
        {
          "output_type": "stream",
          "name": "stderr",
          "text": [
            "Part_2 registros:  60%|██████    | 1800/3000 [01:10<00:53, 22.34it/s]"
          ]
        },
        {
          "output_type": "stream",
          "name": "stdout",
          "text": [
            "Registro 1798 sin segmentos válidos\n"
          ]
        },
        {
          "output_type": "stream",
          "name": "stderr",
          "text": [
            "Part_2 registros:  60%|██████    | 1814/3000 [01:11<00:56, 21.05it/s]"
          ]
        },
        {
          "output_type": "stream",
          "name": "stdout",
          "text": [
            "Registro 1810 sin segmentos válidos\n",
            "Registro 1812 sin segmentos válidos\n"
          ]
        },
        {
          "output_type": "stream",
          "name": "stderr",
          "text": [
            "Part_2 registros:  61%|██████    | 1833/3000 [01:12<01:05, 17.69it/s]"
          ]
        },
        {
          "output_type": "stream",
          "name": "stdout",
          "text": [
            "Registro 1829 sin segmentos válidos\n",
            "Registro 1835 sin segmentos válidos\n"
          ]
        },
        {
          "output_type": "stream",
          "name": "stderr",
          "text": [
            "Part_2 registros:  62%|██████▏   | 1846/3000 [01:13<01:10, 16.46it/s]"
          ]
        },
        {
          "output_type": "stream",
          "name": "stdout",
          "text": [
            "Registro 1847 sin segmentos válidos\n"
          ]
        },
        {
          "output_type": "stream",
          "name": "stderr",
          "text": [
            "Part_2 registros:  62%|██████▏   | 1861/3000 [01:14<00:50, 22.74it/s]"
          ]
        },
        {
          "output_type": "stream",
          "name": "stdout",
          "text": [
            "Registro 1857 sin segmentos válidos\n"
          ]
        },
        {
          "output_type": "stream",
          "name": "stderr",
          "text": [
            "Part_2 registros:  63%|██████▎   | 1878/3000 [01:14<00:33, 33.89it/s]"
          ]
        },
        {
          "output_type": "stream",
          "name": "stdout",
          "text": [
            "Registro 1867 sin segmentos válidos\n",
            "Registro 1875 sin segmentos válidos\n"
          ]
        },
        {
          "output_type": "stream",
          "name": "stderr",
          "text": [
            "Part_2 registros:  63%|██████▎   | 1888/3000 [01:14<00:29, 37.56it/s]"
          ]
        },
        {
          "output_type": "stream",
          "name": "stdout",
          "text": [
            "Registro 1882 sin segmentos válidos\n",
            "Registro 1885 sin segmentos válidos\n"
          ]
        },
        {
          "output_type": "stream",
          "name": "stderr",
          "text": [
            "Part_2 registros:  66%|██████▌   | 1970/3000 [01:18<00:50, 20.28it/s]"
          ]
        },
        {
          "output_type": "stream",
          "name": "stdout",
          "text": [
            "Registro 1966 sin segmentos válidos\n",
            "Registro 1971 sin segmentos válidos\n"
          ]
        },
        {
          "output_type": "stream",
          "name": "stderr",
          "text": [
            "Part_2 registros:  66%|██████▌   | 1984/3000 [01:18<00:26, 38.79it/s]"
          ]
        },
        {
          "output_type": "stream",
          "name": "stdout",
          "text": [
            "Registro 1980 sin segmentos válidos\n",
            "Registro 1981 sin segmentos válidos\n"
          ]
        },
        {
          "output_type": "stream",
          "name": "stderr",
          "text": [
            "Part_2 registros:  67%|██████▋   | 2012/3000 [01:19<00:28, 34.20it/s]"
          ]
        },
        {
          "output_type": "stream",
          "name": "stdout",
          "text": [
            "Registro 2003 sin segmentos válidos\n",
            "Registro 2007 sin segmentos válidos\n",
            "Registro 2008 sin segmentos válidos\n",
            "Registro 2009 sin segmentos válidos\n",
            "Registro 2010 sin segmentos válidos\n"
          ]
        },
        {
          "output_type": "stream",
          "name": "stderr",
          "text": [
            "\rPart_2 registros:  67%|██████▋   | 2016/3000 [01:20<00:36, 26.63it/s]"
          ]
        },
        {
          "output_type": "stream",
          "name": "stdout",
          "text": [
            "Registro 2015 sin segmentos válidos\n"
          ]
        },
        {
          "output_type": "stream",
          "name": "stderr",
          "text": [
            "Part_2 registros:  68%|██████▊   | 2034/3000 [01:21<00:49, 19.48it/s]"
          ]
        },
        {
          "output_type": "stream",
          "name": "stdout",
          "text": [
            "Registro 2032 sin segmentos válidos\n"
          ]
        },
        {
          "output_type": "stream",
          "name": "stderr",
          "text": [
            "Part_2 registros:  68%|██████▊   | 2054/3000 [01:22<00:50, 18.71it/s]"
          ]
        },
        {
          "output_type": "stream",
          "name": "stdout",
          "text": [
            "Registro 2052 sin segmentos válidos\n"
          ]
        },
        {
          "output_type": "stream",
          "name": "stderr",
          "text": [
            "Part_2 registros:  69%|██████▉   | 2076/3000 [01:23<00:40, 22.58it/s]"
          ]
        },
        {
          "output_type": "stream",
          "name": "stdout",
          "text": [
            "Registro 2071 sin segmentos válidos\n"
          ]
        },
        {
          "output_type": "stream",
          "name": "stderr",
          "text": [
            "Part_2 registros:  69%|██████▉   | 2083/3000 [01:23<00:39, 23.12it/s]"
          ]
        },
        {
          "output_type": "stream",
          "name": "stdout",
          "text": [
            "Registro 2081 sin segmentos válidos\n"
          ]
        },
        {
          "output_type": "stream",
          "name": "stderr",
          "text": [
            "\rPart_2 registros:  70%|██████▉   | 2086/3000 [01:23<00:43, 21.02it/s]"
          ]
        },
        {
          "output_type": "stream",
          "name": "stdout",
          "text": [
            "Registro 2085 sin segmentos válidos\n"
          ]
        },
        {
          "output_type": "stream",
          "name": "stderr",
          "text": [
            "Part_2 registros:  72%|███████▏  | 2154/3000 [01:28<00:27, 30.41it/s]"
          ]
        },
        {
          "output_type": "stream",
          "name": "stdout",
          "text": [
            "Registro 2149 sin segmentos válidos\n"
          ]
        },
        {
          "output_type": "stream",
          "name": "stderr",
          "text": [
            "Part_2 registros:  72%|███████▏  | 2174/3000 [01:29<00:21, 38.90it/s]"
          ]
        },
        {
          "output_type": "stream",
          "name": "stdout",
          "text": [
            "Registro 2166 sin segmentos válidos\n",
            "Registro 2170 sin segmentos válidos\n"
          ]
        },
        {
          "output_type": "stream",
          "name": "stderr",
          "text": [
            "Part_2 registros:  73%|███████▎  | 2188/3000 [01:29<00:24, 33.56it/s]"
          ]
        },
        {
          "output_type": "stream",
          "name": "stdout",
          "text": [
            "Registro 2179 sin segmentos válidos\n"
          ]
        },
        {
          "output_type": "stream",
          "name": "stderr",
          "text": [
            "Part_2 registros:  73%|███████▎  | 2202/3000 [01:29<00:22, 35.44it/s]"
          ]
        },
        {
          "output_type": "stream",
          "name": "stdout",
          "text": [
            "Registro 2194 sin segmentos válidos\n"
          ]
        },
        {
          "output_type": "stream",
          "name": "stderr",
          "text": [
            "Part_2 registros:  79%|███████▉  | 2370/3000 [01:39<00:31, 20.04it/s]"
          ]
        },
        {
          "output_type": "stream",
          "name": "stdout",
          "text": [
            "Registro 2366 sin segmentos válidos\n"
          ]
        },
        {
          "output_type": "stream",
          "name": "stderr",
          "text": [
            "Part_2 registros:  79%|███████▉  | 2376/3000 [01:39<00:29, 21.45it/s]"
          ]
        },
        {
          "output_type": "stream",
          "name": "stdout",
          "text": [
            "Registro 2372 sin segmentos válidos\n",
            "Registro 2373 sin segmentos válidos\n"
          ]
        },
        {
          "output_type": "stream",
          "name": "stderr",
          "text": [
            "Part_2 registros:  80%|████████  | 2401/3000 [01:39<00:09, 60.29it/s]"
          ]
        },
        {
          "output_type": "stream",
          "name": "stdout",
          "text": [
            "Registro 2388 sin segmentos válidos\n",
            "Registro 2390 sin segmentos válidos\n",
            "Registro 2397 sin segmentos válidos\n",
            "Registro 2399 sin segmentos válidos\n"
          ]
        },
        {
          "output_type": "stream",
          "name": "stderr",
          "text": [
            "Part_2 registros:  81%|████████  | 2422/3000 [01:40<00:16, 35.19it/s]"
          ]
        },
        {
          "output_type": "stream",
          "name": "stdout",
          "text": [
            "Registro 2419 sin segmentos válidos\n",
            "Registro 2425 sin segmentos válidos\n"
          ]
        },
        {
          "output_type": "stream",
          "name": "stderr",
          "text": [
            "Part_2 registros:  81%|████████▏ | 2440/3000 [01:41<00:14, 39.88it/s]"
          ]
        },
        {
          "output_type": "stream",
          "name": "stdout",
          "text": [
            "Registro 2436 sin segmentos válidos\n"
          ]
        },
        {
          "output_type": "stream",
          "name": "stderr",
          "text": [
            "Part_2 registros:  83%|████████▎ | 2481/3000 [01:42<00:09, 57.23it/s]"
          ]
        },
        {
          "output_type": "stream",
          "name": "stdout",
          "text": [
            "Registro 2461 sin segmentos válidos\n",
            "Registro 2467 sin segmentos válidos\n",
            "Registro 2468 sin segmentos válidos\n",
            "Registro 2469 sin segmentos válidos\n",
            "Registro 2482 sin segmentos válidos\n"
          ]
        },
        {
          "output_type": "stream",
          "name": "stderr",
          "text": [
            "\rPart_2 registros:  83%|████████▎ | 2491/3000 [01:42<00:07, 66.53it/s]"
          ]
        },
        {
          "output_type": "stream",
          "name": "stdout",
          "text": [
            "Registro 2489 sin segmentos válidos\n"
          ]
        },
        {
          "output_type": "stream",
          "name": "stderr",
          "text": [
            "Part_2 registros:  84%|████████▎ | 2506/3000 [01:42<00:11, 42.85it/s]"
          ]
        },
        {
          "output_type": "stream",
          "name": "stdout",
          "text": [
            "Registro 2502 sin segmentos válidos\n"
          ]
        },
        {
          "output_type": "stream",
          "name": "stderr",
          "text": [
            "Part_2 registros:  84%|████████▍ | 2517/3000 [01:43<00:14, 32.57it/s]"
          ]
        },
        {
          "output_type": "stream",
          "name": "stdout",
          "text": [
            "Registro 2516 sin segmentos válidos\n"
          ]
        },
        {
          "output_type": "stream",
          "name": "stderr",
          "text": [
            "Part_2 registros:  85%|████████▍ | 2549/3000 [01:44<00:14, 31.05it/s]"
          ]
        },
        {
          "output_type": "stream",
          "name": "stdout",
          "text": [
            "Registro 2543 sin segmentos válidos\n"
          ]
        },
        {
          "output_type": "stream",
          "name": "stderr",
          "text": [
            "Part_2 registros:  86%|████████▌ | 2585/3000 [01:45<00:14, 28.06it/s]"
          ]
        },
        {
          "output_type": "stream",
          "name": "stdout",
          "text": [
            "Registro 2579 sin segmentos válidos\n",
            "Registro 2583 sin segmentos válidos\n",
            "Registro 2588 sin segmentos válidos\n"
          ]
        },
        {
          "output_type": "stream",
          "name": "stderr",
          "text": [
            "Part_2 registros:  87%|████████▋ | 2612/3000 [01:46<00:10, 37.46it/s]"
          ]
        },
        {
          "output_type": "stream",
          "name": "stdout",
          "text": [
            "Registro 2607 sin segmentos válidos\n",
            "Registro 2613 sin segmentos válidos\n"
          ]
        },
        {
          "output_type": "stream",
          "name": "stderr",
          "text": [
            "Part_2 registros:  88%|████████▊ | 2652/3000 [01:47<00:04, 73.70it/s]"
          ]
        },
        {
          "output_type": "stream",
          "name": "stdout",
          "text": [
            "Registro 2640 sin segmentos válidos\n",
            "Registro 2641 sin segmentos válidos\n",
            "Registro 2643 sin segmentos válidos\n",
            "Registro 2645 sin segmentos válidos\n",
            "Registro 2654 sin segmentos válidos\n",
            "Registro 2655 sin segmentos válidos\n"
          ]
        },
        {
          "output_type": "stream",
          "name": "stderr",
          "text": [
            "Part_2 registros:  90%|████████▉ | 2685/3000 [01:47<00:07, 44.76it/s]"
          ]
        },
        {
          "output_type": "stream",
          "name": "stdout",
          "text": [
            "Registro 2680 sin segmentos válidos\n"
          ]
        },
        {
          "output_type": "stream",
          "name": "stderr",
          "text": [
            "Part_2 registros:  90%|████████▉ | 2698/3000 [01:48<00:06, 47.21it/s]"
          ]
        },
        {
          "output_type": "stream",
          "name": "stdout",
          "text": [
            "Registro 2686 sin segmentos válidos\n",
            "Registro 2687 sin segmentos válidos\n",
            "Registro 2688 sin segmentos válidos\n",
            "Registro 2694 sin segmentos válidos\n"
          ]
        },
        {
          "output_type": "stream",
          "name": "stderr",
          "text": [
            "Part_2 registros:  90%|█████████ | 2714/3000 [01:48<00:07, 36.90it/s]"
          ]
        },
        {
          "output_type": "stream",
          "name": "stdout",
          "text": [
            "Registro 2709 sin segmentos válidos\n",
            "Registro 2710 sin segmentos válidos\n",
            "Registro 2713 sin segmentos válidos\n"
          ]
        },
        {
          "output_type": "stream",
          "name": "stderr",
          "text": [
            "Part_2 registros:  91%|█████████ | 2722/3000 [01:48<00:07, 35.49it/s]"
          ]
        },
        {
          "output_type": "stream",
          "name": "stdout",
          "text": [
            "Registro 2717 sin segmentos válidos\n",
            "Registro 2725 sin segmentos válidos\n"
          ]
        },
        {
          "output_type": "stream",
          "name": "stderr",
          "text": [
            "Part_2 registros:  91%|█████████ | 2734/3000 [01:49<00:07, 35.21it/s]"
          ]
        },
        {
          "output_type": "stream",
          "name": "stdout",
          "text": [
            "Registro 2730 sin segmentos válidos\n"
          ]
        },
        {
          "output_type": "stream",
          "name": "stderr",
          "text": [
            "Part_2 registros:  92%|█████████▏| 2750/3000 [01:49<00:09, 26.90it/s]"
          ]
        },
        {
          "output_type": "stream",
          "name": "stdout",
          "text": [
            "Registro 2743 sin segmentos válidos\n",
            "Registro 2745 sin segmentos válidos\n",
            "Registro 2747 sin segmentos válidos\n"
          ]
        },
        {
          "output_type": "stream",
          "name": "stderr",
          "text": [
            "Part_2 registros:  93%|█████████▎| 2777/3000 [01:50<00:03, 57.07it/s]"
          ]
        },
        {
          "output_type": "stream",
          "name": "stdout",
          "text": [
            "Registro 2757 sin segmentos válidos\n",
            "Registro 2758 sin segmentos válidos\n",
            "Registro 2768 sin segmentos válidos\n",
            "Registro 2771 sin segmentos válidos\n",
            "Registro 2772 sin segmentos válidos\n",
            "Registro 2775 sin segmentos válidos\n",
            "Registro 2776 sin segmentos válidos\n"
          ]
        },
        {
          "output_type": "stream",
          "name": "stderr",
          "text": [
            "\rPart_2 registros:  93%|█████████▎| 2784/3000 [01:50<00:04, 46.87it/s]"
          ]
        },
        {
          "output_type": "stream",
          "name": "stdout",
          "text": [
            "Registro 2783 sin segmentos válidos\n"
          ]
        },
        {
          "output_type": "stream",
          "name": "stderr",
          "text": [
            "Part_2 registros:  93%|█████████▎| 2799/3000 [01:51<00:07, 25.91it/s]"
          ]
        },
        {
          "output_type": "stream",
          "name": "stdout",
          "text": [
            "Registro 2796 sin segmentos válidos\n"
          ]
        },
        {
          "output_type": "stream",
          "name": "stderr",
          "text": [
            "Part_2 registros:  97%|█████████▋| 2914/3000 [01:57<00:03, 24.42it/s]"
          ]
        },
        {
          "output_type": "stream",
          "name": "stdout",
          "text": [
            "Registro 2910 sin segmentos válidos\n"
          ]
        },
        {
          "output_type": "stream",
          "name": "stderr",
          "text": [
            "Part_2 registros:  98%|█████████▊| 2938/3000 [01:58<00:02, 25.39it/s]"
          ]
        },
        {
          "output_type": "stream",
          "name": "stdout",
          "text": [
            "Registro 2934 sin segmentos válidos\n"
          ]
        },
        {
          "output_type": "stream",
          "name": "stderr",
          "text": [
            "Part_2 registros:  99%|█████████▉| 2973/3000 [01:59<00:00, 81.57it/s]"
          ]
        },
        {
          "output_type": "stream",
          "name": "stdout",
          "text": [
            "Registro 2947 sin segmentos válidos\n"
          ]
        },
        {
          "output_type": "stream",
          "name": "stderr",
          "text": [
            "Part_2 registros: 100%|██████████| 3000/3000 [01:59<00:00, 25.12it/s] \n"
          ]
        },
        {
          "output_type": "stream",
          "name": "stdout",
          "text": [
            "Registro 2987 sin segmentos válidos\n",
            "\\Procesando: raw_data/Part_3.mat\n",
            "Total registros en Part_3: 3000\n"
          ]
        },
        {
          "output_type": "stream",
          "name": "stderr",
          "text": [
            "Part_3 registros:   0%|          | 15/3000 [00:00<00:21, 137.85it/s]"
          ]
        },
        {
          "output_type": "stream",
          "name": "stdout",
          "text": [
            "Registro 9 sin segmentos válidos\n"
          ]
        },
        {
          "output_type": "stream",
          "name": "stderr",
          "text": [
            "Part_3 registros:   1%|▏         | 42/3000 [00:00<00:27, 106.94it/s]"
          ]
        },
        {
          "output_type": "stream",
          "name": "stdout",
          "text": [
            "Registro 39 sin segmentos válidos\n"
          ]
        },
        {
          "output_type": "stream",
          "name": "stderr",
          "text": [
            "Part_3 registros:   2%|▏         | 65/3000 [00:00<00:34, 85.61it/s]"
          ]
        },
        {
          "output_type": "stream",
          "name": "stdout",
          "text": [
            "Registro 53 sin segmentos válidos\n",
            "Registro 62 sin segmentos válidos\n",
            "Registro 67 sin segmentos válidos\n"
          ]
        },
        {
          "output_type": "stream",
          "name": "stderr",
          "text": [
            "Part_3 registros:   3%|▎         | 83/3000 [00:01<00:44, 64.94it/s]"
          ]
        },
        {
          "output_type": "stream",
          "name": "stdout",
          "text": [
            "Registro 77 sin segmentos válidos\n"
          ]
        },
        {
          "output_type": "stream",
          "name": "stderr",
          "text": [
            "Part_3 registros:   3%|▎         | 99/3000 [00:01<00:45, 64.00it/s]"
          ]
        },
        {
          "output_type": "stream",
          "name": "stdout",
          "text": [
            "Registro 89 sin segmentos válidos\n",
            "Registro 100 sin segmentos válidos\n",
            "Registro 104 sin segmentos válidos\n",
            "Registro 109 sin segmentos válidos\n"
          ]
        },
        {
          "output_type": "stream",
          "name": "stderr",
          "text": [
            "Part_3 registros:   4%|▍         | 126/3000 [00:01<00:34, 82.54it/s]"
          ]
        },
        {
          "output_type": "stream",
          "name": "stdout",
          "text": [
            "Registro 117 sin segmentos válidos\n"
          ]
        },
        {
          "output_type": "stream",
          "name": "stderr",
          "text": [
            "Part_3 registros:   5%|▌         | 159/3000 [00:01<00:31, 91.45it/s]"
          ]
        },
        {
          "output_type": "stream",
          "name": "stdout",
          "text": [
            "Registro 138 sin segmentos válidos\n",
            "Registro 139 sin segmentos válidos\n",
            "Registro 140 sin segmentos válidos\n",
            "Registro 141 sin segmentos válidos\n",
            "Registro 153 sin segmentos válidos\n",
            "Registro 156 sin segmentos válidos\n"
          ]
        },
        {
          "output_type": "stream",
          "name": "stderr",
          "text": [
            "Part_3 registros:   8%|▊         | 246/3000 [00:03<00:26, 102.87it/s]"
          ]
        },
        {
          "output_type": "stream",
          "name": "stdout",
          "text": [
            "Registro 227 sin segmentos válidos\n",
            "Registro 228 sin segmentos válidos\n",
            "Registro 230 sin segmentos válidos\n",
            "Registro 235 sin segmentos válidos\n",
            "Registro 239 sin segmentos válidos\n"
          ]
        },
        {
          "output_type": "stream",
          "name": "stderr",
          "text": [
            "Part_3 registros:   9%|▉         | 268/3000 [00:03<00:39, 69.22it/s]"
          ]
        },
        {
          "output_type": "stream",
          "name": "stdout",
          "text": [
            "Registro 255 sin segmentos válidos\n",
            "Registro 256 sin segmentos válidos\n",
            "Registro 258 sin segmentos válidos\n"
          ]
        },
        {
          "output_type": "stream",
          "name": "stderr",
          "text": [
            "Part_3 registros:  10%|▉         | 292/3000 [00:03<00:32, 84.53it/s]"
          ]
        },
        {
          "output_type": "stream",
          "name": "stdout",
          "text": [
            "Registro 273 sin segmentos válidos\n",
            "Registro 293 sin segmentos válidos\n"
          ]
        },
        {
          "output_type": "stream",
          "name": "stderr",
          "text": [
            "Part_3 registros:  11%|█         | 332/3000 [00:04<00:23, 113.02it/s]"
          ]
        },
        {
          "output_type": "stream",
          "name": "stdout",
          "text": [
            "Registro 305 sin segmentos válidos\n",
            "Registro 310 sin segmentos válidos\n",
            "Registro 315 sin segmentos válidos\n",
            "Registro 318 sin segmentos válidos\n"
          ]
        },
        {
          "output_type": "stream",
          "name": "stderr",
          "text": [
            "Part_3 registros:  12%|█▏        | 363/3000 [00:04<00:21, 119.97it/s]"
          ]
        },
        {
          "output_type": "stream",
          "name": "stdout",
          "text": [
            "Registro 358 sin segmentos válidos\n",
            "Registro 364 sin segmentos válidos\n",
            "Registro 365 sin segmentos válidos\n"
          ]
        },
        {
          "output_type": "stream",
          "name": "stderr",
          "text": [
            "Part_3 registros:  14%|█▎        | 410/3000 [00:05<00:42, 60.94it/s]"
          ]
        },
        {
          "output_type": "stream",
          "name": "stdout",
          "text": [
            "Registro 406 sin segmentos válidos\n"
          ]
        },
        {
          "output_type": "stream",
          "name": "stderr",
          "text": [
            "\rPart_3 registros:  14%|█▍        | 418/3000 [00:05<00:45, 56.15it/s]"
          ]
        },
        {
          "output_type": "stream",
          "name": "stdout",
          "text": [
            "Registro 417 sin segmentos válidos\n",
            "Registro 419 sin segmentos válidos\n"
          ]
        },
        {
          "output_type": "stream",
          "name": "stderr",
          "text": [
            "Part_3 registros:  15%|█▍        | 438/3000 [00:06<01:01, 41.80it/s]"
          ]
        },
        {
          "output_type": "stream",
          "name": "stdout",
          "text": [
            "Registro 431 sin segmentos válidos\n"
          ]
        },
        {
          "output_type": "stream",
          "name": "stderr",
          "text": [
            "Part_3 registros:  15%|█▌        | 458/3000 [00:06<01:01, 41.44it/s]"
          ]
        },
        {
          "output_type": "stream",
          "name": "stdout",
          "text": [
            "Registro 450 sin segmentos válidos\n",
            "Registro 451 sin segmentos válidos\n"
          ]
        },
        {
          "output_type": "stream",
          "name": "stderr",
          "text": [
            "Part_3 registros:  16%|█▌        | 469/3000 [00:06<01:09, 36.21it/s]"
          ]
        },
        {
          "output_type": "stream",
          "name": "stdout",
          "text": [
            "Registro 465 sin segmentos válidos\n"
          ]
        },
        {
          "output_type": "stream",
          "name": "stderr",
          "text": [
            "Part_3 registros:  16%|█▋        | 494/3000 [00:07<00:41, 61.09it/s]"
          ]
        },
        {
          "output_type": "stream",
          "name": "stdout",
          "text": [
            "Registro 476 sin segmentos válidos\n",
            "Registro 481 sin segmentos válidos\n",
            "Registro 483 sin segmentos válidos\n",
            "Registro 485 sin segmentos válidos\n",
            "Registro 488 sin segmentos válidos\n"
          ]
        },
        {
          "output_type": "stream",
          "name": "stderr",
          "text": [
            "Part_3 registros:  18%|█▊        | 526/3000 [00:08<01:03, 39.15it/s]"
          ]
        },
        {
          "output_type": "stream",
          "name": "stdout",
          "text": [
            "Registro 517 sin segmentos válidos\n",
            "Registro 519 sin segmentos válidos\n"
          ]
        },
        {
          "output_type": "stream",
          "name": "stderr",
          "text": [
            "Part_3 registros:  19%|█▉        | 578/3000 [00:10<01:15, 32.15it/s]"
          ]
        },
        {
          "output_type": "stream",
          "name": "stdout",
          "text": [
            "Registro 568 sin segmentos válidos\n",
            "Registro 569 sin segmentos válidos\n",
            "Registro 574 sin segmentos válidos\n",
            "Registro 581 sin segmentos válidos\n",
            "Registro 584 sin segmentos válidos\n"
          ]
        },
        {
          "output_type": "stream",
          "name": "stderr",
          "text": [
            "Part_3 registros:  20%|█▉        | 592/3000 [00:10<00:59, 40.44it/s]"
          ]
        },
        {
          "output_type": "stream",
          "name": "stdout",
          "text": [
            "Registro 588 sin segmentos válidos\n"
          ]
        },
        {
          "output_type": "stream",
          "name": "stderr",
          "text": [
            "Part_3 registros:  20%|██        | 608/3000 [00:11<01:43, 23.12it/s]"
          ]
        },
        {
          "output_type": "stream",
          "name": "stdout",
          "text": [
            "Registro 604 sin segmentos válidos\n",
            "Registro 609 sin segmentos válidos\n"
          ]
        },
        {
          "output_type": "stream",
          "name": "stderr",
          "text": [
            "Part_3 registros:  21%|██        | 635/3000 [00:12<01:11, 32.91it/s]"
          ]
        },
        {
          "output_type": "stream",
          "name": "stdout",
          "text": [
            "Registro 630 sin segmentos válidos\n",
            "Registro 632 sin segmentos válidos\n"
          ]
        },
        {
          "output_type": "stream",
          "name": "stderr",
          "text": [
            "Part_3 registros:  22%|██▏       | 662/3000 [00:13<00:47, 49.21it/s]"
          ]
        },
        {
          "output_type": "stream",
          "name": "stdout",
          "text": [
            "Registro 651 sin segmentos válidos\n",
            "Registro 652 sin segmentos válidos\n",
            "Registro 653 sin segmentos válidos\n",
            "Registro 654 sin segmentos válidos\n",
            "Registro 656 sin segmentos válidos\n",
            "Registro 666 sin segmentos válidos\n"
          ]
        },
        {
          "output_type": "stream",
          "name": "stderr",
          "text": [
            "Part_3 registros:  23%|██▎       | 691/3000 [00:13<00:31, 72.77it/s]"
          ]
        },
        {
          "output_type": "stream",
          "name": "stdout",
          "text": [
            "Registro 672 sin segmentos válidos\n",
            "Registro 673 sin segmentos válidos\n",
            "Registro 676 sin segmentos válidos\n",
            "Registro 679 sin segmentos válidos\n",
            "Registro 680 sin segmentos válidos\n",
            "Registro 682 sin segmentos válidos\n",
            "Registro 689 sin segmentos válidos\n",
            "Registro 691 sin segmentos válidos\n",
            "Registro 692 sin segmentos válidos\n",
            "Registro 695 sin segmentos válidos\n"
          ]
        },
        {
          "output_type": "stream",
          "name": "stderr",
          "text": [
            "Part_3 registros:  24%|██▍       | 721/3000 [00:13<00:22, 101.53it/s]"
          ]
        },
        {
          "output_type": "stream",
          "name": "stdout",
          "text": [
            "Registro 704 sin segmentos válidos\n",
            "Registro 706 sin segmentos válidos\n",
            "Registro 708 sin segmentos válidos\n",
            "Registro 711 sin segmentos válidos\n",
            "Registro 712 sin segmentos válidos\n",
            "Registro 715 sin segmentos válidos\n",
            "Registro 717 sin segmentos válidos\n",
            "Registro 718 sin segmentos válidos\n",
            "Registro 719 sin segmentos válidos\n",
            "Registro 720 sin segmentos válidos\n",
            "Registro 721 sin segmentos válidos\n",
            "Registro 726 sin segmentos válidos\n",
            "Registro 727 sin segmentos válidos\n",
            "Registro 728 sin segmentos válidos\n",
            "Registro 730 sin segmentos válidos\n",
            "Registro 731 sin segmentos válidos\n",
            "Registro 732 sin segmentos válidos\n",
            "Registro 734 sin segmentos válidos\n",
            "Registro 735 sin segmentos válidos\n",
            "Registro 736 sin segmentos válidos\n",
            "Registro 737 sin segmentos válidos\n",
            "Registro 738 sin segmentos válidos\n",
            "Registro 739 sin segmentos válidos\n",
            "Registro 740 sin segmentos válidos\n",
            "Registro 741 sin segmentos válidos\n",
            "Registro 742 sin segmentos válidos\n",
            "Registro 743 sin segmentos válidos\n",
            "Registro 745 sin segmentos válidos\n"
          ]
        },
        {
          "output_type": "stream",
          "name": "stderr",
          "text": [
            "\rPart_3 registros:  26%|██▌       | 767/3000 [00:13<00:12, 182.88it/s]"
          ]
        },
        {
          "output_type": "stream",
          "name": "stdout",
          "text": [
            "Registro 747 sin segmentos válidos\n",
            "Registro 749 sin segmentos válidos\n",
            "Registro 750 sin segmentos válidos\n",
            "Registro 751 sin segmentos válidos\n",
            "Registro 752 sin segmentos válidos\n",
            "Registro 753 sin segmentos válidos\n",
            "Registro 754 sin segmentos válidos\n",
            "Registro 755 sin segmentos válidos\n",
            "Registro 757 sin segmentos válidos\n",
            "Registro 760 sin segmentos válidos\n",
            "Registro 761 sin segmentos válidos\n",
            "Registro 762 sin segmentos válidos\n",
            "Registro 763 sin segmentos válidos\n",
            "Registro 774 sin segmentos válidos\n",
            "Registro 777 sin segmentos válidos\n"
          ]
        },
        {
          "output_type": "stream",
          "name": "stderr",
          "text": [
            "Part_3 registros:  28%|██▊       | 826/3000 [00:15<00:41, 51.81it/s]"
          ]
        },
        {
          "output_type": "stream",
          "name": "stdout",
          "text": [
            "Registro 807 sin segmentos válidos\n",
            "Registro 808 sin segmentos válidos\n",
            "Registro 810 sin segmentos válidos\n",
            "Registro 811 sin segmentos válidos\n",
            "Registro 813 sin segmentos válidos\n",
            "Registro 816 sin segmentos válidos\n",
            "Registro 820 sin segmentos válidos\n",
            "Registro 823 sin segmentos válidos\n",
            "Registro 829 sin segmentos válidos\n",
            "Registro 832 sin segmentos válidos\n"
          ]
        },
        {
          "output_type": "stream",
          "name": "stderr",
          "text": [
            "Part_3 registros:  29%|██▉       | 874/3000 [00:17<00:57, 37.28it/s]"
          ]
        },
        {
          "output_type": "stream",
          "name": "stdout",
          "text": [
            "Registro 868 sin segmentos válidos\n",
            "Registro 869 sin segmentos válidos\n"
          ]
        },
        {
          "output_type": "stream",
          "name": "stderr",
          "text": [
            "Part_3 registros:  30%|███       | 900/3000 [00:18<01:12, 28.86it/s]"
          ]
        },
        {
          "output_type": "stream",
          "name": "stdout",
          "text": [
            "Registro 895 sin segmentos válidos\n"
          ]
        },
        {
          "output_type": "stream",
          "name": "stderr",
          "text": [
            "Part_3 registros:  31%|███▏      | 939/3000 [00:19<00:42, 48.80it/s]"
          ]
        },
        {
          "output_type": "stream",
          "name": "stdout",
          "text": [
            "Registro 926 sin segmentos válidos\n",
            "Registro 932 sin segmentos válidos\n",
            "Registro 935 sin segmentos válidos\n",
            "Registro 937 sin segmentos válidos\n"
          ]
        },
        {
          "output_type": "stream",
          "name": "stderr",
          "text": [
            "Part_3 registros:  32%|███▏      | 962/3000 [00:19<00:33, 60.64it/s]"
          ]
        },
        {
          "output_type": "stream",
          "name": "stdout",
          "text": [
            "Registro 950 sin segmentos válidos\n",
            "Registro 953 sin segmentos válidos\n"
          ]
        },
        {
          "output_type": "stream",
          "name": "stderr",
          "text": [
            "Part_3 registros:  33%|███▎      | 988/3000 [00:19<00:30, 65.12it/s]"
          ]
        },
        {
          "output_type": "stream",
          "name": "stdout",
          "text": [
            "Registro 973 sin segmentos válidos\n",
            "Registro 977 sin segmentos válidos\n"
          ]
        },
        {
          "output_type": "stream",
          "name": "stderr",
          "text": [
            "\rPart_3 registros:  33%|███▎      | 998/3000 [00:20<00:29, 67.95it/s]"
          ]
        },
        {
          "output_type": "stream",
          "name": "stdout",
          "text": [
            "Registro 994 sin segmentos válidos\n",
            "Registro 996 sin segmentos válidos\n",
            "Registro 1000 sin segmentos válidos\n"
          ]
        },
        {
          "output_type": "stream",
          "name": "stderr",
          "text": [
            "Part_3 registros:  34%|███▍      | 1033/3000 [00:21<00:53, 36.64it/s]"
          ]
        },
        {
          "output_type": "stream",
          "name": "stdout",
          "text": [
            "Registro 1028 sin segmentos válidos\n"
          ]
        },
        {
          "output_type": "stream",
          "name": "stderr",
          "text": [
            "Part_3 registros:  36%|███▌      | 1078/3000 [00:23<01:39, 19.39it/s]"
          ]
        },
        {
          "output_type": "stream",
          "name": "stdout",
          "text": [
            "Registro 1076 sin segmentos válidos\n"
          ]
        },
        {
          "output_type": "stream",
          "name": "stderr",
          "text": [
            "Part_3 registros:  37%|███▋      | 1100/3000 [00:24<00:59, 31.81it/s]"
          ]
        },
        {
          "output_type": "stream",
          "name": "stdout",
          "text": [
            "Registro 1092 sin segmentos válidos\n",
            "Registro 1100 sin segmentos válidos\n",
            "Registro 1101 sin segmentos válidos\n"
          ]
        },
        {
          "output_type": "stream",
          "name": "stderr",
          "text": [
            "Part_3 registros:  38%|███▊      | 1140/3000 [00:25<01:20, 23.19it/s]"
          ]
        },
        {
          "output_type": "stream",
          "name": "stdout",
          "text": [
            "Registro 1135 sin segmentos válidos\n",
            "Registro 1136 sin segmentos válidos\n",
            "Registro 1138 sin segmentos válidos\n"
          ]
        },
        {
          "output_type": "stream",
          "name": "stderr",
          "text": [
            "Part_3 registros:  39%|███▊      | 1159/3000 [00:26<01:04, 28.71it/s]"
          ]
        },
        {
          "output_type": "stream",
          "name": "stdout",
          "text": [
            "Registro 1151 sin segmentos válidos\n"
          ]
        },
        {
          "output_type": "stream",
          "name": "stderr",
          "text": [
            "Part_3 registros:  43%|████▎     | 1278/3000 [00:33<00:48, 35.40it/s]"
          ]
        },
        {
          "output_type": "stream",
          "name": "stdout",
          "text": [
            "Registro 1273 sin segmentos válidos\n",
            "Registro 1274 sin segmentos válidos\n",
            "Registro 1275 sin segmentos válidos\n"
          ]
        },
        {
          "output_type": "stream",
          "name": "stderr",
          "text": [
            "Part_3 registros:  44%|████▎     | 1305/3000 [00:34<00:45, 37.66it/s]"
          ]
        },
        {
          "output_type": "stream",
          "name": "stdout",
          "text": [
            "Registro 1295 sin segmentos válidos\n",
            "Registro 1296 sin segmentos válidos\n",
            "Registro 1299 sin segmentos válidos\n",
            "Registro 1300 sin segmentos válidos\n"
          ]
        },
        {
          "output_type": "stream",
          "name": "stderr",
          "text": [
            "Part_3 registros:  44%|████▍     | 1322/3000 [00:35<01:02, 27.00it/s]"
          ]
        },
        {
          "output_type": "stream",
          "name": "stdout",
          "text": [
            "Registro 1317 sin segmentos válidos\n"
          ]
        },
        {
          "output_type": "stream",
          "name": "stderr",
          "text": [
            "Part_3 registros:  46%|████▌     | 1378/3000 [00:36<00:28, 56.73it/s]"
          ]
        },
        {
          "output_type": "stream",
          "name": "stdout",
          "text": [
            "Registro 1355 sin segmentos válidos\n",
            "Registro 1358 sin segmentos válidos\n",
            "Registro 1360 sin segmentos válidos\n",
            "Registro 1369 sin segmentos válidos\n",
            "Registro 1375 sin segmentos válidos\n",
            "Registro 1376 sin segmentos válidos\n",
            "Registro 1378 sin segmentos válidos\n",
            "Registro 1379 sin segmentos válidos\n"
          ]
        },
        {
          "output_type": "stream",
          "name": "stderr",
          "text": [
            "Part_3 registros:  47%|████▋     | 1421/3000 [00:37<00:17, 89.03it/s]"
          ]
        },
        {
          "output_type": "stream",
          "name": "stdout",
          "text": [
            "Registro 1403 sin segmentos válidos\n",
            "Registro 1408 sin segmentos válidos\n",
            "Registro 1412 sin segmentos válidos\n",
            "Registro 1416 sin segmentos válidos\n",
            "Registro 1422 sin segmentos válidos\n",
            "Registro 1423 sin segmentos válidos\n",
            "Registro 1426 sin segmentos válidos\n",
            "Registro 1434 sin segmentos válidos\n",
            "Registro 1436 sin segmentos válidos\n"
          ]
        },
        {
          "output_type": "stream",
          "name": "stderr",
          "text": [
            "Part_3 registros:  48%|████▊     | 1454/3000 [00:37<00:14, 109.11it/s]"
          ]
        },
        {
          "output_type": "stream",
          "name": "stdout",
          "text": [
            "Registro 1443 sin segmentos válidos\n",
            "Registro 1449 sin segmentos válidos\n",
            "Registro 1453 sin segmentos válidos\n",
            "Registro 1462 sin segmentos válidos\n",
            "Registro 1465 sin segmentos válidos\n"
          ]
        },
        {
          "output_type": "stream",
          "name": "stderr",
          "text": [
            "Part_3 registros:  50%|█████     | 1504/3000 [00:37<00:10, 138.72it/s]"
          ]
        },
        {
          "output_type": "stream",
          "name": "stdout",
          "text": [
            "Registro 1471 sin segmentos válidos\n",
            "Registro 1474 sin segmentos válidos\n",
            "Registro 1480 sin segmentos válidos\n",
            "Registro 1482 sin segmentos válidos\n",
            "Registro 1485 sin segmentos válidos\n",
            "Registro 1486 sin segmentos válidos\n",
            "Registro 1494 sin segmentos válidos\n",
            "Registro 1495 sin segmentos válidos\n",
            "Registro 1496 sin segmentos válidos\n",
            "Registro 1497 sin segmentos válidos\n",
            "Registro 1498 sin segmentos válidos\n"
          ]
        },
        {
          "output_type": "stream",
          "name": "stderr",
          "text": [
            "\rPart_3 registros:  51%|█████     | 1519/3000 [00:38<00:15, 94.46it/s] "
          ]
        },
        {
          "output_type": "stream",
          "name": "stdout",
          "text": [
            "Registro 1510 sin segmentos válidos\n",
            "Registro 1515 sin segmentos válidos\n",
            "Registro 1518 sin segmentos válidos\n"
          ]
        },
        {
          "output_type": "stream",
          "name": "stderr",
          "text": [
            "Part_3 registros:  51%|█████▏    | 1542/3000 [00:38<00:15, 93.08it/s]"
          ]
        },
        {
          "output_type": "stream",
          "name": "stdout",
          "text": [
            "Registro 1523 sin segmentos válidos\n",
            "Registro 1526 sin segmentos válidos\n",
            "Registro 1530 sin segmentos válidos\n",
            "Registro 1540 sin segmentos válidos\n"
          ]
        },
        {
          "output_type": "stream",
          "name": "stderr",
          "text": [
            "Part_3 registros:  52%|█████▏    | 1563/3000 [00:38<00:15, 91.01it/s]"
          ]
        },
        {
          "output_type": "stream",
          "name": "stdout",
          "text": [
            "Registro 1552 sin segmentos válidos\n",
            "Registro 1553 sin segmentos válidos\n",
            "Registro 1555 sin segmentos válidos\n",
            "Registro 1556 sin segmentos válidos\n",
            "Registro 1558 sin segmentos válidos\n",
            "Registro 1567 sin segmentos válidos\n"
          ]
        },
        {
          "output_type": "stream",
          "name": "stderr",
          "text": [
            "Part_3 registros:  53%|█████▎    | 1599/3000 [00:39<00:22, 62.22it/s]"
          ]
        },
        {
          "output_type": "stream",
          "name": "stdout",
          "text": [
            "Registro 1590 sin segmentos válidos\n"
          ]
        },
        {
          "output_type": "stream",
          "name": "stderr",
          "text": [
            "Part_3 registros:  55%|█████▍    | 1644/3000 [00:40<00:33, 40.51it/s]"
          ]
        },
        {
          "output_type": "stream",
          "name": "stdout",
          "text": [
            "Registro 1633 sin segmentos válidos\n",
            "Registro 1644 sin segmentos válidos\n",
            "Registro 1646 sin segmentos válidos\n"
          ]
        },
        {
          "output_type": "stream",
          "name": "stderr",
          "text": [
            "Part_3 registros:  56%|█████▌    | 1671/3000 [00:41<00:16, 78.89it/s]"
          ]
        },
        {
          "output_type": "stream",
          "name": "stdout",
          "text": [
            "Registro 1657 sin segmentos válidos\n",
            "Registro 1665 sin segmentos válidos\n",
            "Registro 1667 sin segmentos válidos\n",
            "Registro 1669 sin segmentos válidos\n",
            "Registro 1674 sin segmentos válidos\n",
            "Registro 1678 sin segmentos válidos\n",
            "Registro 1679 sin segmentos válidos\n"
          ]
        },
        {
          "output_type": "stream",
          "name": "stderr",
          "text": [
            "\rPart_3 registros:  56%|█████▌    | 1682/3000 [00:41<00:16, 77.65it/s]"
          ]
        },
        {
          "output_type": "stream",
          "name": "stdout",
          "text": [
            "Registro 1685 sin segmentos válidos\n"
          ]
        },
        {
          "output_type": "stream",
          "name": "stderr",
          "text": [
            "\rPart_3 registros:  56%|█████▋    | 1691/3000 [00:41<00:27, 46.93it/s]"
          ]
        },
        {
          "output_type": "stream",
          "name": "stdout",
          "text": [
            "Registro 1691 sin segmentos válidos\n"
          ]
        },
        {
          "output_type": "stream",
          "name": "stderr",
          "text": [
            "Part_3 registros:  57%|█████▋    | 1721/3000 [00:42<00:28, 45.48it/s]"
          ]
        },
        {
          "output_type": "stream",
          "name": "stdout",
          "text": [
            "Registro 1711 sin segmentos válidos\n",
            "Registro 1712 sin segmentos válidos\n",
            "Registro 1713 sin segmentos válidos\n",
            "Registro 1715 sin segmentos válidos\n",
            "Registro 1716 sin segmentos válidos\n",
            "Registro 1719 sin segmentos válidos\n"
          ]
        },
        {
          "output_type": "stream",
          "name": "stderr",
          "text": [
            "Part_3 registros:  58%|█████▊    | 1734/3000 [00:42<00:26, 48.19it/s]"
          ]
        },
        {
          "output_type": "stream",
          "name": "stdout",
          "text": [
            "Registro 1732 sin segmentos válidos\n"
          ]
        },
        {
          "output_type": "stream",
          "name": "stderr",
          "text": [
            "Part_3 registros:  59%|█████▉    | 1766/3000 [00:44<00:51, 23.87it/s]"
          ]
        },
        {
          "output_type": "stream",
          "name": "stdout",
          "text": [
            "Registro 1761 sin segmentos válidos\n"
          ]
        },
        {
          "output_type": "stream",
          "name": "stderr",
          "text": [
            "\rPart_3 registros:  59%|█████▉    | 1770/3000 [00:44<00:46, 26.22it/s]"
          ]
        },
        {
          "output_type": "stream",
          "name": "stdout",
          "text": [
            "Registro 1767 sin segmentos válidos\n"
          ]
        },
        {
          "output_type": "stream",
          "name": "stderr",
          "text": [
            "Part_3 registros:  60%|██████    | 1806/3000 [00:45<00:24, 49.55it/s]"
          ]
        },
        {
          "output_type": "stream",
          "name": "stdout",
          "text": [
            "Registro 1790 sin segmentos válidos\n",
            "Registro 1791 sin segmentos válidos\n",
            "Registro 1792 sin segmentos válidos\n",
            "Registro 1794 sin segmentos válidos\n",
            "Registro 1795 sin segmentos válidos\n"
          ]
        },
        {
          "output_type": "stream",
          "name": "stderr",
          "text": [
            "\rPart_3 registros:  60%|██████    | 1813/3000 [00:45<00:23, 51.07it/s]"
          ]
        },
        {
          "output_type": "stream",
          "name": "stdout",
          "text": [
            "Registro 1810 sin segmentos válidos\n"
          ]
        },
        {
          "output_type": "stream",
          "name": "stderr",
          "text": [
            "Part_3 registros:  61%|██████    | 1835/3000 [00:45<00:17, 68.25it/s]"
          ]
        },
        {
          "output_type": "stream",
          "name": "stdout",
          "text": [
            "Registro 1820 sin segmentos válidos\n",
            "Registro 1825 sin segmentos válidos\n",
            "Registro 1827 sin segmentos válidos\n",
            "Registro 1831 sin segmentos válidos\n"
          ]
        },
        {
          "output_type": "stream",
          "name": "stderr",
          "text": [
            "Part_3 registros:  62%|██████▏   | 1874/3000 [00:46<00:24, 46.83it/s]"
          ]
        },
        {
          "output_type": "stream",
          "name": "stdout",
          "text": [
            "Registro 1862 sin segmentos válidos\n",
            "Registro 1871 sin segmentos válidos\n",
            "Registro 1874 sin segmentos válidos\n"
          ]
        },
        {
          "output_type": "stream",
          "name": "stderr",
          "text": [
            "Part_3 registros:  63%|██████▎   | 1897/3000 [00:47<00:32, 34.17it/s]"
          ]
        },
        {
          "output_type": "stream",
          "name": "stdout",
          "text": [
            "Registro 1892 sin segmentos válidos\n"
          ]
        },
        {
          "output_type": "stream",
          "name": "stderr",
          "text": [
            "Part_3 registros:  64%|██████▍   | 1921/3000 [00:48<00:33, 32.64it/s]"
          ]
        },
        {
          "output_type": "stream",
          "name": "stdout",
          "text": [
            "Registro 1914 sin segmentos válidos\n"
          ]
        },
        {
          "output_type": "stream",
          "name": "stderr",
          "text": [
            "Part_3 registros:  65%|██████▍   | 1941/3000 [00:48<00:20, 51.46it/s]"
          ]
        },
        {
          "output_type": "stream",
          "name": "stdout",
          "text": [
            "Registro 1934 sin segmentos válidos\n",
            "Registro 1939 sin segmentos válidos\n"
          ]
        },
        {
          "output_type": "stream",
          "name": "stderr",
          "text": [
            "Part_3 registros:  65%|██████▌   | 1962/3000 [00:49<00:19, 51.97it/s]"
          ]
        },
        {
          "output_type": "stream",
          "name": "stdout",
          "text": [
            "Registro 1955 sin segmentos válidos\n",
            "Registro 1959 sin segmentos válidos\n"
          ]
        },
        {
          "output_type": "stream",
          "name": "stderr",
          "text": [
            "Part_3 registros:  66%|██████▌   | 1983/3000 [00:50<00:30, 33.80it/s]"
          ]
        },
        {
          "output_type": "stream",
          "name": "stdout",
          "text": [
            "Registro 1978 sin segmentos válidos\n",
            "Registro 1985 sin segmentos válidos\n"
          ]
        },
        {
          "output_type": "stream",
          "name": "stderr",
          "text": [
            "Part_3 registros:  67%|██████▋   | 2001/3000 [00:50<00:23, 43.31it/s]"
          ]
        },
        {
          "output_type": "stream",
          "name": "stdout",
          "text": [
            "Registro 1998 sin segmentos válidos\n",
            "Registro 1999 sin segmentos válidos\n"
          ]
        },
        {
          "output_type": "stream",
          "name": "stderr",
          "text": [
            "Part_3 registros:  67%|██████▋   | 2019/3000 [00:51<00:40, 24.35it/s]"
          ]
        },
        {
          "output_type": "stream",
          "name": "stdout",
          "text": [
            "Registro 2015 sin segmentos válidos\n"
          ]
        },
        {
          "output_type": "stream",
          "name": "stderr",
          "text": [
            "Part_3 registros:  68%|██████▊   | 2035/3000 [00:52<00:33, 28.50it/s]"
          ]
        },
        {
          "output_type": "stream",
          "name": "stdout",
          "text": [
            "Registro 2030 sin segmentos válidos\n"
          ]
        },
        {
          "output_type": "stream",
          "name": "stderr",
          "text": [
            "Part_3 registros:  69%|██████▊   | 2061/3000 [00:52<00:27, 34.38it/s]"
          ]
        },
        {
          "output_type": "stream",
          "name": "stdout",
          "text": [
            "Registro 2055 sin segmentos válidos\n",
            "Registro 2056 sin segmentos válidos\n",
            "Registro 2057 sin segmentos válidos\n"
          ]
        },
        {
          "output_type": "stream",
          "name": "stderr",
          "text": [
            "Part_3 registros:  69%|██████▉   | 2070/3000 [00:53<00:25, 36.53it/s]"
          ]
        },
        {
          "output_type": "stream",
          "name": "stdout",
          "text": [
            "Registro 2062 sin segmentos válidos\n",
            "Registro 2065 sin segmentos válidos\n"
          ]
        },
        {
          "output_type": "stream",
          "name": "stderr",
          "text": [
            "Part_3 registros:  69%|██████▉   | 2082/3000 [00:53<00:24, 38.14it/s]"
          ]
        },
        {
          "output_type": "stream",
          "name": "stdout",
          "text": [
            "Registro 2076 sin segmentos válidos\n",
            "Registro 2078 sin segmentos válidos\n"
          ]
        },
        {
          "output_type": "stream",
          "name": "stderr",
          "text": [
            "Part_3 registros:  70%|███████   | 2113/3000 [00:54<00:31, 28.35it/s]"
          ]
        },
        {
          "output_type": "stream",
          "name": "stdout",
          "text": [
            "Registro 2111 sin segmentos válidos\n"
          ]
        },
        {
          "output_type": "stream",
          "name": "stderr",
          "text": [
            "Part_3 registros:  71%|███████   | 2128/3000 [00:55<00:39, 21.86it/s]"
          ]
        },
        {
          "output_type": "stream",
          "name": "stdout",
          "text": [
            "Registro 2125 sin segmentos válidos\n",
            "Registro 2130 sin segmentos válidos\n",
            "Registro 2131 sin segmentos válidos\n"
          ]
        },
        {
          "output_type": "stream",
          "name": "stderr",
          "text": [
            "Part_3 registros:  72%|███████▏  | 2146/3000 [00:55<00:27, 31.31it/s]"
          ]
        },
        {
          "output_type": "stream",
          "name": "stdout",
          "text": [
            "Registro 2141 sin segmentos válidos\n",
            "Registro 2143 sin segmentos válidos\n",
            "Registro 2148 sin segmentos válidos\n",
            "Registro 2149 sin segmentos válidos\n",
            "Registro 2150 sin segmentos válidos\n"
          ]
        },
        {
          "output_type": "stream",
          "name": "stderr",
          "text": [
            "Part_3 registros:  72%|███████▏  | 2168/3000 [00:56<00:31, 26.23it/s]"
          ]
        },
        {
          "output_type": "stream",
          "name": "stdout",
          "text": [
            "Registro 2163 sin segmentos válidos\n",
            "Registro 2171 sin segmentos válidos\n"
          ]
        },
        {
          "output_type": "stream",
          "name": "stderr",
          "text": [
            "Part_3 registros:  73%|███████▎  | 2184/3000 [00:57<00:20, 39.75it/s]"
          ]
        },
        {
          "output_type": "stream",
          "name": "stdout",
          "text": [
            "Registro 2182 sin segmentos válidos\n"
          ]
        },
        {
          "output_type": "stream",
          "name": "stderr",
          "text": [
            "Part_3 registros:  73%|███████▎  | 2203/3000 [00:57<00:21, 36.36it/s]"
          ]
        },
        {
          "output_type": "stream",
          "name": "stdout",
          "text": [
            "Registro 2193 sin segmentos válidos\n",
            "Registro 2196 sin segmentos válidos\n",
            "Registro 2198 sin segmentos válidos\n"
          ]
        },
        {
          "output_type": "stream",
          "name": "stderr",
          "text": [
            "Part_3 registros:  74%|███████▍  | 2222/3000 [00:58<00:21, 36.73it/s]"
          ]
        },
        {
          "output_type": "stream",
          "name": "stdout",
          "text": [
            "Registro 2209 sin segmentos válidos\n",
            "Registro 2210 sin segmentos válidos\n",
            "Registro 2215 sin segmentos válidos\n",
            "Registro 2217 sin segmentos válidos\n",
            "Registro 2219 sin segmentos válidos\n"
          ]
        },
        {
          "output_type": "stream",
          "name": "stderr",
          "text": [
            "Part_3 registros:  75%|███████▍  | 2244/3000 [00:58<00:16, 45.73it/s]"
          ]
        },
        {
          "output_type": "stream",
          "name": "stdout",
          "text": [
            "Registro 2227 sin segmentos válidos\n",
            "Registro 2228 sin segmentos válidos\n",
            "Registro 2229 sin segmentos válidos\n",
            "Registro 2230 sin segmentos válidos\n",
            "Registro 2232 sin segmentos válidos\n",
            "Registro 2233 sin segmentos válidos\n",
            "Registro 2234 sin segmentos válidos\n",
            "Registro 2238 sin segmentos válidos\n",
            "Registro 2239 sin segmentos válidos\n",
            "Registro 2242 sin segmentos válidos\n"
          ]
        },
        {
          "output_type": "stream",
          "name": "stderr",
          "text": [
            "Part_3 registros:  75%|███████▌  | 2259/3000 [00:59<00:16, 44.08it/s]"
          ]
        },
        {
          "output_type": "stream",
          "name": "stdout",
          "text": [
            "Registro 2250 sin segmentos válidos\n",
            "Registro 2251 sin segmentos válidos\n",
            "Registro 2258 sin segmentos válidos\n"
          ]
        },
        {
          "output_type": "stream",
          "name": "stderr",
          "text": [
            "Part_3 registros:  76%|███████▌  | 2278/3000 [01:00<00:24, 29.55it/s]"
          ]
        },
        {
          "output_type": "stream",
          "name": "stdout",
          "text": [
            "Registro 2276 sin segmentos válidos\n"
          ]
        },
        {
          "output_type": "stream",
          "name": "stderr",
          "text": [
            "Part_3 registros:  83%|████████▎ | 2496/3000 [01:11<00:25, 19.59it/s]"
          ]
        },
        {
          "output_type": "stream",
          "name": "stdout",
          "text": [
            "Registro 2491 sin segmentos válidos\n"
          ]
        },
        {
          "output_type": "stream",
          "name": "stderr",
          "text": [
            "Part_3 registros:  84%|████████▍ | 2515/3000 [01:12<00:19, 25.24it/s]"
          ]
        },
        {
          "output_type": "stream",
          "name": "stdout",
          "text": [
            "Registro 2507 sin segmentos válidos\n"
          ]
        },
        {
          "output_type": "stream",
          "name": "stderr",
          "text": [
            "Part_3 registros:  88%|████████▊ | 2652/3000 [01:17<00:07, 44.76it/s]"
          ]
        },
        {
          "output_type": "stream",
          "name": "stdout",
          "text": [
            "Registro 2642 sin segmentos válidos\n"
          ]
        },
        {
          "output_type": "stream",
          "name": "stderr",
          "text": [
            "Part_3 registros:  89%|████████▉ | 2682/3000 [01:18<00:05, 58.78it/s]"
          ]
        },
        {
          "output_type": "stream",
          "name": "stdout",
          "text": [
            "Registro 2667 sin segmentos válidos\n",
            "Registro 2669 sin segmentos válidos\n",
            "Registro 2670 sin segmentos válidos\n",
            "Registro 2671 sin segmentos válidos\n",
            "Registro 2673 sin segmentos válidos\n"
          ]
        },
        {
          "output_type": "stream",
          "name": "stderr",
          "text": [
            "\rPart_3 registros:  90%|████████▉ | 2689/3000 [01:18<00:05, 57.52it/s]"
          ]
        },
        {
          "output_type": "stream",
          "name": "stdout",
          "text": [
            "Registro 2687 sin segmentos válidos\n"
          ]
        },
        {
          "output_type": "stream",
          "name": "stderr",
          "text": [
            "Part_3 registros:  90%|█████████ | 2713/3000 [01:19<00:07, 38.00it/s]"
          ]
        },
        {
          "output_type": "stream",
          "name": "stdout",
          "text": [
            "Registro 2709 sin segmentos válidos\n"
          ]
        },
        {
          "output_type": "stream",
          "name": "stderr",
          "text": [
            "Part_3 registros:  94%|█████████▍| 2827/3000 [01:26<00:06, 27.42it/s]"
          ]
        },
        {
          "output_type": "stream",
          "name": "stdout",
          "text": [
            "Registro 2821 sin segmentos válidos\n",
            "Registro 2827 sin segmentos válidos\n",
            "Registro 2828 sin segmentos válidos\n",
            "Registro 2829 sin segmentos válidos\n",
            "Registro 2830 sin segmentos válidos\n",
            "Registro 2831 sin segmentos válidos\n"
          ]
        },
        {
          "output_type": "stream",
          "name": "stderr",
          "text": [
            "Part_3 registros:  95%|█████████▌| 2861/3000 [01:27<00:04, 34.46it/s]"
          ]
        },
        {
          "output_type": "stream",
          "name": "stdout",
          "text": [
            "Registro 2851 sin segmentos válidos\n",
            "Registro 2856 sin segmentos válidos\n",
            "Registro 2858 sin segmentos válidos\n"
          ]
        },
        {
          "output_type": "stream",
          "name": "stderr",
          "text": [
            "Part_3 registros:  96%|█████████▌| 2877/3000 [01:27<00:03, 34.13it/s]"
          ]
        },
        {
          "output_type": "stream",
          "name": "stdout",
          "text": [
            "Registro 2874 sin segmentos válidos\n",
            "Registro 2880 sin segmentos válidos\n"
          ]
        },
        {
          "output_type": "stream",
          "name": "stderr",
          "text": [
            "Part_3 registros:  96%|█████████▋| 2892/3000 [01:28<00:02, 38.19it/s]"
          ]
        },
        {
          "output_type": "stream",
          "name": "stdout",
          "text": [
            "Registro 2888 sin segmentos válidos\n"
          ]
        },
        {
          "output_type": "stream",
          "name": "stderr",
          "text": [
            "Part_3 registros:  97%|█████████▋| 2915/3000 [01:28<00:01, 48.15it/s]"
          ]
        },
        {
          "output_type": "stream",
          "name": "stdout",
          "text": [
            "Registro 2909 sin segmentos válidos\n",
            "Registro 2912 sin segmentos válidos\n"
          ]
        },
        {
          "output_type": "stream",
          "name": "stderr",
          "text": [
            "Part_3 registros:  99%|█████████▊| 2957/3000 [01:30<00:01, 41.23it/s]"
          ]
        },
        {
          "output_type": "stream",
          "name": "stdout",
          "text": [
            "Registro 2946 sin segmentos válidos\n",
            "Registro 2955 sin segmentos válidos\n"
          ]
        },
        {
          "output_type": "stream",
          "name": "stderr",
          "text": [
            "Part_3 registros:  99%|█████████▉| 2980/3000 [01:31<00:01, 16.23it/s]"
          ]
        },
        {
          "output_type": "stream",
          "name": "stdout",
          "text": [
            "Registro 2978 sin segmentos válidos\n"
          ]
        },
        {
          "output_type": "stream",
          "name": "stderr",
          "text": [
            "Part_3 registros: 100%|██████████| 3000/3000 [01:32<00:00, 32.48it/s]\n"
          ]
        },
        {
          "output_type": "stream",
          "name": "stdout",
          "text": [
            "\\Procesando: raw_data/Part_4.mat\n",
            "Total registros en Part_4: 3000\n"
          ]
        },
        {
          "output_type": "stream",
          "name": "stderr",
          "text": [
            "Part_4 registros:   0%|          | 14/3000 [00:00<02:40, 18.59it/s]"
          ]
        },
        {
          "output_type": "stream",
          "name": "stdout",
          "text": [
            "Registro 12 sin segmentos válidos\n"
          ]
        },
        {
          "output_type": "stream",
          "name": "stderr",
          "text": [
            "Part_4 registros:   1%|          | 24/3000 [00:01<02:40, 18.54it/s]"
          ]
        },
        {
          "output_type": "stream",
          "name": "stdout",
          "text": [
            "Registro 21 sin segmentos válidos\n",
            "Registro 27 sin segmentos válidos\n"
          ]
        },
        {
          "output_type": "stream",
          "name": "stderr",
          "text": [
            "Part_4 registros:   2%|▏         | 50/3000 [00:01<01:18, 37.78it/s]"
          ]
        },
        {
          "output_type": "stream",
          "name": "stdout",
          "text": [
            "Registro 46 sin segmentos válidos\n"
          ]
        },
        {
          "output_type": "stream",
          "name": "stderr",
          "text": [
            "Part_4 registros:   3%|▎         | 78/3000 [00:02<01:08, 42.62it/s]"
          ]
        },
        {
          "output_type": "stream",
          "name": "stdout",
          "text": [
            "Registro 64 sin segmentos válidos\n",
            "Registro 66 sin segmentos válidos\n",
            "Registro 67 sin segmentos válidos\n",
            "Registro 69 sin segmentos válidos\n"
          ]
        },
        {
          "output_type": "stream",
          "name": "stderr",
          "text": [
            "\rPart_4 registros:   3%|▎         | 84/3000 [00:03<01:26, 33.82it/s]"
          ]
        },
        {
          "output_type": "stream",
          "name": "stdout",
          "text": [
            "Registro 83 sin segmentos válidos\n"
          ]
        },
        {
          "output_type": "stream",
          "name": "stderr",
          "text": [
            "Part_4 registros:   4%|▎         | 106/3000 [00:03<01:29, 32.16it/s]"
          ]
        },
        {
          "output_type": "stream",
          "name": "stdout",
          "text": [
            "Registro 102 sin segmentos válidos\n",
            "Registro 109 sin segmentos válidos\n"
          ]
        },
        {
          "output_type": "stream",
          "name": "stderr",
          "text": [
            "Part_4 registros:   4%|▍         | 123/3000 [00:04<01:29, 32.25it/s]"
          ]
        },
        {
          "output_type": "stream",
          "name": "stdout",
          "text": [
            "Registro 121 sin segmentos válidos\n"
          ]
        },
        {
          "output_type": "stream",
          "name": "stderr",
          "text": [
            "Part_4 registros:   4%|▍         | 134/3000 [00:05<02:19, 20.55it/s]"
          ]
        },
        {
          "output_type": "stream",
          "name": "stdout",
          "text": [
            "Registro 132 sin segmentos válidos\n",
            "Registro 137 sin segmentos válidos\n"
          ]
        },
        {
          "output_type": "stream",
          "name": "stderr",
          "text": [
            "Part_4 registros:   6%|▌         | 166/3000 [00:07<02:29, 18.94it/s]"
          ]
        },
        {
          "output_type": "stream",
          "name": "stdout",
          "text": [
            "Registro 158 sin segmentos válidos\n",
            "Registro 159 sin segmentos válidos\n",
            "Registro 161 sin segmentos válidos\n"
          ]
        },
        {
          "output_type": "stream",
          "name": "stderr",
          "text": [
            "Part_4 registros:   6%|▌         | 180/3000 [00:07<01:34, 29.87it/s]"
          ]
        },
        {
          "output_type": "stream",
          "name": "stdout",
          "text": [
            "Registro 170 sin segmentos válidos\n"
          ]
        },
        {
          "output_type": "stream",
          "name": "stderr",
          "text": [
            "Part_4 registros:   6%|▋         | 193/3000 [00:07<01:06, 42.02it/s]"
          ]
        },
        {
          "output_type": "stream",
          "name": "stdout",
          "text": [
            "Registro 184 sin segmentos válidos\n",
            "Registro 185 sin segmentos válidos\n",
            "Registro 186 sin segmentos válidos\n",
            "Registro 195 sin segmentos válidos\n",
            "Registro 197 sin segmentos válidos\n",
            "Registro 198 sin segmentos válidos\n"
          ]
        },
        {
          "output_type": "stream",
          "name": "stderr",
          "text": [
            "Part_4 registros:   7%|▋         | 208/3000 [00:08<00:58, 48.06it/s]"
          ]
        },
        {
          "output_type": "stream",
          "name": "stdout",
          "text": [
            "Registro 201 sin segmentos válidos\n",
            "Registro 202 sin segmentos válidos\n"
          ]
        },
        {
          "output_type": "stream",
          "name": "stderr",
          "text": [
            "Part_4 registros:   7%|▋         | 224/3000 [00:08<00:52, 52.49it/s]"
          ]
        },
        {
          "output_type": "stream",
          "name": "stdout",
          "text": [
            "Registro 217 sin segmentos válidos\n",
            "Registro 219 sin segmentos válidos\n"
          ]
        },
        {
          "output_type": "stream",
          "name": "stderr",
          "text": [
            "Part_4 registros:   8%|▊         | 236/3000 [00:08<00:57, 47.80it/s]"
          ]
        },
        {
          "output_type": "stream",
          "name": "stdout",
          "text": [
            "Registro 229 sin segmentos válidos\n"
          ]
        },
        {
          "output_type": "stream",
          "name": "stderr",
          "text": [
            "Part_4 registros:   9%|▉         | 266/3000 [00:09<01:08, 39.93it/s]"
          ]
        },
        {
          "output_type": "stream",
          "name": "stdout",
          "text": [
            "Registro 259 sin segmentos válidos\n"
          ]
        },
        {
          "output_type": "stream",
          "name": "stderr",
          "text": [
            "Part_4 registros:  10%|▉         | 292/3000 [00:10<01:00, 44.41it/s]"
          ]
        },
        {
          "output_type": "stream",
          "name": "stdout",
          "text": [
            "Registro 285 sin segmentos válidos\n",
            "Registro 287 sin segmentos válidos\n",
            "Registro 289 sin segmentos válidos\n",
            "Registro 290 sin segmentos válidos\n"
          ]
        },
        {
          "output_type": "stream",
          "name": "stderr",
          "text": [
            "Part_4 registros:  10%|█         | 305/3000 [00:10<01:44, 25.85it/s]"
          ]
        },
        {
          "output_type": "stream",
          "name": "stdout",
          "text": [
            "Registro 301 sin segmentos válidos\n",
            "Registro 306 sin segmentos válidos\n"
          ]
        },
        {
          "output_type": "stream",
          "name": "stderr",
          "text": [
            "Part_4 registros:  10%|█         | 314/3000 [00:11<01:49, 24.50it/s]"
          ]
        },
        {
          "output_type": "stream",
          "name": "stdout",
          "text": [
            "Registro 309 sin segmentos válidos\n"
          ]
        },
        {
          "output_type": "stream",
          "name": "stderr",
          "text": [
            "Part_4 registros:  11%|█         | 320/3000 [00:11<01:46, 25.27it/s]"
          ]
        },
        {
          "output_type": "stream",
          "name": "stdout",
          "text": [
            "Registro 316 sin segmentos válidos\n",
            "Registro 317 sin segmentos válidos\n"
          ]
        },
        {
          "output_type": "stream",
          "name": "stderr",
          "text": [
            "Part_4 registros:  11%|█         | 329/3000 [00:11<02:10, 20.51it/s]"
          ]
        },
        {
          "output_type": "stream",
          "name": "stdout",
          "text": [
            "Registro 326 sin segmentos válidos\n"
          ]
        },
        {
          "output_type": "stream",
          "name": "stderr",
          "text": [
            "Part_4 registros:  12%|█▏        | 363/3000 [00:13<01:09, 37.82it/s]"
          ]
        },
        {
          "output_type": "stream",
          "name": "stdout",
          "text": [
            "Registro 352 sin segmentos válidos\n",
            "Registro 355 sin segmentos válidos\n",
            "Registro 358 sin segmentos válidos\n"
          ]
        },
        {
          "output_type": "stream",
          "name": "stderr",
          "text": [
            "Part_4 registros:  12%|█▏        | 371/3000 [00:13<01:10, 37.03it/s]"
          ]
        },
        {
          "output_type": "stream",
          "name": "stdout",
          "text": [
            "Registro 365 sin segmentos válidos\n",
            "Registro 367 sin segmentos válidos\n"
          ]
        },
        {
          "output_type": "stream",
          "name": "stderr",
          "text": [
            "Part_4 registros:  14%|█▎        | 405/3000 [00:15<01:31, 28.50it/s]"
          ]
        },
        {
          "output_type": "stream",
          "name": "stdout",
          "text": [
            "Registro 397 sin segmentos válidos\n"
          ]
        },
        {
          "output_type": "stream",
          "name": "stderr",
          "text": [
            "Part_4 registros:  14%|█▍        | 426/3000 [00:16<01:43, 24.77it/s]"
          ]
        },
        {
          "output_type": "stream",
          "name": "stdout",
          "text": [
            "Registro 420 sin segmentos válidos\n",
            "Registro 421 sin segmentos válidos\n"
          ]
        },
        {
          "output_type": "stream",
          "name": "stderr",
          "text": [
            "Part_4 registros:  14%|█▍        | 435/3000 [00:16<01:27, 29.42it/s]"
          ]
        },
        {
          "output_type": "stream",
          "name": "stdout",
          "text": [
            "Registro 427 sin segmentos válidos\n",
            "Registro 428 sin segmentos válidos\n"
          ]
        },
        {
          "output_type": "stream",
          "name": "stderr",
          "text": [
            "Part_4 registros:  15%|█▍        | 443/3000 [00:16<01:34, 27.04it/s]"
          ]
        },
        {
          "output_type": "stream",
          "name": "stdout",
          "text": [
            "Registro 440 sin segmentos válidos\n",
            "Registro 443 sin segmentos válidos\n"
          ]
        },
        {
          "output_type": "stream",
          "name": "stderr",
          "text": [
            "Part_4 registros:  15%|█▌        | 462/3000 [00:17<01:00, 41.79it/s]"
          ]
        },
        {
          "output_type": "stream",
          "name": "stdout",
          "text": [
            "Registro 457 sin segmentos válidos\n",
            "Registro 458 sin segmentos válidos\n",
            "Registro 460 sin segmentos válidos\n"
          ]
        },
        {
          "output_type": "stream",
          "name": "stderr",
          "text": [
            "Part_4 registros:  16%|█▌        | 471/3000 [00:17<01:06, 38.13it/s]"
          ]
        },
        {
          "output_type": "stream",
          "name": "stdout",
          "text": [
            "Registro 463 sin segmentos válidos\n",
            "Registro 464 sin segmentos válidos\n"
          ]
        },
        {
          "output_type": "stream",
          "name": "stderr",
          "text": [
            "Part_4 registros:  16%|█▌        | 479/3000 [00:17<01:13, 34.09it/s]"
          ]
        },
        {
          "output_type": "stream",
          "name": "stdout",
          "text": [
            "Registro 473 sin segmentos válidos\n"
          ]
        },
        {
          "output_type": "stream",
          "name": "stderr",
          "text": [
            "\rPart_4 registros:  16%|█▌        | 483/3000 [00:17<01:25, 29.52it/s]"
          ]
        },
        {
          "output_type": "stream",
          "name": "stdout",
          "text": [
            "Registro 482 sin segmentos válidos\n"
          ]
        },
        {
          "output_type": "stream",
          "name": "stderr",
          "text": [
            "Part_4 registros:  17%|█▋        | 501/3000 [00:19<02:37, 15.83it/s]"
          ]
        },
        {
          "output_type": "stream",
          "name": "stdout",
          "text": [
            "Registro 499 sin segmentos válidos\n"
          ]
        },
        {
          "output_type": "stream",
          "name": "stderr",
          "text": [
            "Part_4 registros:  18%|█▊        | 549/3000 [00:22<01:28, 27.54it/s]"
          ]
        },
        {
          "output_type": "stream",
          "name": "stdout",
          "text": [
            "Registro 540 sin segmentos válidos\n",
            "Registro 541 sin segmentos válidos\n",
            "Registro 542 sin segmentos válidos\n",
            "Registro 543 sin segmentos válidos\n",
            "Registro 545 sin segmentos válidos\n"
          ]
        },
        {
          "output_type": "stream",
          "name": "stderr",
          "text": [
            "Part_4 registros:  19%|█▊        | 559/3000 [00:22<01:10, 34.66it/s]"
          ]
        },
        {
          "output_type": "stream",
          "name": "stdout",
          "text": [
            "Registro 551 sin segmentos válidos\n"
          ]
        },
        {
          "output_type": "stream",
          "name": "stderr",
          "text": [
            "Part_4 registros:  19%|█▉        | 579/3000 [00:23<01:10, 34.15it/s]"
          ]
        },
        {
          "output_type": "stream",
          "name": "stdout",
          "text": [
            "Registro 573 sin segmentos válidos\n"
          ]
        },
        {
          "output_type": "stream",
          "name": "stderr",
          "text": [
            "Part_4 registros:  20%|█▉        | 596/3000 [00:23<00:47, 50.61it/s]"
          ]
        },
        {
          "output_type": "stream",
          "name": "stdout",
          "text": [
            "Registro 583 sin segmentos válidos\n",
            "Registro 584 sin segmentos válidos\n",
            "Registro 585 sin segmentos válidos\n"
          ]
        },
        {
          "output_type": "stream",
          "name": "stderr",
          "text": [
            "\rPart_4 registros:  20%|██        | 602/3000 [00:23<00:49, 48.28it/s]"
          ]
        },
        {
          "output_type": "stream",
          "name": "stdout",
          "text": [
            "Registro 601 sin segmentos válidos\n"
          ]
        },
        {
          "output_type": "stream",
          "name": "stderr",
          "text": [
            "Part_4 registros:  21%|██        | 617/3000 [00:24<01:44, 22.84it/s]"
          ]
        },
        {
          "output_type": "stream",
          "name": "stdout",
          "text": [
            "Registro 616 sin segmentos válidos\n"
          ]
        },
        {
          "output_type": "stream",
          "name": "stderr",
          "text": [
            "Part_4 registros:  21%|██        | 636/3000 [00:26<01:48, 21.83it/s]"
          ]
        },
        {
          "output_type": "stream",
          "name": "stdout",
          "text": [
            "Registro 631 sin segmentos válidos\n",
            "Registro 633 sin segmentos válidos\n"
          ]
        },
        {
          "output_type": "stream",
          "name": "stderr",
          "text": [
            "Part_4 registros:  22%|██▏       | 661/3000 [00:27<01:40, 23.35it/s]"
          ]
        },
        {
          "output_type": "stream",
          "name": "stdout",
          "text": [
            "Registro 657 sin segmentos válidos\n"
          ]
        },
        {
          "output_type": "stream",
          "name": "stderr",
          "text": [
            "Part_4 registros:  22%|██▎       | 675/3000 [00:27<01:07, 34.25it/s]"
          ]
        },
        {
          "output_type": "stream",
          "name": "stdout",
          "text": [
            "Registro 668 sin segmentos válidos\n",
            "Registro 671 sin segmentos válidos\n",
            "Registro 676 sin segmentos válidos\n"
          ]
        },
        {
          "output_type": "stream",
          "name": "stderr",
          "text": [
            "Part_4 registros:  23%|██▎       | 688/3000 [00:28<01:34, 24.37it/s]"
          ]
        },
        {
          "output_type": "stream",
          "name": "stdout",
          "text": [
            "Registro 684 sin segmentos válidos\n"
          ]
        },
        {
          "output_type": "stream",
          "name": "stderr",
          "text": [
            "Part_4 registros:  23%|██▎       | 704/3000 [00:29<01:35, 24.11it/s]"
          ]
        },
        {
          "output_type": "stream",
          "name": "stdout",
          "text": [
            "Registro 700 sin segmentos válidos\n"
          ]
        },
        {
          "output_type": "stream",
          "name": "stderr",
          "text": [
            "Part_4 registros:  24%|██▍       | 718/3000 [00:29<01:14, 30.75it/s]"
          ]
        },
        {
          "output_type": "stream",
          "name": "stdout",
          "text": [
            "Registro 710 sin segmentos válidos\n",
            "Registro 713 sin segmentos válidos\n"
          ]
        },
        {
          "output_type": "stream",
          "name": "stderr",
          "text": [
            "\rPart_4 registros:  24%|██▍       | 722/3000 [00:29<01:12, 31.48it/s]"
          ]
        },
        {
          "output_type": "stream",
          "name": "stdout",
          "text": [
            "Registro 720 sin segmentos válidos\n"
          ]
        },
        {
          "output_type": "stream",
          "name": "stderr",
          "text": [
            "Part_4 registros:  25%|██▍       | 743/3000 [00:30<01:19, 28.43it/s]"
          ]
        },
        {
          "output_type": "stream",
          "name": "stdout",
          "text": [
            "Registro 737 sin segmentos válidos\n"
          ]
        },
        {
          "output_type": "stream",
          "name": "stderr",
          "text": [
            "Part_4 registros:  25%|██▌       | 760/3000 [00:31<01:30, 24.83it/s]"
          ]
        },
        {
          "output_type": "stream",
          "name": "stdout",
          "text": [
            "Registro 755 sin segmentos válidos\n"
          ]
        },
        {
          "output_type": "stream",
          "name": "stderr",
          "text": [
            "Part_4 registros:  26%|██▌       | 780/3000 [00:32<01:19, 27.83it/s]"
          ]
        },
        {
          "output_type": "stream",
          "name": "stdout",
          "text": [
            "Registro 773 sin segmentos válidos\n"
          ]
        },
        {
          "output_type": "stream",
          "name": "stderr",
          "text": [
            "Part_4 registros:  26%|██▋       | 788/3000 [00:32<01:26, 25.67it/s]"
          ]
        },
        {
          "output_type": "stream",
          "name": "stdout",
          "text": [
            "Registro 783 sin segmentos válidos\n",
            "Registro 785 sin segmentos válidos\n"
          ]
        },
        {
          "output_type": "stream",
          "name": "stderr",
          "text": [
            "Part_4 registros:  29%|██▊       | 856/3000 [00:36<01:14, 28.88it/s]"
          ]
        },
        {
          "output_type": "stream",
          "name": "stdout",
          "text": [
            "Registro 850 sin segmentos válidos\n",
            "Registro 858 sin segmentos válidos\n"
          ]
        },
        {
          "output_type": "stream",
          "name": "stderr",
          "text": [
            "\rPart_4 registros:  29%|██▊       | 862/3000 [00:36<01:03, 33.75it/s]"
          ]
        },
        {
          "output_type": "stream",
          "name": "stdout",
          "text": [
            "Registro 860 sin segmentos válidos\n"
          ]
        },
        {
          "output_type": "stream",
          "name": "stderr",
          "text": [
            "Part_4 registros:  30%|███       | 911/3000 [00:38<01:27, 23.90it/s]"
          ]
        },
        {
          "output_type": "stream",
          "name": "stdout",
          "text": [
            "Registro 909 sin segmentos válidos\n"
          ]
        },
        {
          "output_type": "stream",
          "name": "stderr",
          "text": [
            "Part_4 registros:  31%|███       | 936/3000 [00:39<01:08, 30.18it/s]"
          ]
        },
        {
          "output_type": "stream",
          "name": "stdout",
          "text": [
            "Registro 928 sin segmentos válidos\n",
            "Registro 929 sin segmentos válidos\n",
            "Registro 932 sin segmentos válidos\n"
          ]
        },
        {
          "output_type": "stream",
          "name": "stderr",
          "text": [
            "Part_4 registros:  32%|███▏      | 974/3000 [00:41<00:51, 39.55it/s]"
          ]
        },
        {
          "output_type": "stream",
          "name": "stdout",
          "text": [
            "Registro 961 sin segmentos válidos\n",
            "Registro 969 sin segmentos válidos\n",
            "Registro 970 sin segmentos válidos\n",
            "Registro 971 sin segmentos válidos\n"
          ]
        },
        {
          "output_type": "stream",
          "name": "stderr",
          "text": [
            "Part_4 registros:  34%|███▍      | 1022/3000 [00:43<01:24, 23.39it/s]"
          ]
        },
        {
          "output_type": "stream",
          "name": "stdout",
          "text": [
            "Registro 1019 sin segmentos válidos\n"
          ]
        },
        {
          "output_type": "stream",
          "name": "stderr",
          "text": [
            "Part_4 registros:  35%|███▍      | 1043/3000 [00:45<01:47, 18.29it/s]"
          ]
        },
        {
          "output_type": "stream",
          "name": "stdout",
          "text": [
            "Registro 1038 sin segmentos válidos\n"
          ]
        },
        {
          "output_type": "stream",
          "name": "stderr",
          "text": [
            "Part_4 registros:  35%|███▌      | 1063/3000 [00:46<01:06, 29.22it/s]"
          ]
        },
        {
          "output_type": "stream",
          "name": "stdout",
          "text": [
            "Registro 1058 sin segmentos válidos\n"
          ]
        },
        {
          "output_type": "stream",
          "name": "stderr",
          "text": [
            "Part_4 registros:  37%|███▋      | 1101/3000 [00:48<02:00, 15.73it/s]"
          ]
        },
        {
          "output_type": "stream",
          "name": "stdout",
          "text": [
            "Registro 1097 sin segmentos válidos\n"
          ]
        },
        {
          "output_type": "stream",
          "name": "stderr",
          "text": [
            "\rPart_4 registros:  37%|███▋      | 1114/3000 [00:48<00:54, 34.35it/s]"
          ]
        },
        {
          "output_type": "stream",
          "name": "stdout",
          "text": [
            "Registro 1106 sin segmentos válidos\n",
            "Registro 1107 sin segmentos válidos\n",
            "Registro 1110 sin segmentos válidos\n",
            "Registro 1111 sin segmentos válidos\n",
            "Registro 1112 sin segmentos válidos\n"
          ]
        },
        {
          "output_type": "stream",
          "name": "stderr",
          "text": [
            "Part_4 registros:  38%|███▊      | 1147/3000 [00:50<01:19, 23.42it/s]"
          ]
        },
        {
          "output_type": "stream",
          "name": "stdout",
          "text": [
            "Registro 1142 sin segmentos válidos\n",
            "Registro 1144 sin segmentos válidos\n",
            "Registro 1147 sin segmentos válidos\n"
          ]
        },
        {
          "output_type": "stream",
          "name": "stderr",
          "text": [
            "Part_4 registros:  39%|███▊      | 1162/3000 [00:50<01:12, 25.30it/s]"
          ]
        },
        {
          "output_type": "stream",
          "name": "stdout",
          "text": [
            "Registro 1157 sin segmentos válidos\n",
            "Registro 1160 sin segmentos válidos\n"
          ]
        },
        {
          "output_type": "stream",
          "name": "stderr",
          "text": [
            "Part_4 registros:  40%|███▉      | 1195/3000 [00:51<01:07, 26.87it/s]"
          ]
        },
        {
          "output_type": "stream",
          "name": "stdout",
          "text": [
            "Registro 1192 sin segmentos válidos\n"
          ]
        },
        {
          "output_type": "stream",
          "name": "stderr",
          "text": [
            "Part_4 registros:  41%|████      | 1225/3000 [00:53<01:00, 29.15it/s]"
          ]
        },
        {
          "output_type": "stream",
          "name": "stdout",
          "text": [
            "Registro 1221 sin segmentos válidos\n"
          ]
        },
        {
          "output_type": "stream",
          "name": "stderr",
          "text": [
            "Part_4 registros:  42%|████▏     | 1267/3000 [00:55<01:10, 24.41it/s]"
          ]
        },
        {
          "output_type": "stream",
          "name": "stdout",
          "text": [
            "Registro 1261 sin segmentos válidos\n",
            "Registro 1265 sin segmentos válidos\n"
          ]
        },
        {
          "output_type": "stream",
          "name": "stderr",
          "text": [
            "\rPart_4 registros:  42%|████▏     | 1271/3000 [00:55<01:10, 24.46it/s]"
          ]
        },
        {
          "output_type": "stream",
          "name": "stdout",
          "text": [
            "Registro 1268 sin segmentos válidos\n"
          ]
        },
        {
          "output_type": "stream",
          "name": "stderr",
          "text": [
            "Part_4 registros:  43%|████▎     | 1286/3000 [00:55<01:04, 26.65it/s]"
          ]
        },
        {
          "output_type": "stream",
          "name": "stdout",
          "text": [
            "Registro 1282 sin segmentos válidos\n"
          ]
        },
        {
          "output_type": "stream",
          "name": "stderr",
          "text": [
            "Part_4 registros:  44%|████▎     | 1307/3000 [00:56<01:20, 21.14it/s]"
          ]
        },
        {
          "output_type": "stream",
          "name": "stdout",
          "text": [
            "Registro 1305 sin segmentos válidos\n"
          ]
        },
        {
          "output_type": "stream",
          "name": "stderr",
          "text": [
            "Part_4 registros:  45%|████▍     | 1339/3000 [00:58<00:42, 39.27it/s]"
          ]
        },
        {
          "output_type": "stream",
          "name": "stdout",
          "text": [
            "Registro 1327 sin segmentos válidos\n",
            "Registro 1331 sin segmentos válidos\n"
          ]
        },
        {
          "output_type": "stream",
          "name": "stderr",
          "text": [
            "Part_4 registros:  45%|████▌     | 1355/3000 [00:58<00:53, 30.81it/s]"
          ]
        },
        {
          "output_type": "stream",
          "name": "stdout",
          "text": [
            "Registro 1351 sin segmentos válidos\n",
            "Registro 1355 sin segmentos válidos\n"
          ]
        },
        {
          "output_type": "stream",
          "name": "stderr",
          "text": [
            "Part_4 registros:  46%|████▌     | 1366/3000 [00:58<00:46, 34.85it/s]"
          ]
        },
        {
          "output_type": "stream",
          "name": "stdout",
          "text": [
            "Registro 1361 sin segmentos válidos\n",
            "Registro 1362 sin segmentos válidos\n"
          ]
        },
        {
          "output_type": "stream",
          "name": "stderr",
          "text": [
            "Part_4 registros:  46%|████▌     | 1379/3000 [00:59<01:06, 24.38it/s]"
          ]
        },
        {
          "output_type": "stream",
          "name": "stdout",
          "text": [
            "Registro 1374 sin segmentos válidos\n",
            "Registro 1377 sin segmentos válidos\n"
          ]
        },
        {
          "output_type": "stream",
          "name": "stderr",
          "text": [
            "Part_4 registros:  46%|████▋     | 1392/3000 [00:59<00:44, 35.79it/s]"
          ]
        },
        {
          "output_type": "stream",
          "name": "stdout",
          "text": [
            "Registro 1384 sin segmentos válidos\n",
            "Registro 1386 sin segmentos válidos\n",
            "Registro 1389 sin segmentos válidos\n",
            "Registro 1392 sin segmentos válidos\n"
          ]
        },
        {
          "output_type": "stream",
          "name": "stderr",
          "text": [
            "Part_4 registros:  47%|████▋     | 1417/3000 [01:00<00:48, 32.75it/s]"
          ]
        },
        {
          "output_type": "stream",
          "name": "stdout",
          "text": [
            "Registro 1408 sin segmentos válidos\n",
            "Registro 1420 sin segmentos válidos\n"
          ]
        },
        {
          "output_type": "stream",
          "name": "stderr",
          "text": [
            "\rPart_4 registros:  48%|████▊     | 1432/3000 [01:00<00:30, 51.04it/s]"
          ]
        },
        {
          "output_type": "stream",
          "name": "stdout",
          "text": [
            "Registro 1429 sin segmentos válidos\n"
          ]
        },
        {
          "output_type": "stream",
          "name": "stderr",
          "text": [
            "Part_4 registros:  48%|████▊     | 1449/3000 [01:01<00:41, 37.30it/s]"
          ]
        },
        {
          "output_type": "stream",
          "name": "stdout",
          "text": [
            "Registro 1447 sin segmentos válidos\n"
          ]
        },
        {
          "output_type": "stream",
          "name": "stderr",
          "text": [
            "Part_4 registros:  49%|████▉     | 1479/3000 [01:02<00:36, 41.25it/s]"
          ]
        },
        {
          "output_type": "stream",
          "name": "stdout",
          "text": [
            "Registro 1471 sin segmentos válidos\n",
            "Registro 1472 sin segmentos válidos\n"
          ]
        },
        {
          "output_type": "stream",
          "name": "stderr",
          "text": [
            "Part_4 registros:  50%|█████     | 1507/3000 [01:02<00:30, 48.40it/s]"
          ]
        },
        {
          "output_type": "stream",
          "name": "stdout",
          "text": [
            "Registro 1498 sin segmentos válidos\n"
          ]
        },
        {
          "output_type": "stream",
          "name": "stderr",
          "text": [
            "Part_4 registros:  51%|█████     | 1533/3000 [01:03<00:21, 69.82it/s]"
          ]
        },
        {
          "output_type": "stream",
          "name": "stdout",
          "text": [
            "Registro 1518 sin segmentos válidos\n",
            "Registro 1523 sin segmentos válidos\n"
          ]
        },
        {
          "output_type": "stream",
          "name": "stderr",
          "text": [
            "Part_4 registros:  52%|█████▏    | 1555/3000 [01:03<00:31, 45.72it/s]"
          ]
        },
        {
          "output_type": "stream",
          "name": "stdout",
          "text": [
            "Registro 1544 sin segmentos válidos\n"
          ]
        },
        {
          "output_type": "stream",
          "name": "stderr",
          "text": [
            "\rPart_4 registros:  52%|█████▏    | 1561/3000 [01:03<00:31, 46.01it/s]"
          ]
        },
        {
          "output_type": "stream",
          "name": "stdout",
          "text": [
            "Registro 1557 sin segmentos válidos\n",
            "Registro 1559 sin segmentos válidos\n"
          ]
        },
        {
          "output_type": "stream",
          "name": "stderr",
          "text": [
            "Part_4 registros:  53%|█████▎    | 1583/3000 [01:04<00:44, 31.89it/s]"
          ]
        },
        {
          "output_type": "stream",
          "name": "stdout",
          "text": [
            "Registro 1577 sin segmentos válidos\n",
            "Registro 1579 sin segmentos válidos\n"
          ]
        },
        {
          "output_type": "stream",
          "name": "stderr",
          "text": [
            "Part_4 registros:  54%|█████▎    | 1607/3000 [01:05<00:37, 37.08it/s]"
          ]
        },
        {
          "output_type": "stream",
          "name": "stdout",
          "text": [
            "Registro 1604 sin segmentos válidos\n"
          ]
        },
        {
          "output_type": "stream",
          "name": "stderr",
          "text": [
            "Part_4 registros:  55%|█████▍    | 1641/3000 [01:07<00:52, 26.12it/s]"
          ]
        },
        {
          "output_type": "stream",
          "name": "stdout",
          "text": [
            "Registro 1636 sin segmentos válidos\n"
          ]
        },
        {
          "output_type": "stream",
          "name": "stderr",
          "text": [
            "Part_4 registros:  55%|█████▌    | 1654/3000 [01:07<00:56, 24.02it/s]"
          ]
        },
        {
          "output_type": "stream",
          "name": "stdout",
          "text": [
            "Registro 1651 sin segmentos válidos\n"
          ]
        },
        {
          "output_type": "stream",
          "name": "stderr",
          "text": [
            "Part_4 registros:  56%|█████▌    | 1676/3000 [01:08<01:04, 20.39it/s]"
          ]
        },
        {
          "output_type": "stream",
          "name": "stdout",
          "text": [
            "Registro 1671 sin segmentos válidos\n",
            "Registro 1676 sin segmentos válidos\n"
          ]
        },
        {
          "output_type": "stream",
          "name": "stderr",
          "text": [
            "Part_4 registros:  56%|█████▌    | 1687/3000 [01:09<00:42, 30.65it/s]"
          ]
        },
        {
          "output_type": "stream",
          "name": "stdout",
          "text": [
            "Registro 1679 sin segmentos válidos\n",
            "Registro 1684 sin segmentos válidos\n",
            "Registro 1685 sin segmentos válidos\n"
          ]
        },
        {
          "output_type": "stream",
          "name": "stderr",
          "text": [
            "Part_4 registros:  57%|█████▋    | 1712/3000 [01:10<00:42, 30.01it/s]"
          ]
        },
        {
          "output_type": "stream",
          "name": "stdout",
          "text": [
            "Registro 1708 sin segmentos válidos\n"
          ]
        },
        {
          "output_type": "stream",
          "name": "stderr",
          "text": [
            "Part_4 registros:  58%|█████▊    | 1746/3000 [01:11<00:52, 23.85it/s]"
          ]
        },
        {
          "output_type": "stream",
          "name": "stdout",
          "text": [
            "Registro 1743 sin segmentos válidos\n"
          ]
        },
        {
          "output_type": "stream",
          "name": "stderr",
          "text": [
            "Part_4 registros:  58%|█████▊    | 1752/3000 [01:11<01:06, 18.64it/s]"
          ]
        },
        {
          "output_type": "stream",
          "name": "stdout",
          "text": [
            "Registro 1751 sin segmentos válidos\n"
          ]
        },
        {
          "output_type": "stream",
          "name": "stderr",
          "text": [
            "Part_4 registros:  59%|█████▉    | 1765/3000 [01:12<01:16, 16.17it/s]"
          ]
        },
        {
          "output_type": "stream",
          "name": "stdout",
          "text": [
            "Registro 1763 sin segmentos válidos\n"
          ]
        },
        {
          "output_type": "stream",
          "name": "stderr",
          "text": [
            "Part_4 registros:  60%|█████▉    | 1788/3000 [01:13<00:53, 22.53it/s]"
          ]
        },
        {
          "output_type": "stream",
          "name": "stdout",
          "text": [
            "Registro 1786 sin segmentos válidos\n"
          ]
        },
        {
          "output_type": "stream",
          "name": "stderr",
          "text": [
            "Part_4 registros:  60%|█████▉    | 1794/3000 [01:14<01:07, 17.93it/s]"
          ]
        },
        {
          "output_type": "stream",
          "name": "stdout",
          "text": [
            "Registro 1791 sin segmentos válidos\n"
          ]
        },
        {
          "output_type": "stream",
          "name": "stderr",
          "text": [
            "Part_4 registros:  61%|██████    | 1826/3000 [01:16<00:37, 31.53it/s]"
          ]
        },
        {
          "output_type": "stream",
          "name": "stdout",
          "text": [
            "Registro 1818 sin segmentos válidos\n",
            "Registro 1822 sin segmentos válidos\n",
            "Registro 1824 sin segmentos válidos\n"
          ]
        },
        {
          "output_type": "stream",
          "name": "stderr",
          "text": [
            "Part_4 registros:  61%|██████    | 1835/3000 [01:16<00:35, 32.38it/s]"
          ]
        },
        {
          "output_type": "stream",
          "name": "stdout",
          "text": [
            "Registro 1833 sin segmentos válidos\n"
          ]
        },
        {
          "output_type": "stream",
          "name": "stderr",
          "text": [
            "Part_4 registros:  62%|██████▏   | 1860/3000 [01:16<00:23, 48.31it/s]"
          ]
        },
        {
          "output_type": "stream",
          "name": "stdout",
          "text": [
            "Registro 1846 sin segmentos válidos\n",
            "Registro 1851 sin segmentos válidos\n",
            "Registro 1856 sin segmentos válidos\n"
          ]
        },
        {
          "output_type": "stream",
          "name": "stderr",
          "text": [
            "Part_4 registros:  63%|██████▎   | 1876/3000 [01:17<00:32, 34.90it/s]"
          ]
        },
        {
          "output_type": "stream",
          "name": "stdout",
          "text": [
            "Registro 1871 sin segmentos válidos\n"
          ]
        },
        {
          "output_type": "stream",
          "name": "stderr",
          "text": [
            "Part_4 registros:  63%|██████▎   | 1888/3000 [01:17<00:42, 26.40it/s]"
          ]
        },
        {
          "output_type": "stream",
          "name": "stdout",
          "text": [
            "Registro 1884 sin segmentos válidos\n"
          ]
        },
        {
          "output_type": "stream",
          "name": "stderr",
          "text": [
            "Part_4 registros:  64%|██████▎   | 1911/3000 [01:19<00:57, 19.01it/s]"
          ]
        },
        {
          "output_type": "stream",
          "name": "stdout",
          "text": [
            "Registro 1911 sin segmentos válidos\n"
          ]
        },
        {
          "output_type": "stream",
          "name": "stderr",
          "text": [
            "Part_4 registros:  64%|██████▍   | 1924/3000 [01:19<00:49, 21.90it/s]"
          ]
        },
        {
          "output_type": "stream",
          "name": "stdout",
          "text": [
            "Registro 1919 sin segmentos válidos\n"
          ]
        },
        {
          "output_type": "stream",
          "name": "stderr",
          "text": [
            "Part_4 registros:  65%|██████▍   | 1939/3000 [01:20<00:34, 30.77it/s]"
          ]
        },
        {
          "output_type": "stream",
          "name": "stdout",
          "text": [
            "Registro 1933 sin segmentos válidos\n",
            "Registro 1942 sin segmentos válidos\n"
          ]
        },
        {
          "output_type": "stream",
          "name": "stderr",
          "text": [
            "Part_4 registros:  66%|██████▌   | 1982/3000 [01:21<00:20, 50.88it/s]"
          ]
        },
        {
          "output_type": "stream",
          "name": "stdout",
          "text": [
            "Registro 1966 sin segmentos válidos\n",
            "Registro 1970 sin segmentos válidos\n",
            "Registro 1971 sin segmentos válidos\n",
            "Registro 1972 sin segmentos válidos\n",
            "Registro 1973 sin segmentos válidos\n",
            "Registro 1976 sin segmentos válidos\n",
            "Registro 1979 sin segmentos válidos\n"
          ]
        },
        {
          "output_type": "stream",
          "name": "stderr",
          "text": [
            "Part_4 registros:  66%|██████▋   | 1994/3000 [01:21<00:25, 39.91it/s]"
          ]
        },
        {
          "output_type": "stream",
          "name": "stdout",
          "text": [
            "Registro 1985 sin segmentos válidos\n",
            "Registro 1989 sin segmentos válidos\n"
          ]
        },
        {
          "output_type": "stream",
          "name": "stderr",
          "text": [
            "Part_4 registros:  70%|██████▉   | 2089/3000 [01:25<00:26, 34.68it/s]"
          ]
        },
        {
          "output_type": "stream",
          "name": "stdout",
          "text": [
            "Registro 2087 sin segmentos válidos\n"
          ]
        },
        {
          "output_type": "stream",
          "name": "stderr",
          "text": [
            "Part_4 registros:  72%|███████▏  | 2146/3000 [01:28<00:14, 57.08it/s]"
          ]
        },
        {
          "output_type": "stream",
          "name": "stdout",
          "text": [
            "Registro 2129 sin segmentos válidos\n",
            "Registro 2130 sin segmentos válidos\n",
            "Registro 2132 sin segmentos válidos\n",
            "Registro 2134 sin segmentos válidos\n",
            "Registro 2139 sin segmentos válidos\n",
            "Registro 2143 sin segmentos válidos\n"
          ]
        },
        {
          "output_type": "stream",
          "name": "stderr",
          "text": [
            "Part_4 registros:  72%|███████▏  | 2163/3000 [01:28<00:16, 51.10it/s]"
          ]
        },
        {
          "output_type": "stream",
          "name": "stdout",
          "text": [
            "Registro 2153 sin segmentos válidos\n",
            "Registro 2155 sin segmentos válidos\n",
            "Registro 2156 sin segmentos válidos\n",
            "Registro 2157 sin segmentos válidos\n",
            "Registro 2160 sin segmentos válidos\n",
            "Registro 2166 sin segmentos válidos\n"
          ]
        },
        {
          "output_type": "stream",
          "name": "stderr",
          "text": [
            "Part_4 registros:  73%|███████▎  | 2189/3000 [01:29<00:17, 47.39it/s]"
          ]
        },
        {
          "output_type": "stream",
          "name": "stdout",
          "text": [
            "Registro 2186 sin segmentos válidos\n"
          ]
        },
        {
          "output_type": "stream",
          "name": "stderr",
          "text": [
            "Part_4 registros:  74%|███████▎  | 2206/3000 [01:29<00:13, 59.78it/s]"
          ]
        },
        {
          "output_type": "stream",
          "name": "stdout",
          "text": [
            "Registro 2200 sin segmentos válidos\n",
            "Registro 2202 sin segmentos válidos\n",
            "Registro 2203 sin segmentos válidos\n"
          ]
        },
        {
          "output_type": "stream",
          "name": "stderr",
          "text": [
            "Part_4 registros:  74%|███████▍  | 2228/3000 [01:30<00:26, 28.68it/s]"
          ]
        },
        {
          "output_type": "stream",
          "name": "stdout",
          "text": [
            "Registro 2224 sin segmentos válidos\n",
            "Registro 2225 sin segmentos válidos\n"
          ]
        },
        {
          "output_type": "stream",
          "name": "stderr",
          "text": [
            "Part_4 registros:  75%|███████▍  | 2240/3000 [01:30<00:19, 39.39it/s]"
          ]
        },
        {
          "output_type": "stream",
          "name": "stdout",
          "text": [
            "Registro 2236 sin segmentos válidos\n",
            "Registro 2241 sin segmentos válidos\n"
          ]
        },
        {
          "output_type": "stream",
          "name": "stderr",
          "text": [
            "Part_4 registros:  75%|███████▌  | 2252/3000 [01:30<00:20, 36.61it/s]"
          ]
        },
        {
          "output_type": "stream",
          "name": "stdout",
          "text": [
            "Registro 2249 sin segmentos válidos\n",
            "Registro 2252 sin segmentos válidos\n"
          ]
        },
        {
          "output_type": "stream",
          "name": "stderr",
          "text": [
            "Part_4 registros:  77%|███████▋  | 2296/3000 [01:32<00:18, 38.25it/s]"
          ]
        },
        {
          "output_type": "stream",
          "name": "stdout",
          "text": [
            "Registro 2290 sin segmentos válidos\n",
            "Registro 2293 sin segmentos válidos\n"
          ]
        },
        {
          "output_type": "stream",
          "name": "stderr",
          "text": [
            "Part_4 registros:  77%|███████▋  | 2308/3000 [01:32<00:17, 40.64it/s]"
          ]
        },
        {
          "output_type": "stream",
          "name": "stdout",
          "text": [
            "Registro 2299 sin segmentos válidos\n",
            "Registro 2300 sin segmentos válidos\n"
          ]
        },
        {
          "output_type": "stream",
          "name": "stderr",
          "text": [
            "Part_4 registros:  77%|███████▋  | 2318/3000 [01:32<00:15, 43.06it/s]"
          ]
        },
        {
          "output_type": "stream",
          "name": "stdout",
          "text": [
            "Registro 2310 sin segmentos válidos\n",
            "Registro 2311 sin segmentos válidos\n",
            "Registro 2314 sin segmentos válidos\n"
          ]
        },
        {
          "output_type": "stream",
          "name": "stderr",
          "text": [
            "Part_4 registros:  78%|███████▊  | 2339/3000 [01:33<00:23, 28.62it/s]"
          ]
        },
        {
          "output_type": "stream",
          "name": "stdout",
          "text": [
            "Registro 2331 sin segmentos válidos\n",
            "Registro 2338 sin segmentos válidos\n"
          ]
        },
        {
          "output_type": "stream",
          "name": "stderr",
          "text": [
            "Part_4 registros:  79%|███████▊  | 2357/3000 [01:34<00:21, 29.49it/s]"
          ]
        },
        {
          "output_type": "stream",
          "name": "stdout",
          "text": [
            "Registro 2351 sin segmentos válidos\n"
          ]
        },
        {
          "output_type": "stream",
          "name": "stderr",
          "text": [
            "Part_4 registros:  79%|███████▉  | 2372/3000 [01:35<00:24, 25.59it/s]"
          ]
        },
        {
          "output_type": "stream",
          "name": "stdout",
          "text": [
            "Registro 2367 sin segmentos válidos\n",
            "Registro 2373 sin segmentos válidos\n"
          ]
        },
        {
          "output_type": "stream",
          "name": "stderr",
          "text": [
            "Part_4 registros:  80%|███████▉  | 2386/3000 [01:35<00:14, 42.66it/s]"
          ]
        },
        {
          "output_type": "stream",
          "name": "stdout",
          "text": [
            "Registro 2382 sin segmentos válidos\n",
            "Registro 2383 sin segmentos válidos\n"
          ]
        },
        {
          "output_type": "stream",
          "name": "stderr",
          "text": [
            "\rPart_4 registros:  80%|███████▉  | 2391/3000 [01:35<00:14, 41.08it/s]"
          ]
        },
        {
          "output_type": "stream",
          "name": "stdout",
          "text": [
            "Registro 2391 sin segmentos válidos\n"
          ]
        },
        {
          "output_type": "stream",
          "name": "stderr",
          "text": [
            "Part_4 registros:  81%|████████  | 2430/3000 [01:36<00:15, 35.93it/s]"
          ]
        },
        {
          "output_type": "stream",
          "name": "stdout",
          "text": [
            "Registro 2426 sin segmentos válidos\n"
          ]
        },
        {
          "output_type": "stream",
          "name": "stderr",
          "text": [
            "Part_4 registros:  81%|████████▏ | 2438/3000 [01:37<00:21, 26.53it/s]"
          ]
        },
        {
          "output_type": "stream",
          "name": "stdout",
          "text": [
            "Registro 2436 sin segmentos válidos\n"
          ]
        },
        {
          "output_type": "stream",
          "name": "stderr",
          "text": [
            "Part_4 registros:  82%|████████▏ | 2468/3000 [01:38<00:18, 28.36it/s]"
          ]
        },
        {
          "output_type": "stream",
          "name": "stdout",
          "text": [
            "Registro 2462 sin segmentos válidos\n"
          ]
        },
        {
          "output_type": "stream",
          "name": "stderr",
          "text": [
            "Part_4 registros:  83%|████████▎ | 2478/3000 [01:38<00:17, 29.41it/s]"
          ]
        },
        {
          "output_type": "stream",
          "name": "stdout",
          "text": [
            "Registro 2471 sin segmentos válidos\n"
          ]
        },
        {
          "output_type": "stream",
          "name": "stderr",
          "text": [
            "Part_4 registros:  83%|████████▎ | 2496/3000 [01:38<00:10, 46.00it/s]"
          ]
        },
        {
          "output_type": "stream",
          "name": "stdout",
          "text": [
            "Registro 2488 sin segmentos válidos\n",
            "Registro 2489 sin segmentos válidos\n",
            "Registro 2490 sin segmentos válidos\n",
            "Registro 2492 sin segmentos válidos\n",
            "Registro 2493 sin segmentos válidos\n"
          ]
        },
        {
          "output_type": "stream",
          "name": "stderr",
          "text": [
            "Part_4 registros:  84%|████████▎ | 2511/3000 [01:39<00:09, 50.14it/s]"
          ]
        },
        {
          "output_type": "stream",
          "name": "stdout",
          "text": [
            "Registro 2506 sin segmentos válidos\n",
            "Registro 2512 sin segmentos válidos\n",
            "Registro 2513 sin segmentos válidos\n",
            "Registro 2514 sin segmentos válidos\n"
          ]
        },
        {
          "output_type": "stream",
          "name": "stderr",
          "text": [
            "Part_4 registros:  84%|████████▍ | 2522/3000 [01:39<00:16, 28.40it/s]"
          ]
        },
        {
          "output_type": "stream",
          "name": "stdout",
          "text": [
            "Registro 2520 sin segmentos válidos\n"
          ]
        },
        {
          "output_type": "stream",
          "name": "stderr",
          "text": [
            "Part_4 registros:  85%|████████▍ | 2536/3000 [01:40<00:16, 27.86it/s]"
          ]
        },
        {
          "output_type": "stream",
          "name": "stdout",
          "text": [
            "Registro 2531 sin segmentos válidos\n",
            "Registro 2538 sin segmentos válidos\n",
            "Registro 2541 sin segmentos válidos\n",
            "Registro 2542 sin segmentos válidos\n"
          ]
        },
        {
          "output_type": "stream",
          "name": "stderr",
          "text": [
            "Part_4 registros:  85%|████████▌ | 2550/3000 [01:40<00:13, 32.43it/s]"
          ]
        },
        {
          "output_type": "stream",
          "name": "stdout",
          "text": [
            "Registro 2546 sin segmentos válidos\n"
          ]
        },
        {
          "output_type": "stream",
          "name": "stderr",
          "text": [
            "\rPart_4 registros:  85%|████████▌ | 2554/3000 [01:41<00:16, 26.69it/s]"
          ]
        },
        {
          "output_type": "stream",
          "name": "stdout",
          "text": [
            "Registro 2552 sin segmentos válidos\n"
          ]
        },
        {
          "output_type": "stream",
          "name": "stderr",
          "text": [
            "Part_4 registros:  86%|████████▌ | 2568/3000 [01:41<00:18, 23.58it/s]"
          ]
        },
        {
          "output_type": "stream",
          "name": "stdout",
          "text": [
            "Registro 2566 sin segmentos válidos\n"
          ]
        },
        {
          "output_type": "stream",
          "name": "stderr",
          "text": [
            "Part_4 registros:  86%|████████▌ | 2575/3000 [01:42<00:20, 20.60it/s]"
          ]
        },
        {
          "output_type": "stream",
          "name": "stdout",
          "text": [
            "Registro 2571 sin segmentos válidos\n"
          ]
        },
        {
          "output_type": "stream",
          "name": "stderr",
          "text": [
            "Part_4 registros:  88%|████████▊ | 2652/3000 [01:45<00:07, 45.14it/s]"
          ]
        },
        {
          "output_type": "stream",
          "name": "stdout",
          "text": [
            "Registro 2636 sin segmentos válidos\n",
            "Registro 2637 sin segmentos válidos\n",
            "Registro 2640 sin segmentos válidos\n",
            "Registro 2645 sin segmentos válidos\n",
            "Registro 2648 sin segmentos válidos\n",
            "Registro 2650 sin segmentos válidos\n"
          ]
        },
        {
          "output_type": "stream",
          "name": "stderr",
          "text": [
            "\rPart_4 registros:  89%|████████▉ | 2664/3000 [01:45<00:05, 63.68it/s]"
          ]
        },
        {
          "output_type": "stream",
          "name": "stdout",
          "text": [
            "Registro 2657 sin segmentos válidos\n",
            "Registro 2658 sin segmentos válidos\n",
            "Registro 2659 sin segmentos válidos\n"
          ]
        },
        {
          "output_type": "stream",
          "name": "stderr",
          "text": [
            "Part_4 registros:  90%|████████▉ | 2698/3000 [01:45<00:03, 88.59it/s]"
          ]
        },
        {
          "output_type": "stream",
          "name": "stdout",
          "text": [
            "Registro 2676 sin segmentos válidos\n",
            "Registro 2679 sin segmentos válidos\n",
            "Registro 2684 sin segmentos válidos\n",
            "Registro 2686 sin segmentos válidos\n",
            "Registro 2691 sin segmentos válidos\n",
            "Registro 2696 sin segmentos válidos\n"
          ]
        },
        {
          "output_type": "stream",
          "name": "stderr",
          "text": [
            "Part_4 registros:  91%|█████████ | 2719/3000 [01:46<00:03, 79.93it/s]"
          ]
        },
        {
          "output_type": "stream",
          "name": "stdout",
          "text": [
            "Registro 2705 sin segmentos válidos\n",
            "Registro 2706 sin segmentos válidos\n",
            "Registro 2707 sin segmentos válidos\n",
            "Registro 2709 sin segmentos válidos\n"
          ]
        },
        {
          "output_type": "stream",
          "name": "stderr",
          "text": [
            "Part_4 registros:  92%|█████████▏| 2768/3000 [01:46<00:02, 94.23it/s]"
          ]
        },
        {
          "output_type": "stream",
          "name": "stdout",
          "text": [
            "Registro 2740 sin segmentos válidos\n",
            "Registro 2745 sin segmentos válidos\n",
            "Registro 2747 sin segmentos válidos\n",
            "Registro 2750 sin segmentos válidos\n",
            "Registro 2751 sin segmentos válidos\n"
          ]
        },
        {
          "output_type": "stream",
          "name": "stderr",
          "text": [
            "\rPart_4 registros:  93%|█████████▎| 2779/3000 [01:46<00:02, 89.61it/s]"
          ]
        },
        {
          "output_type": "stream",
          "name": "stdout",
          "text": [
            "Registro 2770 sin segmentos válidos\n",
            "Registro 2779 sin segmentos válidos\n",
            "Registro 2782 sin segmentos válidos\n",
            "Registro 2784 sin segmentos válidos\n"
          ]
        },
        {
          "output_type": "stream",
          "name": "stderr",
          "text": [
            "Part_4 registros:  93%|█████████▎| 2798/3000 [01:47<00:02, 76.82it/s]"
          ]
        },
        {
          "output_type": "stream",
          "name": "stdout",
          "text": [
            "Registro 2789 sin segmentos válidos\n",
            "Registro 2792 sin segmentos válidos\n",
            "Registro 2793 sin segmentos válidos\n",
            "Registro 2796 sin segmentos válidos\n",
            "Registro 2798 sin segmentos válidos\n"
          ]
        },
        {
          "output_type": "stream",
          "name": "stderr",
          "text": [
            "Part_4 registros:  94%|█████████▍| 2815/3000 [01:47<00:02, 66.27it/s]"
          ]
        },
        {
          "output_type": "stream",
          "name": "stdout",
          "text": [
            "Registro 2805 sin segmentos válidos\n",
            "Registro 2816 sin segmentos válidos\n",
            "Registro 2818 sin segmentos válidos\n",
            "Registro 2820 sin segmentos válidos\n"
          ]
        },
        {
          "output_type": "stream",
          "name": "stderr",
          "text": [
            "Part_4 registros:  95%|█████████▌| 2851/3000 [01:48<00:05, 25.15it/s]"
          ]
        },
        {
          "output_type": "stream",
          "name": "stdout",
          "text": [
            "Registro 2845 sin segmentos válidos\n"
          ]
        },
        {
          "output_type": "stream",
          "name": "stderr",
          "text": [
            "Part_4 registros:  96%|█████████▌| 2871/3000 [01:49<00:03, 33.62it/s]"
          ]
        },
        {
          "output_type": "stream",
          "name": "stdout",
          "text": [
            "Registro 2864 sin segmentos válidos\n"
          ]
        },
        {
          "output_type": "stream",
          "name": "stderr",
          "text": [
            "Part_4 registros:  97%|█████████▋| 2902/3000 [01:50<00:02, 46.81it/s]"
          ]
        },
        {
          "output_type": "stream",
          "name": "stdout",
          "text": [
            "Registro 2893 sin segmentos válidos\n",
            "Registro 2898 sin segmentos válidos\n"
          ]
        },
        {
          "output_type": "stream",
          "name": "stderr",
          "text": [
            "Part_4 registros:  97%|█████████▋| 2924/3000 [01:50<00:01, 55.01it/s]"
          ]
        },
        {
          "output_type": "stream",
          "name": "stdout",
          "text": [
            "Registro 2916 sin segmentos válidos\n",
            "Registro 2917 sin segmentos válidos\n",
            "Registro 2918 sin segmentos válidos\n",
            "Registro 2920 sin segmentos válidos\n",
            "Registro 2922 sin segmentos válidos\n",
            "Registro 2925 sin segmentos válidos\n",
            "Registro 2928 sin segmentos válidos\n"
          ]
        },
        {
          "output_type": "stream",
          "name": "stderr",
          "text": [
            "Part_4 registros:  98%|█████████▊| 2941/3000 [01:51<00:01, 38.01it/s]"
          ]
        },
        {
          "output_type": "stream",
          "name": "stdout",
          "text": [
            "Registro 2935 sin segmentos válidos\n"
          ]
        },
        {
          "output_type": "stream",
          "name": "stderr",
          "text": [
            "\rPart_4 registros:  98%|█████████▊| 2951/3000 [01:51<00:01, 46.14it/s]"
          ]
        },
        {
          "output_type": "stream",
          "name": "stdout",
          "text": [
            "Registro 2947 sin segmentos válidos\n",
            "Registro 2953 sin segmentos válidos\n"
          ]
        },
        {
          "output_type": "stream",
          "name": "stderr",
          "text": [
            "Part_4 registros:  99%|█████████▊| 2961/3000 [01:51<00:01, 38.15it/s]"
          ]
        },
        {
          "output_type": "stream",
          "name": "stdout",
          "text": [
            "Registro 2956 sin segmentos válidos\n",
            "Registro 2961 sin segmentos válidos\n",
            "Registro 2962 sin segmentos válidos\n"
          ]
        },
        {
          "output_type": "stream",
          "name": "stderr",
          "text": [
            "Part_4 registros:  99%|█████████▉| 2977/3000 [01:53<00:01, 17.44it/s]"
          ]
        },
        {
          "output_type": "stream",
          "name": "stdout",
          "text": [
            "Registro 2975 sin segmentos válidos\n"
          ]
        },
        {
          "output_type": "stream",
          "name": "stderr",
          "text": [
            "Part_4 registros: 100%|█████████▉| 2988/3000 [01:53<00:00, 19.62it/s]"
          ]
        },
        {
          "output_type": "stream",
          "name": "stdout",
          "text": [
            "Registro 2984 sin segmentos válidos\n",
            "Registro 2985 sin segmentos válidos\n",
            "Registro 2988 sin segmentos válidos\n",
            "Registro 2991 sin segmentos válidos\n"
          ]
        },
        {
          "output_type": "stream",
          "name": "stderr",
          "text": [
            "Part_4 registros: 100%|██████████| 3000/3000 [01:54<00:00, 26.28it/s]"
          ]
        },
        {
          "output_type": "stream",
          "name": "stdout",
          "text": [
            "Registro 2997 sin segmentos válidos\n",
            "\n",
            " Proceso terminado.\n",
            "   → Registros procesados con segmentos: 10874\n",
            "   → Archivos .npy guardados: 10874\n",
            "   → Archivos en carpeta segmentos_guardados: 10874 pares\n"
          ]
        },
        {
          "output_type": "stream",
          "name": "stderr",
          "text": [
            "\n"
          ]
        }
      ]
    },
    {
      "cell_type": "markdown",
      "source": [
        "HASTA ACA EL PREPROCESAMIENTO\n",
        "(Detalle, dividir mejor la data del test y train de distinta manera) Al ser bastante data no alcanza la RAM para procesar todo. Se puede hacer una carpeta adicional donde se divida una carpeta TRAIN y TEST"
      ],
      "metadata": {
        "id": "vlIzMgOh6qvM"
      }
    },
    {
      "cell_type": "markdown",
      "source": [
        "## Creacion del modelo\n",
        "Se pasan los valores procesado a x y y"
      ],
      "metadata": {
        "id": "Aa--76IO9aUb"
      }
    },
    {
      "cell_type": "markdown",
      "source": [
        "#### Combinar Multiples Archivos\n"
      ],
      "metadata": {
        "id": "rBSyl5FUEJXF"
      }
    },
    {
      "cell_type": "code",
      "source": [
        "# Cambia el número de archivos que quieres cargar (10, 20, etc.)\n",
        "max_archivos = 5\n",
        "\n",
        "# Buscar todos los archivos\n",
        "X_files = sorted(glob.glob('segmentos_guardados/X_seg_*.npy'))[:max_archivos]\n",
        "Y_files = sorted(glob.glob('segmentos_guardados/Y_seg_*.npy'))[:max_archivos]"
      ],
      "metadata": {
        "id": "IWRE9xpGESOC"
      },
      "execution_count": 33,
      "outputs": []
    },
    {
      "cell_type": "code",
      "source": [
        "\n",
        "#Probar con pocos datos\n",
        "#X = np.load('segmentos_guardados/X_seg_1.npy')\n",
        "#Y = np.load('segmentos_guardados/Y_seg_1.npy')\n",
        "\n",
        "# Cargar y concatenar\n",
        "X = np.concatenate([np.load(f) for f in X_files], axis=0)\n",
        "Y = np.concatenate([np.load(f) for f in Y_files], axis=0)\n",
        "\n",
        "print(f\"X shape: {X.shape}, Y shape: {Y.shape}\")"
      ],
      "metadata": {
        "id": "L6lMMBGDrdIq",
        "colab": {
          "base_uri": "https://localhost:8080/"
        },
        "outputId": "2d7ebed4-d4d5-4bd4-9219-40fa1edfea27"
      },
      "execution_count": 34,
      "outputs": [
        {
          "output_type": "stream",
          "name": "stdout",
          "text": [
            "X shape: (1939, 1024, 1), Y shape: (1939, 2)\n"
          ]
        }
      ]
    },
    {
      "cell_type": "code",
      "source": [
        "# Primera división: separa el 70% para entrenamiento y 30% para el resto\n",
        "X_train, X_temp, Y_train, Y_temp = train_test_split(X, Y, test_size=0.3, random_state=42)\n",
        "# Segunda división: divide ese 30% en mitad para validación y mitad para prueba\n",
        "X_val, X_test, Y_val, Y_test = train_test_split(X_temp, Y_temp, test_size=0.5, random_state=42)"
      ],
      "metadata": {
        "id": "RLn2a7ejuPPD"
      },
      "execution_count": 35,
      "outputs": []
    },
    {
      "cell_type": "code",
      "source": [
        "\n",
        "\n",
        "def unet_1d(input_shape):\n",
        "    inputs = layers.Input(shape=input_shape)\n",
        "\n",
        "    # Encoder\n",
        "    x1 = layers.Conv1D(64, 3, padding='same', activation='relu')(inputs)\n",
        "    p1 = layers.MaxPooling1D(2)(x1)\n",
        "\n",
        "    x2 = layers.Conv1D(128, 3, padding='same', activation='relu')(p1)\n",
        "    p2 = layers.MaxPooling1D(2)(x2)\n",
        "\n",
        "    # Bottleneck\n",
        "    bn = layers.Conv1D(256, 3, padding='same', activation='relu')(p2)\n",
        "\n",
        "    # Decoder\n",
        "    u2 = layers.UpSampling1D(2)(bn)\n",
        "    c2 = layers.concatenate([u2, x2])\n",
        "    x3 = layers.Conv1D(128, 3, padding='same', activation='relu')(c2)\n",
        "\n",
        "    u1 = layers.UpSampling1D(2)(x3)\n",
        "    c1 = layers.concatenate([u1, x1])\n",
        "    x4 = layers.Conv1D(64, 3, padding='same', activation='relu')(c1)\n",
        "\n",
        "    outputs = layers.Conv1D(1, 1, activation='linear')(x4)\n",
        "\n",
        "    return models.Model(inputs, outputs)\n",
        "\n",
        "def cnn_regresion_1d(input_shape=(1024, 1)):\n",
        "    inputs = layers.Input(shape=input_shape)\n",
        "\n",
        "    x = layers.Conv1D(32, kernel_size=5, activation='relu', padding='same')(inputs)\n",
        "    x = layers.MaxPooling1D(pool_size=2)(x)\n",
        "\n",
        "    x = layers.Conv1D(64, kernel_size=5, activation='relu', padding='same')(x)\n",
        "    x = layers.MaxPooling1D(pool_size=2)(x)\n",
        "\n",
        "    x = layers.Conv1D(128, kernel_size=5, activation='relu', padding='same')(x)\n",
        "    x = layers.GlobalAveragePooling1D()(x)\n",
        "\n",
        "    x = layers.Dense(128, activation='relu')(x)\n",
        "    x = layers.Dropout(0.3)(x)\n",
        "\n",
        "    outputs = layers.Dense(2, activation='linear')(x)  # SBP y DBP\n",
        "\n",
        "    model = models.Model(inputs=inputs, outputs=outputs)\n",
        "    return model\n",
        "\n",
        "def cnn_and_rnn(input_shape=(1024, 1)):\n",
        "    inputs = layers.Input(shape=input_shape)\n",
        "\n",
        "    #  Etapa convolucional\n",
        "    x = layers.Conv1D(32, kernel_size=5, activation='relu', padding='same')(inputs)\n",
        "    x = layers.MaxPooling1D(pool_size=2)(x)\n",
        "\n",
        "    x = layers.Conv1D(64, kernel_size=5, activation='relu', padding='same')(x)\n",
        "    x = layers.MaxPooling1D(pool_size=2)(x)\n",
        "\n",
        "    # Etapa recurrente\n",
        "    x = layers.Bidirectional(layers.LSTM(64, return_sequences=False))(x)\n",
        "\n",
        "    # Densas finales\n",
        "    x = layers.Dense(64, activation='relu')(x)\n",
        "    x = layers.Dropout(0.3)(x)\n",
        "\n",
        "    outputs = layers.Dense(2, activation='linear')(x)  # SBP, DBP\n",
        "\n",
        "    return models.Model(inputs=inputs, outputs=outputs)\n",
        "\n"
      ],
      "metadata": {
        "id": "T7Qshu-cukc2"
      },
      "execution_count": 36,
      "outputs": []
    },
    {
      "cell_type": "markdown",
      "source": [
        "## Entrenamiento del modelo\n",
        "\n",
        "Se entrena el modelo con los datos correspondientes"
      ],
      "metadata": {
        "id": "k_CzQvle9pCJ"
      }
    },
    {
      "cell_type": "code",
      "source": [
        "#model = unet_1d((1024, 1))\n",
        "#cnn normal con validaciones\n",
        "#model = cnn_regresion_1d((1024, 1))\n",
        "#cnn + rnn\n",
        "model = cnn_and_rnn((1024, 1))\n",
        "model.compile(optimizer='adam', loss='mse', metrics=['mae'])\n",
        "\n",
        "history = model.fit(X_train, Y_train,\n",
        "                    validation_data=(X_val, Y_val),\n",
        "                    epochs=30,\n",
        "                    batch_size=64)\n"
      ],
      "metadata": {
        "id": "ZnFwDX0pun4O",
        "colab": {
          "base_uri": "https://localhost:8080/"
        },
        "outputId": "b31fd0f6-20b3-4d84-9d7b-67051e2d0113"
      },
      "execution_count": 37,
      "outputs": [
        {
          "output_type": "stream",
          "name": "stdout",
          "text": [
            "Epoch 1/30\n",
            "\u001b[1m22/22\u001b[0m \u001b[32m━━━━━━━━━━━━━━━━━━━━\u001b[0m\u001b[37m\u001b[0m \u001b[1m15s\u001b[0m 471ms/step - loss: 11996.8066 - mae: 103.1060 - val_loss: 11033.6309 - val_mae: 98.6847\n",
            "Epoch 2/30\n",
            "\u001b[1m22/22\u001b[0m \u001b[32m━━━━━━━━━━━━━━━━━━━━\u001b[0m\u001b[37m\u001b[0m \u001b[1m19s\u001b[0m 423ms/step - loss: 10443.1377 - mae: 95.8573 - val_loss: 8347.0088 - val_mae: 85.3175\n",
            "Epoch 3/30\n",
            "\u001b[1m22/22\u001b[0m \u001b[32m━━━━━━━━━━━━━━━━━━━━\u001b[0m\u001b[37m\u001b[0m \u001b[1m10s\u001b[0m 378ms/step - loss: 7615.6748 - mae: 81.0108 - val_loss: 5396.1016 - val_mae: 67.2837\n",
            "Epoch 4/30\n",
            "\u001b[1m22/22\u001b[0m \u001b[32m━━━━━━━━━━━━━━━━━━━━\u001b[0m\u001b[37m\u001b[0m \u001b[1m11s\u001b[0m 450ms/step - loss: 4783.9043 - mae: 62.3741 - val_loss: 2885.1123 - val_mae: 46.7837\n",
            "Epoch 5/30\n",
            "\u001b[1m22/22\u001b[0m \u001b[32m━━━━━━━━━━━━━━━━━━━━\u001b[0m\u001b[37m\u001b[0m \u001b[1m10s\u001b[0m 448ms/step - loss: 2516.7747 - mae: 42.2270 - val_loss: 1272.4127 - val_mae: 28.4957\n",
            "Epoch 6/30\n",
            "\u001b[1m22/22\u001b[0m \u001b[32m━━━━━━━━━━━━━━━━━━━━\u001b[0m\u001b[37m\u001b[0m \u001b[1m9s\u001b[0m 385ms/step - loss: 1170.8130 - mae: 26.4743 - val_loss: 540.5234 - val_mae: 17.4652\n",
            "Epoch 7/30\n",
            "\u001b[1m22/22\u001b[0m \u001b[32m━━━━━━━━━━━━━━━━━━━━\u001b[0m\u001b[37m\u001b[0m \u001b[1m10s\u001b[0m 371ms/step - loss: 683.7228 - mae: 20.1071 - val_loss: 283.0347 - val_mae: 12.8054\n",
            "Epoch 8/30\n",
            "\u001b[1m22/22\u001b[0m \u001b[32m━━━━━━━━━━━━━━━━━━━━\u001b[0m\u001b[37m\u001b[0m \u001b[1m11s\u001b[0m 405ms/step - loss: 519.9598 - mae: 17.6071 - val_loss: 214.4894 - val_mae: 10.5840\n",
            "Epoch 9/30\n",
            "\u001b[1m22/22\u001b[0m \u001b[32m━━━━━━━━━━━━━━━━━━━━\u001b[0m\u001b[37m\u001b[0m \u001b[1m11s\u001b[0m 446ms/step - loss: 483.7260 - mae: 17.0523 - val_loss: 195.2783 - val_mae: 9.9942\n",
            "Epoch 10/30\n",
            "\u001b[1m22/22\u001b[0m \u001b[32m━━━━━━━━━━━━━━━━━━━━\u001b[0m\u001b[37m\u001b[0m \u001b[1m10s\u001b[0m 441ms/step - loss: 484.9775 - mae: 17.0769 - val_loss: 190.0656 - val_mae: 9.9142\n",
            "Epoch 11/30\n",
            "\u001b[1m22/22\u001b[0m \u001b[32m━━━━━━━━━━━━━━━━━━━━\u001b[0m\u001b[37m\u001b[0m \u001b[1m8s\u001b[0m 370ms/step - loss: 538.0622 - mae: 17.8579 - val_loss: 190.9295 - val_mae: 9.9874\n",
            "Epoch 12/30\n",
            "\u001b[1m22/22\u001b[0m \u001b[32m━━━━━━━━━━━━━━━━━━━━\u001b[0m\u001b[37m\u001b[0m \u001b[1m12s\u001b[0m 452ms/step - loss: 486.4203 - mae: 17.0459 - val_loss: 190.0307 - val_mae: 9.9287\n",
            "Epoch 13/30\n",
            "\u001b[1m22/22\u001b[0m \u001b[32m━━━━━━━━━━━━━━━━━━━━\u001b[0m\u001b[37m\u001b[0m \u001b[1m10s\u001b[0m 457ms/step - loss: 488.1530 - mae: 17.0479 - val_loss: 190.1301 - val_mae: 9.9700\n",
            "Epoch 14/30\n",
            "\u001b[1m22/22\u001b[0m \u001b[32m━━━━━━━━━━━━━━━━━━━━\u001b[0m\u001b[37m\u001b[0m \u001b[1m10s\u001b[0m 439ms/step - loss: 469.4529 - mae: 16.8463 - val_loss: 191.0404 - val_mae: 9.9933\n",
            "Epoch 15/30\n",
            "\u001b[1m22/22\u001b[0m \u001b[32m━━━━━━━━━━━━━━━━━━━━\u001b[0m\u001b[37m\u001b[0m \u001b[1m9s\u001b[0m 397ms/step - loss: 469.3137 - mae: 16.9314 - val_loss: 190.1894 - val_mae: 9.9440\n",
            "Epoch 16/30\n",
            "\u001b[1m22/22\u001b[0m \u001b[32m━━━━━━━━━━━━━━━━━━━━\u001b[0m\u001b[37m\u001b[0m \u001b[1m11s\u001b[0m 414ms/step - loss: 480.8045 - mae: 17.0002 - val_loss: 189.0809 - val_mae: 9.8614\n",
            "Epoch 17/30\n",
            "\u001b[1m22/22\u001b[0m \u001b[32m━━━━━━━━━━━━━━━━━━━━\u001b[0m\u001b[37m\u001b[0m \u001b[1m11s\u001b[0m 446ms/step - loss: 438.3904 - mae: 16.1163 - val_loss: 190.6730 - val_mae: 9.9974\n",
            "Epoch 18/30\n",
            "\u001b[1m22/22\u001b[0m \u001b[32m━━━━━━━━━━━━━━━━━━━━\u001b[0m\u001b[37m\u001b[0m \u001b[1m10s\u001b[0m 440ms/step - loss: 468.0551 - mae: 16.4587 - val_loss: 192.5231 - val_mae: 10.0349\n",
            "Epoch 19/30\n",
            "\u001b[1m22/22\u001b[0m \u001b[32m━━━━━━━━━━━━━━━━━━━━\u001b[0m\u001b[37m\u001b[0m \u001b[1m9s\u001b[0m 372ms/step - loss: 478.7263 - mae: 16.8292 - val_loss: 189.7535 - val_mae: 9.9384\n",
            "Epoch 20/30\n",
            "\u001b[1m22/22\u001b[0m \u001b[32m━━━━━━━━━━━━━━━━━━━━\u001b[0m\u001b[37m\u001b[0m \u001b[1m11s\u001b[0m 397ms/step - loss: 445.0583 - mae: 16.4739 - val_loss: 189.9493 - val_mae: 9.9576\n",
            "Epoch 21/30\n",
            "\u001b[1m22/22\u001b[0m \u001b[32m━━━━━━━━━━━━━━━━━━━━\u001b[0m\u001b[37m\u001b[0m \u001b[1m10s\u001b[0m 453ms/step - loss: 457.6568 - mae: 16.4362 - val_loss: 190.6648 - val_mae: 10.0207\n",
            "Epoch 22/30\n",
            "\u001b[1m22/22\u001b[0m \u001b[32m━━━━━━━━━━━━━━━━━━━━\u001b[0m\u001b[37m\u001b[0m \u001b[1m10s\u001b[0m 460ms/step - loss: 435.3628 - mae: 16.2502 - val_loss: 192.2221 - val_mae: 10.0569\n",
            "Epoch 23/30\n",
            "\u001b[1m22/22\u001b[0m \u001b[32m━━━━━━━━━━━━━━━━━━━━\u001b[0m\u001b[37m\u001b[0m \u001b[1m9s\u001b[0m 378ms/step - loss: 467.6180 - mae: 16.5447 - val_loss: 192.4880 - val_mae: 10.0736\n",
            "Epoch 24/30\n",
            "\u001b[1m22/22\u001b[0m \u001b[32m━━━━━━━━━━━━━━━━━━━━\u001b[0m\u001b[37m\u001b[0m \u001b[1m11s\u001b[0m 412ms/step - loss: 450.3354 - mae: 16.1239 - val_loss: 191.3361 - val_mae: 9.9706\n",
            "Epoch 25/30\n",
            "\u001b[1m22/22\u001b[0m \u001b[32m━━━━━━━━━━━━━━━━━━━━\u001b[0m\u001b[37m\u001b[0m \u001b[1m11s\u001b[0m 438ms/step - loss: 471.3221 - mae: 16.7076 - val_loss: 189.2884 - val_mae: 9.8853\n",
            "Epoch 26/30\n",
            "\u001b[1m22/22\u001b[0m \u001b[32m━━━━━━━━━━━━━━━━━━━━\u001b[0m\u001b[37m\u001b[0m \u001b[1m10s\u001b[0m 452ms/step - loss: 448.7632 - mae: 16.3959 - val_loss: 189.1760 - val_mae: 9.8829\n",
            "Epoch 27/30\n",
            "\u001b[1m22/22\u001b[0m \u001b[32m━━━━━━━━━━━━━━━━━━━━\u001b[0m\u001b[37m\u001b[0m \u001b[1m9s\u001b[0m 375ms/step - loss: 473.0492 - mae: 16.5779 - val_loss: 190.5782 - val_mae: 9.9813\n",
            "Epoch 28/30\n",
            "\u001b[1m22/22\u001b[0m \u001b[32m━━━━━━━━━━━━━━━━━━━━\u001b[0m\u001b[37m\u001b[0m \u001b[1m11s\u001b[0m 377ms/step - loss: 471.6423 - mae: 16.5199 - val_loss: 194.3446 - val_mae: 10.1803\n",
            "Epoch 29/30\n",
            "\u001b[1m22/22\u001b[0m \u001b[32m━━━━━━━━━━━━━━━━━━━━\u001b[0m\u001b[37m\u001b[0m \u001b[1m10s\u001b[0m 439ms/step - loss: 445.5630 - mae: 16.1499 - val_loss: 192.5773 - val_mae: 10.0933\n",
            "Epoch 30/30\n",
            "\u001b[1m22/22\u001b[0m \u001b[32m━━━━━━━━━━━━━━━━━━━━\u001b[0m\u001b[37m\u001b[0m \u001b[1m9s\u001b[0m 420ms/step - loss: 459.7415 - mae: 16.3969 - val_loss: 190.9380 - val_mae: 9.9965\n"
          ]
        }
      ]
    },
    {
      "cell_type": "markdown",
      "source": [
        "## Pruebes del rendimiento del modelo\n"
      ],
      "metadata": {
        "id": "UtoIhGaB9xTX"
      }
    },
    {
      "cell_type": "markdown",
      "source": [
        "### Graficos de prediccion\n",
        "predicion del vector [SBD,DBP]"
      ],
      "metadata": {
        "id": "LD3nG1h9GhDD"
      }
    },
    {
      "cell_type": "code",
      "source": [
        "# Elegir índice a visualizar\n",
        "i = 0\n",
        "\n",
        "# Real y predicción\n",
        "pred = model.predict(X_test[i:i+1])[0]  # pred: [SBP_pred, DBP_pred]\n",
        "real = Y_test[i]                        # real: [SBP_real, DBP_real]\n",
        "\n",
        "\n",
        "print(f\"SBP real: {real[0]:.2f} - predicho: {pred[0]:.2f}\")\n",
        "print(f\"DBP real: {real[1]:.2f} - predicho: {pred[1]:.2f}\")\n",
        "\n",
        "# Visualización tipo barras\n",
        "\n",
        "labels = ['SBP', 'DBP']\n",
        "x = np.arange(len(labels))\n",
        "\n",
        "plt.bar(x - 0.15, real, width=0.3, label='Real')\n",
        "plt.bar(x + 0.15, pred, width=0.3, label='Predicción')\n",
        "plt.xticks(x, labels)\n",
        "plt.ylabel('Presión (mmHg)')\n",
        "plt.title('Comparación SBP/DBP: Real vs Predicho')\n",
        "plt.legend()\n",
        "plt.grid(True)\n",
        "plt.show()\n"
      ],
      "metadata": {
        "id": "i_jlAjwYHERy",
        "colab": {
          "base_uri": "https://localhost:8080/",
          "height": 505
        },
        "outputId": "32ac07e6-21b0-4e71-97be-47f1b925a9dc"
      },
      "execution_count": 39,
      "outputs": [
        {
          "output_type": "stream",
          "name": "stdout",
          "text": [
            "\u001b[1m1/1\u001b[0m \u001b[32m━━━━━━━━━━━━━━━━━━━━\u001b[0m\u001b[37m\u001b[0m \u001b[1m0s\u001b[0m 58ms/step\n",
            "SBP real: 142.43 - predicho: 135.47\n",
            "DBP real: 70.19 - predicho: 67.51\n"
          ]
        },
        {
          "output_type": "display_data",
          "data": {
            "text/plain": [
              "<Figure size 640x480 with 1 Axes>"
            ],
            "image/png": "[encoded data removed]"
          },
          "metadata": {}
        }
      ]
    }
  ]
}