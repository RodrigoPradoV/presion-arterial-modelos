{
  "nbformat": 4,
  "nbformat_minor": 0,
  "metadata": {
    "colab": {
      "provenance": []
    },
    "kernelspec": {
      "name": "python3",
      "display_name": "Python 3"
    },
    "language_info": {
      "name": "python"
    }
  },
  "cells": [
    {
      "cell_type": "markdown",
      "source": [
        "# Modelo Predictivo de Estimación de Presión Arterial"
      ],
      "metadata": {
        "id": "0xloH_j_947F"
      }
    },
    {
      "cell_type": "markdown",
      "source": [
        "**Procesamiento de la Data:**\n",
        "Utilizamos la data que esta en .mat, por lo que tenemos que agruparla en mediciones de 10 segundos como se va a utilizar en la realidad. Asi tenemos un numero  de muestras establecido."
      ],
      "metadata": {
        "id": "9Px76DWy2FWs"
      }
    },
    {
      "cell_type": "code",
      "source": [
        "import os\n",
        "import h5py\n",
        "import numpy as np\n",
        "import matplotlib.pyplot as plt\n",
        "from tqdm import tqdm\n",
        "from sklearn.model_selection import train_test_split\n",
        "\n",
        "import zipfile\n",
        "import os\n",
        "import shutil\n",
        "\n",
        "import matplotlib.pyplot as plt\n",
        "import glob\n",
        "import os\n",
        "from scipy.signal import butter, filtfilt\n",
        "\n",
        "import tensorflow as tf\n",
        "from tensorflow.keras.utils import Sequence\n",
        "from tensorflow.keras import layers, models"
      ],
      "metadata": {
        "id": "nEyEtVOv24Yc"
      },
      "execution_count": 1,
      "outputs": []
    },
    {
      "cell_type": "markdown",
      "source": [
        "## Se descarga un dataset\n",
        "Dataset público (no MIMIC-II, sino del UCI Machine Learning Repository)."
      ],
      "metadata": {
        "id": "XvFgBxs_kTU_"
      }
    },
    {
      "cell_type": "code",
      "source": [
        "! wget https://archive.ics.uci.edu/ml/machine-learning-databases/00340/data.zip"
      ],
      "metadata": {
        "id": "UtdO4i2H6EOe",
        "colab": {
          "base_uri": "https://localhost:8080/"
        },
        "outputId": "662588dc-23fe-4f7c-b5e0-42f6b64a09e9"
      },
      "execution_count": 2,
      "outputs": [
        {
          "output_type": "stream",
          "name": "stdout",
          "text": [
            "--2025-07-03 01:09:01--  https://archive.ics.uci.edu/ml/machine-learning-databases/00340/data.zip\n",
            "Resolving archive.ics.uci.edu (archive.ics.uci.edu)... 128.195.10.252\n",
            "Connecting to archive.ics.uci.edu (archive.ics.uci.edu)|128.195.10.252|:443... connected.\n",
            "HTTP request sent, awaiting response... 200 OK\n",
            "Length: unspecified\n",
            "Saving to: ‘data.zip’\n",
            "\n",
            "data.zip                [           <=>      ]   3.13G  7.63MB/s    in 5m 18s  \n",
            "\n",
            "2025-07-03 01:14:19 (10.1 MB/s) - ‘data.zip’ saved [3363163675]\n",
            "\n"
          ]
        }
      ]
    },
    {
      "cell_type": "markdown",
      "source": [
        "## Descompresion de Datos\n",
        "Se descomprimen los datos y crea una carpeta raw_data, donde se almacenaran los archivos\n",
        "\n"
      ],
      "metadata": {
        "id": "LOxQzbPTke_h"
      }
    },
    {
      "cell_type": "code",
      "source": [
        "\n",
        "\n",
        "# Descomprimir en carpeta temporal\n",
        "with zipfile.ZipFile('data.zip', 'r') as zip_ref:\n",
        "    zip_ref.extractall('/content/temp_data')\n",
        "\n",
        "print(\"Archivo descomprimido en /content/temp_data\")\n",
        "\n",
        "# Crear carpeta raw_data si no existe\n",
        "os.makedirs('/content/raw_data', exist_ok=True)\n",
        "\n",
        "# Mover todo lo descomprimido a raw_data\n",
        "for root, dirs, files in os.walk('/content/temp_data'):\n",
        "    for file in files:\n",
        "        src = os.path.join(root, file)\n",
        "        dst = os.path.join('/content/raw_data', file)\n",
        "        shutil.move(src, dst)\n",
        "\n",
        "print(\"Archivos movidos a /content/raw_data\")\n",
        "\n",
        "# (Opcional) Verificar los archivos\n",
        "print(\"\\Archivos en /content/raw_data:\")\n",
        "for f in os.listdir('/content/raw_data'):\n",
        "    print(f)"
      ],
      "metadata": {
        "id": "-dvgbmnV6J_J",
        "colab": {
          "base_uri": "https://localhost:8080/"
        },
        "outputId": "e4db7516-4ed3-40e1-f7c8-00ac1abf63b4"
      },
      "execution_count": 3,
      "outputs": [
        {
          "output_type": "stream",
          "name": "stdout",
          "text": [
            "Archivo descomprimido en /content/temp_data\n",
            "Archivos movidos a /content/raw_data\n",
            "\\Archivos en /content/raw_data:\n",
            "._Part_1.mat\n",
            "._Part_3.mat\n",
            "Part_2.mat\n",
            "Part_1.mat\n",
            "Part_3.mat\n",
            "._Part_2.mat\n",
            "._Part_4.mat\n",
            "Part_4.mat\n"
          ]
        }
      ]
    },
    {
      "cell_type": "markdown",
      "source": [
        "## Funciones para Preprocesamiento\n",
        "Se declaran funciones que seran empleadas para procesar los datos"
      ],
      "metadata": {
        "id": "mOQ8oSLQuho7"
      }
    },
    {
      "cell_type": "code",
      "source": [
        "#lleva cada segmento a un rango de [0,1]\n",
        "def normalize(segment):\n",
        "    min_val = np.min(segment)\n",
        "    max_val = np.max(segment)\n",
        "    if np.isclose(max_val, min_val):\n",
        "        return np.zeros_like(segment)\n",
        "    return (segment - min_val) / (max_val - min_val)\n",
        "\n",
        "\n",
        "def bandpass_filter(signal, lowcut=0.5, highcut=8.0, fs=125, order=4):\n",
        "    nyquist = 0.5 * fs\n",
        "    low = lowcut / nyquist\n",
        "    high = highcut / nyquist\n",
        "    b, a = butter(order, [low, high], btype='band')\n",
        "    filtered_signal = filtfilt(b, a, signal)\n",
        "    return filtered_signal\n",
        "\n",
        "#Corta la señal en ventanas de 1024 muestras (8.2 s a 125 Hz).\n",
        "#Usa stride de 128\n",
        "def segmentar(signal, bp, segment_length=1024, stride=128):\n",
        "    X, Y = [], []\n",
        "    # Aplicar filtro pasa banda a la señal PPG\n",
        "    signal = bandpass_filter(signal)\n",
        "    for i in range(0, len(signal) - segment_length + 1, stride):\n",
        "        ppg_seg = signal[i:i+segment_length]\n",
        "        abp_seg = bp[i:i+segment_length]\n",
        "\n",
        "        # 👉 VALIDACIÓN OPCIONAL: descartar segmentos planos o ruidosos\n",
        "        # if np.std(ppg_seg) < 0.01 or np.std(abp_seg) < 0.01:\n",
        "        #     continue\n",
        "\n",
        "\n",
        "        #Normaliza el segmento\n",
        "        ppg_seg = normalize(ppg_seg)\n",
        "        abp_seg = normalize(abp_seg)\n",
        "        X.append(ppg_seg)\n",
        "        Y.append(abp_seg)\n",
        "    return np.array(X), np.array(Y)"
      ],
      "metadata": {
        "id": "nw8rvxW3u1XP"
      },
      "execution_count": 4,
      "outputs": []
    },
    {
      "cell_type": "markdown",
      "source": [
        "Se procesan los datos"
      ],
      "metadata": {
        "id": "dMEKqrq0wTuQ"
      }
    },
    {
      "cell_type": "code",
      "source": [
        "\n",
        "\n",
        "\n",
        "#definicion de archivos de entrada\n",
        "archivos = ['raw_data/Part_1.mat', 'raw_data/Part_2.mat', 'raw_data/Part_3.mat', 'raw_data/Part_4.mat']\n",
        "output_dir = 'segmentos_guardados'\n",
        "os.makedirs(output_dir, exist_ok=True)\n",
        "\n",
        "segment_count = 0\n",
        "registro_procesado = 0\n",
        "\n",
        "for archivo in archivos:\n",
        "    grupo_id = os.path.splitext(os.path.basename(archivo))[0]\n",
        "    print(f'\\Procesando: {archivo}')\n",
        "\n",
        "    with h5py.File(archivo, 'r') as f:\n",
        "      #se verifica que el grupo exista\n",
        "        if grupo_id not in f:\n",
        "            print(f'Grupo {grupo_id} no encontrado en {archivo}')\n",
        "            continue\n",
        "\n",
        "        registros = f[grupo_id]\n",
        "        print(f'Total registros en {grupo_id}: {len(registros)}')\n",
        "\n",
        "        for i in tqdm(range(len(registros)), desc=f'{grupo_id} registros'):\n",
        "            try:\n",
        "                ref = registros[i][0]\n",
        "                record = f[ref][()]\n",
        "\n",
        "                #se descarca si no es el formato esperado\n",
        "                if record.ndim != 2 or record.shape[1] < 2:\n",
        "                    print(f'Registro {i} inválido: forma {record.shape}')\n",
        "                    continue\n",
        "                #extrae la columna 0 como señal ppg y la columna 1 como presion arterial\n",
        "                signal = record[:, 0]\n",
        "                bp = record[:, 1]\n",
        "\n",
        "                X_seg, Y_seg = segmentar(signal, bp)\n",
        "                if X_seg.size > 0:\n",
        "                    np.save(os.path.join(output_dir, f'X_seg_{segment_count}.npy'),\n",
        "                            X_seg[..., np.newaxis].astype(np.float32))\n",
        "                    np.save(os.path.join(output_dir, f'Y_seg_{segment_count}.npy'),\n",
        "                            Y_seg[..., np.newaxis].astype(np.float32))\n",
        "                    segment_count += 1\n",
        "                    registro_procesado += 1\n",
        "                else:\n",
        "                    print(f'Registro {i} sin segmentos válidos')\n",
        "            except Exception as e:\n",
        "                print(f'Error en registro {i}: {e}')\n",
        "\n",
        "print(f'\\n Proceso terminado.')\n",
        "print(f'   → Registros procesados con segmentos: {registro_procesado}')\n",
        "print(f'   → Archivos .npy guardados: {segment_count}')\n",
        "print(f'   → Archivos en carpeta {output_dir}: {len(os.listdir(output_dir)) // 2} pares')\n",
        "\n"
      ],
      "metadata": {
        "id": "7R175e0N3iRU",
        "colab": {
          "base_uri": "https://localhost:8080/"
        },
        "outputId": "a23ee937-375e-4054-b9be-f23f2a162db3"
      },
      "execution_count": 5,
      "outputs": [
        {
          "output_type": "stream",
          "name": "stdout",
          "text": [
            "\\Procesando: raw_data/Part_1.mat\n",
            "Total registros en Part_1: 3000\n"
          ]
        },
        {
          "output_type": "stream",
          "name": "stderr",
          "text": [
            "Part_1 registros:   1%|          | 16/3000 [00:00<01:26, 34.56it/s]"
          ]
        },
        {
          "output_type": "stream",
          "name": "stdout",
          "text": [
            "Registro 9 sin segmentos válidos\n",
            "Registro 10 sin segmentos válidos\n",
            "Registro 12 sin segmentos válidos\n",
            "Registro 13 sin segmentos válidos\n"
          ]
        },
        {
          "output_type": "stream",
          "name": "stderr",
          "text": [
            "Part_1 registros:   1%|          | 31/3000 [00:00<00:55, 53.87it/s]"
          ]
        },
        {
          "output_type": "stream",
          "name": "stdout",
          "text": [
            "Registro 21 sin segmentos válidos\n"
          ]
        },
        {
          "output_type": "stream",
          "name": "stderr",
          "text": [
            "Part_1 registros:   2%|▏         | 67/3000 [00:01<00:44, 65.88it/s]"
          ]
        },
        {
          "output_type": "stream",
          "name": "stdout",
          "text": [
            "Registro 47 sin segmentos válidos\n",
            "Registro 49 sin segmentos válidos\n",
            "Registro 51 sin segmentos válidos\n",
            "Registro 54 sin segmentos válidos\n",
            "Registro 56 sin segmentos válidos\n",
            "Registro 59 sin segmentos válidos\n",
            "Registro 60 sin segmentos válidos\n",
            "Registro 65 sin segmentos válidos\n"
          ]
        },
        {
          "output_type": "stream",
          "name": "stderr",
          "text": [
            "\rPart_1 registros:   2%|▎         | 75/3000 [00:01<00:50, 57.40it/s]"
          ]
        },
        {
          "output_type": "stream",
          "name": "stdout",
          "text": [
            "Registro 75 sin segmentos válidos\n"
          ]
        },
        {
          "output_type": "stream",
          "name": "stderr",
          "text": [
            "Part_1 registros:   3%|▎         | 94/3000 [00:02<01:11, 40.92it/s]"
          ]
        },
        {
          "output_type": "stream",
          "name": "stdout",
          "text": [
            "Registro 92 sin segmentos válidos\n",
            "Registro 96 sin segmentos válidos\n",
            "Registro 97 sin segmentos válidos\n"
          ]
        },
        {
          "output_type": "stream",
          "name": "stderr",
          "text": [
            "Part_1 registros:   4%|▎         | 111/3000 [00:02<01:45, 27.44it/s]"
          ]
        },
        {
          "output_type": "stream",
          "name": "stdout",
          "text": [
            "Registro 107 sin segmentos válidos\n"
          ]
        },
        {
          "output_type": "stream",
          "name": "stderr",
          "text": [
            "Part_1 registros:   4%|▍         | 125/3000 [00:03<01:28, 32.57it/s]"
          ]
        },
        {
          "output_type": "stream",
          "name": "stdout",
          "text": [
            "Registro 119 sin segmentos válidos\n",
            "Registro 123 sin segmentos válidos\n"
          ]
        },
        {
          "output_type": "stream",
          "name": "stderr",
          "text": [
            "Part_1 registros:   5%|▍         | 145/3000 [00:03<01:14, 38.34it/s]"
          ]
        },
        {
          "output_type": "stream",
          "name": "stdout",
          "text": [
            "Registro 135 sin segmentos válidos\n",
            "Registro 138 sin segmentos válidos\n",
            "Registro 142 sin segmentos válidos\n"
          ]
        },
        {
          "output_type": "stream",
          "name": "stderr",
          "text": [
            "Part_1 registros:   5%|▌         | 155/3000 [00:04<01:13, 38.78it/s]"
          ]
        },
        {
          "output_type": "stream",
          "name": "stdout",
          "text": [
            "Registro 147 sin segmentos válidos\n"
          ]
        },
        {
          "output_type": "stream",
          "name": "stderr",
          "text": [
            "Part_1 registros:  11%|█         | 331/3000 [00:13<01:32, 28.92it/s]"
          ]
        },
        {
          "output_type": "stream",
          "name": "stdout",
          "text": [
            "Registro 328 sin segmentos válidos\n"
          ]
        },
        {
          "output_type": "stream",
          "name": "stderr",
          "text": [
            "Part_1 registros:  13%|█▎        | 390/3000 [00:16<01:03, 40.90it/s]"
          ]
        },
        {
          "output_type": "stream",
          "name": "stdout",
          "text": [
            "Registro 386 sin segmentos válidos\n",
            "Registro 390 sin segmentos válidos\n"
          ]
        },
        {
          "output_type": "stream",
          "name": "stderr",
          "text": [
            "Part_1 registros:  15%|█▍        | 447/3000 [00:18<01:12, 35.14it/s]"
          ]
        },
        {
          "output_type": "stream",
          "name": "stdout",
          "text": [
            "Registro 445 sin segmentos válidos\n"
          ]
        },
        {
          "output_type": "stream",
          "name": "stderr",
          "text": [
            "Part_1 registros:  18%|█▊        | 528/3000 [00:20<01:11, 34.63it/s]"
          ]
        },
        {
          "output_type": "stream",
          "name": "stdout",
          "text": [
            "Registro 523 sin segmentos válidos\n",
            "Registro 526 sin segmentos válidos\n"
          ]
        },
        {
          "output_type": "stream",
          "name": "stderr",
          "text": [
            "Part_1 registros:  18%|█▊        | 547/3000 [00:21<01:32, 26.59it/s]"
          ]
        },
        {
          "output_type": "stream",
          "name": "stdout",
          "text": [
            "Registro 540 sin segmentos válidos\n"
          ]
        },
        {
          "output_type": "stream",
          "name": "stderr",
          "text": [
            "Part_1 registros:  19%|█▉        | 566/3000 [00:22<01:31, 26.50it/s]"
          ]
        },
        {
          "output_type": "stream",
          "name": "stdout",
          "text": [
            "Registro 558 sin segmentos válidos\n",
            "Registro 568 sin segmentos válidos\n"
          ]
        },
        {
          "output_type": "stream",
          "name": "stderr",
          "text": [
            "Part_1 registros:  20%|█▉        | 591/3000 [00:23<01:03, 37.90it/s]"
          ]
        },
        {
          "output_type": "stream",
          "name": "stdout",
          "text": [
            "Registro 584 sin segmentos válidos\n"
          ]
        },
        {
          "output_type": "stream",
          "name": "stderr",
          "text": [
            "Part_1 registros:  20%|██        | 600/3000 [00:23<01:22, 29.19it/s]"
          ]
        },
        {
          "output_type": "stream",
          "name": "stdout",
          "text": [
            "Registro 596 sin segmentos válidos\n"
          ]
        },
        {
          "output_type": "stream",
          "name": "stderr",
          "text": [
            "Part_1 registros:  20%|██        | 614/3000 [00:24<01:14, 31.90it/s]"
          ]
        },
        {
          "output_type": "stream",
          "name": "stdout",
          "text": [
            "Registro 608 sin segmentos válidos\n",
            "Registro 615 sin segmentos válidos\n",
            "Registro 618 sin segmentos válidos\n"
          ]
        },
        {
          "output_type": "stream",
          "name": "stderr",
          "text": [
            "Part_1 registros:  21%|██        | 636/3000 [00:24<01:15, 31.40it/s]"
          ]
        },
        {
          "output_type": "stream",
          "name": "stdout",
          "text": [
            "Registro 631 sin segmentos válidos\n",
            "Registro 632 sin segmentos válidos\n",
            "Registro 638 sin segmentos válidos\n"
          ]
        },
        {
          "output_type": "stream",
          "name": "stderr",
          "text": [
            "Part_1 registros:  22%|██▏       | 657/3000 [00:25<00:56, 41.17it/s]"
          ]
        },
        {
          "output_type": "stream",
          "name": "stdout",
          "text": [
            "Registro 650 sin segmentos válidos\n"
          ]
        },
        {
          "output_type": "stream",
          "name": "stderr",
          "text": [
            "Part_1 registros:  22%|██▏       | 671/3000 [00:25<00:44, 52.78it/s]"
          ]
        },
        {
          "output_type": "stream",
          "name": "stdout",
          "text": [
            "Registro 659 sin segmentos válidos\n",
            "Registro 666 sin segmentos válidos\n",
            "Registro 672 sin segmentos válidos\n"
          ]
        },
        {
          "output_type": "stream",
          "name": "stderr",
          "text": [
            "\rPart_1 registros:  23%|██▎       | 677/3000 [00:25<00:47, 48.65it/s]"
          ]
        },
        {
          "output_type": "stream",
          "name": "stdout",
          "text": [
            "Registro 675 sin segmentos válidos\n"
          ]
        },
        {
          "output_type": "stream",
          "name": "stderr",
          "text": [
            "Part_1 registros:  24%|██▍       | 720/3000 [00:27<01:21, 28.06it/s]"
          ]
        },
        {
          "output_type": "stream",
          "name": "stdout",
          "text": [
            "Registro 716 sin segmentos válidos\n"
          ]
        },
        {
          "output_type": "stream",
          "name": "stderr",
          "text": [
            "Part_1 registros:  24%|██▍       | 734/3000 [00:27<01:37, 23.27it/s]"
          ]
        },
        {
          "output_type": "stream",
          "name": "stdout",
          "text": [
            "Registro 732 sin segmentos válidos\n"
          ]
        },
        {
          "output_type": "stream",
          "name": "stderr",
          "text": [
            "Part_1 registros:  26%|██▌       | 777/3000 [00:28<00:38, 57.53it/s]"
          ]
        },
        {
          "output_type": "stream",
          "name": "stdout",
          "text": [
            "Registro 764 sin segmentos válidos\n",
            "Registro 765 sin segmentos válidos\n"
          ]
        },
        {
          "output_type": "stream",
          "name": "stderr",
          "text": [
            "Part_1 registros:  27%|██▋       | 817/3000 [00:30<01:09, 31.57it/s]"
          ]
        },
        {
          "output_type": "stream",
          "name": "stdout",
          "text": [
            "Registro 811 sin segmentos válidos\n"
          ]
        },
        {
          "output_type": "stream",
          "name": "stderr",
          "text": [
            "Part_1 registros:  28%|██▊       | 833/3000 [00:30<00:56, 38.47it/s]"
          ]
        },
        {
          "output_type": "stream",
          "name": "stdout",
          "text": [
            "Registro 826 sin segmentos válidos\n"
          ]
        },
        {
          "output_type": "stream",
          "name": "stderr",
          "text": [
            "Part_1 registros:  28%|██▊       | 848/3000 [00:30<00:42, 50.52it/s]"
          ]
        },
        {
          "output_type": "stream",
          "name": "stdout",
          "text": [
            "Registro 837 sin segmentos válidos\n"
          ]
        },
        {
          "output_type": "stream",
          "name": "stderr",
          "text": [
            "Part_1 registros:  29%|██▉       | 870/3000 [00:31<00:30, 70.65it/s]"
          ]
        },
        {
          "output_type": "stream",
          "name": "stdout",
          "text": [
            "Registro 851 sin segmentos válidos\n",
            "Registro 855 sin segmentos válidos\n"
          ]
        },
        {
          "output_type": "stream",
          "name": "stderr",
          "text": [
            "Part_1 registros:  30%|███       | 904/3000 [00:31<00:18, 115.13it/s]"
          ]
        },
        {
          "output_type": "stream",
          "name": "stdout",
          "text": [
            "Registro 874 sin segmentos válidos\n",
            "Registro 875 sin segmentos válidos\n",
            "Registro 879 sin segmentos válidos\n",
            "Registro 880 sin segmentos válidos\n",
            "Registro 887 sin segmentos válidos\n",
            "Registro 899 sin segmentos válidos\n",
            "Registro 900 sin segmentos válidos\n",
            "Registro 908 sin segmentos válidos\n",
            "Registro 909 sin segmentos válidos\n",
            "Registro 910 sin segmentos válidos\n"
          ]
        },
        {
          "output_type": "stream",
          "name": "stderr",
          "text": [
            "Part_1 registros:  32%|███▏      | 945/3000 [00:31<00:20, 101.33it/s]"
          ]
        },
        {
          "output_type": "stream",
          "name": "stdout",
          "text": [
            "Registro 933 sin segmentos válidos\n",
            "Registro 937 sin segmentos válidos\n",
            "Registro 938 sin segmentos válidos\n"
          ]
        },
        {
          "output_type": "stream",
          "name": "stderr",
          "text": [
            "Part_1 registros:  32%|███▏      | 974/3000 [00:32<00:32, 61.93it/s]"
          ]
        },
        {
          "output_type": "stream",
          "name": "stdout",
          "text": [
            "Registro 966 sin segmentos válidos\n"
          ]
        },
        {
          "output_type": "stream",
          "name": "stderr",
          "text": [
            "Part_1 registros:  33%|███▎      | 990/3000 [00:32<00:30, 65.53it/s]"
          ]
        },
        {
          "output_type": "stream",
          "name": "stdout",
          "text": [
            "Registro 979 sin segmentos válidos\n",
            "Registro 980 sin segmentos válidos\n",
            "Registro 982 sin segmentos válidos\n"
          ]
        },
        {
          "output_type": "stream",
          "name": "stderr",
          "text": [
            "Part_1 registros:  34%|███▍      | 1027/3000 [00:32<00:20, 98.29it/s]"
          ]
        },
        {
          "output_type": "stream",
          "name": "stdout",
          "text": [
            "Registro 1010 sin segmentos válidos\n",
            "Registro 1011 sin segmentos válidos\n",
            "Registro 1013 sin segmentos válidos\n",
            "Registro 1014 sin segmentos válidos\n",
            "Registro 1027 sin segmentos válidos\n",
            "Registro 1028 sin segmentos válidos\n",
            "Registro 1029 sin segmentos válidos\n"
          ]
        },
        {
          "output_type": "stream",
          "name": "stderr",
          "text": [
            "Part_1 registros:  35%|███▍      | 1048/3000 [00:33<00:22, 85.94it/s]"
          ]
        },
        {
          "output_type": "stream",
          "name": "stdout",
          "text": [
            "Registro 1036 sin segmentos válidos\n",
            "Registro 1038 sin segmentos válidos\n",
            "Registro 1040 sin segmentos válidos\n"
          ]
        },
        {
          "output_type": "stream",
          "name": "stderr",
          "text": [
            "\rPart_1 registros:  35%|███▌      | 1057/3000 [00:33<00:33, 57.71it/s]"
          ]
        },
        {
          "output_type": "stream",
          "name": "stdout",
          "text": [
            "Registro 1052 sin segmentos válidos\n"
          ]
        },
        {
          "output_type": "stream",
          "name": "stderr",
          "text": [
            "Part_1 registros:  36%|███▌      | 1076/3000 [00:34<00:50, 37.85it/s]"
          ]
        },
        {
          "output_type": "stream",
          "name": "stdout",
          "text": [
            "Registro 1070 sin segmentos válidos\n",
            "Registro 1072 sin segmentos válidos\n"
          ]
        },
        {
          "output_type": "stream",
          "name": "stderr",
          "text": [
            "Part_1 registros:  37%|███▋      | 1097/3000 [00:35<01:19, 23.86it/s]"
          ]
        },
        {
          "output_type": "stream",
          "name": "stdout",
          "text": [
            "Registro 1092 sin segmentos válidos\n",
            "Registro 1093 sin segmentos válidos\n",
            "Registro 1098 sin segmentos válidos\n"
          ]
        },
        {
          "output_type": "stream",
          "name": "stderr",
          "text": [
            "Part_1 registros:  37%|███▋      | 1107/3000 [00:35<01:13, 25.89it/s]"
          ]
        },
        {
          "output_type": "stream",
          "name": "stdout",
          "text": [
            "Registro 1107 sin segmentos válidos\n"
          ]
        },
        {
          "output_type": "stream",
          "name": "stderr",
          "text": [
            "Part_1 registros:  38%|███▊      | 1134/3000 [00:37<01:50, 16.90it/s]"
          ]
        },
        {
          "output_type": "stream",
          "name": "stdout",
          "text": [
            "Registro 1132 sin segmentos válidos\n",
            "Registro 1134 sin segmentos válidos\n",
            "Registro 1135 sin segmentos válidos\n"
          ]
        },
        {
          "output_type": "stream",
          "name": "stderr",
          "text": [
            "Part_1 registros:  38%|███▊      | 1150/3000 [00:37<01:10, 26.22it/s]"
          ]
        },
        {
          "output_type": "stream",
          "name": "stdout",
          "text": [
            "Registro 1144 sin segmentos válidos\n"
          ]
        },
        {
          "output_type": "stream",
          "name": "stderr",
          "text": [
            "Part_1 registros:  40%|███▉      | 1192/3000 [00:39<00:51, 34.98it/s]"
          ]
        },
        {
          "output_type": "stream",
          "name": "stdout",
          "text": [
            "Registro 1184 sin segmentos válidos\n"
          ]
        },
        {
          "output_type": "stream",
          "name": "stderr",
          "text": [
            "Part_1 registros:  40%|████      | 1206/3000 [00:39<00:46, 38.83it/s]"
          ]
        },
        {
          "output_type": "stream",
          "name": "stdout",
          "text": [
            "Registro 1200 sin segmentos válidos\n",
            "Registro 1204 sin segmentos válidos\n"
          ]
        },
        {
          "output_type": "stream",
          "name": "stderr",
          "text": [
            "Part_1 registros:  41%|████      | 1221/3000 [00:40<00:41, 43.27it/s]"
          ]
        },
        {
          "output_type": "stream",
          "name": "stdout",
          "text": [
            "Registro 1216 sin segmentos válidos\n"
          ]
        },
        {
          "output_type": "stream",
          "name": "stderr",
          "text": [
            "Part_1 registros:  42%|████▏     | 1270/3000 [00:41<00:43, 39.63it/s]"
          ]
        },
        {
          "output_type": "stream",
          "name": "stdout",
          "text": [
            "Registro 1260 sin segmentos válidos\n"
          ]
        },
        {
          "output_type": "stream",
          "name": "stderr",
          "text": [
            "Part_1 registros:  43%|████▎     | 1280/3000 [00:42<00:48, 35.64it/s]"
          ]
        },
        {
          "output_type": "stream",
          "name": "stdout",
          "text": [
            "Registro 1276 sin segmentos válidos\n"
          ]
        },
        {
          "output_type": "stream",
          "name": "stderr",
          "text": [
            "Part_1 registros:  43%|████▎     | 1290/3000 [00:42<00:44, 38.12it/s]"
          ]
        },
        {
          "output_type": "stream",
          "name": "stdout",
          "text": [
            "Registro 1283 sin segmentos válidos\n"
          ]
        },
        {
          "output_type": "stream",
          "name": "stderr",
          "text": [
            "Part_1 registros:  46%|████▌     | 1369/3000 [00:43<00:13, 124.45it/s]"
          ]
        },
        {
          "output_type": "stream",
          "name": "stdout",
          "text": [
            "Registro 1318 sin segmentos válidos\n",
            "Registro 1322 sin segmentos válidos\n",
            "Registro 1324 sin segmentos válidos\n",
            "Registro 1325 sin segmentos válidos\n",
            "Registro 1328 sin segmentos válidos\n",
            "Registro 1332 sin segmentos válidos\n",
            "Registro 1335 sin segmentos válidos\n",
            "Registro 1336 sin segmentos válidos\n",
            "Registro 1338 sin segmentos válidos\n",
            "Registro 1342 sin segmentos válidos\n",
            "Registro 1350 sin segmentos válidos\n",
            "Registro 1351 sin segmentos válidos\n",
            "Registro 1352 sin segmentos válidos\n",
            "Registro 1353 sin segmentos válidos\n",
            "Registro 1354 sin segmentos válidos\n",
            "Registro 1356 sin segmentos válidos\n",
            "Registro 1357 sin segmentos válidos\n",
            "Registro 1362 sin segmentos válidos\n",
            "Registro 1364 sin segmentos válidos\n",
            "Registro 1365 sin segmentos válidos\n",
            "Registro 1366 sin segmentos válidos\n"
          ]
        },
        {
          "output_type": "stream",
          "name": "stderr",
          "text": [
            "Part_1 registros:  47%|████▋     | 1411/3000 [00:45<00:40, 39.62it/s]"
          ]
        },
        {
          "output_type": "stream",
          "name": "stdout",
          "text": [
            "Registro 1401 sin segmentos válidos\n",
            "Registro 1406 sin segmentos válidos\n",
            "Registro 1407 sin segmentos válidos\n"
          ]
        },
        {
          "output_type": "stream",
          "name": "stderr",
          "text": [
            "\rPart_1 registros:  47%|████▋     | 1418/3000 [00:45<00:41, 38.38it/s]"
          ]
        },
        {
          "output_type": "stream",
          "name": "stdout",
          "text": [
            "Registro 1413 sin segmentos válidos\n"
          ]
        },
        {
          "output_type": "stream",
          "name": "stderr",
          "text": [
            "Part_1 registros:  48%|████▊     | 1429/3000 [00:45<00:45, 34.37it/s]"
          ]
        },
        {
          "output_type": "stream",
          "name": "stdout",
          "text": [
            "Registro 1422 sin segmentos válidos\n",
            "Registro 1423 sin segmentos válidos\n",
            "Registro 1429 sin segmentos válidos\n"
          ]
        },
        {
          "output_type": "stream",
          "name": "stderr",
          "text": [
            "Part_1 registros:  48%|████▊     | 1447/3000 [00:46<00:51, 30.37it/s]"
          ]
        },
        {
          "output_type": "stream",
          "name": "stdout",
          "text": [
            "Registro 1441 sin segmentos válidos\n",
            "Registro 1443 sin segmentos válidos\n"
          ]
        },
        {
          "output_type": "stream",
          "name": "stderr",
          "text": [
            "\rPart_1 registros:  48%|████▊     | 1451/3000 [00:46<00:53, 29.19it/s]"
          ]
        },
        {
          "output_type": "stream",
          "name": "stdout",
          "text": [
            "Registro 1448 sin segmentos válidos\n"
          ]
        },
        {
          "output_type": "stream",
          "name": "stderr",
          "text": [
            "Part_1 registros:  50%|████▉     | 1489/3000 [00:47<00:56, 26.89it/s]"
          ]
        },
        {
          "output_type": "stream",
          "name": "stdout",
          "text": [
            "Registro 1483 sin segmentos válidos\n",
            "Registro 1484 sin segmentos válidos\n"
          ]
        },
        {
          "output_type": "stream",
          "name": "stderr",
          "text": [
            "Part_1 registros:  50%|█████     | 1507/3000 [00:48<00:45, 32.49it/s]"
          ]
        },
        {
          "output_type": "stream",
          "name": "stdout",
          "text": [
            "Registro 1498 sin segmentos válidos\n"
          ]
        },
        {
          "output_type": "stream",
          "name": "stderr",
          "text": [
            "Part_1 registros:  51%|█████     | 1524/3000 [00:49<01:00, 24.37it/s]"
          ]
        },
        {
          "output_type": "stream",
          "name": "stdout",
          "text": [
            "Registro 1519 sin segmentos válidos\n"
          ]
        },
        {
          "output_type": "stream",
          "name": "stderr",
          "text": [
            "Part_1 registros:  51%|█████     | 1533/3000 [00:49<00:47, 31.06it/s]"
          ]
        },
        {
          "output_type": "stream",
          "name": "stdout",
          "text": [
            "Registro 1526 sin segmentos válidos\n",
            "Registro 1528 sin segmentos válidos\n"
          ]
        },
        {
          "output_type": "stream",
          "name": "stderr",
          "text": [
            "Part_1 registros:  52%|█████▏    | 1565/3000 [00:51<00:59, 24.00it/s]"
          ]
        },
        {
          "output_type": "stream",
          "name": "stdout",
          "text": [
            "Registro 1560 sin segmentos válidos\n"
          ]
        },
        {
          "output_type": "stream",
          "name": "stderr",
          "text": [
            "Part_1 registros:  52%|█████▏    | 1572/3000 [00:51<01:02, 22.93it/s]"
          ]
        },
        {
          "output_type": "stream",
          "name": "stdout",
          "text": [
            "Registro 1570 sin segmentos válidos\n",
            "Registro 1574 sin segmentos válidos\n"
          ]
        },
        {
          "output_type": "stream",
          "name": "stderr",
          "text": [
            "Part_1 registros:  53%|█████▎    | 1585/3000 [00:51<00:39, 36.28it/s]"
          ]
        },
        {
          "output_type": "stream",
          "name": "stdout",
          "text": [
            "Registro 1578 sin segmentos válidos\n"
          ]
        },
        {
          "output_type": "stream",
          "name": "stderr",
          "text": [
            "Part_1 registros:  53%|█████▎    | 1595/3000 [00:51<00:36, 38.89it/s]"
          ]
        },
        {
          "output_type": "stream",
          "name": "stdout",
          "text": [
            "Registro 1591 sin segmentos válidos\n"
          ]
        },
        {
          "output_type": "stream",
          "name": "stderr",
          "text": [
            "Part_1 registros:  54%|█████▍    | 1618/3000 [00:52<00:34, 40.48it/s]"
          ]
        },
        {
          "output_type": "stream",
          "name": "stdout",
          "text": [
            "Registro 1613 sin segmentos válidos\n",
            "Registro 1619 sin segmentos válidos\n"
          ]
        },
        {
          "output_type": "stream",
          "name": "stderr",
          "text": [
            "Part_1 registros:  55%|█████▌    | 1656/3000 [00:53<00:29, 46.02it/s]"
          ]
        },
        {
          "output_type": "stream",
          "name": "stdout",
          "text": [
            "Registro 1649 sin segmentos válidos\n",
            "Registro 1650 sin segmentos válidos\n",
            "Registro 1652 sin segmentos válidos\n",
            "Registro 1653 sin segmentos válidos\n"
          ]
        },
        {
          "output_type": "stream",
          "name": "stderr",
          "text": [
            "Part_1 registros:  56%|█████▌    | 1671/3000 [00:54<00:36, 36.86it/s]"
          ]
        },
        {
          "output_type": "stream",
          "name": "stdout",
          "text": [
            "Registro 1664 sin segmentos válidos\n"
          ]
        },
        {
          "output_type": "stream",
          "name": "stderr",
          "text": [
            "Part_1 registros:  56%|█████▋    | 1695/3000 [00:54<00:29, 43.61it/s]"
          ]
        },
        {
          "output_type": "stream",
          "name": "stdout",
          "text": [
            "Registro 1687 sin segmentos válidos\n",
            "Registro 1696 sin segmentos válidos\n"
          ]
        },
        {
          "output_type": "stream",
          "name": "stderr",
          "text": [
            "Part_1 registros:  57%|█████▋    | 1713/3000 [00:54<00:23, 54.32it/s]"
          ]
        },
        {
          "output_type": "stream",
          "name": "stdout",
          "text": [
            "Registro 1701 sin segmentos válidos\n"
          ]
        },
        {
          "output_type": "stream",
          "name": "stderr",
          "text": [
            "Part_1 registros:  58%|█████▊    | 1742/3000 [00:55<00:29, 42.34it/s]"
          ]
        },
        {
          "output_type": "stream",
          "name": "stdout",
          "text": [
            "Registro 1737 sin segmentos válidos\n"
          ]
        },
        {
          "output_type": "stream",
          "name": "stderr",
          "text": [
            "Part_1 registros:  59%|█████▉    | 1771/3000 [00:56<00:21, 56.22it/s]"
          ]
        },
        {
          "output_type": "stream",
          "name": "stdout",
          "text": [
            "Registro 1754 sin segmentos válidos\n",
            "Registro 1756 sin segmentos válidos\n",
            "Registro 1764 sin segmentos válidos\n",
            "Registro 1765 sin segmentos válidos\n",
            "Registro 1767 sin segmentos válidos\n"
          ]
        },
        {
          "output_type": "stream",
          "name": "stderr",
          "text": [
            "Part_1 registros:  60%|██████    | 1804/3000 [00:57<00:26, 45.07it/s]"
          ]
        },
        {
          "output_type": "stream",
          "name": "stdout",
          "text": [
            "Registro 1793 sin segmentos válidos\n",
            "Registro 1795 sin segmentos válidos\n",
            "Registro 1796 sin segmentos válidos\n",
            "Registro 1797 sin segmentos válidos\n"
          ]
        },
        {
          "output_type": "stream",
          "name": "stderr",
          "text": [
            "Part_1 registros:  61%|██████    | 1822/3000 [00:57<00:23, 49.27it/s]"
          ]
        },
        {
          "output_type": "stream",
          "name": "stdout",
          "text": [
            "Registro 1811 sin segmentos válidos\n",
            "Registro 1814 sin segmentos válidos\n",
            "Registro 1823 sin segmentos válidos\n"
          ]
        },
        {
          "output_type": "stream",
          "name": "stderr",
          "text": [
            "Part_1 registros:  62%|██████▏   | 1857/3000 [00:58<00:21, 52.27it/s]"
          ]
        },
        {
          "output_type": "stream",
          "name": "stdout",
          "text": [
            "Registro 1848 sin segmentos válidos\n",
            "Registro 1849 sin segmentos válidos\n",
            "Registro 1852 sin segmentos válidos\n"
          ]
        },
        {
          "output_type": "stream",
          "name": "stderr",
          "text": [
            "Part_1 registros:  62%|██████▏   | 1869/3000 [00:58<00:24, 46.86it/s]"
          ]
        },
        {
          "output_type": "stream",
          "name": "stdout",
          "text": [
            "Registro 1867 sin segmentos válidos\n"
          ]
        },
        {
          "output_type": "stream",
          "name": "stderr",
          "text": [
            "Part_1 registros:  64%|██████▍   | 1929/3000 [01:00<00:47, 22.64it/s]"
          ]
        },
        {
          "output_type": "stream",
          "name": "stdout",
          "text": [
            "Registro 1926 sin segmentos válidos\n"
          ]
        },
        {
          "output_type": "stream",
          "name": "stderr",
          "text": [
            "Part_1 registros:  65%|██████▍   | 1944/3000 [01:01<00:56, 18.53it/s]"
          ]
        },
        {
          "output_type": "stream",
          "name": "stdout",
          "text": [
            "Registro 1941 sin segmentos válidos\n"
          ]
        },
        {
          "output_type": "stream",
          "name": "stderr",
          "text": [
            "Part_1 registros:  65%|██████▌   | 1953/3000 [01:02<00:42, 24.71it/s]"
          ]
        },
        {
          "output_type": "stream",
          "name": "stdout",
          "text": [
            "Registro 1950 sin segmentos válidos\n",
            "Registro 1951 sin segmentos válidos\n"
          ]
        },
        {
          "output_type": "stream",
          "name": "stderr",
          "text": [
            "Part_1 registros:  65%|██████▌   | 1962/3000 [01:02<00:49, 20.93it/s]"
          ]
        },
        {
          "output_type": "stream",
          "name": "stdout",
          "text": [
            "Registro 1964 sin segmentos válidos\n"
          ]
        },
        {
          "output_type": "stream",
          "name": "stderr",
          "text": [
            "Part_1 registros:  66%|██████▌   | 1981/3000 [01:03<00:37, 27.08it/s]"
          ]
        },
        {
          "output_type": "stream",
          "name": "stdout",
          "text": [
            "Registro 1977 sin segmentos válidos\n",
            "Registro 1978 sin segmentos válidos\n"
          ]
        },
        {
          "output_type": "stream",
          "name": "stderr",
          "text": [
            "Part_1 registros:  66%|██████▋   | 1993/3000 [01:03<00:26, 38.47it/s]"
          ]
        },
        {
          "output_type": "stream",
          "name": "stdout",
          "text": [
            "Registro 1988 sin segmentos válidos\n",
            "Registro 1989 sin segmentos válidos\n"
          ]
        },
        {
          "output_type": "stream",
          "name": "stderr",
          "text": [
            "\rPart_1 registros:  67%|██████▋   | 1998/3000 [01:03<00:26, 38.45it/s]"
          ]
        },
        {
          "output_type": "stream",
          "name": "stdout",
          "text": [
            "Registro 1997 sin segmentos válidos\n"
          ]
        },
        {
          "output_type": "stream",
          "name": "stderr",
          "text": [
            "Part_1 registros:  68%|██████▊   | 2034/3000 [01:04<00:29, 32.56it/s]"
          ]
        },
        {
          "output_type": "stream",
          "name": "stdout",
          "text": [
            "Registro 2029 sin segmentos válidos\n",
            "Registro 2032 sin segmentos válidos\n",
            "Registro 2035 sin segmentos válidos\n",
            "Registro 2037 sin segmentos válidos\n",
            "Registro 2038 sin segmentos válidos\n"
          ]
        },
        {
          "output_type": "stream",
          "name": "stderr",
          "text": [
            "Part_1 registros:  69%|██████▉   | 2064/3000 [01:05<00:29, 31.25it/s]"
          ]
        },
        {
          "output_type": "stream",
          "name": "stdout",
          "text": [
            "Registro 2061 sin segmentos válidos\n"
          ]
        },
        {
          "output_type": "stream",
          "name": "stderr",
          "text": [
            "Part_1 registros:  70%|██████▉   | 2092/3000 [01:06<00:21, 41.41it/s]"
          ]
        },
        {
          "output_type": "stream",
          "name": "stdout",
          "text": [
            "Registro 2086 sin segmentos válidos\n",
            "Registro 2098 sin segmentos válidos\n"
          ]
        },
        {
          "output_type": "stream",
          "name": "stderr",
          "text": [
            "Part_1 registros:  71%|███████▏  | 2140/3000 [01:07<00:11, 72.62it/s]"
          ]
        },
        {
          "output_type": "stream",
          "name": "stdout",
          "text": [
            "Registro 2131 sin segmentos válidos\n",
            "Registro 2133 sin segmentos válidos\n",
            "Registro 2136 sin segmentos válidos\n"
          ]
        },
        {
          "output_type": "stream",
          "name": "stderr",
          "text": [
            "Part_1 registros:  73%|███████▎  | 2190/3000 [01:09<00:17, 45.45it/s]"
          ]
        },
        {
          "output_type": "stream",
          "name": "stdout",
          "text": [
            "Registro 2174 sin segmentos válidos\n",
            "Registro 2177 sin segmentos válidos\n"
          ]
        },
        {
          "output_type": "stream",
          "name": "stderr",
          "text": [
            "Part_1 registros:  74%|███████▍  | 2214/3000 [01:09<00:13, 58.35it/s]"
          ]
        },
        {
          "output_type": "stream",
          "name": "stdout",
          "text": [
            "Registro 2199 sin segmentos válidos\n",
            "Registro 2208 sin segmentos válidos\n",
            "Registro 2214 sin segmentos válidos\n",
            "Registro 2215 sin segmentos válidos\n"
          ]
        },
        {
          "output_type": "stream",
          "name": "stderr",
          "text": [
            "Part_1 registros:  76%|███████▌  | 2279/3000 [01:11<00:16, 44.86it/s]"
          ]
        },
        {
          "output_type": "stream",
          "name": "stdout",
          "text": [
            "Registro 2275 sin segmentos válidos\n"
          ]
        },
        {
          "output_type": "stream",
          "name": "stderr",
          "text": [
            "Part_1 registros:  76%|███████▋  | 2292/3000 [01:11<00:16, 42.91it/s]"
          ]
        },
        {
          "output_type": "stream",
          "name": "stdout",
          "text": [
            "Registro 2287 sin segmentos válidos\n",
            "Registro 2288 sin segmentos válidos\n"
          ]
        },
        {
          "output_type": "stream",
          "name": "stderr",
          "text": [
            "Part_1 registros:  77%|███████▋  | 2318/3000 [01:12<00:17, 39.48it/s]"
          ]
        },
        {
          "output_type": "stream",
          "name": "stdout",
          "text": [
            "Registro 2312 sin segmentos válidos\n"
          ]
        },
        {
          "output_type": "stream",
          "name": "stderr",
          "text": [
            "Part_1 registros:  78%|███████▊  | 2342/3000 [01:13<00:23, 27.69it/s]"
          ]
        },
        {
          "output_type": "stream",
          "name": "stdout",
          "text": [
            "Registro 2337 sin segmentos válidos\n"
          ]
        },
        {
          "output_type": "stream",
          "name": "stderr",
          "text": [
            "Part_1 registros:  79%|███████▉  | 2374/3000 [01:14<00:17, 35.61it/s]"
          ]
        },
        {
          "output_type": "stream",
          "name": "stdout",
          "text": [
            "Registro 2369 sin segmentos válidos\n"
          ]
        },
        {
          "output_type": "stream",
          "name": "stderr",
          "text": [
            "Part_1 registros:  79%|███████▉  | 2383/3000 [01:14<00:23, 26.34it/s]"
          ]
        },
        {
          "output_type": "stream",
          "name": "stdout",
          "text": [
            "Registro 2379 sin segmentos válidos\n",
            "Registro 2380 sin segmentos válidos\n",
            "Registro 2381 sin segmentos válidos\n"
          ]
        },
        {
          "output_type": "stream",
          "name": "stderr",
          "text": [
            "Part_1 registros:  81%|████████  | 2420/3000 [01:16<00:26, 21.74it/s]"
          ]
        },
        {
          "output_type": "stream",
          "name": "stdout",
          "text": [
            "Registro 2417 sin segmentos válidos\n",
            "Registro 2419 sin segmentos válidos\n",
            "Registro 2420 sin segmentos válidos\n"
          ]
        },
        {
          "output_type": "stream",
          "name": "stderr",
          "text": [
            "Part_1 registros:  82%|████████▏ | 2450/3000 [01:18<00:22, 24.72it/s]"
          ]
        },
        {
          "output_type": "stream",
          "name": "stdout",
          "text": [
            "Registro 2448 sin segmentos válidos\n"
          ]
        },
        {
          "output_type": "stream",
          "name": "stderr",
          "text": [
            "Part_1 registros:  82%|████████▏ | 2472/3000 [01:18<00:12, 42.74it/s]"
          ]
        },
        {
          "output_type": "stream",
          "name": "stdout",
          "text": [
            "Registro 2457 sin segmentos válidos\n",
            "Registro 2459 sin segmentos válidos\n",
            "Registro 2460 sin segmentos válidos\n",
            "Registro 2461 sin segmentos válidos\n",
            "Registro 2463 sin segmentos válidos\n"
          ]
        },
        {
          "output_type": "stream",
          "name": "stderr",
          "text": [
            "Part_1 registros:  83%|████████▎ | 2494/3000 [01:18<00:06, 74.34it/s]"
          ]
        },
        {
          "output_type": "stream",
          "name": "stdout",
          "text": [
            "Registro 2478 sin segmentos válidos\n",
            "Registro 2480 sin segmentos válidos\n",
            "Registro 2482 sin segmentos válidos\n",
            "Registro 2483 sin segmentos válidos\n",
            "Registro 2488 sin segmentos válidos\n",
            "Registro 2490 sin segmentos válidos\n",
            "Registro 2495 sin segmentos válidos\n",
            "Registro 2496 sin segmentos válidos\n",
            "Registro 2497 sin segmentos válidos\n",
            "Registro 2499 sin segmentos válidos\n",
            "Registro 2501 sin segmentos válidos\n"
          ]
        },
        {
          "output_type": "stream",
          "name": "stderr",
          "text": [
            "Part_1 registros:  84%|████████▍ | 2533/3000 [01:19<00:09, 50.00it/s]"
          ]
        },
        {
          "output_type": "stream",
          "name": "stdout",
          "text": [
            "Registro 2523 sin segmentos válidos\n",
            "Registro 2527 sin segmentos válidos\n"
          ]
        },
        {
          "output_type": "stream",
          "name": "stderr",
          "text": [
            "Part_1 registros:  85%|████████▌ | 2557/3000 [01:20<00:10, 42.86it/s]"
          ]
        },
        {
          "output_type": "stream",
          "name": "stdout",
          "text": [
            "Registro 2552 sin segmentos válidos\n"
          ]
        },
        {
          "output_type": "stream",
          "name": "stderr",
          "text": [
            "Part_1 registros:  86%|████████▋ | 2592/3000 [01:21<00:08, 50.89it/s]"
          ]
        },
        {
          "output_type": "stream",
          "name": "stdout",
          "text": [
            "Registro 2580 sin segmentos válidos\n",
            "Registro 2581 sin segmentos válidos\n",
            "Registro 2585 sin segmentos válidos\n"
          ]
        },
        {
          "output_type": "stream",
          "name": "stderr",
          "text": [
            "Part_1 registros:  88%|████████▊ | 2633/3000 [01:21<00:03, 95.20it/s]"
          ]
        },
        {
          "output_type": "stream",
          "name": "stdout",
          "text": [
            "Registro 2609 sin segmentos válidos\n",
            "Registro 2610 sin segmentos válidos\n",
            "Registro 2613 sin segmentos válidos\n",
            "Registro 2614 sin segmentos válidos\n",
            "Registro 2615 sin segmentos válidos\n",
            "Registro 2616 sin segmentos válidos\n",
            "Registro 2617 sin segmentos válidos\n",
            "Registro 2619 sin segmentos válidos\n",
            "Registro 2628 sin segmentos válidos\n"
          ]
        },
        {
          "output_type": "stream",
          "name": "stderr",
          "text": [
            "Part_1 registros:  88%|████████▊ | 2652/3000 [01:22<00:04, 72.93it/s]"
          ]
        },
        {
          "output_type": "stream",
          "name": "stdout",
          "text": [
            "Registro 2641 sin segmentos válidos\n",
            "Registro 2643 sin segmentos válidos\n",
            "Registro 2645 sin segmentos válidos\n",
            "Registro 2646 sin segmentos válidos\n"
          ]
        },
        {
          "output_type": "stream",
          "name": "stderr",
          "text": [
            "Part_1 registros:  89%|████████▉ | 2683/3000 [01:22<00:04, 72.29it/s]"
          ]
        },
        {
          "output_type": "stream",
          "name": "stdout",
          "text": [
            "Registro 2666 sin segmentos válidos\n",
            "Registro 2678 sin segmentos válidos\n",
            "Registro 2679 sin segmentos válidos\n"
          ]
        },
        {
          "output_type": "stream",
          "name": "stderr",
          "text": [
            "Part_1 registros:  90%|█████████ | 2706/3000 [01:22<00:03, 90.33it/s]"
          ]
        },
        {
          "output_type": "stream",
          "name": "stdout",
          "text": [
            "Registro 2690 sin segmentos válidos\n",
            "Registro 2693 sin segmentos válidos\n",
            "Registro 2707 sin segmentos válidos\n",
            "Registro 2711 sin segmentos válidos\n"
          ]
        },
        {
          "output_type": "stream",
          "name": "stderr",
          "text": [
            "Part_1 registros:  91%|█████████ | 2729/3000 [01:22<00:02, 92.94it/s]"
          ]
        },
        {
          "output_type": "stream",
          "name": "stdout",
          "text": [
            "Registro 2716 sin segmentos válidos\n",
            "Registro 2718 sin segmentos válidos\n"
          ]
        },
        {
          "output_type": "stream",
          "name": "stderr",
          "text": [
            "\rPart_1 registros:  91%|█████████▏| 2739/3000 [01:23<00:02, 94.38it/s]"
          ]
        },
        {
          "output_type": "stream",
          "name": "stdout",
          "text": [
            "Registro 2738 sin segmentos válidos\n",
            "Registro 2744 sin segmentos válidos\n"
          ]
        },
        {
          "output_type": "stream",
          "name": "stderr",
          "text": [
            "Part_1 registros:  92%|█████████▏| 2765/3000 [01:23<00:05, 45.12it/s]"
          ]
        },
        {
          "output_type": "stream",
          "name": "stdout",
          "text": [
            "Registro 2761 sin segmentos válidos\n",
            "Registro 2765 sin segmentos válidos\n"
          ]
        },
        {
          "output_type": "stream",
          "name": "stderr",
          "text": [
            "\rPart_1 registros:  92%|█████████▏| 2771/3000 [01:24<00:05, 43.39it/s]"
          ]
        },
        {
          "output_type": "stream",
          "name": "stdout",
          "text": [
            "Registro 2768 sin segmentos válidos\n"
          ]
        },
        {
          "output_type": "stream",
          "name": "stderr",
          "text": [
            "Part_1 registros:  93%|█████████▎| 2789/3000 [01:24<00:05, 41.88it/s]"
          ]
        },
        {
          "output_type": "stream",
          "name": "stdout",
          "text": [
            "Registro 2782 sin segmentos válidos\n"
          ]
        },
        {
          "output_type": "stream",
          "name": "stderr",
          "text": [
            "\rPart_1 registros:  93%|█████████▎| 2801/3000 [01:24<00:03, 58.19it/s]"
          ]
        },
        {
          "output_type": "stream",
          "name": "stdout",
          "text": [
            "Registro 2790 sin segmentos válidos\n",
            "Registro 2792 sin segmentos válidos\n",
            "Registro 2802 sin segmentos válidos\n"
          ]
        },
        {
          "output_type": "stream",
          "name": "stderr",
          "text": [
            "Part_1 registros:  94%|█████████▍| 2818/3000 [01:24<00:03, 57.36it/s]"
          ]
        },
        {
          "output_type": "stream",
          "name": "stdout",
          "text": [
            "Registro 2810 sin segmentos válidos\n",
            "Registro 2813 sin segmentos válidos\n",
            "Registro 2814 sin segmentos válidos\n",
            "Registro 2816 sin segmentos válidos\n",
            "Registro 2820 sin segmentos válidos\n",
            "Registro 2821 sin segmentos válidos\n",
            "Registro 2823 sin segmentos válidos\n",
            "Registro 2825 sin segmentos válidos\n",
            "Registro 2827 sin segmentos válidos\n"
          ]
        },
        {
          "output_type": "stream",
          "name": "stderr",
          "text": [
            "Part_1 registros:  96%|█████████▋| 2891/3000 [01:25<00:00, 166.71it/s]"
          ]
        },
        {
          "output_type": "stream",
          "name": "stdout",
          "text": [
            "Registro 2838 sin segmentos válidos\n",
            "Registro 2839 sin segmentos válidos\n",
            "Registro 2843 sin segmentos válidos\n",
            "Registro 2844 sin segmentos válidos\n",
            "Registro 2845 sin segmentos válidos\n",
            "Registro 2846 sin segmentos válidos\n",
            "Registro 2847 sin segmentos válidos\n",
            "Registro 2848 sin segmentos válidos\n",
            "Registro 2855 sin segmentos válidos\n",
            "Registro 2859 sin segmentos válidos\n",
            "Registro 2876 sin segmentos válidos\n",
            "Registro 2887 sin segmentos válidos\n",
            "Registro 2890 sin segmentos válidos\n",
            "Registro 2891 sin segmentos válidos\n",
            "Registro 2893 sin segmentos válidos\n"
          ]
        },
        {
          "output_type": "stream",
          "name": "stderr",
          "text": [
            "\rPart_1 registros:  97%|█████████▋| 2910/3000 [01:25<00:00, 151.27it/s]"
          ]
        },
        {
          "output_type": "stream",
          "name": "stdout",
          "text": [
            "Registro 2895 sin segmentos válidos\n",
            "Registro 2896 sin segmentos válidos\n"
          ]
        },
        {
          "output_type": "stream",
          "name": "stderr",
          "text": [
            "\rPart_1 registros:  98%|█████████▊| 2927/3000 [01:25<00:00, 137.51it/s]"
          ]
        },
        {
          "output_type": "stream",
          "name": "stdout",
          "text": [
            "Registro 2919 sin segmentos válidos\n",
            "Registro 2926 sin segmentos válidos\n"
          ]
        },
        {
          "output_type": "stream",
          "name": "stderr",
          "text": [
            "Part_1 registros:  99%|█████████▊| 2956/3000 [01:25<00:00, 106.98it/s]"
          ]
        },
        {
          "output_type": "stream",
          "name": "stdout",
          "text": [
            "Registro 2943 sin segmentos válidos\n",
            "Registro 2948 sin segmentos válidos\n",
            "Registro 2961 sin segmentos válidos\n"
          ]
        },
        {
          "output_type": "stream",
          "name": "stderr",
          "text": [
            "Part_1 registros: 100%|██████████| 3000/3000 [01:26<00:00, 34.54it/s]\n"
          ]
        },
        {
          "output_type": "stream",
          "name": "stdout",
          "text": [
            "\\Procesando: raw_data/Part_2.mat\n",
            "Total registros en Part_2: 3000\n"
          ]
        },
        {
          "output_type": "stream",
          "name": "stderr",
          "text": [
            "Part_2 registros:   0%|          | 3/3000 [00:00<01:40, 29.96it/s]"
          ]
        },
        {
          "output_type": "stream",
          "name": "stdout",
          "text": [
            "Registro 1 sin segmentos válidos\n"
          ]
        },
        {
          "output_type": "stream",
          "name": "stderr",
          "text": [
            "Part_2 registros:   1%|          | 37/3000 [00:01<01:03, 46.80it/s]"
          ]
        },
        {
          "output_type": "stream",
          "name": "stdout",
          "text": [
            "Registro 25 sin segmentos válidos\n",
            "Registro 27 sin segmentos válidos\n",
            "Registro 28 sin segmentos válidos\n",
            "Registro 32 sin segmentos válidos\n",
            "Registro 33 sin segmentos válidos\n",
            "Registro 40 sin segmentos válidos\n"
          ]
        },
        {
          "output_type": "stream",
          "name": "stderr",
          "text": [
            "Part_2 registros:   2%|▏         | 55/3000 [00:01<01:00, 49.02it/s]"
          ]
        },
        {
          "output_type": "stream",
          "name": "stdout",
          "text": [
            "Registro 45 sin segmentos válidos\n",
            "Registro 56 sin segmentos válidos\n",
            "Registro 58 sin segmentos válidos\n",
            "Registro 60 sin segmentos válidos\n"
          ]
        },
        {
          "output_type": "stream",
          "name": "stderr",
          "text": [
            "\rPart_2 registros:   2%|▏         | 67/3000 [00:01<00:43, 66.94it/s]"
          ]
        },
        {
          "output_type": "stream",
          "name": "stdout",
          "text": [
            "Registro 67 sin segmentos válidos\n"
          ]
        },
        {
          "output_type": "stream",
          "name": "stderr",
          "text": [
            "Part_2 registros:   3%|▎         | 82/3000 [00:02<01:02, 46.41it/s]"
          ]
        },
        {
          "output_type": "stream",
          "name": "stdout",
          "text": [
            "Registro 78 sin segmentos válidos\n"
          ]
        },
        {
          "output_type": "stream",
          "name": "stderr",
          "text": [
            "Part_2 registros:   4%|▍         | 128/3000 [00:05<03:32, 13.50it/s]"
          ]
        },
        {
          "output_type": "stream",
          "name": "stdout",
          "text": [
            "Registro 126 sin segmentos válidos\n"
          ]
        },
        {
          "output_type": "stream",
          "name": "stderr",
          "text": [
            "Part_2 registros:   5%|▌         | 156/3000 [00:07<02:12, 21.43it/s]"
          ]
        },
        {
          "output_type": "stream",
          "name": "stdout",
          "text": [
            "Registro 150 sin segmentos válidos\n"
          ]
        },
        {
          "output_type": "stream",
          "name": "stderr",
          "text": [
            "Part_2 registros:   6%|▌         | 170/3000 [00:07<01:07, 42.09it/s]"
          ]
        },
        {
          "output_type": "stream",
          "name": "stdout",
          "text": [
            "Registro 159 sin segmentos válidos\n",
            "Registro 161 sin segmentos válidos\n",
            "Registro 167 sin segmentos válidos\n",
            "Registro 174 sin segmentos válidos\n"
          ]
        },
        {
          "output_type": "stream",
          "name": "stderr",
          "text": [
            "Part_2 registros:   6%|▌         | 182/3000 [00:07<01:04, 44.02it/s]"
          ]
        },
        {
          "output_type": "stream",
          "name": "stdout",
          "text": [
            "Registro 178 sin segmentos válidos\n"
          ]
        },
        {
          "output_type": "stream",
          "name": "stderr",
          "text": [
            "Part_2 registros:   8%|▊         | 234/3000 [00:09<00:51, 53.78it/s]"
          ]
        },
        {
          "output_type": "stream",
          "name": "stdout",
          "text": [
            "Registro 221 sin segmentos válidos\n",
            "Registro 222 sin segmentos válidos\n",
            "Registro 224 sin segmentos válidos\n",
            "Registro 227 sin segmentos válidos\n",
            "Registro 230 sin segmentos válidos\n"
          ]
        },
        {
          "output_type": "stream",
          "name": "stderr",
          "text": [
            "Part_2 registros:   9%|▉         | 275/3000 [00:10<00:57, 47.16it/s]"
          ]
        },
        {
          "output_type": "stream",
          "name": "stdout",
          "text": [
            "Registro 262 sin segmentos válidos\n",
            "Registro 264 sin segmentos válidos\n",
            "Registro 266 sin segmentos válidos\n"
          ]
        },
        {
          "output_type": "stream",
          "name": "stderr",
          "text": [
            "Part_2 registros:  10%|▉         | 291/3000 [00:10<00:50, 53.39it/s]"
          ]
        },
        {
          "output_type": "stream",
          "name": "stdout",
          "text": [
            "Registro 278 sin segmentos válidos\n",
            "Registro 286 sin segmentos válidos\n",
            "Registro 289 sin segmentos válidos\n"
          ]
        },
        {
          "output_type": "stream",
          "name": "stderr",
          "text": [
            "Part_2 registros:  11%|█         | 321/3000 [00:11<00:37, 70.65it/s]"
          ]
        },
        {
          "output_type": "stream",
          "name": "stdout",
          "text": [
            "Registro 309 sin segmentos válidos\n",
            "Registro 310 sin segmentos válidos\n",
            "Registro 311 sin segmentos válidos\n",
            "Registro 315 sin segmentos válidos\n"
          ]
        },
        {
          "output_type": "stream",
          "name": "stderr",
          "text": [
            "\rPart_2 registros:  11%|█         | 330/3000 [00:11<00:36, 73.00it/s]"
          ]
        },
        {
          "output_type": "stream",
          "name": "stdout",
          "text": [
            "Registro 329 sin segmentos válidos\n",
            "Registro 330 sin segmentos válidos\n"
          ]
        },
        {
          "output_type": "stream",
          "name": "stderr",
          "text": [
            "Part_2 registros:  12%|█▏        | 352/3000 [00:12<00:55, 47.69it/s]"
          ]
        },
        {
          "output_type": "stream",
          "name": "stdout",
          "text": [
            "Registro 347 sin segmentos válidos\n",
            "Registro 353 sin segmentos válidos\n"
          ]
        },
        {
          "output_type": "stream",
          "name": "stderr",
          "text": [
            "Part_2 registros:  13%|█▎        | 385/3000 [00:13<01:09, 37.39it/s]"
          ]
        },
        {
          "output_type": "stream",
          "name": "stdout",
          "text": [
            "Registro 374 sin segmentos válidos\n"
          ]
        },
        {
          "output_type": "stream",
          "name": "stderr",
          "text": [
            "Part_2 registros:  14%|█▎        | 406/3000 [00:13<01:06, 38.86it/s]"
          ]
        },
        {
          "output_type": "stream",
          "name": "stdout",
          "text": [
            "Registro 402 sin segmentos válidos\n",
            "Registro 403 sin segmentos válidos\n"
          ]
        },
        {
          "output_type": "stream",
          "name": "stderr",
          "text": [
            "Part_2 registros:  16%|█▌        | 465/3000 [00:16<01:30, 28.16it/s]"
          ]
        },
        {
          "output_type": "stream",
          "name": "stdout",
          "text": [
            "Registro 459 sin segmentos válidos\n"
          ]
        },
        {
          "output_type": "stream",
          "name": "stderr",
          "text": [
            "Part_2 registros:  16%|█▌        | 478/3000 [00:16<01:49, 22.99it/s]"
          ]
        },
        {
          "output_type": "stream",
          "name": "stdout",
          "text": [
            "Registro 476 sin segmentos válidos\n"
          ]
        },
        {
          "output_type": "stream",
          "name": "stderr",
          "text": [
            "Part_2 registros:  17%|█▋        | 500/3000 [00:17<01:21, 30.54it/s]"
          ]
        },
        {
          "output_type": "stream",
          "name": "stdout",
          "text": [
            "Registro 493 sin segmentos válidos\n",
            "Registro 497 sin segmentos válidos\n",
            "Registro 498 sin segmentos válidos\n"
          ]
        },
        {
          "output_type": "stream",
          "name": "stderr",
          "text": [
            "Part_2 registros:  17%|█▋        | 523/3000 [00:18<01:54, 21.55it/s]"
          ]
        },
        {
          "output_type": "stream",
          "name": "stdout",
          "text": [
            "Registro 522 sin segmentos válidos\n"
          ]
        },
        {
          "output_type": "stream",
          "name": "stderr",
          "text": [
            "Part_2 registros:  19%|█▉        | 581/3000 [00:21<01:12, 33.15it/s]"
          ]
        },
        {
          "output_type": "stream",
          "name": "stdout",
          "text": [
            "Registro 576 sin segmentos válidos\n",
            "Registro 580 sin segmentos válidos\n"
          ]
        },
        {
          "output_type": "stream",
          "name": "stderr",
          "text": [
            "Part_2 registros:  20%|█▉        | 591/3000 [00:21<01:16, 31.60it/s]"
          ]
        },
        {
          "output_type": "stream",
          "name": "stdout",
          "text": [
            "Registro 588 sin segmentos válidos\n"
          ]
        },
        {
          "output_type": "stream",
          "name": "stderr",
          "text": [
            "Part_2 registros:  20%|██        | 604/3000 [00:22<01:42, 23.39it/s]"
          ]
        },
        {
          "output_type": "stream",
          "name": "stdout",
          "text": [
            "Registro 600 sin segmentos válidos\n",
            "Registro 602 sin segmentos válidos\n"
          ]
        },
        {
          "output_type": "stream",
          "name": "stderr",
          "text": [
            "Part_2 registros:  21%|██        | 625/3000 [00:23<01:13, 32.53it/s]"
          ]
        },
        {
          "output_type": "stream",
          "name": "stdout",
          "text": [
            "Registro 616 sin segmentos válidos\n",
            "Registro 620 sin segmentos válidos\n",
            "Registro 621 sin segmentos válidos\n"
          ]
        },
        {
          "output_type": "stream",
          "name": "stderr",
          "text": [
            "Part_2 registros:  22%|██▏       | 648/3000 [00:23<00:45, 51.76it/s]"
          ]
        },
        {
          "output_type": "stream",
          "name": "stdout",
          "text": [
            "Registro 636 sin segmentos válidos\n",
            "Registro 637 sin segmentos válidos\n",
            "Registro 638 sin segmentos válidos\n",
            "Registro 642 sin segmentos válidos\n"
          ]
        },
        {
          "output_type": "stream",
          "name": "stderr",
          "text": [
            "Part_2 registros:  22%|██▏       | 669/3000 [00:23<00:32, 70.77it/s]"
          ]
        },
        {
          "output_type": "stream",
          "name": "stdout",
          "text": [
            "Registro 652 sin segmentos válidos\n",
            "Registro 657 sin segmentos válidos\n",
            "Registro 662 sin segmentos válidos\n",
            "Registro 663 sin segmentos válidos\n",
            "Registro 667 sin segmentos válidos\n",
            "Registro 669 sin segmentos válidos\n",
            "Registro 670 sin segmentos válidos\n"
          ]
        },
        {
          "output_type": "stream",
          "name": "stderr",
          "text": [
            "Part_2 registros:  23%|██▎       | 698/3000 [00:24<00:47, 48.48it/s]"
          ]
        },
        {
          "output_type": "stream",
          "name": "stdout",
          "text": [
            "Registro 686 sin segmentos válidos\n",
            "Registro 698 sin segmentos válidos\n"
          ]
        },
        {
          "output_type": "stream",
          "name": "stderr",
          "text": [
            "Part_2 registros:  24%|██▍       | 719/3000 [00:24<00:41, 55.01it/s]"
          ]
        },
        {
          "output_type": "stream",
          "name": "stdout",
          "text": [
            "Registro 707 sin segmentos válidos\n",
            "Registro 714 sin segmentos válidos\n",
            "Registro 715 sin segmentos válidos\n",
            "Registro 716 sin segmentos válidos\n"
          ]
        },
        {
          "output_type": "stream",
          "name": "stderr",
          "text": [
            "\rPart_2 registros:  24%|██▍       | 726/3000 [00:25<00:38, 58.46it/s]"
          ]
        },
        {
          "output_type": "stream",
          "name": "stdout",
          "text": [
            "Registro 722 sin segmentos válidos\n",
            "Registro 725 sin segmentos válidos\n"
          ]
        },
        {
          "output_type": "stream",
          "name": "stderr",
          "text": [
            "Part_2 registros:  25%|██▍       | 739/3000 [00:25<00:45, 49.79it/s]"
          ]
        },
        {
          "output_type": "stream",
          "name": "stdout",
          "text": [
            "Registro 732 sin segmentos válidos\n"
          ]
        },
        {
          "output_type": "stream",
          "name": "stderr",
          "text": [
            "Part_2 registros:  26%|██▌       | 770/3000 [00:26<00:40, 55.37it/s]"
          ]
        },
        {
          "output_type": "stream",
          "name": "stdout",
          "text": [
            "Registro 760 sin segmentos válidos\n",
            "Registro 772 sin segmentos válidos\n"
          ]
        },
        {
          "output_type": "stream",
          "name": "stderr",
          "text": [
            "Part_2 registros:  26%|██▌       | 785/3000 [00:26<00:35, 62.19it/s]"
          ]
        },
        {
          "output_type": "stream",
          "name": "stdout",
          "text": [
            "Registro 775 sin segmentos válidos\n",
            "Registro 784 sin segmentos válidos\n"
          ]
        },
        {
          "output_type": "stream",
          "name": "stderr",
          "text": [
            "Part_2 registros:  27%|██▋       | 798/3000 [00:26<00:54, 40.67it/s]"
          ]
        },
        {
          "output_type": "stream",
          "name": "stdout",
          "text": [
            "Registro 796 sin segmentos válidos\n"
          ]
        },
        {
          "output_type": "stream",
          "name": "stderr",
          "text": [
            "Part_2 registros:  27%|██▋       | 823/3000 [00:27<01:35, 22.80it/s]"
          ]
        },
        {
          "output_type": "stream",
          "name": "stdout",
          "text": [
            "Registro 819 sin segmentos válidos\n"
          ]
        },
        {
          "output_type": "stream",
          "name": "stderr",
          "text": [
            "Part_2 registros:  28%|██▊       | 831/3000 [00:28<01:31, 23.62it/s]"
          ]
        },
        {
          "output_type": "stream",
          "name": "stdout",
          "text": [
            "Registro 828 sin segmentos válidos\n",
            "Registro 831 sin segmentos válidos\n"
          ]
        },
        {
          "output_type": "stream",
          "name": "stderr",
          "text": [
            "Part_2 registros:  28%|██▊       | 844/3000 [00:29<01:57, 18.42it/s]"
          ]
        },
        {
          "output_type": "stream",
          "name": "stdout",
          "text": [
            "Registro 841 sin segmentos válidos\n"
          ]
        },
        {
          "output_type": "stream",
          "name": "stderr",
          "text": [
            "Part_2 registros:  29%|██▊       | 860/3000 [00:29<01:06, 32.16it/s]"
          ]
        },
        {
          "output_type": "stream",
          "name": "stdout",
          "text": [
            "Registro 854 sin segmentos válidos\n",
            "Registro 855 sin segmentos válidos\n",
            "Registro 863 sin segmentos válidos\n"
          ]
        },
        {
          "output_type": "stream",
          "name": "stderr",
          "text": [
            "Part_2 registros:  31%|███       | 925/3000 [00:34<01:38, 20.97it/s]"
          ]
        },
        {
          "output_type": "stream",
          "name": "stdout",
          "text": [
            "Registro 921 sin segmentos válidos\n"
          ]
        },
        {
          "output_type": "stream",
          "name": "stderr",
          "text": [
            "Part_2 registros:  33%|███▎      | 1001/3000 [00:38<00:49, 40.00it/s]"
          ]
        },
        {
          "output_type": "stream",
          "name": "stdout",
          "text": [
            "Registro 996 sin segmentos válidos\n",
            "Registro 999 sin segmentos válidos\n"
          ]
        },
        {
          "output_type": "stream",
          "name": "stderr",
          "text": [
            "Part_2 registros:  34%|███▍      | 1019/3000 [00:38<01:09, 28.48it/s]"
          ]
        },
        {
          "output_type": "stream",
          "name": "stdout",
          "text": [
            "Registro 1014 sin segmentos válidos\n",
            "Registro 1015 sin segmentos válidos\n"
          ]
        },
        {
          "output_type": "stream",
          "name": "stderr",
          "text": [
            "Part_2 registros:  36%|███▋      | 1094/3000 [00:41<00:45, 41.73it/s]"
          ]
        },
        {
          "output_type": "stream",
          "name": "stdout",
          "text": [
            "Registro 1083 sin segmentos válidos\n",
            "Registro 1090 sin segmentos válidos\n"
          ]
        },
        {
          "output_type": "stream",
          "name": "stderr",
          "text": [
            "Part_2 registros:  37%|███▋      | 1112/3000 [00:42<01:06, 28.43it/s]"
          ]
        },
        {
          "output_type": "stream",
          "name": "stdout",
          "text": [
            "Registro 1110 sin segmentos válidos\n"
          ]
        },
        {
          "output_type": "stream",
          "name": "stderr",
          "text": [
            "Part_2 registros:  38%|███▊      | 1142/3000 [00:43<00:45, 40.89it/s]"
          ]
        },
        {
          "output_type": "stream",
          "name": "stdout",
          "text": [
            "Registro 1136 sin segmentos válidos\n",
            "Registro 1137 sin segmentos válidos\n"
          ]
        },
        {
          "output_type": "stream",
          "name": "stderr",
          "text": [
            "Part_2 registros:  39%|███▉      | 1163/3000 [00:44<01:16, 24.07it/s]"
          ]
        },
        {
          "output_type": "stream",
          "name": "stdout",
          "text": [
            "Registro 1162 sin segmentos válidos\n"
          ]
        },
        {
          "output_type": "stream",
          "name": "stderr",
          "text": [
            "Part_2 registros:  43%|████▎     | 1286/3000 [00:50<00:43, 39.79it/s]"
          ]
        },
        {
          "output_type": "stream",
          "name": "stdout",
          "text": [
            "Registro 1276 sin segmentos válidos\n"
          ]
        },
        {
          "output_type": "stream",
          "name": "stderr",
          "text": [
            "Part_2 registros:  44%|████▎     | 1311/3000 [00:51<00:45, 37.01it/s]"
          ]
        },
        {
          "output_type": "stream",
          "name": "stdout",
          "text": [
            "Registro 1303 sin segmentos válidos\n",
            "Registro 1309 sin segmentos válidos\n"
          ]
        },
        {
          "output_type": "stream",
          "name": "stderr",
          "text": [
            "Part_2 registros:  44%|████▍     | 1327/3000 [00:51<00:34, 49.04it/s]"
          ]
        },
        {
          "output_type": "stream",
          "name": "stdout",
          "text": [
            "Registro 1317 sin segmentos válidos\n",
            "Registro 1320 sin segmentos válidos\n"
          ]
        },
        {
          "output_type": "stream",
          "name": "stderr",
          "text": [
            "Part_2 registros:  45%|████▍     | 1338/3000 [00:51<00:38, 43.28it/s]"
          ]
        },
        {
          "output_type": "stream",
          "name": "stdout",
          "text": [
            "Registro 1335 sin segmentos válidos\n"
          ]
        },
        {
          "output_type": "stream",
          "name": "stderr",
          "text": [
            "Part_2 registros:  46%|████▌     | 1374/3000 [00:53<00:35, 46.28it/s]"
          ]
        },
        {
          "output_type": "stream",
          "name": "stdout",
          "text": [
            "Registro 1357 sin segmentos válidos\n",
            "Registro 1360 sin segmentos válidos\n",
            "Registro 1367 sin segmentos válidos\n",
            "Registro 1368 sin segmentos válidos\n",
            "Registro 1369 sin segmentos válidos\n",
            "Registro 1372 sin segmentos válidos\n"
          ]
        },
        {
          "output_type": "stream",
          "name": "stderr",
          "text": [
            "Part_2 registros:  52%|█████▏    | 1552/3000 [01:00<00:58, 24.89it/s]"
          ]
        },
        {
          "output_type": "stream",
          "name": "stdout",
          "text": [
            "Registro 1547 sin segmentos válidos\n"
          ]
        },
        {
          "output_type": "stream",
          "name": "stderr",
          "text": [
            "Part_2 registros:  52%|█████▏    | 1574/3000 [01:01<01:17, 18.46it/s]"
          ]
        },
        {
          "output_type": "stream",
          "name": "stdout",
          "text": [
            "Registro 1572 sin segmentos válidos\n"
          ]
        },
        {
          "output_type": "stream",
          "name": "stderr",
          "text": [
            "Part_2 registros:  53%|█████▎    | 1580/3000 [01:02<01:14, 19.04it/s]"
          ]
        },
        {
          "output_type": "stream",
          "name": "stdout",
          "text": [
            "Registro 1577 sin segmentos válidos\n"
          ]
        },
        {
          "output_type": "stream",
          "name": "stderr",
          "text": [
            "Part_2 registros:  54%|█████▎    | 1612/3000 [01:03<00:32, 42.35it/s]"
          ]
        },
        {
          "output_type": "stream",
          "name": "stdout",
          "text": [
            "Registro 1605 sin segmentos válidos\n"
          ]
        },
        {
          "output_type": "stream",
          "name": "stderr",
          "text": [
            "Part_2 registros:  55%|█████▍    | 1645/3000 [01:03<00:30, 44.20it/s]"
          ]
        },
        {
          "output_type": "stream",
          "name": "stdout",
          "text": [
            "Registro 1638 sin segmentos válidos\n"
          ]
        },
        {
          "output_type": "stream",
          "name": "stderr",
          "text": [
            "Part_2 registros:  56%|█████▋    | 1694/3000 [01:04<00:30, 42.53it/s]"
          ]
        },
        {
          "output_type": "stream",
          "name": "stdout",
          "text": [
            "Registro 1687 sin segmentos válidos\n",
            "Registro 1694 sin segmentos válidos\n"
          ]
        },
        {
          "output_type": "stream",
          "name": "stderr",
          "text": [
            "Part_2 registros:  57%|█████▋    | 1712/3000 [01:05<00:25, 50.18it/s]"
          ]
        },
        {
          "output_type": "stream",
          "name": "stdout",
          "text": [
            "Registro 1704 sin segmentos válidos\n"
          ]
        },
        {
          "output_type": "stream",
          "name": "stderr",
          "text": [
            "Part_2 registros:  58%|█████▊    | 1755/3000 [01:06<00:20, 59.71it/s]"
          ]
        },
        {
          "output_type": "stream",
          "name": "stdout",
          "text": [
            "Registro 1743 sin segmentos válidos\n",
            "Registro 1751 sin segmentos válidos\n"
          ]
        },
        {
          "output_type": "stream",
          "name": "stderr",
          "text": [
            "Part_2 registros:  59%|█████▉    | 1767/3000 [01:06<00:31, 39.68it/s]"
          ]
        },
        {
          "output_type": "stream",
          "name": "stdout",
          "text": [
            "Registro 1763 sin segmentos válidos\n"
          ]
        },
        {
          "output_type": "stream",
          "name": "stderr",
          "text": [
            "Part_2 registros:  59%|█████▉    | 1780/3000 [01:07<00:40, 29.86it/s]"
          ]
        },
        {
          "output_type": "stream",
          "name": "stdout",
          "text": [
            "Registro 1776 sin segmentos válidos\n"
          ]
        },
        {
          "output_type": "stream",
          "name": "stderr",
          "text": [
            "Part_2 registros:  60%|█████▉    | 1795/3000 [01:07<00:42, 28.45it/s]"
          ]
        },
        {
          "output_type": "stream",
          "name": "stdout",
          "text": [
            "Registro 1790 sin segmentos válidos\n"
          ]
        },
        {
          "output_type": "stream",
          "name": "stderr",
          "text": [
            "Part_2 registros:  60%|██████    | 1802/3000 [01:07<00:47, 25.21it/s]"
          ]
        },
        {
          "output_type": "stream",
          "name": "stdout",
          "text": [
            "Registro 1798 sin segmentos válidos\n"
          ]
        },
        {
          "output_type": "stream",
          "name": "stderr",
          "text": [
            "Part_2 registros:  61%|██████    | 1818/3000 [01:08<00:38, 31.10it/s]"
          ]
        },
        {
          "output_type": "stream",
          "name": "stdout",
          "text": [
            "Registro 1810 sin segmentos válidos\n",
            "Registro 1812 sin segmentos válidos\n"
          ]
        },
        {
          "output_type": "stream",
          "name": "stderr",
          "text": [
            "Part_2 registros:  61%|██████    | 1834/3000 [01:09<00:55, 21.02it/s]"
          ]
        },
        {
          "output_type": "stream",
          "name": "stdout",
          "text": [
            "Registro 1829 sin segmentos válidos\n",
            "Registro 1835 sin segmentos válidos\n"
          ]
        },
        {
          "output_type": "stream",
          "name": "stderr",
          "text": [
            "Part_2 registros:  62%|██████▏   | 1852/3000 [01:10<00:50, 22.80it/s]"
          ]
        },
        {
          "output_type": "stream",
          "name": "stdout",
          "text": [
            "Registro 1847 sin segmentos válidos\n"
          ]
        },
        {
          "output_type": "stream",
          "name": "stderr",
          "text": [
            "Part_2 registros:  62%|██████▏   | 1861/3000 [01:10<00:47, 23.85it/s]"
          ]
        },
        {
          "output_type": "stream",
          "name": "stdout",
          "text": [
            "Registro 1857 sin segmentos válidos\n"
          ]
        },
        {
          "output_type": "stream",
          "name": "stderr",
          "text": [
            "Part_2 registros:  63%|██████▎   | 1878/3000 [01:11<00:31, 35.97it/s]"
          ]
        },
        {
          "output_type": "stream",
          "name": "stdout",
          "text": [
            "Registro 1867 sin segmentos válidos\n",
            "Registro 1875 sin segmentos válidos\n"
          ]
        },
        {
          "output_type": "stream",
          "name": "stderr",
          "text": [
            "Part_2 registros:  63%|██████▎   | 1889/3000 [01:11<00:27, 40.89it/s]"
          ]
        },
        {
          "output_type": "stream",
          "name": "stdout",
          "text": [
            "Registro 1882 sin segmentos válidos\n",
            "Registro 1885 sin segmentos válidos\n"
          ]
        },
        {
          "output_type": "stream",
          "name": "stderr",
          "text": [
            "Part_2 registros:  66%|██████▌   | 1969/3000 [01:15<01:06, 15.52it/s]"
          ]
        },
        {
          "output_type": "stream",
          "name": "stdout",
          "text": [
            "Registro 1966 sin segmentos válidos\n",
            "Registro 1971 sin segmentos válidos\n"
          ]
        },
        {
          "output_type": "stream",
          "name": "stderr",
          "text": [
            "Part_2 registros:  66%|██████▌   | 1983/3000 [01:16<00:28, 35.57it/s]"
          ]
        },
        {
          "output_type": "stream",
          "name": "stdout",
          "text": [
            "Registro 1980 sin segmentos válidos\n",
            "Registro 1981 sin segmentos válidos\n"
          ]
        },
        {
          "output_type": "stream",
          "name": "stderr",
          "text": [
            "Part_2 registros:  67%|██████▋   | 2005/3000 [01:17<01:07, 14.63it/s]"
          ]
        },
        {
          "output_type": "stream",
          "name": "stdout",
          "text": [
            "Registro 2003 sin segmentos válidos\n"
          ]
        },
        {
          "output_type": "stream",
          "name": "stderr",
          "text": [
            "Part_2 registros:  67%|██████▋   | 2012/3000 [01:18<00:46, 21.11it/s]"
          ]
        },
        {
          "output_type": "stream",
          "name": "stdout",
          "text": [
            "Registro 2007 sin segmentos válidos\n",
            "Registro 2008 sin segmentos válidos\n",
            "Registro 2009 sin segmentos válidos\n",
            "Registro 2010 sin segmentos válidos\n"
          ]
        },
        {
          "output_type": "stream",
          "name": "stderr",
          "text": [
            "Part_2 registros:  67%|██████▋   | 2017/3000 [01:18<01:12, 13.61it/s]"
          ]
        },
        {
          "output_type": "stream",
          "name": "stdout",
          "text": [
            "Registro 2015 sin segmentos válidos\n"
          ]
        },
        {
          "output_type": "stream",
          "name": "stderr",
          "text": [
            "Part_2 registros:  68%|██████▊   | 2036/3000 [01:20<00:47, 20.10it/s]"
          ]
        },
        {
          "output_type": "stream",
          "name": "stdout",
          "text": [
            "Registro 2032 sin segmentos válidos\n"
          ]
        },
        {
          "output_type": "stream",
          "name": "stderr",
          "text": [
            "Part_2 registros:  68%|██████▊   | 2055/3000 [01:20<00:39, 24.06it/s]"
          ]
        },
        {
          "output_type": "stream",
          "name": "stdout",
          "text": [
            "Registro 2052 sin segmentos válidos\n"
          ]
        },
        {
          "output_type": "stream",
          "name": "stderr",
          "text": [
            "Part_2 registros:  69%|██████▉   | 2077/3000 [01:21<00:39, 23.63it/s]"
          ]
        },
        {
          "output_type": "stream",
          "name": "stdout",
          "text": [
            "Registro 2071 sin segmentos válidos\n"
          ]
        },
        {
          "output_type": "stream",
          "name": "stderr",
          "text": [
            "Part_2 registros:  69%|██████▉   | 2084/3000 [01:22<00:37, 24.24it/s]"
          ]
        },
        {
          "output_type": "stream",
          "name": "stdout",
          "text": [
            "Registro 2081 sin segmentos válidos\n"
          ]
        },
        {
          "output_type": "stream",
          "name": "stderr",
          "text": [
            "\rPart_2 registros:  70%|██████▉   | 2087/3000 [01:22<00:38, 24.01it/s]"
          ]
        },
        {
          "output_type": "stream",
          "name": "stdout",
          "text": [
            "Registro 2085 sin segmentos válidos\n"
          ]
        },
        {
          "output_type": "stream",
          "name": "stderr",
          "text": [
            "Part_2 registros:  72%|███████▏  | 2153/3000 [01:25<00:27, 30.46it/s]"
          ]
        },
        {
          "output_type": "stream",
          "name": "stdout",
          "text": [
            "Registro 2149 sin segmentos válidos\n"
          ]
        },
        {
          "output_type": "stream",
          "name": "stderr",
          "text": [
            "Part_2 registros:  72%|███████▎  | 2175/3000 [01:26<00:18, 45.59it/s]"
          ]
        },
        {
          "output_type": "stream",
          "name": "stdout",
          "text": [
            "Registro 2166 sin segmentos válidos\n",
            "Registro 2170 sin segmentos válidos\n"
          ]
        },
        {
          "output_type": "stream",
          "name": "stderr",
          "text": [
            "Part_2 registros:  73%|███████▎  | 2186/3000 [01:26<00:19, 41.99it/s]"
          ]
        },
        {
          "output_type": "stream",
          "name": "stdout",
          "text": [
            "Registro 2179 sin segmentos válidos\n"
          ]
        },
        {
          "output_type": "stream",
          "name": "stderr",
          "text": [
            "Part_2 registros:  73%|███████▎  | 2201/3000 [01:26<00:21, 37.09it/s]"
          ]
        },
        {
          "output_type": "stream",
          "name": "stdout",
          "text": [
            "Registro 2194 sin segmentos válidos\n"
          ]
        },
        {
          "output_type": "stream",
          "name": "stderr",
          "text": [
            "Part_2 registros:  79%|███████▉  | 2368/3000 [01:39<00:57, 10.92it/s]"
          ]
        },
        {
          "output_type": "stream",
          "name": "stdout",
          "text": [
            "Registro 2366 sin segmentos válidos\n"
          ]
        },
        {
          "output_type": "stream",
          "name": "stderr",
          "text": [
            "Part_2 registros:  79%|███████▉  | 2372/3000 [01:40<01:31,  6.85it/s]"
          ]
        },
        {
          "output_type": "stream",
          "name": "stdout",
          "text": [
            "Registro 2372 sin segmentos válidos\n",
            "Registro 2373 sin segmentos válidos\n"
          ]
        },
        {
          "output_type": "stream",
          "name": "stderr",
          "text": [
            "Part_2 registros:  80%|███████▉  | 2397/3000 [01:41<00:18, 32.25it/s]"
          ]
        },
        {
          "output_type": "stream",
          "name": "stdout",
          "text": [
            "Registro 2388 sin segmentos válidos\n",
            "Registro 2390 sin segmentos válidos\n",
            "Registro 2397 sin segmentos válidos\n",
            "Registro 2399 sin segmentos válidos\n"
          ]
        },
        {
          "output_type": "stream",
          "name": "stderr",
          "text": [
            "Part_2 registros:  81%|████████  | 2422/3000 [01:44<01:05,  8.80it/s]"
          ]
        },
        {
          "output_type": "stream",
          "name": "stdout",
          "text": [
            "Registro 2419 sin segmentos válidos\n"
          ]
        },
        {
          "output_type": "stream",
          "name": "stderr",
          "text": [
            "Part_2 registros:  81%|████████  | 2429/3000 [01:44<00:45, 12.54it/s]"
          ]
        },
        {
          "output_type": "stream",
          "name": "stdout",
          "text": [
            "Registro 2425 sin segmentos válidos\n"
          ]
        },
        {
          "output_type": "stream",
          "name": "stderr",
          "text": [
            "Part_2 registros:  81%|████████▏ | 2439/3000 [01:45<00:37, 15.12it/s]"
          ]
        },
        {
          "output_type": "stream",
          "name": "stdout",
          "text": [
            "Registro 2436 sin segmentos válidos\n"
          ]
        },
        {
          "output_type": "stream",
          "name": "stderr",
          "text": [
            "Part_2 registros:  82%|████████▏ | 2467/3000 [01:47<00:27, 19.69it/s]"
          ]
        },
        {
          "output_type": "stream",
          "name": "stdout",
          "text": [
            "Registro 2461 sin segmentos válidos\n",
            "Registro 2467 sin segmentos válidos\n",
            "Registro 2468 sin segmentos válidos\n",
            "Registro 2469 sin segmentos válidos\n"
          ]
        },
        {
          "output_type": "stream",
          "name": "stderr",
          "text": [
            "Part_2 registros:  83%|████████▎ | 2489/3000 [01:48<00:17, 30.04it/s]"
          ]
        },
        {
          "output_type": "stream",
          "name": "stdout",
          "text": [
            "Registro 2482 sin segmentos válidos\n",
            "Registro 2489 sin segmentos válidos\n"
          ]
        },
        {
          "output_type": "stream",
          "name": "stderr",
          "text": [
            "Part_2 registros:  83%|████████▎ | 2503/3000 [01:48<00:24, 20.22it/s]"
          ]
        },
        {
          "output_type": "stream",
          "name": "stdout",
          "text": [
            "Registro 2502 sin segmentos válidos\n"
          ]
        },
        {
          "output_type": "stream",
          "name": "stderr",
          "text": [
            "Part_2 registros:  84%|████████▍ | 2518/3000 [01:50<00:43, 11.16it/s]"
          ]
        },
        {
          "output_type": "stream",
          "name": "stdout",
          "text": [
            "Registro 2516 sin segmentos válidos\n"
          ]
        },
        {
          "output_type": "stream",
          "name": "stderr",
          "text": [
            "Part_2 registros:  85%|████████▍ | 2546/3000 [01:51<00:18, 24.76it/s]"
          ]
        },
        {
          "output_type": "stream",
          "name": "stdout",
          "text": [
            "Registro 2543 sin segmentos válidos\n"
          ]
        },
        {
          "output_type": "stream",
          "name": "stderr",
          "text": [
            "Part_2 registros:  86%|████████▌ | 2586/3000 [01:53<00:12, 34.34it/s]"
          ]
        },
        {
          "output_type": "stream",
          "name": "stdout",
          "text": [
            "Registro 2579 sin segmentos válidos\n",
            "Registro 2583 sin segmentos válidos\n",
            "Registro 2588 sin segmentos válidos\n"
          ]
        },
        {
          "output_type": "stream",
          "name": "stderr",
          "text": [
            "Part_2 registros:  87%|████████▋ | 2612/3000 [01:53<00:09, 40.42it/s]"
          ]
        },
        {
          "output_type": "stream",
          "name": "stdout",
          "text": [
            "Registro 2607 sin segmentos válidos\n",
            "Registro 2613 sin segmentos válidos\n"
          ]
        },
        {
          "output_type": "stream",
          "name": "stderr",
          "text": [
            "Part_2 registros:  89%|████████▊ | 2657/3000 [01:54<00:04, 84.64it/s]"
          ]
        },
        {
          "output_type": "stream",
          "name": "stdout",
          "text": [
            "Registro 2640 sin segmentos válidos\n",
            "Registro 2641 sin segmentos válidos\n",
            "Registro 2643 sin segmentos válidos\n",
            "Registro 2645 sin segmentos válidos\n",
            "Registro 2654 sin segmentos válidos\n",
            "Registro 2655 sin segmentos válidos\n"
          ]
        },
        {
          "output_type": "stream",
          "name": "stderr",
          "text": [
            "Part_2 registros:  89%|████████▉ | 2682/3000 [01:55<00:07, 43.00it/s]"
          ]
        },
        {
          "output_type": "stream",
          "name": "stdout",
          "text": [
            "Registro 2680 sin segmentos válidos\n"
          ]
        },
        {
          "output_type": "stream",
          "name": "stderr",
          "text": [
            "Part_2 registros:  90%|████████▉ | 2696/3000 [01:55<00:06, 45.90it/s]"
          ]
        },
        {
          "output_type": "stream",
          "name": "stdout",
          "text": [
            "Registro 2686 sin segmentos válidos\n",
            "Registro 2687 sin segmentos válidos\n",
            "Registro 2688 sin segmentos válidos\n",
            "Registro 2694 sin segmentos válidos\n"
          ]
        },
        {
          "output_type": "stream",
          "name": "stderr",
          "text": [
            "Part_2 registros:  90%|█████████ | 2712/3000 [01:55<00:07, 36.10it/s]"
          ]
        },
        {
          "output_type": "stream",
          "name": "stdout",
          "text": [
            "Registro 2709 sin segmentos válidos\n",
            "Registro 2710 sin segmentos válidos\n",
            "Registro 2713 sin segmentos válidos\n"
          ]
        },
        {
          "output_type": "stream",
          "name": "stderr",
          "text": [
            "Part_2 registros:  91%|█████████ | 2722/3000 [01:56<00:07, 35.93it/s]"
          ]
        },
        {
          "output_type": "stream",
          "name": "stdout",
          "text": [
            "Registro 2717 sin segmentos válidos\n",
            "Registro 2725 sin segmentos válidos\n"
          ]
        },
        {
          "output_type": "stream",
          "name": "stderr",
          "text": [
            "\rPart_2 registros:  91%|█████████ | 2730/3000 [01:56<00:06, 40.43it/s]"
          ]
        },
        {
          "output_type": "stream",
          "name": "stdout",
          "text": [
            "Registro 2730 sin segmentos válidos\n"
          ]
        },
        {
          "output_type": "stream",
          "name": "stderr",
          "text": [
            "Part_2 registros:  92%|█████████▏| 2752/3000 [01:57<00:07, 35.30it/s]"
          ]
        },
        {
          "output_type": "stream",
          "name": "stdout",
          "text": [
            "Registro 2743 sin segmentos válidos\n",
            "Registro 2745 sin segmentos válidos\n",
            "Registro 2747 sin segmentos válidos\n"
          ]
        },
        {
          "output_type": "stream",
          "name": "stderr",
          "text": [
            "Part_2 registros:  92%|█████████▎| 2775/3000 [01:57<00:03, 66.84it/s]"
          ]
        },
        {
          "output_type": "stream",
          "name": "stdout",
          "text": [
            "Registro 2757 sin segmentos válidos\n",
            "Registro 2758 sin segmentos válidos\n",
            "Registro 2768 sin segmentos válidos\n",
            "Registro 2771 sin segmentos válidos\n",
            "Registro 2772 sin segmentos válidos\n",
            "Registro 2775 sin segmentos válidos\n",
            "Registro 2776 sin segmentos válidos\n",
            "Registro 2783 sin segmentos válidos\n"
          ]
        },
        {
          "output_type": "stream",
          "name": "stderr",
          "text": [
            "Part_2 registros:  93%|█████████▎| 2801/3000 [01:58<00:05, 35.99it/s]"
          ]
        },
        {
          "output_type": "stream",
          "name": "stdout",
          "text": [
            "Registro 2796 sin segmentos válidos\n"
          ]
        },
        {
          "output_type": "stream",
          "name": "stderr",
          "text": [
            "Part_2 registros:  97%|█████████▋| 2915/3000 [02:04<00:02, 28.41it/s]"
          ]
        },
        {
          "output_type": "stream",
          "name": "stdout",
          "text": [
            "Registro 2910 sin segmentos válidos\n"
          ]
        },
        {
          "output_type": "stream",
          "name": "stderr",
          "text": [
            "Part_2 registros:  98%|█████████▊| 2937/3000 [02:05<00:02, 29.58it/s]"
          ]
        },
        {
          "output_type": "stream",
          "name": "stdout",
          "text": [
            "Registro 2934 sin segmentos válidos\n"
          ]
        },
        {
          "output_type": "stream",
          "name": "stderr",
          "text": [
            "Part_2 registros:  99%|█████████▉| 2971/3000 [02:06<00:00, 74.33it/s]"
          ]
        },
        {
          "output_type": "stream",
          "name": "stdout",
          "text": [
            "Registro 2947 sin segmentos válidos\n"
          ]
        },
        {
          "output_type": "stream",
          "name": "stderr",
          "text": [
            "Part_2 registros: 100%|██████████| 3000/3000 [02:06<00:00, 23.75it/s]\n"
          ]
        },
        {
          "output_type": "stream",
          "name": "stdout",
          "text": [
            "Registro 2987 sin segmentos válidos\n",
            "\\Procesando: raw_data/Part_3.mat\n",
            "Total registros en Part_3: 3000\n"
          ]
        },
        {
          "output_type": "stream",
          "name": "stderr",
          "text": [
            "Part_3 registros:   0%|          | 14/3000 [00:00<00:21, 138.94it/s]"
          ]
        },
        {
          "output_type": "stream",
          "name": "stdout",
          "text": [
            "Registro 9 sin segmentos válidos\n"
          ]
        },
        {
          "output_type": "stream",
          "name": "stderr",
          "text": [
            "Part_3 registros:   1%|▏         | 42/3000 [00:00<00:26, 112.26it/s]"
          ]
        },
        {
          "output_type": "stream",
          "name": "stdout",
          "text": [
            "Registro 39 sin segmentos válidos\n"
          ]
        },
        {
          "output_type": "stream",
          "name": "stderr",
          "text": [
            "Part_3 registros:   2%|▏         | 66/3000 [00:00<00:29, 99.12it/s]"
          ]
        },
        {
          "output_type": "stream",
          "name": "stdout",
          "text": [
            "Registro 53 sin segmentos válidos\n",
            "Registro 62 sin segmentos válidos\n",
            "Registro 67 sin segmentos válidos\n"
          ]
        },
        {
          "output_type": "stream",
          "name": "stderr",
          "text": [
            "\rPart_3 registros:   3%|▎         | 77/3000 [00:00<00:35, 83.07it/s]"
          ]
        },
        {
          "output_type": "stream",
          "name": "stdout",
          "text": [
            "Registro 77 sin segmentos válidos\n"
          ]
        },
        {
          "output_type": "stream",
          "name": "stderr",
          "text": [
            "Part_3 registros:   4%|▍         | 115/3000 [00:01<00:28, 99.90it/s]"
          ]
        },
        {
          "output_type": "stream",
          "name": "stdout",
          "text": [
            "Registro 89 sin segmentos válidos\n",
            "Registro 100 sin segmentos válidos\n",
            "Registro 104 sin segmentos válidos\n",
            "Registro 109 sin segmentos válidos\n"
          ]
        },
        {
          "output_type": "stream",
          "name": "stderr",
          "text": [
            "\rPart_3 registros:   4%|▍         | 127/3000 [00:01<00:31, 91.06it/s]"
          ]
        },
        {
          "output_type": "stream",
          "name": "stdout",
          "text": [
            "Registro 117 sin segmentos válidos\n",
            "Registro 138 sin segmentos válidos\n",
            "Registro 139 sin segmentos válidos\n",
            "Registro 140 sin segmentos válidos\n",
            "Registro 141 sin segmentos válidos\n"
          ]
        },
        {
          "output_type": "stream",
          "name": "stderr",
          "text": [
            "\rPart_3 registros:   5%|▌         | 150/3000 [00:01<00:23, 122.80it/s]"
          ]
        },
        {
          "output_type": "stream",
          "name": "stdout",
          "text": [
            "Registro 153 sin segmentos válidos\n",
            "Registro 156 sin segmentos válidos\n"
          ]
        },
        {
          "output_type": "stream",
          "name": "stderr",
          "text": [
            "Part_3 registros:   8%|▊         | 239/3000 [00:02<00:28, 95.66it/s]"
          ]
        },
        {
          "output_type": "stream",
          "name": "stdout",
          "text": [
            "Registro 227 sin segmentos válidos\n",
            "Registro 228 sin segmentos válidos\n",
            "Registro 230 sin segmentos válidos\n",
            "Registro 235 sin segmentos válidos\n",
            "Registro 239 sin segmentos válidos\n"
          ]
        },
        {
          "output_type": "stream",
          "name": "stderr",
          "text": [
            "Part_3 registros:   9%|▉         | 272/3000 [00:03<00:37, 72.45it/s]"
          ]
        },
        {
          "output_type": "stream",
          "name": "stdout",
          "text": [
            "Registro 255 sin segmentos válidos\n",
            "Registro 256 sin segmentos válidos\n",
            "Registro 258 sin segmentos válidos\n"
          ]
        },
        {
          "output_type": "stream",
          "name": "stderr",
          "text": [
            "\rPart_3 registros:  10%|▉         | 286/3000 [00:03<00:31, 85.99it/s]"
          ]
        },
        {
          "output_type": "stream",
          "name": "stdout",
          "text": [
            "Registro 273 sin segmentos válidos\n",
            "Registro 293 sin segmentos válidos\n"
          ]
        },
        {
          "output_type": "stream",
          "name": "stderr",
          "text": [
            "Part_3 registros:  11%|█         | 329/3000 [00:03<00:19, 139.49it/s]"
          ]
        },
        {
          "output_type": "stream",
          "name": "stdout",
          "text": [
            "Registro 305 sin segmentos válidos\n",
            "Registro 310 sin segmentos válidos\n",
            "Registro 315 sin segmentos válidos\n",
            "Registro 318 sin segmentos válidos\n"
          ]
        },
        {
          "output_type": "stream",
          "name": "stderr",
          "text": [
            "Part_3 registros:  12%|█▏        | 367/3000 [00:03<00:16, 159.28it/s]"
          ]
        },
        {
          "output_type": "stream",
          "name": "stdout",
          "text": [
            "Registro 358 sin segmentos válidos\n",
            "Registro 364 sin segmentos válidos\n",
            "Registro 365 sin segmentos válidos\n"
          ]
        },
        {
          "output_type": "stream",
          "name": "stderr",
          "text": [
            "Part_3 registros:  14%|█▍        | 414/3000 [00:04<00:27, 94.37it/s] "
          ]
        },
        {
          "output_type": "stream",
          "name": "stdout",
          "text": [
            "Registro 406 sin segmentos válidos\n",
            "Registro 417 sin segmentos válidos\n",
            "Registro 419 sin segmentos válidos\n"
          ]
        },
        {
          "output_type": "stream",
          "name": "stderr",
          "text": [
            "Part_3 registros:  15%|█▍        | 436/3000 [00:05<00:39, 64.25it/s]"
          ]
        },
        {
          "output_type": "stream",
          "name": "stdout",
          "text": [
            "Registro 431 sin segmentos válidos\n"
          ]
        },
        {
          "output_type": "stream",
          "name": "stderr",
          "text": [
            "Part_3 registros:  15%|█▌        | 459/3000 [00:05<00:48, 52.74it/s]"
          ]
        },
        {
          "output_type": "stream",
          "name": "stdout",
          "text": [
            "Registro 450 sin segmentos válidos\n",
            "Registro 451 sin segmentos válidos\n"
          ]
        },
        {
          "output_type": "stream",
          "name": "stderr",
          "text": [
            "Part_3 registros:  16%|█▌        | 470/3000 [00:06<01:04, 39.45it/s]"
          ]
        },
        {
          "output_type": "stream",
          "name": "stdout",
          "text": [
            "Registro 465 sin segmentos válidos\n"
          ]
        },
        {
          "output_type": "stream",
          "name": "stderr",
          "text": [
            "Part_3 registros:  16%|█▋        | 494/3000 [00:06<00:45, 54.78it/s]"
          ]
        },
        {
          "output_type": "stream",
          "name": "stdout",
          "text": [
            "Registro 476 sin segmentos válidos\n",
            "Registro 481 sin segmentos válidos\n",
            "Registro 483 sin segmentos válidos\n",
            "Registro 485 sin segmentos válidos\n",
            "Registro 488 sin segmentos válidos\n"
          ]
        },
        {
          "output_type": "stream",
          "name": "stderr",
          "text": [
            "Part_3 registros:  17%|█▋        | 523/3000 [00:07<00:56, 43.87it/s]"
          ]
        },
        {
          "output_type": "stream",
          "name": "stdout",
          "text": [
            "Registro 517 sin segmentos válidos\n",
            "Registro 519 sin segmentos válidos\n"
          ]
        },
        {
          "output_type": "stream",
          "name": "stderr",
          "text": [
            "Part_3 registros:  19%|█▉        | 572/3000 [00:09<02:17, 17.63it/s]"
          ]
        },
        {
          "output_type": "stream",
          "name": "stdout",
          "text": [
            "Registro 568 sin segmentos válidos\n",
            "Registro 569 sin segmentos válidos\n",
            "Registro 574 sin segmentos válidos\n"
          ]
        },
        {
          "output_type": "stream",
          "name": "stderr",
          "text": [
            "Part_3 registros:  20%|█▉        | 587/3000 [00:10<01:07, 35.83it/s]"
          ]
        },
        {
          "output_type": "stream",
          "name": "stdout",
          "text": [
            "Registro 581 sin segmentos válidos\n",
            "Registro 584 sin segmentos válidos\n"
          ]
        },
        {
          "output_type": "stream",
          "name": "stderr",
          "text": [
            "\rPart_3 registros:  20%|█▉        | 591/3000 [00:10<01:19, 30.17it/s]"
          ]
        },
        {
          "output_type": "stream",
          "name": "stdout",
          "text": [
            "Registro 588 sin segmentos válidos\n"
          ]
        },
        {
          "output_type": "stream",
          "name": "stderr",
          "text": [
            "Part_3 registros:  20%|██        | 607/3000 [00:11<02:15, 17.61it/s]"
          ]
        },
        {
          "output_type": "stream",
          "name": "stdout",
          "text": [
            "Registro 604 sin segmentos válidos\n"
          ]
        },
        {
          "output_type": "stream",
          "name": "stderr",
          "text": [
            "Part_3 registros:  20%|██        | 615/3000 [00:11<01:41, 23.57it/s]"
          ]
        },
        {
          "output_type": "stream",
          "name": "stdout",
          "text": [
            "Registro 609 sin segmentos válidos\n"
          ]
        },
        {
          "output_type": "stream",
          "name": "stderr",
          "text": [
            "Part_3 registros:  21%|██        | 632/3000 [00:12<01:13, 32.15it/s]"
          ]
        },
        {
          "output_type": "stream",
          "name": "stdout",
          "text": [
            "Registro 630 sin segmentos válidos\n",
            "Registro 632 sin segmentos válidos\n"
          ]
        },
        {
          "output_type": "stream",
          "name": "stderr",
          "text": [
            "Part_3 registros:  22%|██▏       | 664/3000 [00:13<00:51, 45.65it/s]"
          ]
        },
        {
          "output_type": "stream",
          "name": "stdout",
          "text": [
            "Registro 651 sin segmentos válidos\n",
            "Registro 652 sin segmentos válidos\n",
            "Registro 653 sin segmentos válidos\n",
            "Registro 654 sin segmentos válidos\n",
            "Registro 656 sin segmentos válidos\n",
            "Registro 666 sin segmentos válidos\n"
          ]
        },
        {
          "output_type": "stream",
          "name": "stderr",
          "text": [
            "Part_3 registros:  23%|██▎       | 701/3000 [00:13<00:24, 94.87it/s]"
          ]
        },
        {
          "output_type": "stream",
          "name": "stdout",
          "text": [
            "Registro 672 sin segmentos válidos\n",
            "Registro 673 sin segmentos válidos\n",
            "Registro 676 sin segmentos válidos\n",
            "Registro 679 sin segmentos válidos\n",
            "Registro 680 sin segmentos válidos\n",
            "Registro 682 sin segmentos válidos\n",
            "Registro 689 sin segmentos válidos\n",
            "Registro 691 sin segmentos válidos\n",
            "Registro 692 sin segmentos válidos\n",
            "Registro 695 sin segmentos válidos\n"
          ]
        },
        {
          "output_type": "stream",
          "name": "stderr",
          "text": [
            "\rPart_3 registros:  24%|██▎       | 712/3000 [00:13<00:26, 86.81it/s]"
          ]
        },
        {
          "output_type": "stream",
          "name": "stdout",
          "text": [
            "Registro 704 sin segmentos válidos\n",
            "Registro 706 sin segmentos válidos\n",
            "Registro 708 sin segmentos válidos\n",
            "Registro 711 sin segmentos válidos\n",
            "Registro 712 sin segmentos válidos\n",
            "Registro 715 sin segmentos válidos\n",
            "Registro 717 sin segmentos válidos\n",
            "Registro 718 sin segmentos válidos\n",
            "Registro 719 sin segmentos válidos\n",
            "Registro 720 sin segmentos válidos\n",
            "Registro 721 sin segmentos válidos\n",
            "Registro 726 sin segmentos válidos\n",
            "Registro 727 sin segmentos válidos\n",
            "Registro 728 sin segmentos válidos\n",
            "Registro 730 sin segmentos válidos\n",
            "Registro 731 sin segmentos válidos\n",
            "Registro 732 sin segmentos válidos\n",
            "Registro 734 sin segmentos válidos\n",
            "Registro 735 sin segmentos válidos\n",
            "Registro 736 sin segmentos válidos\n",
            "Registro 737 sin segmentos válidos\n",
            "Registro 738 sin segmentos válidos\n",
            "Registro 739 sin segmentos válidos\n",
            "Registro 740 sin segmentos válidos\n",
            "Registro 741 sin segmentos válidos\n",
            "Registro 742 sin segmentos válidos\n",
            "Registro 743 sin segmentos válidos\n",
            "Registro 745 sin segmentos válidos\n",
            "Registro 747 sin segmentos válidos\n",
            "Registro 749 sin segmentos válidos\n",
            "Registro 750 sin segmentos válidos\n",
            "Registro 751 sin segmentos válidos\n",
            "Registro 752 sin segmentos válidos\n"
          ]
        },
        {
          "output_type": "stream",
          "name": "stderr",
          "text": [
            "\rPart_3 registros:  25%|██▌       | 760/3000 [00:13<00:12, 182.54it/s]"
          ]
        },
        {
          "output_type": "stream",
          "name": "stdout",
          "text": [
            "Registro 753 sin segmentos válidos\n",
            "Registro 754 sin segmentos válidos\n",
            "Registro 755 sin segmentos válidos\n",
            "Registro 757 sin segmentos válidos\n",
            "Registro 760 sin segmentos válidos\n",
            "Registro 761 sin segmentos válidos\n",
            "Registro 762 sin segmentos válidos\n",
            "Registro 763 sin segmentos válidos\n",
            "Registro 774 sin segmentos válidos\n",
            "Registro 777 sin segmentos válidos\n"
          ]
        },
        {
          "output_type": "stream",
          "name": "stderr",
          "text": [
            "Part_3 registros:  28%|██▊       | 826/3000 [00:15<00:37, 58.26it/s]"
          ]
        },
        {
          "output_type": "stream",
          "name": "stdout",
          "text": [
            "Registro 807 sin segmentos válidos\n",
            "Registro 808 sin segmentos válidos\n",
            "Registro 810 sin segmentos válidos\n",
            "Registro 811 sin segmentos válidos\n",
            "Registro 813 sin segmentos válidos\n",
            "Registro 816 sin segmentos válidos\n",
            "Registro 820 sin segmentos válidos\n",
            "Registro 823 sin segmentos válidos\n",
            "Registro 829 sin segmentos válidos\n",
            "Registro 832 sin segmentos válidos\n"
          ]
        },
        {
          "output_type": "stream",
          "name": "stderr",
          "text": [
            "Part_3 registros:  29%|██▉       | 879/3000 [00:16<00:36, 57.66it/s]"
          ]
        },
        {
          "output_type": "stream",
          "name": "stdout",
          "text": [
            "Registro 868 sin segmentos válidos\n",
            "Registro 869 sin segmentos válidos\n"
          ]
        },
        {
          "output_type": "stream",
          "name": "stderr",
          "text": [
            "Part_3 registros:  30%|███       | 905/3000 [00:16<00:38, 53.97it/s]"
          ]
        },
        {
          "output_type": "stream",
          "name": "stdout",
          "text": [
            "Registro 895 sin segmentos válidos\n"
          ]
        },
        {
          "output_type": "stream",
          "name": "stderr",
          "text": [
            "Part_3 registros:  32%|███▏      | 949/3000 [00:17<00:23, 86.45it/s]"
          ]
        },
        {
          "output_type": "stream",
          "name": "stdout",
          "text": [
            "Registro 926 sin segmentos válidos\n",
            "Registro 932 sin segmentos válidos\n",
            "Registro 935 sin segmentos válidos\n",
            "Registro 937 sin segmentos válidos\n"
          ]
        },
        {
          "output_type": "stream",
          "name": "stderr",
          "text": [
            "\rPart_3 registros:  32%|███▏      | 958/3000 [00:17<00:26, 78.46it/s]"
          ]
        },
        {
          "output_type": "stream",
          "name": "stdout",
          "text": [
            "Registro 950 sin segmentos válidos\n",
            "Registro 953 sin segmentos válidos\n"
          ]
        },
        {
          "output_type": "stream",
          "name": "stderr",
          "text": [
            "Part_3 registros:  33%|███▎      | 985/3000 [00:17<00:26, 75.93it/s]"
          ]
        },
        {
          "output_type": "stream",
          "name": "stdout",
          "text": [
            "Registro 973 sin segmentos válidos\n",
            "Registro 977 sin segmentos válidos\n"
          ]
        },
        {
          "output_type": "stream",
          "name": "stderr",
          "text": [
            "Part_3 registros:  33%|███▎      | 1003/3000 [00:18<00:27, 72.91it/s]"
          ]
        },
        {
          "output_type": "stream",
          "name": "stdout",
          "text": [
            "Registro 994 sin segmentos válidos\n",
            "Registro 996 sin segmentos válidos\n",
            "Registro 1000 sin segmentos válidos\n"
          ]
        },
        {
          "output_type": "stream",
          "name": "stderr",
          "text": [
            "Part_3 registros:  35%|███▍      | 1037/3000 [00:19<00:44, 44.39it/s]"
          ]
        },
        {
          "output_type": "stream",
          "name": "stdout",
          "text": [
            "Registro 1028 sin segmentos válidos\n"
          ]
        },
        {
          "output_type": "stream",
          "name": "stderr",
          "text": [
            "Part_3 registros:  36%|███▌      | 1080/3000 [00:20<01:24, 22.78it/s]"
          ]
        },
        {
          "output_type": "stream",
          "name": "stdout",
          "text": [
            "Registro 1076 sin segmentos válidos\n"
          ]
        },
        {
          "output_type": "stream",
          "name": "stderr",
          "text": [
            "Part_3 registros:  37%|███▋      | 1103/3000 [00:21<00:40, 46.73it/s]"
          ]
        },
        {
          "output_type": "stream",
          "name": "stdout",
          "text": [
            "Registro 1092 sin segmentos válidos\n",
            "Registro 1100 sin segmentos válidos\n",
            "Registro 1101 sin segmentos válidos\n"
          ]
        },
        {
          "output_type": "stream",
          "name": "stderr",
          "text": [
            "Part_3 registros:  38%|███▊      | 1138/3000 [00:23<01:36, 19.29it/s]"
          ]
        },
        {
          "output_type": "stream",
          "name": "stdout",
          "text": [
            "Registro 1135 sin segmentos válidos\n",
            "Registro 1136 sin segmentos válidos\n",
            "Registro 1138 sin segmentos válidos\n"
          ]
        },
        {
          "output_type": "stream",
          "name": "stderr",
          "text": [
            "Part_3 registros:  39%|███▊      | 1156/3000 [00:24<01:27, 21.06it/s]"
          ]
        },
        {
          "output_type": "stream",
          "name": "stdout",
          "text": [
            "Registro 1151 sin segmentos válidos\n"
          ]
        },
        {
          "output_type": "stream",
          "name": "stderr",
          "text": [
            "Part_3 registros:  43%|████▎     | 1279/3000 [00:29<00:38, 44.98it/s]"
          ]
        },
        {
          "output_type": "stream",
          "name": "stdout",
          "text": [
            "Registro 1273 sin segmentos válidos\n",
            "Registro 1274 sin segmentos válidos\n",
            "Registro 1275 sin segmentos válidos\n"
          ]
        },
        {
          "output_type": "stream",
          "name": "stderr",
          "text": [
            "Part_3 registros:  44%|████▎     | 1306/3000 [00:30<00:44, 37.75it/s]"
          ]
        },
        {
          "output_type": "stream",
          "name": "stdout",
          "text": [
            "Registro 1295 sin segmentos válidos\n",
            "Registro 1296 sin segmentos válidos\n",
            "Registro 1299 sin segmentos válidos\n",
            "Registro 1300 sin segmentos válidos\n"
          ]
        },
        {
          "output_type": "stream",
          "name": "stderr",
          "text": [
            "Part_3 registros:  44%|████▍     | 1319/3000 [00:30<00:56, 29.91it/s]"
          ]
        },
        {
          "output_type": "stream",
          "name": "stdout",
          "text": [
            "Registro 1317 sin segmentos válidos\n"
          ]
        },
        {
          "output_type": "stream",
          "name": "stderr",
          "text": [
            "Part_3 registros:  46%|████▌     | 1366/3000 [00:32<00:32, 50.38it/s]"
          ]
        },
        {
          "output_type": "stream",
          "name": "stdout",
          "text": [
            "Registro 1355 sin segmentos válidos\n",
            "Registro 1358 sin segmentos válidos\n",
            "Registro 1360 sin segmentos válidos\n",
            "Registro 1369 sin segmentos válidos\n"
          ]
        },
        {
          "output_type": "stream",
          "name": "stderr",
          "text": [
            "Part_3 registros:  46%|████▌     | 1384/3000 [00:32<00:28, 57.70it/s]"
          ]
        },
        {
          "output_type": "stream",
          "name": "stdout",
          "text": [
            "Registro 1375 sin segmentos válidos\n",
            "Registro 1376 sin segmentos válidos\n",
            "Registro 1378 sin segmentos válidos\n",
            "Registro 1379 sin segmentos válidos\n"
          ]
        },
        {
          "output_type": "stream",
          "name": "stderr",
          "text": [
            "Part_3 registros:  47%|████▋     | 1415/3000 [00:33<00:27, 57.83it/s]"
          ]
        },
        {
          "output_type": "stream",
          "name": "stdout",
          "text": [
            "Registro 1403 sin segmentos válidos\n",
            "Registro 1408 sin segmentos válidos\n",
            "Registro 1412 sin segmentos válidos\n",
            "Registro 1416 sin segmentos válidos\n"
          ]
        },
        {
          "output_type": "stream",
          "name": "stderr",
          "text": [
            "Part_3 registros:  48%|████▊     | 1439/3000 [00:33<00:18, 85.10it/s]"
          ]
        },
        {
          "output_type": "stream",
          "name": "stdout",
          "text": [
            "Registro 1422 sin segmentos válidos\n",
            "Registro 1423 sin segmentos válidos\n",
            "Registro 1426 sin segmentos válidos\n",
            "Registro 1434 sin segmentos válidos\n",
            "Registro 1436 sin segmentos válidos\n",
            "Registro 1443 sin segmentos válidos\n"
          ]
        },
        {
          "output_type": "stream",
          "name": "stderr",
          "text": [
            "Part_3 registros:  49%|████▉     | 1471/3000 [00:33<00:16, 92.30it/s]"
          ]
        },
        {
          "output_type": "stream",
          "name": "stdout",
          "text": [
            "Registro 1449 sin segmentos válidos\n",
            "Registro 1453 sin segmentos válidos\n",
            "Registro 1462 sin segmentos válidos\n",
            "Registro 1465 sin segmentos válidos\n",
            "Registro 1471 sin segmentos válidos\n"
          ]
        },
        {
          "output_type": "stream",
          "name": "stderr",
          "text": [
            "\rPart_3 registros:  50%|████▉     | 1487/3000 [00:33<00:13, 110.11it/s]"
          ]
        },
        {
          "output_type": "stream",
          "name": "stdout",
          "text": [
            "Registro 1474 sin segmentos válidos\n",
            "Registro 1480 sin segmentos válidos\n",
            "Registro 1482 sin segmentos válidos\n",
            "Registro 1485 sin segmentos válidos\n",
            "Registro 1486 sin segmentos válidos\n",
            "Registro 1494 sin segmentos válidos\n",
            "Registro 1495 sin segmentos válidos\n",
            "Registro 1496 sin segmentos válidos\n",
            "Registro 1497 sin segmentos válidos\n",
            "Registro 1498 sin segmentos válidos\n"
          ]
        },
        {
          "output_type": "stream",
          "name": "stderr",
          "text": [
            "Part_3 registros:  51%|█████     | 1516/3000 [00:34<00:16, 87.37it/s] "
          ]
        },
        {
          "output_type": "stream",
          "name": "stdout",
          "text": [
            "Registro 1510 sin segmentos válidos\n",
            "Registro 1515 sin segmentos válidos\n",
            "Registro 1518 sin segmentos válidos\n"
          ]
        },
        {
          "output_type": "stream",
          "name": "stderr",
          "text": [
            "Part_3 registros:  51%|█████     | 1536/3000 [00:34<00:19, 74.65it/s]"
          ]
        },
        {
          "output_type": "stream",
          "name": "stdout",
          "text": [
            "Registro 1523 sin segmentos válidos\n",
            "Registro 1526 sin segmentos válidos\n",
            "Registro 1530 sin segmentos válidos\n"
          ]
        },
        {
          "output_type": "stream",
          "name": "stderr",
          "text": [
            "Part_3 registros:  52%|█████▏    | 1553/3000 [00:34<00:19, 73.34it/s]"
          ]
        },
        {
          "output_type": "stream",
          "name": "stdout",
          "text": [
            "Registro 1540 sin segmentos válidos\n",
            "Registro 1552 sin segmentos válidos\n",
            "Registro 1553 sin segmentos válidos\n",
            "Registro 1555 sin segmentos válidos\n",
            "Registro 1556 sin segmentos válidos\n"
          ]
        },
        {
          "output_type": "stream",
          "name": "stderr",
          "text": [
            "\rPart_3 registros:  52%|█████▏    | 1562/3000 [00:34<00:19, 72.48it/s]"
          ]
        },
        {
          "output_type": "stream",
          "name": "stdout",
          "text": [
            "Registro 1558 sin segmentos válidos\n",
            "Registro 1567 sin segmentos válidos\n"
          ]
        },
        {
          "output_type": "stream",
          "name": "stderr",
          "text": [
            "Part_3 registros:  53%|█████▎    | 1591/3000 [00:35<00:28, 50.03it/s]"
          ]
        },
        {
          "output_type": "stream",
          "name": "stdout",
          "text": [
            "Registro 1590 sin segmentos válidos\n"
          ]
        },
        {
          "output_type": "stream",
          "name": "stderr",
          "text": [
            "Part_3 registros:  55%|█████▍    | 1644/3000 [00:38<00:35, 38.67it/s]"
          ]
        },
        {
          "output_type": "stream",
          "name": "stdout",
          "text": [
            "Registro 1633 sin segmentos válidos\n",
            "Registro 1644 sin segmentos válidos\n",
            "Registro 1646 sin segmentos válidos\n"
          ]
        },
        {
          "output_type": "stream",
          "name": "stderr",
          "text": [
            "Part_3 registros:  56%|█████▌    | 1676/3000 [00:38<00:17, 73.74it/s]"
          ]
        },
        {
          "output_type": "stream",
          "name": "stdout",
          "text": [
            "Registro 1657 sin segmentos válidos\n",
            "Registro 1665 sin segmentos válidos\n",
            "Registro 1667 sin segmentos válidos\n",
            "Registro 1669 sin segmentos válidos\n",
            "Registro 1674 sin segmentos válidos\n"
          ]
        },
        {
          "output_type": "stream",
          "name": "stderr",
          "text": [
            "\rPart_3 registros:  56%|█████▌    | 1684/3000 [00:38<00:21, 61.53it/s]"
          ]
        },
        {
          "output_type": "stream",
          "name": "stdout",
          "text": [
            "Registro 1678 sin segmentos válidos\n",
            "Registro 1679 sin segmentos válidos\n",
            "Registro 1685 sin segmentos válidos\n"
          ]
        },
        {
          "output_type": "stream",
          "name": "stderr",
          "text": [
            "\rPart_3 registros:  56%|█████▋    | 1691/3000 [00:39<00:33, 38.81it/s]"
          ]
        },
        {
          "output_type": "stream",
          "name": "stdout",
          "text": [
            "Registro 1691 sin segmentos válidos\n"
          ]
        },
        {
          "output_type": "stream",
          "name": "stderr",
          "text": [
            "Part_3 registros:  58%|█████▊    | 1728/3000 [00:40<00:31, 40.84it/s]"
          ]
        },
        {
          "output_type": "stream",
          "name": "stdout",
          "text": [
            "Registro 1711 sin segmentos válidos\n",
            "Registro 1712 sin segmentos válidos\n",
            "Registro 1713 sin segmentos válidos\n",
            "Registro 1715 sin segmentos válidos\n",
            "Registro 1716 sin segmentos válidos\n",
            "Registro 1719 sin segmentos válidos\n"
          ]
        },
        {
          "output_type": "stream",
          "name": "stderr",
          "text": [
            "Part_3 registros:  58%|█████▊    | 1744/3000 [00:40<00:24, 51.85it/s]"
          ]
        },
        {
          "output_type": "stream",
          "name": "stdout",
          "text": [
            "Registro 1732 sin segmentos válidos\n"
          ]
        },
        {
          "output_type": "stream",
          "name": "stderr",
          "text": [
            "Part_3 registros:  59%|█████▉    | 1767/3000 [00:41<00:29, 41.64it/s]"
          ]
        },
        {
          "output_type": "stream",
          "name": "stdout",
          "text": [
            "Registro 1761 sin segmentos válidos\n",
            "Registro 1767 sin segmentos válidos\n"
          ]
        },
        {
          "output_type": "stream",
          "name": "stderr",
          "text": [
            "Part_3 registros:  60%|██████    | 1809/3000 [00:42<00:15, 75.28it/s]"
          ]
        },
        {
          "output_type": "stream",
          "name": "stdout",
          "text": [
            "Registro 1790 sin segmentos válidos\n",
            "Registro 1791 sin segmentos válidos\n",
            "Registro 1792 sin segmentos válidos\n",
            "Registro 1794 sin segmentos válidos\n",
            "Registro 1795 sin segmentos válidos\n",
            "Registro 1810 sin segmentos válidos\n"
          ]
        },
        {
          "output_type": "stream",
          "name": "stderr",
          "text": [
            "Part_3 registros:  61%|██████    | 1836/3000 [00:42<00:16, 69.03it/s]"
          ]
        },
        {
          "output_type": "stream",
          "name": "stdout",
          "text": [
            "Registro 1820 sin segmentos válidos\n",
            "Registro 1825 sin segmentos válidos\n",
            "Registro 1827 sin segmentos válidos\n",
            "Registro 1831 sin segmentos válidos\n"
          ]
        },
        {
          "output_type": "stream",
          "name": "stderr",
          "text": [
            "Part_3 registros:  62%|██████▎   | 1875/3000 [00:43<00:18, 59.91it/s]"
          ]
        },
        {
          "output_type": "stream",
          "name": "stdout",
          "text": [
            "Registro 1862 sin segmentos válidos\n",
            "Registro 1871 sin segmentos válidos\n",
            "Registro 1874 sin segmentos válidos\n"
          ]
        },
        {
          "output_type": "stream",
          "name": "stderr",
          "text": [
            "Part_3 registros:  63%|██████▎   | 1896/3000 [00:44<00:25, 43.13it/s]"
          ]
        },
        {
          "output_type": "stream",
          "name": "stdout",
          "text": [
            "Registro 1892 sin segmentos válidos\n"
          ]
        },
        {
          "output_type": "stream",
          "name": "stderr",
          "text": [
            "Part_3 registros:  64%|██████▍   | 1922/3000 [00:44<00:28, 37.41it/s]"
          ]
        },
        {
          "output_type": "stream",
          "name": "stdout",
          "text": [
            "Registro 1914 sin segmentos válidos\n"
          ]
        },
        {
          "output_type": "stream",
          "name": "stderr",
          "text": [
            "Part_3 registros:  65%|██████▍   | 1939/3000 [00:45<00:19, 54.56it/s]"
          ]
        },
        {
          "output_type": "stream",
          "name": "stdout",
          "text": [
            "Registro 1934 sin segmentos válidos\n",
            "Registro 1939 sin segmentos válidos\n"
          ]
        },
        {
          "output_type": "stream",
          "name": "stderr",
          "text": [
            "Part_3 registros:  65%|██████▌   | 1962/3000 [00:45<00:18, 56.85it/s]"
          ]
        },
        {
          "output_type": "stream",
          "name": "stdout",
          "text": [
            "Registro 1955 sin segmentos válidos\n",
            "Registro 1959 sin segmentos válidos\n"
          ]
        },
        {
          "output_type": "stream",
          "name": "stderr",
          "text": [
            "Part_3 registros:  66%|██████▌   | 1985/3000 [00:46<00:28, 35.58it/s]"
          ]
        },
        {
          "output_type": "stream",
          "name": "stdout",
          "text": [
            "Registro 1978 sin segmentos válidos\n",
            "Registro 1985 sin segmentos válidos\n"
          ]
        },
        {
          "output_type": "stream",
          "name": "stderr",
          "text": [
            "Part_3 registros:  67%|██████▋   | 2001/3000 [00:46<00:20, 49.70it/s]"
          ]
        },
        {
          "output_type": "stream",
          "name": "stdout",
          "text": [
            "Registro 1998 sin segmentos válidos\n",
            "Registro 1999 sin segmentos válidos\n"
          ]
        },
        {
          "output_type": "stream",
          "name": "stderr",
          "text": [
            "Part_3 registros:  67%|██████▋   | 2016/3000 [00:47<00:29, 33.04it/s]"
          ]
        },
        {
          "output_type": "stream",
          "name": "stdout",
          "text": [
            "Registro 2015 sin segmentos válidos\n"
          ]
        },
        {
          "output_type": "stream",
          "name": "stderr",
          "text": [
            "Part_3 registros:  68%|██████▊   | 2037/3000 [00:48<00:32, 29.71it/s]"
          ]
        },
        {
          "output_type": "stream",
          "name": "stdout",
          "text": [
            "Registro 2030 sin segmentos válidos\n"
          ]
        },
        {
          "output_type": "stream",
          "name": "stderr",
          "text": [
            "Part_3 registros:  69%|██████▊   | 2060/3000 [00:49<00:29, 32.06it/s]"
          ]
        },
        {
          "output_type": "stream",
          "name": "stdout",
          "text": [
            "Registro 2055 sin segmentos válidos\n",
            "Registro 2056 sin segmentos válidos\n",
            "Registro 2057 sin segmentos válidos\n"
          ]
        },
        {
          "output_type": "stream",
          "name": "stderr",
          "text": [
            "\rPart_3 registros:  69%|██████▉   | 2065/3000 [00:49<00:45, 20.59it/s]"
          ]
        },
        {
          "output_type": "stream",
          "name": "stdout",
          "text": [
            "Registro 2062 sin segmentos válidos\n",
            "Registro 2065 sin segmentos válidos\n"
          ]
        },
        {
          "output_type": "stream",
          "name": "stderr",
          "text": [
            "Part_3 registros:  69%|██████▉   | 2082/3000 [00:49<00:28, 32.74it/s]"
          ]
        },
        {
          "output_type": "stream",
          "name": "stdout",
          "text": [
            "Registro 2076 sin segmentos válidos\n",
            "Registro 2078 sin segmentos válidos\n"
          ]
        },
        {
          "output_type": "stream",
          "name": "stderr",
          "text": [
            "Part_3 registros:  70%|███████   | 2114/3000 [00:51<00:48, 18.16it/s]"
          ]
        },
        {
          "output_type": "stream",
          "name": "stdout",
          "text": [
            "Registro 2111 sin segmentos válidos\n"
          ]
        },
        {
          "output_type": "stream",
          "name": "stderr",
          "text": [
            "Part_3 registros:  71%|███████   | 2127/3000 [00:52<00:43, 20.10it/s]"
          ]
        },
        {
          "output_type": "stream",
          "name": "stdout",
          "text": [
            "Registro 2125 sin segmentos válidos\n"
          ]
        },
        {
          "output_type": "stream",
          "name": "stderr",
          "text": [
            "Part_3 registros:  71%|███████   | 2137/3000 [00:52<00:31, 26.99it/s]"
          ]
        },
        {
          "output_type": "stream",
          "name": "stdout",
          "text": [
            "Registro 2130 sin segmentos válidos\n",
            "Registro 2131 sin segmentos válidos\n"
          ]
        },
        {
          "output_type": "stream",
          "name": "stderr",
          "text": [
            "Part_3 registros:  72%|███████▏  | 2146/3000 [00:53<00:30, 28.12it/s]"
          ]
        },
        {
          "output_type": "stream",
          "name": "stdout",
          "text": [
            "Registro 2141 sin segmentos válidos\n",
            "Registro 2143 sin segmentos válidos\n",
            "Registro 2148 sin segmentos válidos\n",
            "Registro 2149 sin segmentos válidos\n",
            "Registro 2150 sin segmentos válidos\n"
          ]
        },
        {
          "output_type": "stream",
          "name": "stderr",
          "text": [
            "Part_3 registros:  72%|███████▏  | 2171/3000 [00:54<00:28, 29.27it/s]"
          ]
        },
        {
          "output_type": "stream",
          "name": "stdout",
          "text": [
            "Registro 2163 sin segmentos válidos\n",
            "Registro 2171 sin segmentos válidos\n"
          ]
        },
        {
          "output_type": "stream",
          "name": "stderr",
          "text": [
            "Part_3 registros:  73%|███████▎  | 2188/3000 [00:54<00:19, 41.15it/s]"
          ]
        },
        {
          "output_type": "stream",
          "name": "stdout",
          "text": [
            "Registro 2182 sin segmentos válidos\n"
          ]
        },
        {
          "output_type": "stream",
          "name": "stderr",
          "text": [
            "Part_3 registros:  73%|███████▎  | 2203/3000 [00:54<00:15, 52.35it/s]"
          ]
        },
        {
          "output_type": "stream",
          "name": "stdout",
          "text": [
            "Registro 2193 sin segmentos válidos\n",
            "Registro 2196 sin segmentos válidos\n",
            "Registro 2198 sin segmentos válidos\n"
          ]
        },
        {
          "output_type": "stream",
          "name": "stderr",
          "text": [
            "Part_3 registros:  74%|███████▍  | 2224/3000 [00:55<00:14, 54.97it/s]"
          ]
        },
        {
          "output_type": "stream",
          "name": "stdout",
          "text": [
            "Registro 2209 sin segmentos válidos\n",
            "Registro 2210 sin segmentos válidos\n",
            "Registro 2215 sin segmentos válidos\n",
            "Registro 2217 sin segmentos válidos\n",
            "Registro 2219 sin segmentos válidos\n"
          ]
        },
        {
          "output_type": "stream",
          "name": "stderr",
          "text": [
            "Part_3 registros:  75%|███████▍  | 2242/3000 [00:55<00:13, 57.22it/s]"
          ]
        },
        {
          "output_type": "stream",
          "name": "stdout",
          "text": [
            "Registro 2227 sin segmentos válidos\n",
            "Registro 2228 sin segmentos válidos\n",
            "Registro 2229 sin segmentos válidos\n",
            "Registro 2230 sin segmentos válidos\n",
            "Registro 2232 sin segmentos válidos\n",
            "Registro 2233 sin segmentos válidos\n",
            "Registro 2234 sin segmentos válidos\n",
            "Registro 2238 sin segmentos válidos\n",
            "Registro 2239 sin segmentos válidos\n",
            "Registro 2242 sin segmentos válidos\n"
          ]
        },
        {
          "output_type": "stream",
          "name": "stderr",
          "text": [
            "Part_3 registros:  75%|███████▌  | 2257/3000 [00:55<00:13, 54.89it/s]"
          ]
        },
        {
          "output_type": "stream",
          "name": "stdout",
          "text": [
            "Registro 2250 sin segmentos válidos\n",
            "Registro 2251 sin segmentos válidos\n",
            "Registro 2258 sin segmentos válidos\n"
          ]
        },
        {
          "output_type": "stream",
          "name": "stderr",
          "text": [
            "Part_3 registros:  76%|███████▌  | 2280/3000 [00:56<00:21, 33.16it/s]"
          ]
        },
        {
          "output_type": "stream",
          "name": "stdout",
          "text": [
            "Registro 2276 sin segmentos válidos\n"
          ]
        },
        {
          "output_type": "stream",
          "name": "stderr",
          "text": [
            "Part_3 registros:  83%|████████▎ | 2496/3000 [01:06<00:19, 25.97it/s]"
          ]
        },
        {
          "output_type": "stream",
          "name": "stdout",
          "text": [
            "Registro 2491 sin segmentos válidos\n"
          ]
        },
        {
          "output_type": "stream",
          "name": "stderr",
          "text": [
            "Part_3 registros:  84%|████████▍ | 2514/3000 [01:07<00:16, 29.64it/s]"
          ]
        },
        {
          "output_type": "stream",
          "name": "stdout",
          "text": [
            "Registro 2507 sin segmentos válidos\n"
          ]
        },
        {
          "output_type": "stream",
          "name": "stderr",
          "text": [
            "Part_3 registros:  88%|████████▊ | 2648/3000 [01:12<00:07, 47.89it/s]"
          ]
        },
        {
          "output_type": "stream",
          "name": "stdout",
          "text": [
            "Registro 2642 sin segmentos válidos\n"
          ]
        },
        {
          "output_type": "stream",
          "name": "stderr",
          "text": [
            "Part_3 registros:  90%|████████▉ | 2685/3000 [01:13<00:04, 67.08it/s]"
          ]
        },
        {
          "output_type": "stream",
          "name": "stdout",
          "text": [
            "Registro 2667 sin segmentos válidos\n",
            "Registro 2669 sin segmentos válidos\n",
            "Registro 2670 sin segmentos válidos\n",
            "Registro 2671 sin segmentos válidos\n",
            "Registro 2673 sin segmentos válidos\n"
          ]
        },
        {
          "output_type": "stream",
          "name": "stderr",
          "text": [
            "\rPart_3 registros:  90%|████████▉ | 2692/3000 [01:13<00:05, 55.36it/s]"
          ]
        },
        {
          "output_type": "stream",
          "name": "stdout",
          "text": [
            "Registro 2687 sin segmentos válidos\n"
          ]
        },
        {
          "output_type": "stream",
          "name": "stderr",
          "text": [
            "Part_3 registros:  90%|█████████ | 2714/3000 [01:14<00:07, 40.26it/s]"
          ]
        },
        {
          "output_type": "stream",
          "name": "stdout",
          "text": [
            "Registro 2709 sin segmentos válidos\n"
          ]
        },
        {
          "output_type": "stream",
          "name": "stderr",
          "text": [
            "Part_3 registros:  95%|█████████▍| 2841/3000 [01:17<00:02, 58.58it/s]"
          ]
        },
        {
          "output_type": "stream",
          "name": "stdout",
          "text": [
            "Registro 2821 sin segmentos válidos\n",
            "Registro 2827 sin segmentos válidos\n",
            "Registro 2828 sin segmentos válidos\n",
            "Registro 2829 sin segmentos válidos\n",
            "Registro 2830 sin segmentos válidos\n",
            "Registro 2831 sin segmentos válidos\n"
          ]
        },
        {
          "output_type": "stream",
          "name": "stderr",
          "text": [
            "Part_3 registros:  95%|█████████▌| 2861/3000 [01:18<00:02, 47.50it/s]"
          ]
        },
        {
          "output_type": "stream",
          "name": "stdout",
          "text": [
            "Registro 2851 sin segmentos válidos\n",
            "Registro 2856 sin segmentos válidos\n",
            "Registro 2858 sin segmentos válidos\n"
          ]
        },
        {
          "output_type": "stream",
          "name": "stderr",
          "text": [
            "Part_3 registros:  96%|█████████▌| 2877/3000 [01:18<00:03, 31.64it/s]"
          ]
        },
        {
          "output_type": "stream",
          "name": "stdout",
          "text": [
            "Registro 2874 sin segmentos válidos\n"
          ]
        },
        {
          "output_type": "stream",
          "name": "stderr",
          "text": [
            "Part_3 registros:  96%|█████████▌| 2886/3000 [01:19<00:03, 33.10it/s]"
          ]
        },
        {
          "output_type": "stream",
          "name": "stdout",
          "text": [
            "Registro 2880 sin segmentos válidos\n",
            "Registro 2888 sin segmentos válidos\n"
          ]
        },
        {
          "output_type": "stream",
          "name": "stderr",
          "text": [
            "Part_3 registros:  97%|█████████▋| 2914/3000 [01:19<00:02, 39.79it/s]"
          ]
        },
        {
          "output_type": "stream",
          "name": "stdout",
          "text": [
            "Registro 2909 sin segmentos válidos\n",
            "Registro 2912 sin segmentos válidos\n"
          ]
        },
        {
          "output_type": "stream",
          "name": "stderr",
          "text": [
            "Part_3 registros:  98%|█████████▊| 2953/3000 [01:21<00:01, 31.25it/s]"
          ]
        },
        {
          "output_type": "stream",
          "name": "stdout",
          "text": [
            "Registro 2946 sin segmentos válidos\n"
          ]
        },
        {
          "output_type": "stream",
          "name": "stderr",
          "text": [
            "\rPart_3 registros:  99%|█████████▊| 2959/3000 [01:21<00:01, 32.49it/s]"
          ]
        },
        {
          "output_type": "stream",
          "name": "stdout",
          "text": [
            "Registro 2955 sin segmentos válidos\n"
          ]
        },
        {
          "output_type": "stream",
          "name": "stderr",
          "text": [
            "Part_3 registros: 100%|█████████▉| 2987/3000 [01:22<00:00, 33.72it/s]"
          ]
        },
        {
          "output_type": "stream",
          "name": "stdout",
          "text": [
            "Registro 2978 sin segmentos válidos\n"
          ]
        },
        {
          "output_type": "stream",
          "name": "stderr",
          "text": [
            "Part_3 registros: 100%|██████████| 3000/3000 [01:23<00:00, 36.13it/s]\n"
          ]
        },
        {
          "output_type": "stream",
          "name": "stdout",
          "text": [
            "\\Procesando: raw_data/Part_4.mat\n",
            "Total registros en Part_4: 3000\n"
          ]
        },
        {
          "output_type": "stream",
          "name": "stderr",
          "text": [
            "Part_4 registros:   1%|          | 17/3000 [00:00<01:37, 30.49it/s]"
          ]
        },
        {
          "output_type": "stream",
          "name": "stdout",
          "text": [
            "Registro 12 sin segmentos válidos\n"
          ]
        },
        {
          "output_type": "stream",
          "name": "stderr",
          "text": [
            "Part_4 registros:   1%|          | 25/3000 [00:00<01:36, 30.90it/s]"
          ]
        },
        {
          "output_type": "stream",
          "name": "stdout",
          "text": [
            "Registro 21 sin segmentos válidos\n",
            "Registro 27 sin segmentos válidos\n"
          ]
        },
        {
          "output_type": "stream",
          "name": "stderr",
          "text": [
            "Part_4 registros:   2%|▏         | 52/3000 [00:01<01:02, 47.53it/s]"
          ]
        },
        {
          "output_type": "stream",
          "name": "stdout",
          "text": [
            "Registro 46 sin segmentos válidos\n"
          ]
        },
        {
          "output_type": "stream",
          "name": "stderr",
          "text": [
            "Part_4 registros:   3%|▎         | 78/3000 [00:01<00:53, 54.42it/s]"
          ]
        },
        {
          "output_type": "stream",
          "name": "stdout",
          "text": [
            "Registro 64 sin segmentos válidos\n",
            "Registro 66 sin segmentos válidos\n",
            "Registro 67 sin segmentos válidos\n",
            "Registro 69 sin segmentos válidos\n"
          ]
        },
        {
          "output_type": "stream",
          "name": "stderr",
          "text": [
            "\rPart_4 registros:   3%|▎         | 85/3000 [00:02<01:10, 41.52it/s]"
          ]
        },
        {
          "output_type": "stream",
          "name": "stdout",
          "text": [
            "Registro 83 sin segmentos válidos\n"
          ]
        },
        {
          "output_type": "stream",
          "name": "stderr",
          "text": [
            "Part_4 registros:   4%|▎         | 106/3000 [00:02<01:18, 36.81it/s]"
          ]
        },
        {
          "output_type": "stream",
          "name": "stdout",
          "text": [
            "Registro 102 sin segmentos válidos\n",
            "Registro 109 sin segmentos válidos\n"
          ]
        },
        {
          "output_type": "stream",
          "name": "stderr",
          "text": [
            "Part_4 registros:   4%|▍         | 129/3000 [00:03<01:17, 37.21it/s]"
          ]
        },
        {
          "output_type": "stream",
          "name": "stdout",
          "text": [
            "Registro 121 sin segmentos válidos\n"
          ]
        },
        {
          "output_type": "stream",
          "name": "stderr",
          "text": [
            "Part_4 registros:   5%|▍         | 140/3000 [00:03<01:09, 41.01it/s]"
          ]
        },
        {
          "output_type": "stream",
          "name": "stdout",
          "text": [
            "Registro 132 sin segmentos válidos\n",
            "Registro 137 sin segmentos válidos\n"
          ]
        },
        {
          "output_type": "stream",
          "name": "stderr",
          "text": [
            "Part_4 registros:   6%|▌         | 169/3000 [00:04<01:21, 34.76it/s]"
          ]
        },
        {
          "output_type": "stream",
          "name": "stdout",
          "text": [
            "Registro 158 sin segmentos válidos\n",
            "Registro 159 sin segmentos válidos\n",
            "Registro 161 sin segmentos válidos\n",
            "Registro 170 sin segmentos válidos\n"
          ]
        },
        {
          "output_type": "stream",
          "name": "stderr",
          "text": [
            "Part_4 registros:   7%|▋         | 205/3000 [00:05<00:36, 76.05it/s]"
          ]
        },
        {
          "output_type": "stream",
          "name": "stdout",
          "text": [
            "Registro 184 sin segmentos válidos\n",
            "Registro 185 sin segmentos válidos\n",
            "Registro 186 sin segmentos válidos\n",
            "Registro 195 sin segmentos válidos\n",
            "Registro 197 sin segmentos válidos\n",
            "Registro 198 sin segmentos válidos\n",
            "Registro 201 sin segmentos válidos\n",
            "Registro 202 sin segmentos válidos\n"
          ]
        },
        {
          "output_type": "stream",
          "name": "stderr",
          "text": [
            "\rPart_4 registros:   7%|▋         | 217/3000 [00:05<00:32, 85.58it/s]"
          ]
        },
        {
          "output_type": "stream",
          "name": "stdout",
          "text": [
            "Registro 217 sin segmentos válidos\n",
            "Registro 219 sin segmentos válidos\n"
          ]
        },
        {
          "output_type": "stream",
          "name": "stderr",
          "text": [
            "Part_4 registros:   8%|▊         | 235/3000 [00:05<00:43, 63.25it/s]"
          ]
        },
        {
          "output_type": "stream",
          "name": "stdout",
          "text": [
            "Registro 229 sin segmentos válidos\n"
          ]
        },
        {
          "output_type": "stream",
          "name": "stderr",
          "text": [
            "Part_4 registros:   9%|▉         | 265/3000 [00:06<00:55, 48.84it/s]"
          ]
        },
        {
          "output_type": "stream",
          "name": "stdout",
          "text": [
            "Registro 259 sin segmentos válidos\n"
          ]
        },
        {
          "output_type": "stream",
          "name": "stderr",
          "text": [
            "Part_4 registros:  10%|▉         | 293/3000 [00:06<00:52, 51.21it/s]"
          ]
        },
        {
          "output_type": "stream",
          "name": "stdout",
          "text": [
            "Registro 285 sin segmentos válidos\n",
            "Registro 287 sin segmentos válidos\n",
            "Registro 289 sin segmentos válidos\n",
            "Registro 290 sin segmentos válidos\n"
          ]
        },
        {
          "output_type": "stream",
          "name": "stderr",
          "text": [
            "Part_4 registros:  10%|█         | 304/3000 [00:07<01:19, 34.04it/s]"
          ]
        },
        {
          "output_type": "stream",
          "name": "stdout",
          "text": [
            "Registro 301 sin segmentos válidos\n",
            "Registro 306 sin segmentos válidos\n"
          ]
        },
        {
          "output_type": "stream",
          "name": "stderr",
          "text": [
            "Part_4 registros:  10%|█         | 313/3000 [00:07<01:17, 34.59it/s]"
          ]
        },
        {
          "output_type": "stream",
          "name": "stdout",
          "text": [
            "Registro 309 sin segmentos válidos\n"
          ]
        },
        {
          "output_type": "stream",
          "name": "stderr",
          "text": [
            "Part_4 registros:  11%|█         | 321/3000 [00:07<01:19, 33.63it/s]"
          ]
        },
        {
          "output_type": "stream",
          "name": "stdout",
          "text": [
            "Registro 316 sin segmentos válidos\n",
            "Registro 317 sin segmentos válidos\n"
          ]
        },
        {
          "output_type": "stream",
          "name": "stderr",
          "text": [
            "Part_4 registros:  11%|█         | 333/3000 [00:08<01:19, 33.43it/s]"
          ]
        },
        {
          "output_type": "stream",
          "name": "stdout",
          "text": [
            "Registro 326 sin segmentos válidos\n"
          ]
        },
        {
          "output_type": "stream",
          "name": "stderr",
          "text": [
            "Part_4 registros:  12%|█▏        | 361/3000 [00:08<01:04, 40.78it/s]"
          ]
        },
        {
          "output_type": "stream",
          "name": "stdout",
          "text": [
            "Registro 352 sin segmentos válidos\n",
            "Registro 355 sin segmentos válidos\n",
            "Registro 358 sin segmentos válidos\n"
          ]
        },
        {
          "output_type": "stream",
          "name": "stderr",
          "text": [
            "Part_4 registros:  12%|█▏        | 371/3000 [00:09<01:04, 40.82it/s]"
          ]
        },
        {
          "output_type": "stream",
          "name": "stdout",
          "text": [
            "Registro 365 sin segmentos válidos\n",
            "Registro 367 sin segmentos válidos\n"
          ]
        },
        {
          "output_type": "stream",
          "name": "stderr",
          "text": [
            "Part_4 registros:  13%|█▎        | 401/3000 [00:10<01:40, 25.92it/s]"
          ]
        },
        {
          "output_type": "stream",
          "name": "stdout",
          "text": [
            "Registro 397 sin segmentos válidos\n"
          ]
        },
        {
          "output_type": "stream",
          "name": "stderr",
          "text": [
            "Part_4 registros:  14%|█▍        | 424/3000 [00:11<02:10, 19.68it/s]"
          ]
        },
        {
          "output_type": "stream",
          "name": "stdout",
          "text": [
            "Registro 420 sin segmentos válidos\n",
            "Registro 421 sin segmentos válidos\n"
          ]
        },
        {
          "output_type": "stream",
          "name": "stderr",
          "text": [
            "Part_4 registros:  14%|█▍        | 432/3000 [00:12<01:41, 25.39it/s]"
          ]
        },
        {
          "output_type": "stream",
          "name": "stdout",
          "text": [
            "Registro 427 sin segmentos válidos\n",
            "Registro 428 sin segmentos válidos\n"
          ]
        },
        {
          "output_type": "stream",
          "name": "stderr",
          "text": [
            "Part_4 registros:  15%|█▍        | 444/3000 [00:12<02:05, 20.32it/s]"
          ]
        },
        {
          "output_type": "stream",
          "name": "stdout",
          "text": [
            "Registro 440 sin segmentos válidos\n",
            "Registro 443 sin segmentos válidos\n"
          ]
        },
        {
          "output_type": "stream",
          "name": "stderr",
          "text": [
            "Part_4 registros:  15%|█▌        | 461/3000 [00:13<01:10, 36.07it/s]"
          ]
        },
        {
          "output_type": "stream",
          "name": "stdout",
          "text": [
            "Registro 457 sin segmentos válidos\n",
            "Registro 458 sin segmentos válidos\n",
            "Registro 460 sin segmentos válidos\n"
          ]
        },
        {
          "output_type": "stream",
          "name": "stderr",
          "text": [
            "Part_4 registros:  16%|█▌        | 471/3000 [00:13<01:18, 32.17it/s]"
          ]
        },
        {
          "output_type": "stream",
          "name": "stdout",
          "text": [
            "Registro 463 sin segmentos válidos\n",
            "Registro 464 sin segmentos válidos\n"
          ]
        },
        {
          "output_type": "stream",
          "name": "stderr",
          "text": [
            "Part_4 registros:  16%|█▌        | 480/3000 [00:13<01:13, 34.42it/s]"
          ]
        },
        {
          "output_type": "stream",
          "name": "stdout",
          "text": [
            "Registro 473 sin segmentos válidos\n"
          ]
        },
        {
          "output_type": "stream",
          "name": "stderr",
          "text": [
            "\rPart_4 registros:  16%|█▌        | 484/3000 [00:14<01:17, 32.31it/s]"
          ]
        },
        {
          "output_type": "stream",
          "name": "stdout",
          "text": [
            "Registro 482 sin segmentos válidos\n"
          ]
        },
        {
          "output_type": "stream",
          "name": "stderr",
          "text": [
            "Part_4 registros:  17%|█▋        | 502/3000 [00:14<01:44, 23.95it/s]"
          ]
        },
        {
          "output_type": "stream",
          "name": "stdout",
          "text": [
            "Registro 499 sin segmentos válidos\n"
          ]
        },
        {
          "output_type": "stream",
          "name": "stderr",
          "text": [
            "Part_4 registros:  18%|█▊        | 549/3000 [00:16<01:11, 34.14it/s]"
          ]
        },
        {
          "output_type": "stream",
          "name": "stdout",
          "text": [
            "Registro 540 sin segmentos válidos\n",
            "Registro 541 sin segmentos válidos\n",
            "Registro 542 sin segmentos válidos\n",
            "Registro 543 sin segmentos válidos\n",
            "Registro 545 sin segmentos válidos\n"
          ]
        },
        {
          "output_type": "stream",
          "name": "stderr",
          "text": [
            "Part_4 registros:  19%|█▊        | 559/3000 [00:16<01:00, 40.35it/s]"
          ]
        },
        {
          "output_type": "stream",
          "name": "stdout",
          "text": [
            "Registro 551 sin segmentos válidos\n"
          ]
        },
        {
          "output_type": "stream",
          "name": "stderr",
          "text": [
            "Part_4 registros:  19%|█▉        | 581/3000 [00:17<01:09, 34.82it/s]"
          ]
        },
        {
          "output_type": "stream",
          "name": "stdout",
          "text": [
            "Registro 573 sin segmentos válidos\n"
          ]
        },
        {
          "output_type": "stream",
          "name": "stderr",
          "text": [
            "\rPart_4 registros:  20%|█▉        | 590/3000 [00:17<00:52, 45.95it/s]"
          ]
        },
        {
          "output_type": "stream",
          "name": "stdout",
          "text": [
            "Registro 583 sin segmentos válidos\n",
            "Registro 584 sin segmentos válidos\n",
            "Registro 585 sin segmentos válidos\n"
          ]
        },
        {
          "output_type": "stream",
          "name": "stderr",
          "text": [
            "Part_4 registros:  20%|██        | 607/3000 [00:17<00:49, 48.54it/s]"
          ]
        },
        {
          "output_type": "stream",
          "name": "stdout",
          "text": [
            "Registro 601 sin segmentos válidos\n"
          ]
        },
        {
          "output_type": "stream",
          "name": "stderr",
          "text": [
            "Part_4 registros:  21%|██        | 618/3000 [00:18<01:17, 30.74it/s]"
          ]
        },
        {
          "output_type": "stream",
          "name": "stdout",
          "text": [
            "Registro 616 sin segmentos válidos\n"
          ]
        },
        {
          "output_type": "stream",
          "name": "stderr",
          "text": [
            "Part_4 registros:  21%|██        | 636/3000 [00:19<01:25, 27.75it/s]"
          ]
        },
        {
          "output_type": "stream",
          "name": "stdout",
          "text": [
            "Registro 631 sin segmentos válidos\n",
            "Registro 633 sin segmentos válidos\n"
          ]
        },
        {
          "output_type": "stream",
          "name": "stderr",
          "text": [
            "Part_4 registros:  22%|██▏       | 661/3000 [00:20<01:21, 28.83it/s]"
          ]
        },
        {
          "output_type": "stream",
          "name": "stdout",
          "text": [
            "Registro 657 sin segmentos válidos\n"
          ]
        },
        {
          "output_type": "stream",
          "name": "stderr",
          "text": [
            "Part_4 registros:  23%|██▎       | 680/3000 [00:20<00:45, 50.65it/s]"
          ]
        },
        {
          "output_type": "stream",
          "name": "stdout",
          "text": [
            "Registro 668 sin segmentos válidos\n",
            "Registro 671 sin segmentos válidos\n",
            "Registro 676 sin segmentos válidos\n"
          ]
        },
        {
          "output_type": "stream",
          "name": "stderr",
          "text": [
            "Part_4 registros:  23%|██▎       | 691/3000 [00:20<01:04, 35.98it/s]"
          ]
        },
        {
          "output_type": "stream",
          "name": "stdout",
          "text": [
            "Registro 684 sin segmentos válidos\n"
          ]
        },
        {
          "output_type": "stream",
          "name": "stderr",
          "text": [
            "Part_4 registros:  23%|██▎       | 704/3000 [00:21<01:07, 33.92it/s]"
          ]
        },
        {
          "output_type": "stream",
          "name": "stdout",
          "text": [
            "Registro 700 sin segmentos válidos\n"
          ]
        },
        {
          "output_type": "stream",
          "name": "stderr",
          "text": [
            "Part_4 registros:  24%|██▍       | 717/3000 [00:21<01:06, 34.48it/s]"
          ]
        },
        {
          "output_type": "stream",
          "name": "stdout",
          "text": [
            "Registro 710 sin segmentos válidos\n",
            "Registro 713 sin segmentos válidos\n"
          ]
        },
        {
          "output_type": "stream",
          "name": "stderr",
          "text": [
            "\rPart_4 registros:  24%|██▍       | 723/3000 [00:21<00:58, 38.62it/s]"
          ]
        },
        {
          "output_type": "stream",
          "name": "stdout",
          "text": [
            "Registro 720 sin segmentos válidos\n"
          ]
        },
        {
          "output_type": "stream",
          "name": "stderr",
          "text": [
            "Part_4 registros:  25%|██▍       | 742/3000 [00:22<01:01, 36.78it/s]"
          ]
        },
        {
          "output_type": "stream",
          "name": "stdout",
          "text": [
            "Registro 737 sin segmentos válidos\n"
          ]
        },
        {
          "output_type": "stream",
          "name": "stderr",
          "text": [
            "Part_4 registros:  25%|██▌       | 758/3000 [00:23<01:19, 28.27it/s]"
          ]
        },
        {
          "output_type": "stream",
          "name": "stdout",
          "text": [
            "Registro 755 sin segmentos válidos\n"
          ]
        },
        {
          "output_type": "stream",
          "name": "stderr",
          "text": [
            "Part_4 registros:  26%|██▌       | 780/3000 [00:24<01:22, 26.93it/s]"
          ]
        },
        {
          "output_type": "stream",
          "name": "stdout",
          "text": [
            "Registro 773 sin segmentos válidos\n"
          ]
        },
        {
          "output_type": "stream",
          "name": "stderr",
          "text": [
            "Part_4 registros:  26%|██▋       | 789/3000 [00:24<01:13, 30.05it/s]"
          ]
        },
        {
          "output_type": "stream",
          "name": "stdout",
          "text": [
            "Registro 783 sin segmentos válidos\n",
            "Registro 785 sin segmentos válidos\n"
          ]
        },
        {
          "output_type": "stream",
          "name": "stderr",
          "text": [
            "Part_4 registros:  29%|██▊       | 857/3000 [00:27<01:15, 28.24it/s]"
          ]
        },
        {
          "output_type": "stream",
          "name": "stdout",
          "text": [
            "Registro 850 sin segmentos válidos\n",
            "Registro 858 sin segmentos válidos\n",
            "Registro 860 sin segmentos válidos\n"
          ]
        },
        {
          "output_type": "stream",
          "name": "stderr",
          "text": [
            "Part_4 registros:  30%|███       | 914/3000 [00:30<01:19, 26.18it/s]"
          ]
        },
        {
          "output_type": "stream",
          "name": "stdout",
          "text": [
            "Registro 909 sin segmentos válidos\n"
          ]
        },
        {
          "output_type": "stream",
          "name": "stderr",
          "text": [
            "Part_4 registros:  31%|███       | 936/3000 [00:30<00:47, 43.24it/s]"
          ]
        },
        {
          "output_type": "stream",
          "name": "stdout",
          "text": [
            "Registro 928 sin segmentos válidos\n",
            "Registro 929 sin segmentos válidos\n",
            "Registro 932 sin segmentos válidos\n"
          ]
        },
        {
          "output_type": "stream",
          "name": "stderr",
          "text": [
            "Part_4 registros:  32%|███▎      | 975/3000 [00:31<00:42, 48.14it/s]"
          ]
        },
        {
          "output_type": "stream",
          "name": "stdout",
          "text": [
            "Registro 961 sin segmentos válidos\n",
            "Registro 969 sin segmentos válidos\n",
            "Registro 970 sin segmentos válidos\n",
            "Registro 971 sin segmentos válidos\n"
          ]
        },
        {
          "output_type": "stream",
          "name": "stderr",
          "text": [
            "Part_4 registros:  34%|███▍      | 1027/3000 [00:33<00:58, 33.90it/s]"
          ]
        },
        {
          "output_type": "stream",
          "name": "stdout",
          "text": [
            "Registro 1019 sin segmentos válidos\n"
          ]
        },
        {
          "output_type": "stream",
          "name": "stderr",
          "text": [
            "Part_4 registros:  35%|███▍      | 1043/3000 [00:34<01:25, 22.96it/s]"
          ]
        },
        {
          "output_type": "stream",
          "name": "stdout",
          "text": [
            "Registro 1038 sin segmentos válidos\n"
          ]
        },
        {
          "output_type": "stream",
          "name": "stderr",
          "text": [
            "Part_4 registros:  36%|███▌      | 1067/3000 [00:35<00:48, 40.06it/s]"
          ]
        },
        {
          "output_type": "stream",
          "name": "stdout",
          "text": [
            "Registro 1058 sin segmentos válidos\n"
          ]
        },
        {
          "output_type": "stream",
          "name": "stderr",
          "text": [
            "Part_4 registros:  37%|███▋      | 1106/3000 [00:36<00:46, 40.61it/s]"
          ]
        },
        {
          "output_type": "stream",
          "name": "stdout",
          "text": [
            "Registro 1097 sin segmentos válidos\n",
            "Registro 1106 sin segmentos válidos\n",
            "Registro 1107 sin segmentos válidos\n",
            "Registro 1110 sin segmentos válidos\n",
            "Registro 1111 sin segmentos válidos\n",
            "Registro 1112 sin segmentos válidos\n"
          ]
        },
        {
          "output_type": "stream",
          "name": "stderr",
          "text": [
            "Part_4 registros:  38%|███▊      | 1145/3000 [00:37<01:01, 30.23it/s]"
          ]
        },
        {
          "output_type": "stream",
          "name": "stdout",
          "text": [
            "Registro 1142 sin segmentos válidos\n",
            "Registro 1144 sin segmentos válidos\n"
          ]
        },
        {
          "output_type": "stream",
          "name": "stderr",
          "text": [
            "\rPart_4 registros:  38%|███▊      | 1149/3000 [00:37<01:16, 24.05it/s]"
          ]
        },
        {
          "output_type": "stream",
          "name": "stdout",
          "text": [
            "Registro 1147 sin segmentos válidos\n"
          ]
        },
        {
          "output_type": "stream",
          "name": "stderr",
          "text": [
            "Part_4 registros:  39%|███▊      | 1160/3000 [00:38<01:25, 21.42it/s]"
          ]
        },
        {
          "output_type": "stream",
          "name": "stdout",
          "text": [
            "Registro 1157 sin segmentos válidos\n",
            "Registro 1160 sin segmentos válidos\n"
          ]
        },
        {
          "output_type": "stream",
          "name": "stderr",
          "text": [
            "Part_4 registros:  40%|███▉      | 1197/3000 [00:40<01:20, 22.39it/s]"
          ]
        },
        {
          "output_type": "stream",
          "name": "stdout",
          "text": [
            "Registro 1192 sin segmentos válidos\n"
          ]
        },
        {
          "output_type": "stream",
          "name": "stderr",
          "text": [
            "Part_4 registros:  41%|████      | 1226/3000 [00:41<01:27, 20.39it/s]"
          ]
        },
        {
          "output_type": "stream",
          "name": "stdout",
          "text": [
            "Registro 1221 sin segmentos válidos\n"
          ]
        },
        {
          "output_type": "stream",
          "name": "stderr",
          "text": [
            "Part_4 registros:  42%|████▏     | 1265/3000 [00:43<01:05, 26.60it/s]"
          ]
        },
        {
          "output_type": "stream",
          "name": "stdout",
          "text": [
            "Registro 1261 sin segmentos válidos\n",
            "Registro 1265 sin segmentos válidos\n"
          ]
        },
        {
          "output_type": "stream",
          "name": "stderr",
          "text": [
            "Part_4 registros:  42%|████▏     | 1272/3000 [00:43<00:59, 29.06it/s]"
          ]
        },
        {
          "output_type": "stream",
          "name": "stdout",
          "text": [
            "Registro 1268 sin segmentos válidos\n"
          ]
        },
        {
          "output_type": "stream",
          "name": "stderr",
          "text": [
            "Part_4 registros:  43%|████▎     | 1285/3000 [00:44<00:55, 31.02it/s]"
          ]
        },
        {
          "output_type": "stream",
          "name": "stdout",
          "text": [
            "Registro 1282 sin segmentos válidos\n"
          ]
        },
        {
          "output_type": "stream",
          "name": "stderr",
          "text": [
            "Part_4 registros:  44%|████▎     | 1308/3000 [00:45<01:02, 26.97it/s]"
          ]
        },
        {
          "output_type": "stream",
          "name": "stdout",
          "text": [
            "Registro 1305 sin segmentos válidos\n"
          ]
        },
        {
          "output_type": "stream",
          "name": "stderr",
          "text": [
            "Part_4 registros:  45%|████▍     | 1339/3000 [00:46<00:37, 44.00it/s]"
          ]
        },
        {
          "output_type": "stream",
          "name": "stdout",
          "text": [
            "Registro 1327 sin segmentos válidos\n",
            "Registro 1331 sin segmentos válidos\n"
          ]
        },
        {
          "output_type": "stream",
          "name": "stderr",
          "text": [
            "Part_4 registros:  45%|████▌     | 1359/3000 [00:46<00:37, 43.66it/s]"
          ]
        },
        {
          "output_type": "stream",
          "name": "stdout",
          "text": [
            "Registro 1351 sin segmentos válidos\n",
            "Registro 1355 sin segmentos válidos\n",
            "Registro 1361 sin segmentos válidos\n",
            "Registro 1362 sin segmentos válidos\n"
          ]
        },
        {
          "output_type": "stream",
          "name": "stderr",
          "text": [
            "Part_4 registros:  46%|████▌     | 1383/3000 [00:47<00:33, 48.58it/s]"
          ]
        },
        {
          "output_type": "stream",
          "name": "stdout",
          "text": [
            "Registro 1374 sin segmentos válidos\n",
            "Registro 1377 sin segmentos válidos\n",
            "Registro 1384 sin segmentos válidos\n",
            "Registro 1386 sin segmentos válidos\n",
            "Registro 1389 sin segmentos válidos\n"
          ]
        },
        {
          "output_type": "stream",
          "name": "stderr",
          "text": [
            "Part_4 registros:  47%|████▋     | 1400/3000 [00:47<00:29, 53.79it/s]"
          ]
        },
        {
          "output_type": "stream",
          "name": "stdout",
          "text": [
            "Registro 1392 sin segmentos válidos\n"
          ]
        },
        {
          "output_type": "stream",
          "name": "stderr",
          "text": [
            "Part_4 registros:  48%|████▊     | 1433/3000 [00:47<00:19, 81.08it/s]"
          ]
        },
        {
          "output_type": "stream",
          "name": "stdout",
          "text": [
            "Registro 1408 sin segmentos válidos\n",
            "Registro 1420 sin segmentos válidos\n",
            "Registro 1429 sin segmentos válidos\n"
          ]
        },
        {
          "output_type": "stream",
          "name": "stderr",
          "text": [
            "Part_4 registros:  48%|████▊     | 1454/3000 [00:48<00:19, 80.79it/s]"
          ]
        },
        {
          "output_type": "stream",
          "name": "stdout",
          "text": [
            "Registro 1447 sin segmentos válidos\n"
          ]
        },
        {
          "output_type": "stream",
          "name": "stderr",
          "text": [
            "Part_4 registros:  49%|████▉     | 1475/3000 [00:48<00:18, 81.00it/s]"
          ]
        },
        {
          "output_type": "stream",
          "name": "stdout",
          "text": [
            "Registro 1471 sin segmentos válidos\n",
            "Registro 1472 sin segmentos válidos\n"
          ]
        },
        {
          "output_type": "stream",
          "name": "stderr",
          "text": [
            "Part_4 registros:  50%|█████     | 1505/3000 [00:48<00:29, 50.21it/s]"
          ]
        },
        {
          "output_type": "stream",
          "name": "stdout",
          "text": [
            "Registro 1498 sin segmentos válidos\n"
          ]
        },
        {
          "output_type": "stream",
          "name": "stderr",
          "text": [
            "Part_4 registros:  51%|█████     | 1531/3000 [00:49<00:21, 68.05it/s]"
          ]
        },
        {
          "output_type": "stream",
          "name": "stdout",
          "text": [
            "Registro 1518 sin segmentos válidos\n",
            "Registro 1523 sin segmentos válidos\n"
          ]
        },
        {
          "output_type": "stream",
          "name": "stderr",
          "text": [
            "Part_4 registros:  52%|█████▏    | 1553/3000 [00:49<00:29, 48.99it/s]"
          ]
        },
        {
          "output_type": "stream",
          "name": "stdout",
          "text": [
            "Registro 1544 sin segmentos válidos\n",
            "Registro 1557 sin segmentos válidos\n",
            "Registro 1559 sin segmentos válidos\n"
          ]
        },
        {
          "output_type": "stream",
          "name": "stderr",
          "text": [
            "Part_4 registros:  53%|█████▎    | 1583/3000 [00:50<00:42, 33.60it/s]"
          ]
        },
        {
          "output_type": "stream",
          "name": "stdout",
          "text": [
            "Registro 1577 sin segmentos válidos\n",
            "Registro 1579 sin segmentos válidos\n"
          ]
        },
        {
          "output_type": "stream",
          "name": "stderr",
          "text": [
            "Part_4 registros:  54%|█████▎    | 1609/3000 [00:51<00:33, 41.65it/s]"
          ]
        },
        {
          "output_type": "stream",
          "name": "stdout",
          "text": [
            "Registro 1604 sin segmentos válidos\n"
          ]
        },
        {
          "output_type": "stream",
          "name": "stderr",
          "text": [
            "Part_4 registros:  55%|█████▍    | 1641/3000 [00:53<00:59, 22.87it/s]"
          ]
        },
        {
          "output_type": "stream",
          "name": "stdout",
          "text": [
            "Registro 1636 sin segmentos válidos\n"
          ]
        },
        {
          "output_type": "stream",
          "name": "stderr",
          "text": [
            "Part_4 registros:  55%|█████▌    | 1652/3000 [00:53<00:57, 23.57it/s]"
          ]
        },
        {
          "output_type": "stream",
          "name": "stdout",
          "text": [
            "Registro 1651 sin segmentos válidos\n"
          ]
        },
        {
          "output_type": "stream",
          "name": "stderr",
          "text": [
            "Part_4 registros:  56%|█████▌    | 1675/3000 [00:55<01:31, 14.48it/s]"
          ]
        },
        {
          "output_type": "stream",
          "name": "stdout",
          "text": [
            "Registro 1671 sin segmentos válidos\n",
            "Registro 1676 sin segmentos válidos\n"
          ]
        },
        {
          "output_type": "stream",
          "name": "stderr",
          "text": [
            "Part_4 registros:  56%|█████▌    | 1682/3000 [00:55<01:12, 18.13it/s]"
          ]
        },
        {
          "output_type": "stream",
          "name": "stdout",
          "text": [
            "Registro 1679 sin segmentos válidos\n",
            "Registro 1684 sin segmentos válidos\n",
            "Registro 1685 sin segmentos válidos\n"
          ]
        },
        {
          "output_type": "stream",
          "name": "stderr",
          "text": [
            "Part_4 registros:  57%|█████▋    | 1714/3000 [00:56<00:40, 31.84it/s]"
          ]
        },
        {
          "output_type": "stream",
          "name": "stdout",
          "text": [
            "Registro 1708 sin segmentos válidos\n"
          ]
        },
        {
          "output_type": "stream",
          "name": "stderr",
          "text": [
            "Part_4 registros:  58%|█████▊    | 1745/3000 [00:58<00:50, 24.86it/s]"
          ]
        },
        {
          "output_type": "stream",
          "name": "stdout",
          "text": [
            "Registro 1743 sin segmentos válidos\n"
          ]
        },
        {
          "output_type": "stream",
          "name": "stderr",
          "text": [
            "Part_4 registros:  58%|█████▊    | 1755/3000 [00:58<00:54, 22.76it/s]"
          ]
        },
        {
          "output_type": "stream",
          "name": "stdout",
          "text": [
            "Registro 1751 sin segmentos válidos\n"
          ]
        },
        {
          "output_type": "stream",
          "name": "stderr",
          "text": [
            "Part_4 registros:  59%|█████▉    | 1768/3000 [00:59<00:49, 24.89it/s]"
          ]
        },
        {
          "output_type": "stream",
          "name": "stdout",
          "text": [
            "Registro 1763 sin segmentos válidos\n"
          ]
        },
        {
          "output_type": "stream",
          "name": "stderr",
          "text": [
            "Part_4 registros:  60%|█████▉    | 1789/3000 [00:59<00:34, 34.64it/s]"
          ]
        },
        {
          "output_type": "stream",
          "name": "stdout",
          "text": [
            "Registro 1786 sin segmentos válidos\n",
            "Registro 1791 sin segmentos válidos\n"
          ]
        },
        {
          "output_type": "stream",
          "name": "stderr",
          "text": [
            "Part_4 registros:  61%|██████    | 1824/3000 [01:00<00:33, 34.98it/s]"
          ]
        },
        {
          "output_type": "stream",
          "name": "stdout",
          "text": [
            "Registro 1818 sin segmentos válidos\n",
            "Registro 1822 sin segmentos válidos\n",
            "Registro 1824 sin segmentos válidos\n"
          ]
        },
        {
          "output_type": "stream",
          "name": "stderr",
          "text": [
            "Part_4 registros:  61%|██████    | 1835/3000 [01:01<00:30, 37.77it/s]"
          ]
        },
        {
          "output_type": "stream",
          "name": "stdout",
          "text": [
            "Registro 1833 sin segmentos válidos\n"
          ]
        },
        {
          "output_type": "stream",
          "name": "stderr",
          "text": [
            "Part_4 registros:  62%|██████▏   | 1860/3000 [01:01<00:21, 52.91it/s]"
          ]
        },
        {
          "output_type": "stream",
          "name": "stdout",
          "text": [
            "Registro 1846 sin segmentos válidos\n",
            "Registro 1851 sin segmentos válidos\n",
            "Registro 1856 sin segmentos válidos\n"
          ]
        },
        {
          "output_type": "stream",
          "name": "stderr",
          "text": [
            "Part_4 registros:  63%|██████▎   | 1877/3000 [01:02<00:28, 38.94it/s]"
          ]
        },
        {
          "output_type": "stream",
          "name": "stdout",
          "text": [
            "Registro 1871 sin segmentos válidos\n"
          ]
        },
        {
          "output_type": "stream",
          "name": "stderr",
          "text": [
            "Part_4 registros:  63%|██████▎   | 1888/3000 [01:02<00:30, 36.37it/s]"
          ]
        },
        {
          "output_type": "stream",
          "name": "stdout",
          "text": [
            "Registro 1884 sin segmentos válidos\n"
          ]
        },
        {
          "output_type": "stream",
          "name": "stderr",
          "text": [
            "Part_4 registros:  64%|██████▍   | 1915/3000 [01:03<00:46, 23.18it/s]"
          ]
        },
        {
          "output_type": "stream",
          "name": "stdout",
          "text": [
            "Registro 1911 sin segmentos válidos\n"
          ]
        },
        {
          "output_type": "stream",
          "name": "stderr",
          "text": [
            "Part_4 registros:  64%|██████▍   | 1922/3000 [01:04<00:43, 24.66it/s]"
          ]
        },
        {
          "output_type": "stream",
          "name": "stdout",
          "text": [
            "Registro 1919 sin segmentos válidos\n"
          ]
        },
        {
          "output_type": "stream",
          "name": "stderr",
          "text": [
            "Part_4 registros:  65%|██████▍   | 1940/3000 [01:04<00:35, 29.65it/s]"
          ]
        },
        {
          "output_type": "stream",
          "name": "stdout",
          "text": [
            "Registro 1933 sin segmentos válidos\n",
            "Registro 1942 sin segmentos válidos\n"
          ]
        },
        {
          "output_type": "stream",
          "name": "stderr",
          "text": [
            "Part_4 registros:  66%|██████▌   | 1968/3000 [01:05<00:25, 40.82it/s]"
          ]
        },
        {
          "output_type": "stream",
          "name": "stdout",
          "text": [
            "Registro 1966 sin segmentos válidos\n",
            "Registro 1970 sin segmentos válidos\n",
            "Registro 1971 sin segmentos válidos\n",
            "Registro 1972 sin segmentos válidos\n",
            "Registro 1973 sin segmentos válidos\n",
            "Registro 1976 sin segmentos válidos\n"
          ]
        },
        {
          "output_type": "stream",
          "name": "stderr",
          "text": [
            "Part_4 registros:  66%|██████▌   | 1983/3000 [01:06<01:01, 16.46it/s]"
          ]
        },
        {
          "output_type": "stream",
          "name": "stdout",
          "text": [
            "Registro 1979 sin segmentos válidos\n"
          ]
        },
        {
          "output_type": "stream",
          "name": "stderr",
          "text": [
            "Part_4 registros:  66%|██████▋   | 1990/3000 [01:06<00:52, 19.24it/s]"
          ]
        },
        {
          "output_type": "stream",
          "name": "stdout",
          "text": [
            "Registro 1985 sin segmentos válidos\n",
            "Registro 1989 sin segmentos válidos\n"
          ]
        },
        {
          "output_type": "stream",
          "name": "stderr",
          "text": [
            "Part_4 registros:  70%|██████▉   | 2091/3000 [01:11<00:22, 40.69it/s]"
          ]
        },
        {
          "output_type": "stream",
          "name": "stdout",
          "text": [
            "Registro 2087 sin segmentos válidos\n"
          ]
        },
        {
          "output_type": "stream",
          "name": "stderr",
          "text": [
            "Part_4 registros:  72%|███████▏  | 2150/3000 [01:13<00:13, 60.95it/s]"
          ]
        },
        {
          "output_type": "stream",
          "name": "stdout",
          "text": [
            "Registro 2129 sin segmentos válidos\n",
            "Registro 2130 sin segmentos válidos\n",
            "Registro 2132 sin segmentos válidos\n",
            "Registro 2134 sin segmentos válidos\n",
            "Registro 2139 sin segmentos válidos\n",
            "Registro 2143 sin segmentos válidos\n"
          ]
        },
        {
          "output_type": "stream",
          "name": "stderr",
          "text": [
            "Part_4 registros:  72%|███████▏  | 2172/3000 [01:13<00:10, 78.19it/s]"
          ]
        },
        {
          "output_type": "stream",
          "name": "stdout",
          "text": [
            "Registro 2153 sin segmentos válidos\n",
            "Registro 2155 sin segmentos válidos\n",
            "Registro 2156 sin segmentos válidos\n",
            "Registro 2157 sin segmentos válidos\n",
            "Registro 2160 sin segmentos válidos\n",
            "Registro 2166 sin segmentos válidos\n"
          ]
        },
        {
          "output_type": "stream",
          "name": "stderr",
          "text": [
            "Part_4 registros:  73%|███████▎  | 2197/3000 [01:13<00:12, 66.50it/s]"
          ]
        },
        {
          "output_type": "stream",
          "name": "stdout",
          "text": [
            "Registro 2186 sin segmentos válidos\n"
          ]
        },
        {
          "output_type": "stream",
          "name": "stderr",
          "text": [
            "\rPart_4 registros:  74%|███████▎  | 2207/3000 [01:14<00:11, 71.14it/s]"
          ]
        },
        {
          "output_type": "stream",
          "name": "stdout",
          "text": [
            "Registro 2200 sin segmentos válidos\n",
            "Registro 2202 sin segmentos válidos\n",
            "Registro 2203 sin segmentos válidos\n"
          ]
        },
        {
          "output_type": "stream",
          "name": "stderr",
          "text": [
            "Part_4 registros:  74%|███████▍  | 2235/3000 [01:14<00:16, 45.69it/s]"
          ]
        },
        {
          "output_type": "stream",
          "name": "stdout",
          "text": [
            "Registro 2224 sin segmentos válidos\n",
            "Registro 2225 sin segmentos válidos\n",
            "Registro 2236 sin segmentos válidos\n"
          ]
        },
        {
          "output_type": "stream",
          "name": "stderr",
          "text": [
            "Part_4 registros:  75%|███████▍  | 2249/3000 [01:15<00:16, 46.32it/s]"
          ]
        },
        {
          "output_type": "stream",
          "name": "stdout",
          "text": [
            "Registro 2241 sin segmentos válidos\n",
            "Registro 2249 sin segmentos válidos\n"
          ]
        },
        {
          "output_type": "stream",
          "name": "stderr",
          "text": [
            "\rPart_4 registros:  75%|███████▌  | 2255/3000 [01:15<00:16, 43.85it/s]"
          ]
        },
        {
          "output_type": "stream",
          "name": "stdout",
          "text": [
            "Registro 2252 sin segmentos válidos\n"
          ]
        },
        {
          "output_type": "stream",
          "name": "stderr",
          "text": [
            "Part_4 registros:  77%|███████▋  | 2296/3000 [01:17<00:26, 26.90it/s]"
          ]
        },
        {
          "output_type": "stream",
          "name": "stdout",
          "text": [
            "Registro 2290 sin segmentos válidos\n",
            "Registro 2293 sin segmentos válidos\n"
          ]
        },
        {
          "output_type": "stream",
          "name": "stderr",
          "text": [
            "\rPart_4 registros:  77%|███████▋  | 2302/3000 [01:17<00:22, 30.47it/s]"
          ]
        },
        {
          "output_type": "stream",
          "name": "stdout",
          "text": [
            "Registro 2299 sin segmentos válidos\n",
            "Registro 2300 sin segmentos válidos\n"
          ]
        },
        {
          "output_type": "stream",
          "name": "stderr",
          "text": [
            "Part_4 registros:  77%|███████▋  | 2319/3000 [01:17<00:16, 40.25it/s]"
          ]
        },
        {
          "output_type": "stream",
          "name": "stdout",
          "text": [
            "Registro 2310 sin segmentos válidos\n",
            "Registro 2311 sin segmentos válidos\n",
            "Registro 2314 sin segmentos válidos\n"
          ]
        },
        {
          "output_type": "stream",
          "name": "stderr",
          "text": [
            "Part_4 registros:  78%|███████▊  | 2338/3000 [01:18<00:20, 32.35it/s]"
          ]
        },
        {
          "output_type": "stream",
          "name": "stdout",
          "text": [
            "Registro 2331 sin segmentos válidos\n",
            "Registro 2338 sin segmentos válidos\n"
          ]
        },
        {
          "output_type": "stream",
          "name": "stderr",
          "text": [
            "Part_4 registros:  79%|███████▊  | 2356/3000 [01:18<00:19, 33.85it/s]"
          ]
        },
        {
          "output_type": "stream",
          "name": "stdout",
          "text": [
            "Registro 2351 sin segmentos válidos\n"
          ]
        },
        {
          "output_type": "stream",
          "name": "stderr",
          "text": [
            "Part_4 registros:  79%|███████▉  | 2372/3000 [01:19<00:21, 29.16it/s]"
          ]
        },
        {
          "output_type": "stream",
          "name": "stdout",
          "text": [
            "Registro 2367 sin segmentos válidos\n",
            "Registro 2373 sin segmentos válidos\n"
          ]
        },
        {
          "output_type": "stream",
          "name": "stderr",
          "text": [
            "Part_4 registros:  80%|███████▉  | 2389/3000 [01:19<00:13, 46.43it/s]"
          ]
        },
        {
          "output_type": "stream",
          "name": "stdout",
          "text": [
            "Registro 2382 sin segmentos válidos\n",
            "Registro 2383 sin segmentos válidos\n",
            "Registro 2391 sin segmentos válidos\n"
          ]
        },
        {
          "output_type": "stream",
          "name": "stderr",
          "text": [
            "Part_4 registros:  81%|████████  | 2429/3000 [01:21<00:15, 35.74it/s]"
          ]
        },
        {
          "output_type": "stream",
          "name": "stdout",
          "text": [
            "Registro 2426 sin segmentos válidos\n"
          ]
        },
        {
          "output_type": "stream",
          "name": "stderr",
          "text": [
            "Part_4 registros:  81%|████████  | 2437/3000 [01:21<00:20, 27.37it/s]"
          ]
        },
        {
          "output_type": "stream",
          "name": "stdout",
          "text": [
            "Registro 2436 sin segmentos válidos\n"
          ]
        },
        {
          "output_type": "stream",
          "name": "stderr",
          "text": [
            "Part_4 registros:  82%|████████▏ | 2467/3000 [01:22<00:27, 19.51it/s]"
          ]
        },
        {
          "output_type": "stream",
          "name": "stdout",
          "text": [
            "Registro 2462 sin segmentos válidos\n"
          ]
        },
        {
          "output_type": "stream",
          "name": "stderr",
          "text": [
            "Part_4 registros:  82%|████████▏ | 2473/3000 [01:23<00:30, 17.24it/s]"
          ]
        },
        {
          "output_type": "stream",
          "name": "stdout",
          "text": [
            "Registro 2471 sin segmentos válidos\n"
          ]
        },
        {
          "output_type": "stream",
          "name": "stderr",
          "text": [
            "Part_4 registros:  83%|████████▎ | 2499/3000 [01:24<00:13, 37.64it/s]"
          ]
        },
        {
          "output_type": "stream",
          "name": "stdout",
          "text": [
            "Registro 2488 sin segmentos válidos\n",
            "Registro 2489 sin segmentos válidos\n",
            "Registro 2490 sin segmentos válidos\n",
            "Registro 2492 sin segmentos válidos\n",
            "Registro 2493 sin segmentos válidos\n"
          ]
        },
        {
          "output_type": "stream",
          "name": "stderr",
          "text": [
            "Part_4 registros:  84%|████████▎ | 2512/3000 [01:24<00:10, 45.49it/s]"
          ]
        },
        {
          "output_type": "stream",
          "name": "stdout",
          "text": [
            "Registro 2506 sin segmentos válidos\n",
            "Registro 2512 sin segmentos válidos\n",
            "Registro 2513 sin segmentos válidos\n",
            "Registro 2514 sin segmentos válidos\n"
          ]
        },
        {
          "output_type": "stream",
          "name": "stderr",
          "text": [
            "Part_4 registros:  84%|████████▍ | 2522/3000 [01:24<00:15, 30.69it/s]"
          ]
        },
        {
          "output_type": "stream",
          "name": "stdout",
          "text": [
            "Registro 2520 sin segmentos válidos\n"
          ]
        },
        {
          "output_type": "stream",
          "name": "stderr",
          "text": [
            "Part_4 registros:  85%|████████▍ | 2544/3000 [01:25<00:08, 51.47it/s]"
          ]
        },
        {
          "output_type": "stream",
          "name": "stdout",
          "text": [
            "Registro 2531 sin segmentos válidos\n",
            "Registro 2538 sin segmentos válidos\n",
            "Registro 2541 sin segmentos válidos\n",
            "Registro 2542 sin segmentos válidos\n",
            "Registro 2546 sin segmentos válidos\n"
          ]
        },
        {
          "output_type": "stream",
          "name": "stderr",
          "text": [
            "Part_4 registros:  85%|████████▌ | 2557/3000 [01:25<00:10, 41.04it/s]"
          ]
        },
        {
          "output_type": "stream",
          "name": "stdout",
          "text": [
            "Registro 2552 sin segmentos válidos\n"
          ]
        },
        {
          "output_type": "stream",
          "name": "stderr",
          "text": [
            "Part_4 registros:  86%|████████▌ | 2572/3000 [01:25<00:11, 37.50it/s]"
          ]
        },
        {
          "output_type": "stream",
          "name": "stdout",
          "text": [
            "Registro 2566 sin segmentos válidos\n",
            "Registro 2571 sin segmentos válidos\n"
          ]
        },
        {
          "output_type": "stream",
          "name": "stderr",
          "text": [
            "Part_4 registros:  88%|████████▊ | 2643/3000 [01:28<00:12, 29.06it/s]"
          ]
        },
        {
          "output_type": "stream",
          "name": "stdout",
          "text": [
            "Registro 2636 sin segmentos válidos\n",
            "Registro 2637 sin segmentos válidos\n",
            "Registro 2640 sin segmentos válidos\n",
            "Registro 2645 sin segmentos válidos\n",
            "Registro 2648 sin segmentos válidos\n",
            "Registro 2650 sin segmentos válidos\n"
          ]
        },
        {
          "output_type": "stream",
          "name": "stderr",
          "text": [
            "Part_4 registros:  89%|████████▉ | 2667/3000 [01:28<00:05, 60.14it/s]"
          ]
        },
        {
          "output_type": "stream",
          "name": "stdout",
          "text": [
            "Registro 2657 sin segmentos válidos\n",
            "Registro 2658 sin segmentos válidos\n",
            "Registro 2659 sin segmentos válidos\n"
          ]
        },
        {
          "output_type": "stream",
          "name": "stderr",
          "text": [
            "Part_4 registros:  90%|█████████ | 2701/3000 [01:29<00:03, 90.95it/s]"
          ]
        },
        {
          "output_type": "stream",
          "name": "stdout",
          "text": [
            "Registro 2676 sin segmentos válidos\n",
            "Registro 2679 sin segmentos válidos\n",
            "Registro 2684 sin segmentos válidos\n",
            "Registro 2686 sin segmentos válidos\n",
            "Registro 2691 sin segmentos válidos\n",
            "Registro 2696 sin segmentos válidos\n"
          ]
        },
        {
          "output_type": "stream",
          "name": "stderr",
          "text": [
            "\rPart_4 registros:  90%|█████████ | 2715/3000 [01:29<00:02, 101.91it/s]"
          ]
        },
        {
          "output_type": "stream",
          "name": "stdout",
          "text": [
            "Registro 2705 sin segmentos válidos\n",
            "Registro 2706 sin segmentos válidos\n",
            "Registro 2707 sin segmentos válidos\n",
            "Registro 2709 sin segmentos válidos\n"
          ]
        },
        {
          "output_type": "stream",
          "name": "stderr",
          "text": [
            "Part_4 registros:  92%|█████████▏| 2768/3000 [01:29<00:02, 99.27it/s]"
          ]
        },
        {
          "output_type": "stream",
          "name": "stdout",
          "text": [
            "Registro 2740 sin segmentos válidos\n",
            "Registro 2745 sin segmentos válidos\n",
            "Registro 2747 sin segmentos válidos\n",
            "Registro 2750 sin segmentos válidos\n",
            "Registro 2751 sin segmentos válidos\n",
            "Registro 2770 sin segmentos válidos\n"
          ]
        },
        {
          "output_type": "stream",
          "name": "stderr",
          "text": [
            "Part_4 registros:  93%|█████████▎| 2791/3000 [01:30<00:02, 93.19it/s]"
          ]
        },
        {
          "output_type": "stream",
          "name": "stdout",
          "text": [
            "Registro 2779 sin segmentos válidos\n",
            "Registro 2782 sin segmentos válidos\n",
            "Registro 2784 sin segmentos válidos\n",
            "Registro 2789 sin segmentos válidos\n",
            "Registro 2792 sin segmentos válidos\n",
            "Registro 2793 sin segmentos válidos\n"
          ]
        },
        {
          "output_type": "stream",
          "name": "stderr",
          "text": [
            "\rPart_4 registros:  93%|█████████▎| 2802/3000 [01:30<00:02, 81.39it/s]"
          ]
        },
        {
          "output_type": "stream",
          "name": "stdout",
          "text": [
            "Registro 2796 sin segmentos válidos\n",
            "Registro 2798 sin segmentos válidos\n",
            "Registro 2805 sin segmentos válidos\n"
          ]
        },
        {
          "output_type": "stream",
          "name": "stderr",
          "text": [
            "Part_4 registros:  94%|█████████▍| 2822/3000 [01:30<00:02, 81.62it/s]"
          ]
        },
        {
          "output_type": "stream",
          "name": "stdout",
          "text": [
            "Registro 2816 sin segmentos válidos\n",
            "Registro 2818 sin segmentos válidos\n",
            "Registro 2820 sin segmentos válidos\n"
          ]
        },
        {
          "output_type": "stream",
          "name": "stderr",
          "text": [
            "Part_4 registros:  95%|█████████▌| 2850/3000 [01:31<00:04, 34.61it/s]"
          ]
        },
        {
          "output_type": "stream",
          "name": "stdout",
          "text": [
            "Registro 2845 sin segmentos válidos\n"
          ]
        },
        {
          "output_type": "stream",
          "name": "stderr",
          "text": [
            "Part_4 registros:  96%|█████████▌| 2871/3000 [01:32<00:03, 32.63it/s]"
          ]
        },
        {
          "output_type": "stream",
          "name": "stdout",
          "text": [
            "Registro 2864 sin segmentos válidos\n"
          ]
        },
        {
          "output_type": "stream",
          "name": "stderr",
          "text": [
            "Part_4 registros:  97%|█████████▋| 2905/3000 [01:33<00:01, 48.98it/s]"
          ]
        },
        {
          "output_type": "stream",
          "name": "stdout",
          "text": [
            "Registro 2893 sin segmentos válidos\n",
            "Registro 2898 sin segmentos válidos\n"
          ]
        },
        {
          "output_type": "stream",
          "name": "stderr",
          "text": [
            "Part_4 registros:  98%|█████████▊| 2928/3000 [01:33<00:01, 56.85it/s]"
          ]
        },
        {
          "output_type": "stream",
          "name": "stdout",
          "text": [
            "Registro 2916 sin segmentos válidos\n",
            "Registro 2917 sin segmentos válidos\n",
            "Registro 2918 sin segmentos válidos\n",
            "Registro 2920 sin segmentos válidos\n",
            "Registro 2922 sin segmentos válidos\n",
            "Registro 2925 sin segmentos válidos\n",
            "Registro 2928 sin segmentos válidos\n"
          ]
        },
        {
          "output_type": "stream",
          "name": "stderr",
          "text": [
            "Part_4 registros:  98%|█████████▊| 2941/3000 [01:34<00:01, 44.41it/s]"
          ]
        },
        {
          "output_type": "stream",
          "name": "stdout",
          "text": [
            "Registro 2935 sin segmentos válidos\n",
            "Registro 2947 sin segmentos válidos\n"
          ]
        },
        {
          "output_type": "stream",
          "name": "stderr",
          "text": [
            "Part_4 registros:  99%|█████████▊| 2957/3000 [01:34<00:00, 47.89it/s]"
          ]
        },
        {
          "output_type": "stream",
          "name": "stdout",
          "text": [
            "Registro 2953 sin segmentos válidos\n",
            "Registro 2956 sin segmentos válidos\n"
          ]
        },
        {
          "output_type": "stream",
          "name": "stderr",
          "text": [
            "\rPart_4 registros:  99%|█████████▉| 2963/3000 [01:34<00:00, 45.86it/s]"
          ]
        },
        {
          "output_type": "stream",
          "name": "stdout",
          "text": [
            "Registro 2961 sin segmentos válidos\n",
            "Registro 2962 sin segmentos válidos\n"
          ]
        },
        {
          "output_type": "stream",
          "name": "stderr",
          "text": [
            "Part_4 registros:  99%|█████████▉| 2976/3000 [01:35<00:01, 21.15it/s]"
          ]
        },
        {
          "output_type": "stream",
          "name": "stdout",
          "text": [
            "Registro 2975 sin segmentos válidos\n"
          ]
        },
        {
          "output_type": "stream",
          "name": "stderr",
          "text": [
            "Part_4 registros: 100%|█████████▉| 2994/3000 [01:36<00:00, 26.81it/s]"
          ]
        },
        {
          "output_type": "stream",
          "name": "stdout",
          "text": [
            "Registro 2984 sin segmentos válidos\n",
            "Registro 2985 sin segmentos válidos\n",
            "Registro 2988 sin segmentos válidos\n",
            "Registro 2991 sin segmentos válidos\n"
          ]
        },
        {
          "output_type": "stream",
          "name": "stderr",
          "text": [
            "Part_4 registros: 100%|██████████| 3000/3000 [01:36<00:00, 31.10it/s]\n"
          ]
        },
        {
          "output_type": "stream",
          "name": "stdout",
          "text": [
            "Registro 2997 sin segmentos válidos\n",
            "\n",
            " Proceso terminado.\n",
            "   → Registros procesados con segmentos: 10874\n",
            "   → Archivos .npy guardados: 10874\n",
            "   → Archivos en carpeta segmentos_guardados: 10874 pares\n"
          ]
        }
      ]
    },
    {
      "cell_type": "markdown",
      "source": [
        "HASTA ACA EL PREPROCESAMIENTO\n",
        "(Detalle, dividir mejor la data del test y train de distinta manera) Al ser bastante data no alcanza la RAM para procesar todo. Se puede hacer una carpeta adicional donde se divida una carpeta TRAIN y TEST"
      ],
      "metadata": {
        "id": "vlIzMgOh6qvM"
      }
    },
    {
      "cell_type": "markdown",
      "source": [
        "## Creacion del modelo\n",
        "Se pasan los valores procesado a x y y"
      ],
      "metadata": {
        "id": "Aa--76IO9aUb"
      }
    },
    {
      "cell_type": "code",
      "source": [
        "X = np.load('segmentos_guardados/X_seg_1.npy')\n",
        "Y = np.load('segmentos_guardados/Y_seg_1.npy')\n",
        "\n",
        "print(f\"X shape: {X.shape}, Y shape: {Y.shape}\")"
      ],
      "metadata": {
        "id": "L6lMMBGDrdIq",
        "colab": {
          "base_uri": "https://localhost:8080/"
        },
        "outputId": "c1676948-7d95-4b74-c6c3-f2fd80c86b6a"
      },
      "execution_count": 7,
      "outputs": [
        {
          "output_type": "stream",
          "name": "stdout",
          "text": [
            "X shape: (469, 1024, 1), Y shape: (469, 1024, 1)\n"
          ]
        }
      ]
    },
    {
      "cell_type": "code",
      "source": [
        "X_train, X_temp, Y_train, Y_temp = train_test_split(X, Y, test_size=0.3, random_state=42)\n",
        "X_val, X_test, Y_val, Y_test = train_test_split(X_temp, Y_temp, test_size=0.5, random_state=42)"
      ],
      "metadata": {
        "id": "RLn2a7ejuPPD"
      },
      "execution_count": 8,
      "outputs": []
    },
    {
      "cell_type": "code",
      "source": [
        "from tensorflow.keras import layers, models\n",
        "\n",
        "def unet_1d(input_shape):\n",
        "    inputs = layers.Input(shape=input_shape)\n",
        "\n",
        "    # Encoder\n",
        "    x1 = layers.Conv1D(64, 3, padding='same', activation='relu')(inputs)\n",
        "    p1 = layers.MaxPooling1D(2)(x1)\n",
        "\n",
        "    x2 = layers.Conv1D(128, 3, padding='same', activation='relu')(p1)\n",
        "    p2 = layers.MaxPooling1D(2)(x2)\n",
        "\n",
        "    # Bottleneck\n",
        "    bn = layers.Conv1D(256, 3, padding='same', activation='relu')(p2)\n",
        "\n",
        "    # Decoder\n",
        "    u2 = layers.UpSampling1D(2)(bn)\n",
        "    c2 = layers.concatenate([u2, x2])\n",
        "    x3 = layers.Conv1D(128, 3, padding='same', activation='relu')(c2)\n",
        "\n",
        "    u1 = layers.UpSampling1D(2)(x3)\n",
        "    c1 = layers.concatenate([u1, x1])\n",
        "    x4 = layers.Conv1D(64, 3, padding='same', activation='relu')(c1)\n",
        "\n",
        "    outputs = layers.Conv1D(1, 1, activation='linear')(x4)\n",
        "\n",
        "    return models.Model(inputs, outputs)\n"
      ],
      "metadata": {
        "id": "T7Qshu-cukc2"
      },
      "execution_count": 9,
      "outputs": []
    },
    {
      "cell_type": "markdown",
      "source": [
        "## Entrenamiento del modelo\n",
        "\n",
        "Se entrena el modelo con los datos correspondientes"
      ],
      "metadata": {
        "id": "k_CzQvle9pCJ"
      }
    },
    {
      "cell_type": "code",
      "source": [
        "model = unet_1d((1024, 1))\n",
        "model.compile(optimizer='adam', loss='mse', metrics=['mae'])\n",
        "\n",
        "history = model.fit(X_train, Y_train,\n",
        "                    validation_data=(X_val, Y_val),\n",
        "                    epochs=50,\n",
        "                    batch_size=64)\n"
      ],
      "metadata": {
        "id": "ZnFwDX0pun4O",
        "colab": {
          "base_uri": "https://localhost:8080/"
        },
        "outputId": "f326c1d9-9373-455f-b2fe-22ba78df28a2"
      },
      "execution_count": 10,
      "outputs": [
        {
          "output_type": "stream",
          "name": "stdout",
          "text": [
            "Epoch 1/50\n",
            "\u001b[1m6/6\u001b[0m \u001b[32m━━━━━━━━━━━━━━━━━━━━\u001b[0m\u001b[37m\u001b[0m \u001b[1m25s\u001b[0m 2s/step - loss: 0.2057 - mae: 0.3557 - val_loss: 0.1552 - val_mae: 0.3317\n",
            "Epoch 2/50\n",
            "\u001b[1m6/6\u001b[0m \u001b[32m━━━━━━━━━━━━━━━━━━━━\u001b[0m\u001b[37m\u001b[0m \u001b[1m13s\u001b[0m 2s/step - loss: 0.1455 - mae: 0.3106 - val_loss: 0.1083 - val_mae: 0.2679\n",
            "Epoch 3/50\n",
            "\u001b[1m6/6\u001b[0m \u001b[32m━━━━━━━━━━━━━━━━━━━━\u001b[0m\u001b[37m\u001b[0m \u001b[1m22s\u001b[0m 2s/step - loss: 0.0947 - mae: 0.2525 - val_loss: 0.0551 - val_mae: 0.1881\n",
            "Epoch 4/50\n",
            "\u001b[1m6/6\u001b[0m \u001b[32m━━━━━━━━━━━━━━━━━━━━\u001b[0m\u001b[37m\u001b[0m \u001b[1m20s\u001b[0m 2s/step - loss: 0.0564 - mae: 0.1846 - val_loss: 0.0513 - val_mae: 0.1758\n",
            "Epoch 5/50\n",
            "\u001b[1m6/6\u001b[0m \u001b[32m━━━━━━━━━━━━━━━━━━━━\u001b[0m\u001b[37m\u001b[0m \u001b[1m19s\u001b[0m 2s/step - loss: 0.0492 - mae: 0.1702 - val_loss: 0.0420 - val_mae: 0.1587\n",
            "Epoch 6/50\n",
            "\u001b[1m6/6\u001b[0m \u001b[32m━━━━━━━━━━━━━━━━━━━━\u001b[0m\u001b[37m\u001b[0m \u001b[1m21s\u001b[0m 2s/step - loss: 0.0406 - mae: 0.1535 - val_loss: 0.0306 - val_mae: 0.1307\n",
            "Epoch 7/50\n",
            "\u001b[1m6/6\u001b[0m \u001b[32m━━━━━━━━━━━━━━━━━━━━\u001b[0m\u001b[37m\u001b[0m \u001b[1m15s\u001b[0m 1s/step - loss: 0.0313 - mae: 0.1267 - val_loss: 0.0234 - val_mae: 0.1024\n",
            "Epoch 8/50\n",
            "\u001b[1m6/6\u001b[0m \u001b[32m━━━━━━━━━━━━━━━━━━━━\u001b[0m\u001b[37m\u001b[0m \u001b[1m11s\u001b[0m 2s/step - loss: 0.0245 - mae: 0.1024 - val_loss: 0.0193 - val_mae: 0.0916\n",
            "Epoch 9/50\n",
            "\u001b[1m6/6\u001b[0m \u001b[32m━━━━━━━━━━━━━━━━━━━━\u001b[0m\u001b[37m\u001b[0m \u001b[1m10s\u001b[0m 2s/step - loss: 0.0228 - mae: 0.0975 - val_loss: 0.0191 - val_mae: 0.0896\n",
            "Epoch 10/50\n",
            "\u001b[1m6/6\u001b[0m \u001b[32m━━━━━━━━━━━━━━━━━━━━\u001b[0m\u001b[37m\u001b[0m \u001b[1m9s\u001b[0m 1s/step - loss: 0.0193 - mae: 0.0915 - val_loss: 0.0164 - val_mae: 0.0850\n",
            "Epoch 11/50\n",
            "\u001b[1m6/6\u001b[0m \u001b[32m━━━━━━━━━━━━━━━━━━━━\u001b[0m\u001b[37m\u001b[0m \u001b[1m12s\u001b[0m 1s/step - loss: 0.0182 - mae: 0.0900 - val_loss: 0.0145 - val_mae: 0.0789\n",
            "Epoch 12/50\n",
            "\u001b[1m6/6\u001b[0m \u001b[32m━━━━━━━━━━━━━━━━━━━━\u001b[0m\u001b[37m\u001b[0m \u001b[1m10s\u001b[0m 2s/step - loss: 0.0166 - mae: 0.0840 - val_loss: 0.0149 - val_mae: 0.0802\n",
            "Epoch 13/50\n",
            "\u001b[1m6/6\u001b[0m \u001b[32m━━━━━━━━━━━━━━━━━━━━\u001b[0m\u001b[37m\u001b[0m \u001b[1m8s\u001b[0m 1s/step - loss: 0.0168 - mae: 0.0843 - val_loss: 0.0141 - val_mae: 0.0743\n",
            "Epoch 14/50\n",
            "\u001b[1m6/6\u001b[0m \u001b[32m━━━━━━━━━━━━━━━━━━━━\u001b[0m\u001b[37m\u001b[0m \u001b[1m11s\u001b[0m 1s/step - loss: 0.0156 - mae: 0.0788 - val_loss: 0.0138 - val_mae: 0.0763\n",
            "Epoch 15/50\n",
            "\u001b[1m6/6\u001b[0m \u001b[32m━━━━━━━━━━━━━━━━━━━━\u001b[0m\u001b[37m\u001b[0m \u001b[1m12s\u001b[0m 2s/step - loss: 0.0146 - mae: 0.0766 - val_loss: 0.0144 - val_mae: 0.0740\n",
            "Epoch 16/50\n",
            "\u001b[1m6/6\u001b[0m \u001b[32m━━━━━━━━━━━━━━━━━━━━\u001b[0m\u001b[37m\u001b[0m \u001b[1m10s\u001b[0m 2s/step - loss: 0.0147 - mae: 0.0762 - val_loss: 0.0111 - val_mae: 0.0658\n",
            "Epoch 17/50\n",
            "\u001b[1m6/6\u001b[0m \u001b[32m━━━━━━━━━━━━━━━━━━━━\u001b[0m\u001b[37m\u001b[0m \u001b[1m8s\u001b[0m 1s/step - loss: 0.0128 - mae: 0.0713 - val_loss: 0.0113 - val_mae: 0.0664\n",
            "Epoch 18/50\n",
            "\u001b[1m6/6\u001b[0m \u001b[32m━━━━━━━━━━━━━━━━━━━━\u001b[0m\u001b[37m\u001b[0m \u001b[1m12s\u001b[0m 1s/step - loss: 0.0121 - mae: 0.0702 - val_loss: 0.0106 - val_mae: 0.0634\n",
            "Epoch 19/50\n",
            "\u001b[1m6/6\u001b[0m \u001b[32m━━━━━━━━━━━━━━━━━━━━\u001b[0m\u001b[37m\u001b[0m \u001b[1m13s\u001b[0m 2s/step - loss: 0.0125 - mae: 0.0699 - val_loss: 0.0106 - val_mae: 0.0634\n",
            "Epoch 20/50\n",
            "\u001b[1m6/6\u001b[0m \u001b[32m━━━━━━━━━━━━━━━━━━━━\u001b[0m\u001b[37m\u001b[0m \u001b[1m17s\u001b[0m 1s/step - loss: 0.0123 - mae: 0.0678 - val_loss: 0.0111 - val_mae: 0.0702\n",
            "Epoch 21/50\n",
            "\u001b[1m6/6\u001b[0m \u001b[32m━━━━━━━━━━━━━━━━━━━━\u001b[0m\u001b[37m\u001b[0m \u001b[1m12s\u001b[0m 2s/step - loss: 0.0122 - mae: 0.0729 - val_loss: 0.0107 - val_mae: 0.0638\n",
            "Epoch 22/50\n",
            "\u001b[1m6/6\u001b[0m \u001b[32m━━━━━━━━━━━━━━━━━━━━\u001b[0m\u001b[37m\u001b[0m \u001b[1m17s\u001b[0m 1s/step - loss: 0.0116 - mae: 0.0669 - val_loss: 0.0107 - val_mae: 0.0640\n",
            "Epoch 23/50\n",
            "\u001b[1m6/6\u001b[0m \u001b[32m━━━━━━━━━━━━━━━━━━━━\u001b[0m\u001b[37m\u001b[0m \u001b[1m12s\u001b[0m 1s/step - loss: 0.0126 - mae: 0.0695 - val_loss: 0.0118 - val_mae: 0.0655\n",
            "Epoch 24/50\n",
            "\u001b[1m6/6\u001b[0m \u001b[32m━━━━━━━━━━━━━━━━━━━━\u001b[0m\u001b[37m\u001b[0m \u001b[1m11s\u001b[0m 2s/step - loss: 0.0125 - mae: 0.0683 - val_loss: 0.0109 - val_mae: 0.0643\n",
            "Epoch 25/50\n",
            "\u001b[1m6/6\u001b[0m \u001b[32m━━━━━━━━━━━━━━━━━━━━\u001b[0m\u001b[37m\u001b[0m \u001b[1m8s\u001b[0m 1s/step - loss: 0.0111 - mae: 0.0667 - val_loss: 0.0105 - val_mae: 0.0631\n",
            "Epoch 26/50\n",
            "\u001b[1m6/6\u001b[0m \u001b[32m━━━━━━━━━━━━━━━━━━━━\u001b[0m\u001b[37m\u001b[0m \u001b[1m11s\u001b[0m 1s/step - loss: 0.0117 - mae: 0.0662 - val_loss: 0.0208 - val_mae: 0.0925\n",
            "Epoch 27/50\n",
            "\u001b[1m6/6\u001b[0m \u001b[32m━━━━━━━━━━━━━━━━━━━━\u001b[0m\u001b[37m\u001b[0m \u001b[1m10s\u001b[0m 2s/step - loss: 0.0178 - mae: 0.0860 - val_loss: 0.0120 - val_mae: 0.0684\n",
            "Epoch 28/50\n",
            "\u001b[1m6/6\u001b[0m \u001b[32m━━━━━━━━━━━━━━━━━━━━\u001b[0m\u001b[37m\u001b[0m \u001b[1m9s\u001b[0m 2s/step - loss: 0.0129 - mae: 0.0695 - val_loss: 0.0106 - val_mae: 0.0645\n",
            "Epoch 29/50\n",
            "\u001b[1m6/6\u001b[0m \u001b[32m━━━━━━━━━━━━━━━━━━━━\u001b[0m\u001b[37m\u001b[0m \u001b[1m9s\u001b[0m 1s/step - loss: 0.0118 - mae: 0.0676 - val_loss: 0.0133 - val_mae: 0.0712\n",
            "Epoch 30/50\n",
            "\u001b[1m6/6\u001b[0m \u001b[32m━━━━━━━━━━━━━━━━━━━━\u001b[0m\u001b[37m\u001b[0m \u001b[1m10s\u001b[0m 2s/step - loss: 0.0143 - mae: 0.0755 - val_loss: 0.0127 - val_mae: 0.0680\n",
            "Epoch 31/50\n",
            "\u001b[1m6/6\u001b[0m \u001b[32m━━━━━━━━━━━━━━━━━━━━\u001b[0m\u001b[37m\u001b[0m \u001b[1m9s\u001b[0m 2s/step - loss: 0.0131 - mae: 0.0704 - val_loss: 0.0105 - val_mae: 0.0630\n",
            "Epoch 32/50\n",
            "\u001b[1m6/6\u001b[0m \u001b[32m━━━━━━━━━━━━━━━━━━━━\u001b[0m\u001b[37m\u001b[0m \u001b[1m9s\u001b[0m 1s/step - loss: 0.0115 - mae: 0.0669 - val_loss: 0.0100 - val_mae: 0.0618\n",
            "Epoch 33/50\n",
            "\u001b[1m6/6\u001b[0m \u001b[32m━━━━━━━━━━━━━━━━━━━━\u001b[0m\u001b[37m\u001b[0m \u001b[1m14s\u001b[0m 2s/step - loss: 0.0104 - mae: 0.0625 - val_loss: 0.0105 - val_mae: 0.0643\n",
            "Epoch 34/50\n",
            "\u001b[1m6/6\u001b[0m \u001b[32m━━━━━━━━━━━━━━━━━━━━\u001b[0m\u001b[37m\u001b[0m \u001b[1m17s\u001b[0m 1s/step - loss: 0.0117 - mae: 0.0687 - val_loss: 0.0100 - val_mae: 0.0615\n",
            "Epoch 35/50\n",
            "\u001b[1m6/6\u001b[0m \u001b[32m━━━━━━━━━━━━━━━━━━━━\u001b[0m\u001b[37m\u001b[0m \u001b[1m12s\u001b[0m 2s/step - loss: 0.0110 - mae: 0.0643 - val_loss: 0.0102 - val_mae: 0.0630\n",
            "Epoch 36/50\n",
            "\u001b[1m6/6\u001b[0m \u001b[32m━━━━━━━━━━━━━━━━━━━━\u001b[0m\u001b[37m\u001b[0m \u001b[1m14s\u001b[0m 2s/step - loss: 0.0113 - mae: 0.0655 - val_loss: 0.0101 - val_mae: 0.0623\n",
            "Epoch 37/50\n",
            "\u001b[1m6/6\u001b[0m \u001b[32m━━━━━━━━━━━━━━━━━━━━\u001b[0m\u001b[37m\u001b[0m \u001b[1m18s\u001b[0m 2s/step - loss: 0.0116 - mae: 0.0668 - val_loss: 0.0101 - val_mae: 0.0610\n",
            "Epoch 38/50\n",
            "\u001b[1m6/6\u001b[0m \u001b[32m━━━━━━━━━━━━━━━━━━━━\u001b[0m\u001b[37m\u001b[0m \u001b[1m23s\u001b[0m 2s/step - loss: 0.0115 - mae: 0.0654 - val_loss: 0.0114 - val_mae: 0.0658\n",
            "Epoch 39/50\n",
            "\u001b[1m6/6\u001b[0m \u001b[32m━━━━━━━━━━━━━━━━━━━━\u001b[0m\u001b[37m\u001b[0m \u001b[1m20s\u001b[0m 2s/step - loss: 0.0121 - mae: 0.0685 - val_loss: 0.0100 - val_mae: 0.0604\n",
            "Epoch 40/50\n",
            "\u001b[1m6/6\u001b[0m \u001b[32m━━━━━━━━━━━━━━━━━━━━\u001b[0m\u001b[37m\u001b[0m \u001b[1m18s\u001b[0m 2s/step - loss: 0.0118 - mae: 0.0667 - val_loss: 0.0097 - val_mae: 0.0606\n",
            "Epoch 41/50\n",
            "\u001b[1m6/6\u001b[0m \u001b[32m━━━━━━━━━━━━━━━━━━━━\u001b[0m\u001b[37m\u001b[0m \u001b[1m12s\u001b[0m 2s/step - loss: 0.0110 - mae: 0.0659 - val_loss: 0.0105 - val_mae: 0.0635\n",
            "Epoch 42/50\n",
            "\u001b[1m6/6\u001b[0m \u001b[32m━━━━━━━━━━━━━━━━━━━━\u001b[0m\u001b[37m\u001b[0m \u001b[1m22s\u001b[0m 2s/step - loss: 0.0118 - mae: 0.0673 - val_loss: 0.0101 - val_mae: 0.0635\n",
            "Epoch 43/50\n",
            "\u001b[1m6/6\u001b[0m \u001b[32m━━━━━━━━━━━━━━━━━━━━\u001b[0m\u001b[37m\u001b[0m \u001b[1m16s\u001b[0m 3s/step - loss: 0.0113 - mae: 0.0655 - val_loss: 0.0104 - val_mae: 0.0623\n",
            "Epoch 44/50\n",
            "\u001b[1m6/6\u001b[0m \u001b[32m━━━━━━━━━━━━━━━━━━━━\u001b[0m\u001b[37m\u001b[0m \u001b[1m14s\u001b[0m 2s/step - loss: 0.0112 - mae: 0.0663 - val_loss: 0.0098 - val_mae: 0.0601\n",
            "Epoch 45/50\n",
            "\u001b[1m6/6\u001b[0m \u001b[32m━━━━━━━━━━━━━━━━━━━━\u001b[0m\u001b[37m\u001b[0m \u001b[1m21s\u001b[0m 3s/step - loss: 0.0110 - mae: 0.0631 - val_loss: 0.0101 - val_mae: 0.0644\n",
            "Epoch 46/50\n",
            "\u001b[1m6/6\u001b[0m \u001b[32m━━━━━━━━━━━━━━━━━━━━\u001b[0m\u001b[37m\u001b[0m \u001b[1m32s\u001b[0m 2s/step - loss: 0.0110 - mae: 0.0674 - val_loss: 0.0098 - val_mae: 0.0597\n",
            "Epoch 47/50\n",
            "\u001b[1m6/6\u001b[0m \u001b[32m━━━━━━━━━━━━━━━━━━━━\u001b[0m\u001b[37m\u001b[0m \u001b[1m20s\u001b[0m 2s/step - loss: 0.0105 - mae: 0.0638 - val_loss: 0.0099 - val_mae: 0.0615\n",
            "Epoch 48/50\n",
            "\u001b[1m6/6\u001b[0m \u001b[32m━━━━━━━━━━━━━━━━━━━━\u001b[0m\u001b[37m\u001b[0m \u001b[1m21s\u001b[0m 2s/step - loss: 0.0114 - mae: 0.0658 - val_loss: 0.0111 - val_mae: 0.0624\n",
            "Epoch 49/50\n",
            "\u001b[1m6/6\u001b[0m \u001b[32m━━━━━━━━━━━━━━━━━━━━\u001b[0m\u001b[37m\u001b[0m \u001b[1m21s\u001b[0m 2s/step - loss: 0.0115 - mae: 0.0654 - val_loss: 0.0101 - val_mae: 0.0620\n",
            "Epoch 50/50\n",
            "\u001b[1m6/6\u001b[0m \u001b[32m━━━━━━━━━━━━━━━━━━━━\u001b[0m\u001b[37m\u001b[0m \u001b[1m23s\u001b[0m 2s/step - loss: 0.0116 - mae: 0.0673 - val_loss: 0.0104 - val_mae: 0.0648\n"
          ]
        }
      ]
    },
    {
      "cell_type": "markdown",
      "source": [
        "## Pruebes del rendimiento del modelo\n"
      ],
      "metadata": {
        "id": "UtoIhGaB9xTX"
      }
    },
    {
      "cell_type": "code",
      "source": [
        "loss, mae = model.evaluate(X_test, Y_test)\n",
        "print(f\"MAE: {mae:.4f}\")\n",
        "\n",
        "# Ejemplo de predicción\n",
        "i = 0\n",
        "pred = model.predict(X_test[i:i+1])[0].squeeze()\n",
        "plt.plot(Y_test[i].squeeze(), label='ABP real')\n",
        "plt.plot(pred, label='ABP predicho')\n",
        "plt.legend()\n",
        "plt.title(\"Comparación real vs predicho\")\n",
        "plt.show()"
      ],
      "metadata": {
        "id": "irdmCJftut79",
        "colab": {
          "base_uri": "https://localhost:8080/",
          "height": 505
        },
        "outputId": "42e0652c-79cd-4bfd-a770-5fa3c8d35ae0"
      },
      "execution_count": 11,
      "outputs": [
        {
          "output_type": "stream",
          "name": "stdout",
          "text": [
            "\u001b[1m3/3\u001b[0m \u001b[32m━━━━━━━━━━━━━━━━━━━━\u001b[0m\u001b[37m\u001b[0m \u001b[1m1s\u001b[0m 135ms/step - loss: 0.0115 - mae: 0.0670\n",
            "MAE: 0.0654\n",
            "\u001b[1m1/1\u001b[0m \u001b[32m━━━━━━━━━━━━━━━━━━━━\u001b[0m\u001b[37m\u001b[0m \u001b[1m0s\u001b[0m 218ms/step\n"
          ]
        },
        {
          "output_type": "display_data",
          "data": {
            "text/plain": [
              "<Figure size 640x480 with 1 Axes>"
            ],
            "image/png": "[encoded data removed]"
          },
          "metadata": {}
        }
      ]
    }
  ]
}